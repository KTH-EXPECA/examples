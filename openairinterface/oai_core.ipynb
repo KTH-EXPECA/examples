{
  "nbformat": 4,
  "nbformat_minor": 0,
  "metadata": {
    "colab": {
      "provenance": [],
      "authorship_tag": "ABX9TyNH0VvcHuvwKNJqI2HNZC7f",
      "include_colab_link": true
    },
    "kernelspec": {
      "name": "python3",
      "display_name": "Python 3"
    },
    "language_info": {
      "name": "python"
    }
  },
  "cells": [
    {
      "cell_type": "markdown",
      "metadata": {
        "id": "view-in-github",
        "colab_type": "text"
      },
      "source": [
        "<a href=\"https://colab.research.google.com/github/KTH-EXPECA/examples/blob/main/openairinterface/oai_core.ipynb\" target=\"_parent\"><img src=\"https://colab.research.google.com/assets/colab-badge.svg\" alt=\"Open In Colab\"/></a>"
      ]
    },
    {
      "cell_type": "markdown",
      "source": [
        "Login to Chameleon and download openrc.sh file from [here](https://testbed.expeca.proj.kth.se/project/api_access/openrc/). Upload it here next to this notebook and continue.\n",
        "\n",
        "In the next cell, we setup the authentication method to be able to use Openstack clients."
      ],
      "metadata": {
        "id": "W9YICZf_mJBy"
      }
    },
    {
      "cell_type": "code",
      "source": [
        "import os, re\n",
        "from getpass import getpass\n",
        "\n",
        "with open('/content/sdr-test-project-openrc.sh', 'r') as f:\n",
        "    script_content = f.read()\n",
        "    pattern = r'export\\s+(\\w+)\\s*=\\s*(\"[^\"]+\"|[^\"\\n]+)'\n",
        "    matches = re.findall(pattern, script_content)\n",
        "\n",
        "    for name, value in matches:\n",
        "        os.environ[name] = value.strip('\"')\n",
        "\n",
        "password = getpass('enter your expeca password:')\n",
        "os.environ['OS_PASSWORD'] = password"
      ],
      "metadata": {
        "colab": {
          "base_uri": "https://localhost:8080/"
        },
        "id": "KLT-J26lJ5ae",
        "outputId": "a6c4e08d-0146-4b02-8d06-252238a232cf"
      },
      "execution_count": null,
      "outputs": [
        {
          "name": "stdout",
          "output_type": "stream",
          "text": [
            "enter your expeca password:··········\n"
          ]
        }
      ]
    },
    {
      "cell_type": "markdown",
      "source": [
        "Install required packages and dependencies. Ignore the warnings."
      ],
      "metadata": {
        "id": "5bXlipy4m1bs"
      }
    },
    {
      "cell_type": "code",
      "source": [
        "!pip uninstall -q -y moviepy\n",
        "!pip install -q jedi\n",
        "!pip install -q git+https://github.com/KTH-EXPECA/python-chi"
      ],
      "metadata": {
        "colab": {
          "base_uri": "https://localhost:8080/"
        },
        "id": "3uZ_rN5iFlhp",
        "outputId": "7145bb01-7b43-46f2-d538-0c60d6884d6a"
      },
      "execution_count": null,
      "outputs": [
        {
          "output_type": "stream",
          "name": "stdout",
          "text": [
            "\u001b[?25l     \u001b[90m━━━━━━━━━━━━━━━━━━━━━━━━━━━━━━━━━━━━━━━━\u001b[0m \u001b[32m0.0/1.6 MB\u001b[0m \u001b[31m?\u001b[0m eta \u001b[36m-:--:--\u001b[0m\r\u001b[2K     \u001b[91m━━\u001b[0m\u001b[90m╺\u001b[0m\u001b[90m━━━━━━━━━━━━━━━━━━━━━━━━━━━━━━━━━━━━━\u001b[0m \u001b[32m0.1/1.6 MB\u001b[0m \u001b[31m2.4 MB/s\u001b[0m eta \u001b[36m0:00:01\u001b[0m\r\u001b[2K     \u001b[91m━━━━━━━━━\u001b[0m\u001b[90m╺\u001b[0m\u001b[90m━━━━━━━━━━━━━━━━━━━━━━━━━━━━━━\u001b[0m \u001b[32m0.4/1.6 MB\u001b[0m \u001b[31m5.5 MB/s\u001b[0m eta \u001b[36m0:00:01\u001b[0m\r\u001b[2K     \u001b[91m━━━━━━━━━━━━━━━━━\u001b[0m\u001b[91m╸\u001b[0m\u001b[90m━━━━━━━━━━━━━━━━━━━━━━\u001b[0m \u001b[32m0.7/1.6 MB\u001b[0m \u001b[31m6.8 MB/s\u001b[0m eta \u001b[36m0:00:01\u001b[0m\r\u001b[2K     \u001b[91m━━━━━━━━━━━━━━━━━━━━━━━━━━\u001b[0m\u001b[91m╸\u001b[0m\u001b[90m━━━━━━━━━━━━━\u001b[0m \u001b[32m1.1/1.6 MB\u001b[0m \u001b[31m7.7 MB/s\u001b[0m eta \u001b[36m0:00:01\u001b[0m\r\u001b[2K     \u001b[91m━━━━━━━━━━━━━━━━━━━━━━━━━━━━━━━━━━━━━\u001b[0m\u001b[91m╸\u001b[0m\u001b[90m━━\u001b[0m \u001b[32m1.5/1.6 MB\u001b[0m \u001b[31m8.5 MB/s\u001b[0m eta \u001b[36m0:00:01\u001b[0m\r\u001b[2K     \u001b[90m━━━━━━━━━━━━━━━━━━━━━━━━━━━━━━━━━━━━━━━━\u001b[0m \u001b[32m1.6/1.6 MB\u001b[0m \u001b[31m8.1 MB/s\u001b[0m eta \u001b[36m0:00:00\u001b[0m\n",
            "\u001b[?25h  Preparing metadata (setup.py) ... \u001b[?25l\u001b[?25hdone\n",
            "  Preparing metadata (setup.py) ... \u001b[?25l\u001b[?25hdone\n",
            "\u001b[2K     \u001b[90m━━━━━━━━━━━━━━━━━━━━━━━━━━━━━━━━━━━━━━━━\u001b[0m \u001b[32m59.3/59.3 kB\u001b[0m \u001b[31m1.6 MB/s\u001b[0m eta \u001b[36m0:00:00\u001b[0m\n",
            "\u001b[2K     \u001b[90m━━━━━━━━━━━━━━━━━━━━━━━━━━━━━━━━━━━━━━━━\u001b[0m \u001b[32m66.5/66.5 kB\u001b[0m \u001b[31m3.6 MB/s\u001b[0m eta \u001b[36m0:00:00\u001b[0m\n",
            "\u001b[2K     \u001b[90m━━━━━━━━━━━━━━━━━━━━━━━━━━━━━━━━━━━━━━\u001b[0m \u001b[32m322.6/322.6 kB\u001b[0m \u001b[31m11.7 MB/s\u001b[0m eta \u001b[36m0:00:00\u001b[0m\n",
            "\u001b[2K     \u001b[90m━━━━━━━━━━━━━━━━━━━━━━━━━━━━━━━━━━━━━━━━\u001b[0m \u001b[32m1.7/1.7 MB\u001b[0m \u001b[31m38.8 MB/s\u001b[0m eta \u001b[36m0:00:00\u001b[0m\n",
            "\u001b[2K     \u001b[90m━━━━━━━━━━━━━━━━━━━━━━━━━━━━━━━━━━━━━━\u001b[0m \u001b[32m224.8/224.8 kB\u001b[0m \u001b[31m22.1 MB/s\u001b[0m eta \u001b[36m0:00:00\u001b[0m\n",
            "\u001b[2K     \u001b[90m━━━━━━━━━━━━━━━━━━━━━━━━━━━━━━━━━━━━━━━━\u001b[0m \u001b[32m60.0/60.0 kB\u001b[0m \u001b[31m7.3 MB/s\u001b[0m eta \u001b[36m0:00:00\u001b[0m\n",
            "\u001b[2K     \u001b[90m━━━━━━━━━━━━━━━━━━━━━━━━━━━━━━━━━━━━━━\u001b[0m \u001b[32m255.9/255.9 kB\u001b[0m \u001b[31m23.8 MB/s\u001b[0m eta \u001b[36m0:00:00\u001b[0m\n",
            "\u001b[2K     \u001b[90m━━━━━━━━━━━━━━━━━━━━━━━━━━━━━━━━━━━━━━\u001b[0m \u001b[32m205.4/205.4 kB\u001b[0m \u001b[31m20.9 MB/s\u001b[0m eta \u001b[36m0:00:00\u001b[0m\n",
            "\u001b[2K     \u001b[90m━━━━━━━━━━━━━━━━━━━━━━━━━━━━━━━━━━━━━━\u001b[0m \u001b[32m250.5/250.5 kB\u001b[0m \u001b[31m23.1 MB/s\u001b[0m eta \u001b[36m0:00:00\u001b[0m\n",
            "\u001b[2K     \u001b[90m━━━━━━━━━━━━━━━━━━━━━━━━━━━━━━━━━━━━━━\u001b[0m \u001b[32m487.7/487.7 kB\u001b[0m \u001b[31m42.0 MB/s\u001b[0m eta \u001b[36m0:00:00\u001b[0m\n",
            "\u001b[2K     \u001b[90m━━━━━━━━━━━━━━━━━━━━━━━━━━━━━━━━━━━━━━\u001b[0m \u001b[32m293.6/293.6 kB\u001b[0m \u001b[31m25.1 MB/s\u001b[0m eta \u001b[36m0:00:00\u001b[0m\n",
            "\u001b[2K     \u001b[90m━━━━━━━━━━━━━━━━━━━━━━━━━━━━━━━━━━━━━━\u001b[0m \u001b[32m335.9/335.9 kB\u001b[0m \u001b[31m31.2 MB/s\u001b[0m eta \u001b[36m0:00:00\u001b[0m\n",
            "\u001b[2K     \u001b[90m━━━━━━━━━━━━━━━━━━━━━━━━━━━━━━━━━━━━━━\u001b[0m \u001b[32m155.1/155.1 kB\u001b[0m \u001b[31m17.2 MB/s\u001b[0m eta \u001b[36m0:00:00\u001b[0m\n",
            "\u001b[2K     \u001b[90m━━━━━━━━━━━━━━━━━━━━━━━━━━━━━━━━━━━━━━\u001b[0m \u001b[32m160.3/160.3 kB\u001b[0m \u001b[31m17.3 MB/s\u001b[0m eta \u001b[36m0:00:00\u001b[0m\n",
            "\u001b[2K     \u001b[90m━━━━━━━━━━━━━━━━━━━━━━━━━━━━━━━━━━━━━━\u001b[0m \u001b[32m593.7/593.7 kB\u001b[0m \u001b[31m41.1 MB/s\u001b[0m eta \u001b[36m0:00:00\u001b[0m\n",
            "\u001b[2K     \u001b[90m━━━━━━━━━━━━━━━━━━━━━━━━━━━━━━━━━━━━━━\u001b[0m \u001b[32m856.7/856.7 kB\u001b[0m \u001b[31m61.9 MB/s\u001b[0m eta \u001b[36m0:00:00\u001b[0m\n",
            "\u001b[2K     \u001b[90m━━━━━━━━━━━━━━━━━━━━━━━━━━━━━━━━━━━━━━━━\u001b[0m \u001b[32m80.6/80.6 kB\u001b[0m \u001b[31m10.0 MB/s\u001b[0m eta \u001b[36m0:00:00\u001b[0m\n",
            "\u001b[2K     \u001b[90m━━━━━━━━━━━━━━━━━━━━━━━━━━━━━━━━━━━━━━━━\u001b[0m \u001b[32m53.9/53.9 kB\u001b[0m \u001b[31m6.6 MB/s\u001b[0m eta \u001b[36m0:00:00\u001b[0m\n",
            "\u001b[2K     \u001b[90m━━━━━━━━━━━━━━━━━━━━━━━━━━━━━━━━━━━━━━━━\u001b[0m \u001b[32m49.6/49.6 kB\u001b[0m \u001b[31m4.4 MB/s\u001b[0m eta \u001b[36m0:00:00\u001b[0m\n",
            "\u001b[2K     \u001b[90m━━━━━━━━━━━━━━━━━━━━━━━━━━━━━━━━━━━━━━━━\u001b[0m \u001b[32m52.2/52.2 kB\u001b[0m \u001b[31m5.2 MB/s\u001b[0m eta \u001b[36m0:00:00\u001b[0m\n",
            "\u001b[?25h  Preparing metadata (setup.py) ... \u001b[?25l\u001b[?25hdone\n",
            "\u001b[2K     \u001b[90m━━━━━━━━━━━━━━━━━━━━━━━━━━━━━━━━━━━━━━━━\u001b[0m \u001b[32m46.1/46.1 kB\u001b[0m \u001b[31m5.2 MB/s\u001b[0m eta \u001b[36m0:00:00\u001b[0m\n",
            "\u001b[2K     \u001b[90m━━━━━━━━━━━━━━━━━━━━━━━━━━━━━━━━━━━━━━━━\u001b[0m \u001b[32m72.0/72.0 kB\u001b[0m \u001b[31m8.5 MB/s\u001b[0m eta \u001b[36m0:00:00\u001b[0m\n",
            "\u001b[2K     \u001b[90m━━━━━━━━━━━━━━━━━━━━━━━━━━━━━━━━━━━━━━\u001b[0m \u001b[32m101.1/101.1 kB\u001b[0m \u001b[31m12.0 MB/s\u001b[0m eta \u001b[36m0:00:00\u001b[0m\n",
            "\u001b[2K     \u001b[90m━━━━━━━━━━━━━━━━━━━━━━━━━━━━━━━━━━━━━━━━\u001b[0m \u001b[32m89.2/89.2 kB\u001b[0m \u001b[31m10.6 MB/s\u001b[0m eta \u001b[36m0:00:00\u001b[0m\n",
            "\u001b[2K     \u001b[90m━━━━━━━━━━━━━━━━━━━━━━━━━━━━━━━━━━━━━━━━\u001b[0m \u001b[32m59.0/59.0 kB\u001b[0m \u001b[31m7.1 MB/s\u001b[0m eta \u001b[36m0:00:00\u001b[0m\n",
            "\u001b[2K     \u001b[90m━━━━━━━━━━━━━━━━━━━━━━━━━━━━━━━━━━━━━━\u001b[0m \u001b[32m128.4/128.4 kB\u001b[0m \u001b[31m14.8 MB/s\u001b[0m eta \u001b[36m0:00:00\u001b[0m\n",
            "\u001b[2K     \u001b[90m━━━━━━━━━━━━━━━━━━━━━━━━━━━━━━━━━━━━━━\u001b[0m \u001b[32m398.6/398.6 kB\u001b[0m \u001b[31m34.7 MB/s\u001b[0m eta \u001b[36m0:00:00\u001b[0m\n",
            "\u001b[2K     \u001b[90m━━━━━━━━━━━━━━━━━━━━━━━━━━━━━━━━━━━━━━\u001b[0m \u001b[32m137.9/137.9 kB\u001b[0m \u001b[31m14.9 MB/s\u001b[0m eta \u001b[36m0:00:00\u001b[0m\n",
            "\u001b[2K     \u001b[90m━━━━━━━━━━━━━━━━━━━━━━━━━━━━━━━━━━━━━━━━\u001b[0m \u001b[32m1.9/1.9 MB\u001b[0m \u001b[31m80.9 MB/s\u001b[0m eta \u001b[36m0:00:00\u001b[0m\n",
            "\u001b[2K     \u001b[90m━━━━━━━━━━━━━━━━━━━━━━━━━━━━━━━━━━━━━━\u001b[0m \u001b[32m148.1/148.1 kB\u001b[0m \u001b[31m17.3 MB/s\u001b[0m eta \u001b[36m0:00:00\u001b[0m\n",
            "\u001b[2K     \u001b[90m━━━━━━━━━━━━━━━━━━━━━━━━━━━━━━━━━━━━━━━━\u001b[0m \u001b[32m1.1/1.1 MB\u001b[0m \u001b[31m66.2 MB/s\u001b[0m eta \u001b[36m0:00:00\u001b[0m\n",
            "\u001b[2K     \u001b[90m━━━━━━━━━━━━━━━━━━━━━━━━━━━━━━━━━━━━━━\u001b[0m \u001b[32m147.2/147.2 kB\u001b[0m \u001b[31m17.1 MB/s\u001b[0m eta \u001b[36m0:00:00\u001b[0m\n",
            "\u001b[2K     \u001b[90m━━━━━━━━━━━━━━━━━━━━━━━━━━━━━━━━━━━━━━━━\u001b[0m \u001b[32m61.0/61.0 kB\u001b[0m \u001b[31m7.8 MB/s\u001b[0m eta \u001b[36m0:00:00\u001b[0m\n",
            "\u001b[?25h  Preparing metadata (setup.py) ... \u001b[?25l\u001b[?25hdone\n",
            "\u001b[2K     \u001b[90m━━━━━━━━━━━━━━━━━━━━━━━━━━━━━━━━━━━━━━\u001b[0m \u001b[32m341.8/341.8 kB\u001b[0m \u001b[31m32.2 MB/s\u001b[0m eta \u001b[36m0:00:00\u001b[0m\n",
            "\u001b[2K     \u001b[90m━━━━━━━━━━━━━━━━━━━━━━━━━━━━━━━━━━━━━━━━\u001b[0m \u001b[32m4.3/4.3 MB\u001b[0m \u001b[31m96.6 MB/s\u001b[0m eta \u001b[36m0:00:00\u001b[0m\n",
            "\u001b[?25h  Preparing metadata (setup.py) ... \u001b[?25l\u001b[?25hdone\n",
            "  Building wheel for python-chi (setup.py) ... \u001b[?25l\u001b[?25hdone\n",
            "  Building wheel for python-blazarclient (setup.py) ... \u001b[?25l\u001b[?25hdone\n",
            "  Building wheel for netifaces (setup.py) ... \u001b[?25l\u001b[?25hdone\n",
            "  Building wheel for pyinotify (setup.py) ... \u001b[?25l\u001b[?25hdone\n",
            "  Building wheel for pyperclip (setup.py) ... \u001b[?25l\u001b[?25hdone\n"
          ]
        }
      ]
    },
    {
      "cell_type": "markdown",
      "source": [
        "Import packages"
      ],
      "metadata": {
        "id": "VkDR3RsFpKSv"
      }
    },
    {
      "cell_type": "code",
      "execution_count": null,
      "metadata": {
        "id": "gWqW34Pc7YJp"
      },
      "outputs": [],
      "source": [
        "import json, time\n",
        "from loguru import logger\n",
        "import chi.network, chi.container, chi.network\n",
        "from chi.expeca import reserve, list_reservations, unreserve_byid, get_container_status, wait_until_container_removed, show_reservation_byname, restart_sdr"
      ]
    },
    {
      "cell_type": "markdown",
      "source": [
        "In the next cell, we reserve the required equipment and resources to form an end to end sdr 5g setup. We reserve 2 SDRs and 3 workers."
      ],
      "metadata": {
        "id": "Rd4EsDjdqRFU"
      }
    },
    {
      "cell_type": "code",
      "source": [
        "# reserve worker-01\n",
        "worker01_lease = show_reservation_byname(\"worker-01-lease\")\n",
        "if not worker01_lease:\n",
        "    worker01_lease = reserve(\n",
        "        { \"type\":\"device\", \"name\":\"worker-01\", \"duration\": { \"days\":7, \"hours\":0 } }\n",
        "    )\n",
        "worker01_reservation_id = worker01_lease[\"reservations\"][0][\"id\"]\n",
        "\n",
        "leaseslist = list_reservations(brief=True)\n",
        "print(json.dumps(leaseslist,indent=4))"
      ],
      "metadata": {
        "id": "1pauMnGZ8KSP"
      },
      "execution_count": null,
      "outputs": []
    },
    {
      "cell_type": "markdown",
      "source": [
        "In the following section we setup the 5g core (refer to [here](https://github.com/KTH-EXPECA/oai5g-docker/blob/main/docs/5g-sa-chi-tutorial.md) for more info).\n",
        "It creates:\n",
        "\n",
        "1.   5G core network with subnet \"192.168.70.128/26\"\n",
        "2.   MySQL, UDR, UDM, AUSF, AMF, SMF, and SPGWU services on worker-01, on interface ens1f1."
      ],
      "metadata": {
        "id": "tNYpBeUgpn15"
      }
    },
    {
      "cell_type": "code",
      "source": [
        "# create or get 5g core's network\n",
        "corenet = None\n",
        "try:\n",
        "    corenet = chi.network.get_network(\"5gcn-net\")\n",
        "except Exception as ex:\n",
        "    logger.info(f\"could not find 5gcn-net, creating it...\")\n",
        "\n",
        "if not corenet:\n",
        "    corenet = chi.network.create_network(\"5gcn-net\")\n",
        "    chi.network.create_subnet(\"5gcn-net-subnet\",corenet[\"id\"],\"192.168.70.128/26\",enable_dhcp=False)\n",
        "    logger.success(\"5gcn-net is created.\")\n",
        "\n",
        "# run MySQL\n",
        "status = get_container_status(\"5gcn-1-mysql\")\n",
        "if not status:\n",
        "    chi.container.create_container(\n",
        "        name = \"5gcn-1-mysql\",\n",
        "        image = \"samiemostafavi/expeca-mysql\",\n",
        "        reservation_id = worker01_reservation_id,\n",
        "        nets = [{ \"network\" : corenet['id'] }],\n",
        "        labels = {\"networks.1.interface\":\"ens1f1\",\"networks.1.ip\":\"192.168.70.131/26\"},\n",
        "    )\n",
        "    chi.container.wait_for_active(\"5gcn-1-mysql\")\n",
        "logger.success(\"5gcn-1-mysql is up.\")\n",
        "\n",
        "# run UDR\n",
        "status = get_container_status(\"5gcn-2-udr\")\n",
        "if not status:\n",
        "    chi.container.create_container(\n",
        "        name = \"5gcn-2-udr\",\n",
        "        image = \"samiemostafavi/expeca-udr\",\n",
        "        reservation_id = worker01_reservation_id,\n",
        "        environment = {\"UDR_INTERFACE_NAME_FOR_NUDR\":\"net1\",\"USE_FQDN_DNS\":\"no\",\"REGISTER_NRF\":\"no\"},\n",
        "        nets = [{ \"network\" : corenet['id'] }],\n",
        "        labels = {\"networks.1.interface\":\"ens1f1\",\"networks.1.ip\":\"192.168.70.136/26\"},\n",
        "    )\n",
        "    chi.container.wait_for_active(\"5gcn-2-udr\")\n",
        "logger.success(\"5gcn-2-udr is up.\")\n",
        "\n",
        "# run UDM\n",
        "status = get_container_status(\"5gcn-3-udm\")\n",
        "if not status:\n",
        "    chi.container.create_container(\n",
        "        name = \"5gcn-3-udm\",\n",
        "        image = \"samiemostafavi/expeca-udm\",\n",
        "        reservation_id = worker01_reservation_id,\n",
        "        environment = {\"SBI_IF_NAME\":\"net1\",\"USE_FQDN_DNS\":\"no\",\"REGISTER_NRF\":\"no\"},\n",
        "        nets = [{ \"network\" : corenet['id'] }],\n",
        "        labels = {\"networks.1.interface\":\"ens1f1\",\"networks.1.ip\":\"192.168.70.137/26\"},\n",
        "    )\n",
        "    chi.container.wait_for_active(\"5gcn-3-udm\")\n",
        "logger.success(\"5gcn-3-udm is up.\")\n",
        "\n",
        "# run AUSF\n",
        "status = get_container_status(\"5gcn-4-ausf\")\n",
        "if not status:\n",
        "    chi.container.create_container(\n",
        "        name = \"5gcn-4-ausf\",\n",
        "        image = \"samiemostafavi/expeca-ausf\",\n",
        "        reservation_id = worker01_reservation_id,\n",
        "        environment = {\"SBI_IF_NAME\":\"net1\",\"USE_FQDN_DNS\":\"no\",\"REGISTER_NRF\":\"no\"},\n",
        "        nets = [{ \"network\" : corenet['id'] }],\n",
        "        labels = {\"networks.1.interface\":\"ens1f1\",\"networks.1.ip\":\"192.168.70.138/26\"},\n",
        "    )\n",
        "    chi.container.wait_for_active(\"5gcn-4-ausf\")\n",
        "logger.success(\"5gcn-4-ausf is up.\")\n",
        "\n",
        "# run AMF\n",
        "status = get_container_status(\"5gcn-5-amf\")\n",
        "if not status:\n",
        "    chi.container.create_container(\n",
        "        name = \"5gcn-5-amf\",\n",
        "        image = \"samiemostafavi/expeca-amf\",\n",
        "        reservation_id = worker01_reservation_id,\n",
        "        environment = {\"AMF_INTERFACE_NAME_FOR_NGAP\":\"net1\",\"AMF_INTERFACE_NAME_FOR_N11\":\"net1\",\"USE_FQDN_DNS\":\"no\",\"NF_REGISTRATION\":\"no\",\"SMF_SELECTION\":\"no\"},\n",
        "        nets = [{ \"network\" : corenet['id'] }],\n",
        "        labels = {\"networks.1.interface\":\"ens1f1\",\"networks.1.ip\":\"192.168.70.132/26\"},\n",
        "    )\n",
        "    chi.container.wait_for_active(\"5gcn-5-amf\")\n",
        "logger.success(\"5gcn-5-amf is up.\")\n",
        "\n",
        "# run SMF\n",
        "status = get_container_status(\"5gcn-6-smf\")\n",
        "if not status:\n",
        "    chi.container.create_container(\n",
        "        name = \"5gcn-6-smf\",\n",
        "        image = \"samiemostafavi/expeca-smf\",\n",
        "        reservation_id = worker01_reservation_id,\n",
        "        environment = {\"USE_FQDN_DNS\":\"no\",\"SMF_INTERFACE_NAME_FOR_N4\":\"net1\",\"SMF_INTERFACE_NAME_FOR_SBI\":\"net1\",\"REGISTER_NRF\":\"no\",\"DISCOVER_UPF\":\"no\"},\n",
        "        nets = [{ \"network\" : corenet['id'] }],\n",
        "        labels = {\"networks.1.interface\":\"ens1f1\",\"networks.1.ip\":\"192.168.70.133/26\"},\n",
        "    )\n",
        "    chi.container.wait_for_active(\"5gcn-6-smf\")\n",
        "logger.success(\"5gcn-6-smf is up.\")\n",
        "\n",
        "\n",
        "# run SPGWU\n",
        "status = get_container_status(\"5gcn-7-spgwu\")\n",
        "if not status:\n",
        "    chi.container.create_container(\n",
        "        name = \"5gcn-7-spgwu\",\n",
        "        image = \"samiemostafavi/expeca-spgwu\",\n",
        "        reservation_id = worker01_reservation_id,\n",
        "        environment = {\"SGW_INTERFACE_NAME_FOR_S1U_S12_S4_UP\":\"net1\",\"SGW_INTERFACE_NAME_FOR_SX\":\"net1\",\"PGW_INTERFACE_NAME_FOR_SGI\":\"net1\",\"USE_FQDN_NRF\":\"no\",\"REGISTER_NRF\":\"no\"},\n",
        "        nets = [{ \"network\" : corenet['id'] }],\n",
        "        labels = {\n",
        "            \"networks.1.interface\":\"ens1f1\",\n",
        "            \"networks.1.ip\":\"192.168.70.134/26\",\n",
        "            \"capabilities.privileged\":\"true\",\n",
        "            \"capabilities.add.1\":\"NET_ADMIN\",\n",
        "            \"capabilities.add.2\":\"SYS_ADMIN\",\n",
        "            \"capabilities.drop.1\":\"ALL\"\n",
        "        },\n",
        "    )\n",
        "    chi.container.wait_for_active(\"5gcn-7-spgwu\")\n",
        "logger.success(\"5gcn-7-spgwu is up.\")"
      ],
      "metadata": {
        "colab": {
          "base_uri": "https://localhost:8080/"
        },
        "id": "QV7oHbSu7g5F",
        "outputId": "6df38d37-345c-4be3-8be6-5b87b3ab8bb8"
      },
      "execution_count": null,
      "outputs": [
        {
          "output_type": "stream",
          "name": "stderr",
          "text": [
            "\u001b[32m2023-08-06 22:52:30.167\u001b[0m | \u001b[32m\u001b[1mSUCCESS \u001b[0m | \u001b[36m__main__\u001b[0m:\u001b[36m<cell line: 24>\u001b[0m:\u001b[36m24\u001b[0m - \u001b[32m\u001b[1m5gcn-1-mysql is up.\u001b[0m\n",
            "\u001b[32m2023-08-06 22:52:30.497\u001b[0m | \u001b[32m\u001b[1mSUCCESS \u001b[0m | \u001b[36m__main__\u001b[0m:\u001b[36m<cell line: 38>\u001b[0m:\u001b[36m38\u001b[0m - \u001b[32m\u001b[1m5gcn-2-udr is up.\u001b[0m\n",
            "\u001b[32m2023-08-06 22:52:30.796\u001b[0m | \u001b[32m\u001b[1mSUCCESS \u001b[0m | \u001b[36m__main__\u001b[0m:\u001b[36m<cell line: 52>\u001b[0m:\u001b[36m52\u001b[0m - \u001b[32m\u001b[1m5gcn-3-udm is up.\u001b[0m\n",
            "\u001b[32m2023-08-06 22:52:31.090\u001b[0m | \u001b[32m\u001b[1mSUCCESS \u001b[0m | \u001b[36m__main__\u001b[0m:\u001b[36m<cell line: 66>\u001b[0m:\u001b[36m66\u001b[0m - \u001b[32m\u001b[1m5gcn-4-ausf is up.\u001b[0m\n",
            "\u001b[32m2023-08-06 22:52:31.389\u001b[0m | \u001b[32m\u001b[1mSUCCESS \u001b[0m | \u001b[36m__main__\u001b[0m:\u001b[36m<cell line: 80>\u001b[0m:\u001b[36m80\u001b[0m - \u001b[32m\u001b[1m5gcn-5-amf is up.\u001b[0m\n",
            "\u001b[32m2023-08-06 22:52:45.768\u001b[0m | \u001b[32m\u001b[1mSUCCESS \u001b[0m | \u001b[36m__main__\u001b[0m:\u001b[36m<cell line: 94>\u001b[0m:\u001b[36m94\u001b[0m - \u001b[32m\u001b[1m5gcn-6-smf is up.\u001b[0m\n",
            "\u001b[32m2023-08-06 22:52:59.956\u001b[0m | \u001b[32m\u001b[1mSUCCESS \u001b[0m | \u001b[36m__main__\u001b[0m:\u001b[36m<cell line: 116>\u001b[0m:\u001b[36m116\u001b[0m - \u001b[32m\u001b[1m5gcn-7-spgwu is up.\u001b[0m\n"
          ]
        }
      ]
    },
    {
      "cell_type": "markdown",
      "source": [
        "CAUTION: In this cell we tear down all the configurations and release the reserved resources. The project will be clean afterwards."
      ],
      "metadata": {
        "id": "fRL16_YHsjC5"
      }
    },
    {
      "cell_type": "code",
      "source": [
        "# Remove everything and clean up\n",
        "\n",
        "status = get_container_status(\"5gcn-7-spgwu\")\n",
        "if status:\n",
        "    chi.container.destroy_container(\"5gcn-7-spgwu\")\n",
        "    wait_until_container_removed(\"5gcn-7-spgwu\")\n",
        "\n",
        "status = get_container_status(\"5gcn-6-smf\")\n",
        "if status:\n",
        "    chi.container.destroy_container(\"5gcn-6-smf\")\n",
        "    wait_until_container_removed(\"5gcn-6-smf\")\n",
        "\n",
        "status = get_container_status(\"5gcn-5-amf\")\n",
        "if status:\n",
        "    chi.container.destroy_container(\"5gcn-5-amf\")\n",
        "    wait_until_container_removed(\"5gcn-5-amf\")\n",
        "\n",
        "status = get_container_status(\"5gcn-4-ausf\")\n",
        "if status:\n",
        "    chi.container.destroy_container(\"5gcn-4-ausf\")\n",
        "    wait_until_container_removed(\"5gcn-4-ausf\")\n",
        "\n",
        "status = get_container_status(\"5gcn-3-udm\")\n",
        "if status:\n",
        "    chi.container.destroy_container(\"5gcn-3-udm\")\n",
        "    wait_until_container_removed(\"5gcn-3-udm\")\n",
        "\n",
        "status = get_container_status(\"5gcn-2-udr\")\n",
        "if status:\n",
        "    chi.container.destroy_container(\"5gcn-2-udr\")\n",
        "    wait_until_container_removed(\"5gcn-2-udr\")\n",
        "\n",
        "status = get_container_status(\"5gcn-1-mysql\")\n",
        "if status:\n",
        "    chi.container.destroy_container(\"5gcn-1-mysql\")\n",
        "    wait_until_container_removed(\"5gcn-1-mysql\")\n",
        "\n",
        "logger.info(f\"stopped and removed all containers\")\n",
        "\n",
        "corenet = None\n",
        "try:\n",
        "    corenet = chi.network.get_network(\"5gcn-net\")\n",
        "except Exception as ex:\n",
        "    logger.info(f\"could not find 5gcn-net.\")\n",
        "\n",
        "if corenet:\n",
        "    chi.network.delete_network(corenet[\"id\"])\n",
        "    logger.success(f\"deleted the 5gcn-net\")\n"
      ],
      "metadata": {
        "id": "Bbme5W7isiQa"
      },
      "execution_count": null,
      "outputs": []
    }
  ]
}