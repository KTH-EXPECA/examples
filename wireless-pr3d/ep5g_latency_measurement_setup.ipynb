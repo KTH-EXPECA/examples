{
  "nbformat": 4,
  "nbformat_minor": 0,
  "metadata": {
    "colab": {
      "provenance": [],
      "authorship_tag": "ABX9TyPrq+cg0kilpS84MOIIGCn7",
      "include_colab_link": true
    },
    "kernelspec": {
      "name": "python3",
      "display_name": "Python 3"
    },
    "language_info": {
      "name": "python"
    }
  },
  "cells": [
    {
      "cell_type": "markdown",
      "metadata": {
        "id": "view-in-github",
        "colab_type": "text"
      },
      "source": [
        "<a href=\"https://colab.research.google.com/github/KTH-EXPECA/examples/blob/main/wireless-pr3d/ep5g_latency_measurement_setup.ipynb\" target=\"_parent\"><img src=\"https://colab.research.google.com/assets/colab-badge.svg\" alt=\"Open In Colab\"/></a>"
      ]
    },
    {
      "cell_type": "markdown",
      "source": [
        "Login to Chameleon and download openrc.sh file from [here](https://testbed.expeca.proj.kth.se/project/api_access/openrc/). Upload it here next to this notebook and continue.\n",
        "\n",
        "In the next cell, we setup the authentication method to be able to use Openstack clients."
      ],
      "metadata": {
        "id": "W9YICZf_mJBy"
      }
    },
    {
      "cell_type": "code",
      "source": [
        "import os, re\n",
        "from getpass import getpass\n",
        "\n",
        "with open('/content/sdr-test-project-openrc.sh', 'r') as f:\n",
        "    script_content = f.read()\n",
        "    pattern = r'export\\s+(\\w+)\\s*=\\s*(\"[^\"]+\"|[^\"\\n]+)'\n",
        "    matches = re.findall(pattern, script_content)\n",
        "\n",
        "    for name, value in matches:\n",
        "        os.environ[name] = value.strip('\"')\n",
        "\n",
        "password = getpass('enter your expeca password:')\n",
        "os.environ['OS_PASSWORD'] = password"
      ],
      "metadata": {
        "colab": {
          "base_uri": "https://localhost:8080/"
        },
        "id": "KLT-J26lJ5ae",
        "outputId": "09b4a918-6cd9-43e9-8041-000813d5392d"
      },
      "execution_count": 1,
      "outputs": [
        {
          "name": "stdout",
          "output_type": "stream",
          "text": [
            "enter your expeca password:··········\n"
          ]
        }
      ]
    },
    {
      "cell_type": "markdown",
      "source": [
        "Install required packages and dependencies. Ignore the warnings."
      ],
      "metadata": {
        "id": "5bXlipy4m1bs"
      }
    },
    {
      "cell_type": "code",
      "source": [
        "!pip uninstall -q -y moviepy\n",
        "!pip install -q jedi\n",
        "!pip install -q git+https://github.com/KTH-EXPECA/python-chi"
      ],
      "metadata": {
        "colab": {
          "base_uri": "https://localhost:8080/"
        },
        "id": "3uZ_rN5iFlhp",
        "outputId": "a7b58281-1af9-4179-b3a2-7863c8fe7f93"
      },
      "execution_count": 2,
      "outputs": [
        {
          "output_type": "stream",
          "name": "stdout",
          "text": [
            "\u001b[33mWARNING: Skipping moviepy as it is not installed.\u001b[0m\u001b[33m\n",
            "\u001b[0m  Preparing metadata (setup.py) ... \u001b[?25l\u001b[?25hdone\n",
            "  Preparing metadata (setup.py) ... \u001b[?25l\u001b[?25hdone\n",
            "  Building wheel for python-chi (setup.py) ... \u001b[?25l\u001b[?25hdone\n"
          ]
        }
      ]
    },
    {
      "cell_type": "markdown",
      "source": [
        "Import packages"
      ],
      "metadata": {
        "id": "VkDR3RsFpKSv"
      }
    },
    {
      "cell_type": "code",
      "execution_count": 3,
      "metadata": {
        "id": "gWqW34Pc7YJp"
      },
      "outputs": [],
      "source": [
        "import json\n",
        "from loguru import logger\n",
        "import chi.network, chi.container, chi.network\n",
        "from chi.expeca import reserve, list_reservations, unreserve_byid, get_container_status, wait_until_container_removed"
      ]
    },
    {
      "cell_type": "markdown",
      "source": [
        "In the next cell, we reserve the required equipment and resources to form an end to end experiment setup. We reserve EP5G network, one Advantech router and one worker to run the workloads."
      ],
      "metadata": {
        "id": "Rd4EsDjdqRFU"
      }
    },
    {
      "cell_type": "code",
      "source": [
        "# ep5g reservation\n",
        "ep5g_lease = reserve(\n",
        "    { \"type\":\"network\", \"name\": \"ep5g\", \"net_name\": \"ep5g-vip\", \"segment_id\": \"300\", \"duration\": { \"days\":7, \"hours\":0 } }\n",
        ")\n",
        "\n",
        "# advantech router reservation\n",
        "adv_lease = reserve(\n",
        "    { \"type\":\"network\", \"name\": \"adv-02\", \"net_name\": \"adv-02\", \"segment_id\": \"131\", \"duration\": { \"days\":7, \"hours\":0 } }\n",
        ")\n",
        "\n",
        "# worker reservation\n",
        "worker_lease = reserve(\n",
        "    { \"type\":\"device\", \"name\":\"worker-01\", \"duration\": { \"days\":7, \"hours\":0 } }\n",
        ")\n",
        "\n",
        "worker_reservation_id = worker_lease[\"reservations\"][0][\"id\"]\n",
        "\n",
        "leaseslist = list_reservations(brief=True)\n",
        "print(json.dumps(leaseslist,indent=4))"
      ],
      "metadata": {
        "colab": {
          "base_uri": "https://localhost:8080/"
        },
        "id": "1pauMnGZ8KSP",
        "outputId": "d31fca6d-f10a-470a-e298-edd986afca37"
      },
      "execution_count": 4,
      "outputs": [
        {
          "output_type": "stream",
          "name": "stderr",
          "text": [
            "\u001b[32m2023-07-31 21:30:27.948\u001b[0m | \u001b[1mINFO    \u001b[0m | \u001b[36mchi.expeca\u001b[0m:\u001b[36mreserve\u001b[0m:\u001b[36m156\u001b[0m - \u001b[1mreserving ep5g\u001b[0m\n",
            "\u001b[32m2023-07-31 21:30:32.445\u001b[0m | \u001b[1mINFO    \u001b[0m | \u001b[36mchi.expeca\u001b[0m:\u001b[36mwait_until_lease_status\u001b[0m:\u001b[36m62\u001b[0m - \u001b[1mwaiting 120 seconds for ep5g-lease with id d4b3d6cb-ce41-476d-bccd-f32accfc04d1 to become \"ACTIVE\"\u001b[0m\n",
            "\u001b[32m2023-07-31 21:30:37.608\u001b[0m | \u001b[1mINFO    \u001b[0m | \u001b[36mchi.expeca\u001b[0m:\u001b[36mwait_until_lease_status\u001b[0m:\u001b[36m69\u001b[0m - \u001b[1mlease ep5g-lease with id d4b3d6cb-ce41-476d-bccd-f32accfc04d1 is PENDING.\u001b[0m\n",
            "\u001b[32m2023-07-31 21:30:42.784\u001b[0m | \u001b[1mINFO    \u001b[0m | \u001b[36mchi.expeca\u001b[0m:\u001b[36mwait_until_lease_status\u001b[0m:\u001b[36m69\u001b[0m - \u001b[1mlease ep5g-lease with id d4b3d6cb-ce41-476d-bccd-f32accfc04d1 is PENDING.\u001b[0m\n",
            "\u001b[32m2023-07-31 21:30:47.958\u001b[0m | \u001b[1mINFO    \u001b[0m | \u001b[36mchi.expeca\u001b[0m:\u001b[36mwait_until_lease_status\u001b[0m:\u001b[36m69\u001b[0m - \u001b[1mlease ep5g-lease with id d4b3d6cb-ce41-476d-bccd-f32accfc04d1 is PENDING.\u001b[0m\n",
            "\u001b[32m2023-07-31 21:30:53.133\u001b[0m | \u001b[1mINFO    \u001b[0m | \u001b[36mchi.expeca\u001b[0m:\u001b[36mwait_until_lease_status\u001b[0m:\u001b[36m69\u001b[0m - \u001b[1mlease ep5g-lease with id d4b3d6cb-ce41-476d-bccd-f32accfc04d1 is PENDING.\u001b[0m\n",
            "\u001b[32m2023-07-31 21:30:58.297\u001b[0m | \u001b[1mINFO    \u001b[0m | \u001b[36mchi.expeca\u001b[0m:\u001b[36mwait_until_lease_status\u001b[0m:\u001b[36m69\u001b[0m - \u001b[1mlease ep5g-lease with id d4b3d6cb-ce41-476d-bccd-f32accfc04d1 is PENDING.\u001b[0m\n",
            "\u001b[32m2023-07-31 21:31:03.479\u001b[0m | \u001b[1mINFO    \u001b[0m | \u001b[36mchi.expeca\u001b[0m:\u001b[36mwait_until_lease_status\u001b[0m:\u001b[36m69\u001b[0m - \u001b[1mlease ep5g-lease with id d4b3d6cb-ce41-476d-bccd-f32accfc04d1 is PENDING.\u001b[0m\n",
            "\u001b[32m2023-07-31 21:31:08.651\u001b[0m | \u001b[1mINFO    \u001b[0m | \u001b[36mchi.expeca\u001b[0m:\u001b[36mwait_until_lease_status\u001b[0m:\u001b[36m69\u001b[0m - \u001b[1mlease ep5g-lease with id d4b3d6cb-ce41-476d-bccd-f32accfc04d1 is STARTING.\u001b[0m\n",
            "\u001b[32m2023-07-31 21:31:13.825\u001b[0m | \u001b[1mINFO    \u001b[0m | \u001b[36mchi.expeca\u001b[0m:\u001b[36mwait_until_lease_status\u001b[0m:\u001b[36m69\u001b[0m - \u001b[1mlease ep5g-lease with id d4b3d6cb-ce41-476d-bccd-f32accfc04d1 is STARTING.\u001b[0m\n",
            "\u001b[32m2023-07-31 21:31:18.987\u001b[0m | \u001b[1mINFO    \u001b[0m | \u001b[36mchi.expeca\u001b[0m:\u001b[36mwait_until_lease_status\u001b[0m:\u001b[36m69\u001b[0m - \u001b[1mlease ep5g-lease with id d4b3d6cb-ce41-476d-bccd-f32accfc04d1 is STARTING.\u001b[0m\n",
            "\u001b[32m2023-07-31 21:31:24.168\u001b[0m | \u001b[1mINFO    \u001b[0m | \u001b[36mchi.expeca\u001b[0m:\u001b[36mwait_until_lease_status\u001b[0m:\u001b[36m69\u001b[0m - \u001b[1mlease ep5g-lease with id d4b3d6cb-ce41-476d-bccd-f32accfc04d1 is STARTING.\u001b[0m\n",
            "\u001b[32m2023-07-31 21:31:29.330\u001b[0m | \u001b[1mINFO    \u001b[0m | \u001b[36mchi.expeca\u001b[0m:\u001b[36mwait_until_lease_status\u001b[0m:\u001b[36m69\u001b[0m - \u001b[1mlease ep5g-lease with id d4b3d6cb-ce41-476d-bccd-f32accfc04d1 is ACTIVE.\u001b[0m\n",
            "\u001b[32m2023-07-31 21:31:29.332\u001b[0m | \u001b[32m\u001b[1mSUCCESS \u001b[0m | \u001b[36mchi.expeca\u001b[0m:\u001b[36mtry_to_create_lease\u001b[0m:\u001b[36m198\u001b[0m - \u001b[32m\u001b[1mdone\u001b[0m\n",
            "\u001b[32m2023-07-31 21:31:29.337\u001b[0m | \u001b[1mINFO    \u001b[0m | \u001b[36mchi.expeca\u001b[0m:\u001b[36mreserve\u001b[0m:\u001b[36m156\u001b[0m - \u001b[1mreserving adv-02\u001b[0m\n",
            "\u001b[32m2023-07-31 21:31:31.591\u001b[0m | \u001b[1mINFO    \u001b[0m | \u001b[36mchi.expeca\u001b[0m:\u001b[36mwait_until_lease_status\u001b[0m:\u001b[36m62\u001b[0m - \u001b[1mwaiting 120 seconds for adv-02-lease with id 4a0813f3-6da9-450a-94ed-8d59ae0cfe41 to become \"ACTIVE\"\u001b[0m\n",
            "\u001b[32m2023-07-31 21:31:36.774\u001b[0m | \u001b[1mINFO    \u001b[0m | \u001b[36mchi.expeca\u001b[0m:\u001b[36mwait_until_lease_status\u001b[0m:\u001b[36m69\u001b[0m - \u001b[1mlease adv-02-lease with id 4a0813f3-6da9-450a-94ed-8d59ae0cfe41 is PENDING.\u001b[0m\n",
            "\u001b[32m2023-07-31 21:31:41.946\u001b[0m | \u001b[1mINFO    \u001b[0m | \u001b[36mchi.expeca\u001b[0m:\u001b[36mwait_until_lease_status\u001b[0m:\u001b[36m69\u001b[0m - \u001b[1mlease adv-02-lease with id 4a0813f3-6da9-450a-94ed-8d59ae0cfe41 is PENDING.\u001b[0m\n",
            "\u001b[32m2023-07-31 21:31:47.121\u001b[0m | \u001b[1mINFO    \u001b[0m | \u001b[36mchi.expeca\u001b[0m:\u001b[36mwait_until_lease_status\u001b[0m:\u001b[36m69\u001b[0m - \u001b[1mlease adv-02-lease with id 4a0813f3-6da9-450a-94ed-8d59ae0cfe41 is PENDING.\u001b[0m\n",
            "\u001b[32m2023-07-31 21:31:52.274\u001b[0m | \u001b[1mINFO    \u001b[0m | \u001b[36mchi.expeca\u001b[0m:\u001b[36mwait_until_lease_status\u001b[0m:\u001b[36m69\u001b[0m - \u001b[1mlease adv-02-lease with id 4a0813f3-6da9-450a-94ed-8d59ae0cfe41 is PENDING.\u001b[0m\n",
            "\u001b[32m2023-07-31 21:31:57.446\u001b[0m | \u001b[1mINFO    \u001b[0m | \u001b[36mchi.expeca\u001b[0m:\u001b[36mwait_until_lease_status\u001b[0m:\u001b[36m69\u001b[0m - \u001b[1mlease adv-02-lease with id 4a0813f3-6da9-450a-94ed-8d59ae0cfe41 is PENDING.\u001b[0m\n",
            "\u001b[32m2023-07-31 21:32:02.614\u001b[0m | \u001b[1mINFO    \u001b[0m | \u001b[36mchi.expeca\u001b[0m:\u001b[36mwait_until_lease_status\u001b[0m:\u001b[36m69\u001b[0m - \u001b[1mlease adv-02-lease with id 4a0813f3-6da9-450a-94ed-8d59ae0cfe41 is PENDING.\u001b[0m\n",
            "\u001b[32m2023-07-31 21:32:07.789\u001b[0m | \u001b[1mINFO    \u001b[0m | \u001b[36mchi.expeca\u001b[0m:\u001b[36mwait_until_lease_status\u001b[0m:\u001b[36m69\u001b[0m - \u001b[1mlease adv-02-lease with id 4a0813f3-6da9-450a-94ed-8d59ae0cfe41 is STARTING.\u001b[0m\n",
            "\u001b[32m2023-07-31 21:32:12.950\u001b[0m | \u001b[1mINFO    \u001b[0m | \u001b[36mchi.expeca\u001b[0m:\u001b[36mwait_until_lease_status\u001b[0m:\u001b[36m69\u001b[0m - \u001b[1mlease adv-02-lease with id 4a0813f3-6da9-450a-94ed-8d59ae0cfe41 is STARTING.\u001b[0m\n",
            "\u001b[32m2023-07-31 21:32:18.136\u001b[0m | \u001b[1mINFO    \u001b[0m | \u001b[36mchi.expeca\u001b[0m:\u001b[36mwait_until_lease_status\u001b[0m:\u001b[36m69\u001b[0m - \u001b[1mlease adv-02-lease with id 4a0813f3-6da9-450a-94ed-8d59ae0cfe41 is STARTING.\u001b[0m\n",
            "\u001b[32m2023-07-31 21:32:23.311\u001b[0m | \u001b[1mINFO    \u001b[0m | \u001b[36mchi.expeca\u001b[0m:\u001b[36mwait_until_lease_status\u001b[0m:\u001b[36m69\u001b[0m - \u001b[1mlease adv-02-lease with id 4a0813f3-6da9-450a-94ed-8d59ae0cfe41 is ACTIVE.\u001b[0m\n",
            "\u001b[32m2023-07-31 21:32:23.314\u001b[0m | \u001b[32m\u001b[1mSUCCESS \u001b[0m | \u001b[36mchi.expeca\u001b[0m:\u001b[36mtry_to_create_lease\u001b[0m:\u001b[36m198\u001b[0m - \u001b[32m\u001b[1mdone\u001b[0m\n",
            "\u001b[32m2023-07-31 21:32:23.317\u001b[0m | \u001b[1mINFO    \u001b[0m | \u001b[36mchi.expeca\u001b[0m:\u001b[36mreserve\u001b[0m:\u001b[36m156\u001b[0m - \u001b[1mreserving worker-01\u001b[0m\n",
            "\u001b[32m2023-07-31 21:32:25.770\u001b[0m | \u001b[1mINFO    \u001b[0m | \u001b[36mchi.expeca\u001b[0m:\u001b[36mwait_until_lease_status\u001b[0m:\u001b[36m62\u001b[0m - \u001b[1mwaiting 120 seconds for worker-01-lease with id ec796b79-7f39-4890-b477-69f704c515e8 to become \"ACTIVE\"\u001b[0m\n",
            "\u001b[32m2023-07-31 21:32:30.938\u001b[0m | \u001b[1mINFO    \u001b[0m | \u001b[36mchi.expeca\u001b[0m:\u001b[36mwait_until_lease_status\u001b[0m:\u001b[36m69\u001b[0m - \u001b[1mlease worker-01-lease with id ec796b79-7f39-4890-b477-69f704c515e8 is PENDING.\u001b[0m\n",
            "\u001b[32m2023-07-31 21:32:36.104\u001b[0m | \u001b[1mINFO    \u001b[0m | \u001b[36mchi.expeca\u001b[0m:\u001b[36mwait_until_lease_status\u001b[0m:\u001b[36m69\u001b[0m - \u001b[1mlease worker-01-lease with id ec796b79-7f39-4890-b477-69f704c515e8 is PENDING.\u001b[0m\n",
            "\u001b[32m2023-07-31 21:32:41.271\u001b[0m | \u001b[1mINFO    \u001b[0m | \u001b[36mchi.expeca\u001b[0m:\u001b[36mwait_until_lease_status\u001b[0m:\u001b[36m69\u001b[0m - \u001b[1mlease worker-01-lease with id ec796b79-7f39-4890-b477-69f704c515e8 is PENDING.\u001b[0m\n",
            "\u001b[32m2023-07-31 21:32:46.444\u001b[0m | \u001b[1mINFO    \u001b[0m | \u001b[36mchi.expeca\u001b[0m:\u001b[36mwait_until_lease_status\u001b[0m:\u001b[36m69\u001b[0m - \u001b[1mlease worker-01-lease with id ec796b79-7f39-4890-b477-69f704c515e8 is PENDING.\u001b[0m\n",
            "\u001b[32m2023-07-31 21:32:51.626\u001b[0m | \u001b[1mINFO    \u001b[0m | \u001b[36mchi.expeca\u001b[0m:\u001b[36mwait_until_lease_status\u001b[0m:\u001b[36m69\u001b[0m - \u001b[1mlease worker-01-lease with id ec796b79-7f39-4890-b477-69f704c515e8 is PENDING.\u001b[0m\n",
            "\u001b[32m2023-07-31 21:32:56.797\u001b[0m | \u001b[1mINFO    \u001b[0m | \u001b[36mchi.expeca\u001b[0m:\u001b[36mwait_until_lease_status\u001b[0m:\u001b[36m69\u001b[0m - \u001b[1mlease worker-01-lease with id ec796b79-7f39-4890-b477-69f704c515e8 is PENDING.\u001b[0m\n",
            "\u001b[32m2023-07-31 21:33:01.984\u001b[0m | \u001b[1mINFO    \u001b[0m | \u001b[36mchi.expeca\u001b[0m:\u001b[36mwait_until_lease_status\u001b[0m:\u001b[36m69\u001b[0m - \u001b[1mlease worker-01-lease with id ec796b79-7f39-4890-b477-69f704c515e8 is PENDING.\u001b[0m\n",
            "\u001b[32m2023-07-31 21:33:07.163\u001b[0m | \u001b[1mINFO    \u001b[0m | \u001b[36mchi.expeca\u001b[0m:\u001b[36mwait_until_lease_status\u001b[0m:\u001b[36m69\u001b[0m - \u001b[1mlease worker-01-lease with id ec796b79-7f39-4890-b477-69f704c515e8 is PENDING.\u001b[0m\n",
            "\u001b[32m2023-07-31 21:33:12.348\u001b[0m | \u001b[1mINFO    \u001b[0m | \u001b[36mchi.expeca\u001b[0m:\u001b[36mwait_until_lease_status\u001b[0m:\u001b[36m69\u001b[0m - \u001b[1mlease worker-01-lease with id ec796b79-7f39-4890-b477-69f704c515e8 is ACTIVE.\u001b[0m\n",
            "\u001b[32m2023-07-31 21:33:12.352\u001b[0m | \u001b[32m\u001b[1mSUCCESS \u001b[0m | \u001b[36mchi.expeca\u001b[0m:\u001b[36mtry_to_create_lease\u001b[0m:\u001b[36m198\u001b[0m - \u001b[32m\u001b[1mdone\u001b[0m\n"
          ]
        },
        {
          "output_type": "stream",
          "name": "stdout",
          "text": [
            "[\n",
            "    {\n",
            "        \"name\": \"adv-02-lease\",\n",
            "        \"id\": \"4a0813f3-6da9-450a-94ed-8d59ae0cfe41\",\n",
            "        \"reservation_id\": \"2396ddca-b523-4faf-8448-7d020855ebb2\",\n",
            "        \"status\": \"ACTIVE\",\n",
            "        \"end_date\": \"2023-08-07T21:31:00.000000\"\n",
            "    },\n",
            "    {\n",
            "        \"name\": \"ep5g-lease\",\n",
            "        \"id\": \"d4b3d6cb-ce41-476d-bccd-f32accfc04d1\",\n",
            "        \"reservation_id\": \"e7121942-4641-4747-be7f-10b06efc9fe7\",\n",
            "        \"status\": \"ACTIVE\",\n",
            "        \"end_date\": \"2023-08-07T21:30:00.000000\"\n",
            "    },\n",
            "    {\n",
            "        \"name\": \"worker-01-lease\",\n",
            "        \"id\": \"ec796b79-7f39-4890-b477-69f704c515e8\",\n",
            "        \"reservation_id\": \"374f891b-9ac9-4605-8c6d-00c2b4404ad2\",\n",
            "        \"status\": \"ACTIVE\",\n",
            "        \"end_date\": \"2023-08-07T21:32:00.000000\"\n",
            "    }\n",
            "]\n"
          ]
        }
      ]
    },
    {
      "cell_type": "markdown",
      "source": [
        "In the following section we setup the networking equipment for ep5g (refer to [here](https://kth-expeca.gitbook.io/testbedconfig/enroll/enroll-network-segments/ep5g) for more info).\n",
        "It contains creation of an edge-net, a router, and some interfaces on the router and routes."
      ],
      "metadata": {
        "id": "tNYpBeUgpn15"
      }
    },
    {
      "cell_type": "code",
      "source": [
        "# create edge-net\n",
        "edgenet = chi.network.create_network(\"edge-net\")\n",
        "chi.network.create_subnet(\"edge-net-subnet\",edgenet[\"id\"],\"10.70.70.0/24\",gateway_ip=\"10.70.70.1\",enable_dhcp=False)\n",
        "logger.success(\"edge-net is created.\")\n",
        "\n",
        "# create ep5g-vip-router\n",
        "router = chi.network.create_router(\"ep5g-vip-router\",\"public\")\n",
        "logger.success(\"ep5g-vip-router router is created.\")\n",
        "logger.info(f\"{json.dumps(router,indent=4)}\")\n",
        "\n",
        "# connect ep5g-vip-net to ep5g-vip-router\n",
        "ep5gnet = chi.network.get_network(\"ep5g-vip-net\")\n",
        "portadd = chi.network.add_subnet_to_router(router[\"id\"],ep5gnet[\"subnets\"][0])\n",
        "logger.success(\"An interface on ep5g-vip-net is added to the router\")\n",
        "\n",
        "# create edge-net to ep5g-vip-router\n",
        "edgenet = chi.network.get_network(\"edge-net\")\n",
        "portadd = chi.network.add_subnet_to_router(router[\"id\"],edgenet[\"subnets\"][0])\n",
        "logger.success(\"An interface on edge-net is added to the router\")\n",
        "\n",
        "# add ep5g route to ep5g-vip-router\n",
        "routeadd = chi.network.add_route_to_router(router[\"id\"],\"172.16.0.0/16\",\"10.30.111.10\")\n",
        "logger.success(\"the route added to the router\")"
      ],
      "metadata": {
        "colab": {
          "base_uri": "https://localhost:8080/"
        },
        "id": "QV7oHbSu7g5F",
        "outputId": "31bd127c-4d72-46c8-a956-4a3c8a8c84d7"
      },
      "execution_count": 5,
      "outputs": [
        {
          "output_type": "stream",
          "name": "stderr",
          "text": [
            "\u001b[32m2023-07-31 21:33:25.312\u001b[0m | \u001b[32m\u001b[1mSUCCESS \u001b[0m | \u001b[36m__main__\u001b[0m:\u001b[36m<cell line: 4>\u001b[0m:\u001b[36m4\u001b[0m - \u001b[32m\u001b[1medge-net is created.\u001b[0m\n",
            "\u001b[32m2023-07-31 21:33:28.054\u001b[0m | \u001b[32m\u001b[1mSUCCESS \u001b[0m | \u001b[36m__main__\u001b[0m:\u001b[36m<cell line: 8>\u001b[0m:\u001b[36m8\u001b[0m - \u001b[32m\u001b[1mep5g-vip-router router is created.\u001b[0m\n",
            "\u001b[32m2023-07-31 21:33:28.057\u001b[0m | \u001b[1mINFO    \u001b[0m | \u001b[36m__main__\u001b[0m:\u001b[36m<cell line: 9>\u001b[0m:\u001b[36m9\u001b[0m - \u001b[1m{\n",
            "    \"id\": \"29496bed-14d5-48d4-98a0-598ec2bdbfad\",\n",
            "    \"name\": \"ep5g-vip-router\",\n",
            "    \"tenant_id\": \"f2831b1828814f5db878f45a61d1043c\",\n",
            "    \"admin_state_up\": true,\n",
            "    \"status\": \"ACTIVE\",\n",
            "    \"external_gateway_info\": {\n",
            "        \"network_id\": \"717b5f2b-069e-4868-a24d-91a4ae3ad002\",\n",
            "        \"external_fixed_ips\": [\n",
            "            {\n",
            "                \"subnet_id\": \"53d03ffd-0d49-4f9a-88a3-a30d69fe4827\",\n",
            "                \"ip_address\": \"130.237.11.113\"\n",
            "            }\n",
            "        ],\n",
            "        \"enable_snat\": true\n",
            "    },\n",
            "    \"description\": \"\",\n",
            "    \"availability_zones\": [],\n",
            "    \"availability_zone_hints\": [],\n",
            "    \"routes\": [],\n",
            "    \"flavor_id\": null,\n",
            "    \"tags\": [],\n",
            "    \"created_at\": \"2023-07-31T21:33:25Z\",\n",
            "    \"updated_at\": \"2023-07-31T21:33:26Z\",\n",
            "    \"revision_number\": 3,\n",
            "    \"project_id\": \"f2831b1828814f5db878f45a61d1043c\"\n",
            "}\u001b[0m\n",
            "\u001b[32m2023-07-31 21:33:31.405\u001b[0m | \u001b[32m\u001b[1mSUCCESS \u001b[0m | \u001b[36m__main__\u001b[0m:\u001b[36m<cell line: 14>\u001b[0m:\u001b[36m14\u001b[0m - \u001b[32m\u001b[1mAn interface on ep5g-vip-net is added to the router\u001b[0m\n",
            "\u001b[32m2023-07-31 21:33:34.965\u001b[0m | \u001b[32m\u001b[1mSUCCESS \u001b[0m | \u001b[36m__main__\u001b[0m:\u001b[36m<cell line: 19>\u001b[0m:\u001b[36m19\u001b[0m - \u001b[32m\u001b[1mAn interface on edge-net is added to the router\u001b[0m\n",
            "\u001b[32m2023-07-31 21:33:36.144\u001b[0m | \u001b[32m\u001b[1mSUCCESS \u001b[0m | \u001b[36m__main__\u001b[0m:\u001b[36m<cell line: 23>\u001b[0m:\u001b[36m23\u001b[0m - \u001b[32m\u001b[1mthe route added to the router\u001b[0m\n"
          ]
        }
      ]
    },
    {
      "cell_type": "markdown",
      "source": [
        "Now the network is ready to run the workloads. We start by runming the edge-node perf-meas container."
      ],
      "metadata": {
        "id": "qlEedPyQpdZp"
      }
    },
    {
      "cell_type": "code",
      "source": [
        "edgenet = chi.network.get_network(\"edge-net\")\n",
        "chi.container.create_container(\n",
        "    name = \"edge-node\",\n",
        "    image = \"samiemostafavi/perf-meas\",\n",
        "    reservation_id = worker_reservation_id,\n",
        "    environment = {\"SERVER_DIR\":\"/mnt/volume/\"},\n",
        "    mounts = [\n",
        "        {'source': 'edge-volume', 'destination': '/mnt/volume/'}\n",
        "    ],\n",
        "    nets = [\n",
        "        { \"network\" : edgenet['id'] },\n",
        "    ],\n",
        "    labels = {\n",
        "        \"networks.1.interface\":\"eno12419\",\n",
        "        \"networks.1.ip\":\"10.70.70.3/24\",\n",
        "        \"networks.1.routes\":\"172.16.0.0/16-10.70.70.1\",\n",
        "    },\n",
        ")\n",
        "chi.container.wait_for_active(\"edge-node\")\n",
        "logger.success(\"created edge-node container.\")"
      ],
      "metadata": {
        "colab": {
          "base_uri": "https://localhost:8080/"
        },
        "id": "KNPWOgj97oDZ",
        "outputId": "214c9590-b0f6-4ce9-8dfb-9c4fb57ba9db"
      },
      "execution_count": 6,
      "outputs": [
        {
          "output_type": "stream",
          "name": "stderr",
          "text": [
            "\u001b[32m2023-07-31 21:34:11.960\u001b[0m | \u001b[32m\u001b[1mSUCCESS \u001b[0m | \u001b[36m__main__\u001b[0m:\u001b[36m<cell line: 20>\u001b[0m:\u001b[36m20\u001b[0m - \u001b[32m\u001b[1mcreated edge-node container.\u001b[0m\n"
          ]
        }
      ]
    },
    {
      "cell_type": "markdown",
      "source": [
        "Next, we run the end-node perf-meas container."
      ],
      "metadata": {
        "id": "0yXjoiAApZ9m"
      }
    },
    {
      "cell_type": "code",
      "source": [
        "advnet = chi.network.get_network(\"adv-02-net\")\n",
        "chi.container.create_container(\n",
        "    name = \"end-node\",\n",
        "    image = \"samiemostafavi/perf-meas\",\n",
        "    reservation_id = worker_reservation_id,\n",
        "    environment = {\"SERVER_DIR\":\"/tmp/\"},\n",
        "    nets = [\n",
        "        { \"network\" : advnet['id'] },\n",
        "    ],\n",
        "    labels = {\n",
        "        \"networks.1.interface\":\"eno12429\",\n",
        "        \"networks.1.ip\":\"10.42.3.2/24\",\n",
        "        \"networks.1.routes\":\"10.70.70.0/24-10.42.3.1\",\n",
        "    },\n",
        ")\n",
        "chi.container.wait_for_active(\"end-node\")\n",
        "logger.success(\"created end-node container.\")"
      ],
      "metadata": {
        "colab": {
          "base_uri": "https://localhost:8080/"
        },
        "id": "SiwwlTuX8xUg",
        "outputId": "954402b2-32c1-413d-8e94-5fb664d73015"
      },
      "execution_count": 7,
      "outputs": [
        {
          "output_type": "stream",
          "name": "stderr",
          "text": [
            "\u001b[32m2023-07-31 21:34:37.099\u001b[0m | \u001b[32m\u001b[1mSUCCESS \u001b[0m | \u001b[36m__main__\u001b[0m:\u001b[36m<cell line: 17>\u001b[0m:\u001b[36m17\u001b[0m - \u001b[32m\u001b[1mcreated end-node container.\u001b[0m\n"
          ]
        }
      ]
    },
    {
      "cell_type": "markdown",
      "source": [
        "Run uplink bandwidth test"
      ],
      "metadata": {
        "id": "hg8GIvvApWgh"
      }
    },
    {
      "cell_type": "code",
      "source": [
        "command = \"iperf3 -c 10.70.70.3 -u -b 1G --get-server-output > /proc/1/fd/1 2>&1\"\n",
        "result = chi.container.execute(\n",
        "    container_ref=\"end-node\",\n",
        "    command=\"curl -s -X POST -H \\\"Content-Type: application/json\\\" -d '{\\\"cmd\\\": \\\"\" + command + \"\\\"}' http://localhost:50505/\",\n",
        ")\n",
        "logger.info(f\"{result}\")"
      ],
      "metadata": {
        "id": "h1uyVgDuMvbY"
      },
      "execution_count": null,
      "outputs": []
    },
    {
      "cell_type": "markdown",
      "source": [
        "Run downlink bandwidth test"
      ],
      "metadata": {
        "id": "ywyMFkB2pTOJ"
      }
    },
    {
      "cell_type": "code",
      "source": [
        "command = \"iperf3 -c 172.16.0.88 -u -b 1G --get-server-output > /proc/1/fd/1 2>&1\"\n",
        "result = chi.container.execute(\n",
        "    container_ref=\"edge-node\",\n",
        "    command=\"curl -s -X POST -H \\\"Content-Type: application/json\\\" -d '{\\\"cmd\\\": \\\"\" + command + \"\\\"}' http://localhost:50505/\",\n",
        ")\n",
        "logger.info(f\"{result}\")"
      ],
      "metadata": {
        "id": "zGzjdiJakaat"
      },
      "execution_count": null,
      "outputs": []
    },
    {
      "cell_type": "markdown",
      "source": [
        "CAUTION: In this cell we tear down all the configurations and release the reserved resources. The project will be clean afterwards."
      ],
      "metadata": {
        "id": "fRL16_YHsjC5"
      }
    },
    {
      "cell_type": "code",
      "source": [
        "\n",
        "status = get_container_status(\"edge-node\")\n",
        "if status:\n",
        "    chi.container.destroy_container(\"edge-node\")\n",
        "    wait_until_container_removed(\"edge-node\")\n",
        "\n",
        "\n",
        "status = get_container_status(\"end-node\")\n",
        "if status:\n",
        "    chi.container.destroy_container(\"end-node\")\n",
        "    wait_until_container_removed(\"end-node\")\n",
        "\n",
        "logger.info(f\"stopped and removed all containers\")\n",
        "\n",
        "# find the router again\n",
        "router = None\n",
        "try:\n",
        "    router = chi.network.get_router(\"ep5g-vip-router\")\n",
        "except Exception as ex:\n",
        "    logger.info(f\"could not find ep5g-vip-router.\")\n",
        "\n",
        "if router:\n",
        "    # remove all routes from the router\n",
        "    chi.network.remove_all_routes_from_router(router[\"id\"])\n",
        "    logger.success(f\"removed all routers from router\")\n",
        "\n",
        "    # remove all subnets from the router\n",
        "    subnets = chi.network.list_subnets()\n",
        "    logger.info(f\"checking all {len(subnets)} subnets.\")\n",
        "    for subnet in subnets:\n",
        "        try:\n",
        "            chi.network.remove_subnet_from_router(router[\"id\"],subnet[\"id\"])\n",
        "        except Exception as ex:\n",
        "            pass\n",
        "    logger.success(f\"removed all subnets from router\")\n",
        "\n",
        "    chi.network.delete_router(router[\"id\"])\n",
        "    logger.success(f\"deleted the router\")\n",
        "\n",
        "edgenet = None\n",
        "try:\n",
        "    edgenet = chi.network.get_network(\"edge-net\")\n",
        "except Exception as ex:\n",
        "    logger.info(f\"could not find edge-net.\")\n",
        "\n",
        "if edgenet:\n",
        "    chi.network.delete_network(edgenet[\"id\"])\n",
        "    logger.success(f\"deleted the edge-net\")\n",
        "\n",
        "# remove the leases\n",
        "unreserve_byid(ep5g_lease[\"id\"])\n",
        "unreserve_byid(adv_lease[\"id\"])\n",
        "unreserve_byid(worker_lease[\"id\"])"
      ],
      "metadata": {
        "colab": {
          "base_uri": "https://localhost:8080/"
        },
        "id": "Bbme5W7isiQa",
        "outputId": "35acb8b4-a002-4c41-8b41-b3e2b7bf1efd"
      },
      "execution_count": 8,
      "outputs": [
        {
          "output_type": "stream",
          "name": "stderr",
          "text": [
            "\u001b[32m2023-07-31 21:34:48.557\u001b[0m | \u001b[1mINFO    \u001b[0m | \u001b[36mchi.expeca\u001b[0m:\u001b[36mwait_until_container_removed\u001b[0m:\u001b[36m30\u001b[0m - \u001b[1mwaiting 30 seconds for edge-node container to be removed\u001b[0m\n",
            "\u001b[32m2023-07-31 21:34:53.745\u001b[0m | \u001b[1mINFO    \u001b[0m | \u001b[36mchi.expeca\u001b[0m:\u001b[36mwait_until_container_removed\u001b[0m:\u001b[36m37\u001b[0m - \u001b[1mcontainer edge-node is in Deleting state.\u001b[0m\n",
            "\u001b[32m2023-07-31 21:34:58.944\u001b[0m | \u001b[1mINFO    \u001b[0m | \u001b[36mchi.expeca\u001b[0m:\u001b[36mwait_until_container_removed\u001b[0m:\u001b[36m37\u001b[0m - \u001b[1mcontainer edge-node is in None state.\u001b[0m\n",
            "\u001b[32m2023-07-31 21:34:59.392\u001b[0m | \u001b[1mINFO    \u001b[0m | \u001b[36mchi.expeca\u001b[0m:\u001b[36mwait_until_container_removed\u001b[0m:\u001b[36m30\u001b[0m - \u001b[1mwaiting 30 seconds for end-node container to be removed\u001b[0m\n",
            "\u001b[32m2023-07-31 21:35:04.588\u001b[0m | \u001b[1mINFO    \u001b[0m | \u001b[36mchi.expeca\u001b[0m:\u001b[36mwait_until_container_removed\u001b[0m:\u001b[36m37\u001b[0m - \u001b[1mcontainer end-node is in Deleting state.\u001b[0m\n",
            "\u001b[32m2023-07-31 21:35:09.775\u001b[0m | \u001b[1mINFO    \u001b[0m | \u001b[36mchi.expeca\u001b[0m:\u001b[36mwait_until_container_removed\u001b[0m:\u001b[36m37\u001b[0m - \u001b[1mcontainer end-node is in None state.\u001b[0m\n",
            "\u001b[32m2023-07-31 21:35:09.778\u001b[0m | \u001b[1mINFO    \u001b[0m | \u001b[36m__main__\u001b[0m:\u001b[36m<cell line: 12>\u001b[0m:\u001b[36m12\u001b[0m - \u001b[1mstopped and removed all containers\u001b[0m\n",
            "\u001b[32m2023-07-31 21:35:12.739\u001b[0m | \u001b[32m\u001b[1mSUCCESS \u001b[0m | \u001b[36m__main__\u001b[0m:\u001b[36m<cell line: 21>\u001b[0m:\u001b[36m24\u001b[0m - \u001b[32m\u001b[1mremoved all routers from router\u001b[0m\n",
            "\u001b[32m2023-07-31 21:35:12.950\u001b[0m | \u001b[1mINFO    \u001b[0m | \u001b[36m__main__\u001b[0m:\u001b[36m<cell line: 21>\u001b[0m:\u001b[36m28\u001b[0m - \u001b[1mchecking all 5 subnets.\u001b[0m\n",
            "\u001b[32m2023-07-31 21:35:19.133\u001b[0m | \u001b[32m\u001b[1mSUCCESS \u001b[0m | \u001b[36m__main__\u001b[0m:\u001b[36m<cell line: 21>\u001b[0m:\u001b[36m34\u001b[0m - \u001b[32m\u001b[1mremoved all subnets from router\u001b[0m\n",
            "\u001b[32m2023-07-31 21:35:20.240\u001b[0m | \u001b[32m\u001b[1mSUCCESS \u001b[0m | \u001b[36m__main__\u001b[0m:\u001b[36m<cell line: 21>\u001b[0m:\u001b[36m37\u001b[0m - \u001b[32m\u001b[1mdeleted the router\u001b[0m\n",
            "\u001b[32m2023-07-31 21:35:26.640\u001b[0m | \u001b[32m\u001b[1mSUCCESS \u001b[0m | \u001b[36m__main__\u001b[0m:\u001b[36m<cell line: 45>\u001b[0m:\u001b[36m47\u001b[0m - \u001b[32m\u001b[1mdeleted the edge-net\u001b[0m\n",
            "\u001b[32m2023-07-31 21:35:27.321\u001b[0m | \u001b[1mINFO    \u001b[0m | \u001b[36mchi.expeca\u001b[0m:\u001b[36mremove_lease\u001b[0m:\u001b[36m84\u001b[0m - \u001b[1mRemoving ep5g-lease reservation with id d4b3d6cb-ce41-476d-bccd-f32accfc04d1.\u001b[0m\n",
            "\u001b[32m2023-07-31 21:35:48.704\u001b[0m | \u001b[1mINFO    \u001b[0m | \u001b[36mchi.expeca\u001b[0m:\u001b[36mwait_until_lease_status\u001b[0m:\u001b[36m62\u001b[0m - \u001b[1mwaiting 120 seconds for ep5g-lease with id d4b3d6cb-ce41-476d-bccd-f32accfc04d1 to become \"None\"\u001b[0m\n",
            "\u001b[32m2023-07-31 21:35:53.967\u001b[0m | \u001b[1mINFO    \u001b[0m | \u001b[36mchi.expeca\u001b[0m:\u001b[36mwait_until_lease_status\u001b[0m:\u001b[36m69\u001b[0m - \u001b[1mlease ep5g-lease with id d4b3d6cb-ce41-476d-bccd-f32accfc04d1 is None.\u001b[0m\n",
            "\u001b[32m2023-07-31 21:35:53.970\u001b[0m | \u001b[32m\u001b[1mSUCCESS \u001b[0m | \u001b[36mchi.expeca\u001b[0m:\u001b[36mtry_to_remove\u001b[0m:\u001b[36m95\u001b[0m - \u001b[32m\u001b[1mdone\u001b[0m\n",
            "\u001b[32m2023-07-31 21:35:54.144\u001b[0m | \u001b[1mINFO    \u001b[0m | \u001b[36mchi.expeca\u001b[0m:\u001b[36mremove_lease\u001b[0m:\u001b[36m84\u001b[0m - \u001b[1mRemoving adv-02-lease reservation with id 4a0813f3-6da9-450a-94ed-8d59ae0cfe41.\u001b[0m\n",
            "\u001b[32m2023-07-31 21:36:09.900\u001b[0m | \u001b[1mINFO    \u001b[0m | \u001b[36mchi.expeca\u001b[0m:\u001b[36mwait_until_lease_status\u001b[0m:\u001b[36m62\u001b[0m - \u001b[1mwaiting 120 seconds for adv-02-lease with id 4a0813f3-6da9-450a-94ed-8d59ae0cfe41 to become \"None\"\u001b[0m\n",
            "\u001b[32m2023-07-31 21:36:15.066\u001b[0m | \u001b[1mINFO    \u001b[0m | \u001b[36mchi.expeca\u001b[0m:\u001b[36mwait_until_lease_status\u001b[0m:\u001b[36m69\u001b[0m - \u001b[1mlease adv-02-lease with id 4a0813f3-6da9-450a-94ed-8d59ae0cfe41 is None.\u001b[0m\n",
            "\u001b[32m2023-07-31 21:36:15.068\u001b[0m | \u001b[32m\u001b[1mSUCCESS \u001b[0m | \u001b[36mchi.expeca\u001b[0m:\u001b[36mtry_to_remove\u001b[0m:\u001b[36m95\u001b[0m - \u001b[32m\u001b[1mdone\u001b[0m\n",
            "\u001b[32m2023-07-31 21:36:15.231\u001b[0m | \u001b[1mINFO    \u001b[0m | \u001b[36mchi.expeca\u001b[0m:\u001b[36mremove_lease\u001b[0m:\u001b[36m84\u001b[0m - \u001b[1mRemoving worker-01-lease reservation with id ec796b79-7f39-4890-b477-69f704c515e8.\u001b[0m\n",
            "\u001b[32m2023-07-31 21:36:16.554\u001b[0m | \u001b[1mINFO    \u001b[0m | \u001b[36mchi.expeca\u001b[0m:\u001b[36mwait_until_lease_status\u001b[0m:\u001b[36m62\u001b[0m - \u001b[1mwaiting 120 seconds for worker-01-lease with id ec796b79-7f39-4890-b477-69f704c515e8 to become \"None\"\u001b[0m\n",
            "\u001b[32m2023-07-31 21:36:21.737\u001b[0m | \u001b[1mINFO    \u001b[0m | \u001b[36mchi.expeca\u001b[0m:\u001b[36mwait_until_lease_status\u001b[0m:\u001b[36m69\u001b[0m - \u001b[1mlease worker-01-lease with id ec796b79-7f39-4890-b477-69f704c515e8 is None.\u001b[0m\n",
            "\u001b[32m2023-07-31 21:36:21.741\u001b[0m | \u001b[32m\u001b[1mSUCCESS \u001b[0m | \u001b[36mchi.expeca\u001b[0m:\u001b[36mtry_to_remove\u001b[0m:\u001b[36m95\u001b[0m - \u001b[32m\u001b[1mdone\u001b[0m\n"
          ]
        }
      ]
    }
  ]
}