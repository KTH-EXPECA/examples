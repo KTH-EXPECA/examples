{
  "nbformat": 4,
  "nbformat_minor": 0,
  "metadata": {
    "colab": {
      "provenance": [],
      "authorship_tag": "ABX9TyOgso1m+7dQo/1AqC7ubjfs",
      "include_colab_link": true
    },
    "kernelspec": {
      "name": "python3",
      "display_name": "Python 3"
    },
    "language_info": {
      "name": "python"
    }
  },
  "cells": [
    {
      "cell_type": "markdown",
      "metadata": {
        "id": "view-in-github",
        "colab_type": "text"
      },
      "source": [
        "<a href=\"https://colab.research.google.com/github/KTH-EXPECA/examples/blob/main/wireless-pr3d/ep5g_latency_measurement_setup.ipynb\" target=\"_parent\"><img src=\"https://colab.research.google.com/assets/colab-badge.svg\" alt=\"Open In Colab\"/></a>"
      ]
    },
    {
      "cell_type": "markdown",
      "source": [
        "Login to Chameleon and download openrc.sh file from [here](https://testbed.expeca.proj.kth.se/project/api_access/openrc/). Upload it here next to this notebook and continue.\n",
        "\n",
        "In the next cell, we setup the authentication method to be able to use Openstack clients."
      ],
      "metadata": {
        "id": "W9YICZf_mJBy"
      }
    },
    {
      "cell_type": "code",
      "source": [
        "import os, re\n",
        "from getpass import getpass\n",
        "\n",
        "with open('/content/sdr-test-project-openrc.sh', 'r') as f:\n",
        "    script_content = f.read()\n",
        "    pattern = r'export\\s+(\\w+)\\s*=\\s*(\"[^\"]+\"|[^\"\\n]+)'\n",
        "    matches = re.findall(pattern, script_content)\n",
        "\n",
        "    for name, value in matches:\n",
        "        os.environ[name] = value.strip('\"')\n",
        "\n",
        "password = getpass('enter your expeca password:')\n",
        "os.environ['OS_PASSWORD'] = password"
      ],
      "metadata": {
        "colab": {
          "base_uri": "https://localhost:8080/"
        },
        "id": "KLT-J26lJ5ae",
        "outputId": "278c9658-b622-4973-92f8-30a465a35a64"
      },
      "execution_count": 1,
      "outputs": [
        {
          "name": "stdout",
          "output_type": "stream",
          "text": [
            "enter your expeca password:··········\n"
          ]
        }
      ]
    },
    {
      "cell_type": "markdown",
      "source": [
        "Install required packages and dependencies. Ignore the warnings."
      ],
      "metadata": {
        "id": "5bXlipy4m1bs"
      }
    },
    {
      "cell_type": "code",
      "source": [
        "!pip uninstall -y moviepy\n",
        "!pip install jedi\n",
        "!pip install git+https://github.com/KTH-EXPECA/python-chi"
      ],
      "metadata": {
        "colab": {
          "base_uri": "https://localhost:8080/",
          "height": 1000
        },
        "id": "3uZ_rN5iFlhp",
        "outputId": "8c8fef0c-657f-4e59-c404-3543fec30834"
      },
      "execution_count": 1,
      "outputs": [
        {
          "output_type": "stream",
          "name": "stdout",
          "text": [
            "Found existing installation: moviepy 1.0.3\n",
            "Uninstalling moviepy-1.0.3:\n",
            "  Successfully uninstalled moviepy-1.0.3\n",
            "Collecting jedi\n",
            "  Downloading jedi-0.19.0-py2.py3-none-any.whl (1.6 MB)\n",
            "\u001b[2K     \u001b[90m━━━━━━━━━━━━━━━━━━━━━━━━━━━━━━━━━━━━━━━━\u001b[0m \u001b[32m1.6/1.6 MB\u001b[0m \u001b[31m3.7 MB/s\u001b[0m eta \u001b[36m0:00:00\u001b[0m\n",
            "\u001b[?25hRequirement already satisfied: parso<0.9.0,>=0.8.3 in /usr/local/lib/python3.10/dist-packages (from jedi) (0.8.3)\n",
            "Installing collected packages: jedi\n",
            "Successfully installed jedi-0.19.0\n",
            "Collecting git+https://github.com/KTH-EXPECA/python-chi\n",
            "  Cloning https://github.com/KTH-EXPECA/python-chi to /tmp/pip-req-build-2152sdxx\n",
            "  Running command git clone --filter=blob:none --quiet https://github.com/KTH-EXPECA/python-chi /tmp/pip-req-build-2152sdxx\n",
            "  Resolved https://github.com/KTH-EXPECA/python-chi to commit ff2e12d0e1219b780b31178ff67eed06cfa39cd9\n",
            "  Preparing metadata (setup.py) ... \u001b[?25l\u001b[?25hdone\n",
            "Collecting python-blazarclient@ git+https://github.com/ChameleonCloud/python-blazarclient.git (from python-chi==0.0.1.dev253)\n",
            "  Cloning https://github.com/ChameleonCloud/python-blazarclient.git to /tmp/pip-install-ir69hbfu/python-blazarclient_c2567175472b4768967d9aaf38c148a4\n",
            "  Running command git clone --filter=blob:none --quiet https://github.com/ChameleonCloud/python-blazarclient.git /tmp/pip-install-ir69hbfu/python-blazarclient_c2567175472b4768967d9aaf38c148a4\n",
            "  Resolved https://github.com/ChameleonCloud/python-blazarclient.git to commit da700b168823d062e3e815cd50048119451e99c0\n",
            "  Preparing metadata (setup.py) ... \u001b[?25l\u001b[?25hdone\n",
            "Collecting fabric (from python-chi==0.0.1.dev253)\n",
            "  Downloading fabric-3.1.0-py3-none-any.whl (57 kB)\n",
            "\u001b[2K     \u001b[90m━━━━━━━━━━━━━━━━━━━━━━━━━━━━━━━━━━━━━━━\u001b[0m \u001b[32m57.9/57.9 kB\u001b[0m \u001b[31m997.0 kB/s\u001b[0m eta \u001b[36m0:00:00\u001b[0m\n",
            "\u001b[?25hCollecting gnocchiclient (from python-chi==0.0.1.dev253)\n",
            "  Downloading gnocchiclient-7.0.8-py2.py3-none-any.whl (66 kB)\n",
            "\u001b[2K     \u001b[90m━━━━━━━━━━━━━━━━━━━━━━━━━━━━━━━━━━━━━━━━\u001b[0m \u001b[32m66.5/66.5 kB\u001b[0m \u001b[31m3.6 MB/s\u001b[0m eta \u001b[36m0:00:00\u001b[0m\n",
            "\u001b[?25hCollecting keystoneauth1 (from python-chi==0.0.1.dev253)\n",
            "  Downloading keystoneauth1-5.2.1-py3-none-any.whl (322 kB)\n",
            "\u001b[2K     \u001b[90m━━━━━━━━━━━━━━━━━━━━━━━━━━━━━━━━━━━━━━\u001b[0m \u001b[32m322.6/322.6 kB\u001b[0m \u001b[31m15.0 MB/s\u001b[0m eta \u001b[36m0:00:00\u001b[0m\n",
            "\u001b[?25hCollecting openstacksdk (from python-chi==0.0.1.dev253)\n",
            "  Downloading openstacksdk-1.3.1-py3-none-any.whl (1.6 MB)\n",
            "\u001b[2K     \u001b[90m━━━━━━━━━━━━━━━━━━━━━━━━━━━━━━━━━━━━━━━━\u001b[0m \u001b[32m1.6/1.6 MB\u001b[0m \u001b[31m48.9 MB/s\u001b[0m eta \u001b[36m0:00:00\u001b[0m\n",
            "\u001b[?25hCollecting paramiko (from python-chi==0.0.1.dev253)\n",
            "  Downloading paramiko-3.3.1-py3-none-any.whl (224 kB)\n",
            "\u001b[2K     \u001b[90m━━━━━━━━━━━━━━━━━━━━━━━━━━━━━━━━━━━━━━\u001b[0m \u001b[32m224.8/224.8 kB\u001b[0m \u001b[31m21.4 MB/s\u001b[0m eta \u001b[36m0:00:00\u001b[0m\n",
            "\u001b[?25hCollecting loguru (from python-chi==0.0.1.dev253)\n",
            "  Downloading loguru-0.7.0-py3-none-any.whl (59 kB)\n",
            "\u001b[2K     \u001b[90m━━━━━━━━━━━━━━━━━━━━━━━━━━━━━━━━━━━━━━━━\u001b[0m \u001b[32m60.0/60.0 kB\u001b[0m \u001b[31m6.6 MB/s\u001b[0m eta \u001b[36m0:00:00\u001b[0m\n",
            "\u001b[?25hCollecting python-cinderclient (from python-chi==0.0.1.dev253)\n",
            "  Downloading python_cinderclient-9.3.0-py3-none-any.whl (255 kB)\n",
            "\u001b[2K     \u001b[90m━━━━━━━━━━━━━━━━━━━━━━━━━━━━━━━━━━━━━━\u001b[0m \u001b[32m255.9/255.9 kB\u001b[0m \u001b[31m23.0 MB/s\u001b[0m eta \u001b[36m0:00:00\u001b[0m\n",
            "\u001b[?25hCollecting python-glanceclient (from python-chi==0.0.1.dev253)\n",
            "  Downloading python_glanceclient-4.4.0-py3-none-any.whl (205 kB)\n",
            "\u001b[2K     \u001b[90m━━━━━━━━━━━━━━━━━━━━━━━━━━━━━━━━━━━━━━\u001b[0m \u001b[32m205.4/205.4 kB\u001b[0m \u001b[31m17.8 MB/s\u001b[0m eta \u001b[36m0:00:00\u001b[0m\n",
            "\u001b[?25hCollecting python-ironicclient (from python-chi==0.0.1.dev253)\n",
            "  Downloading python_ironicclient-5.3.0-py3-none-any.whl (250 kB)\n",
            "\u001b[2K     \u001b[90m━━━━━━━━━━━━━━━━━━━━━━━━━━━━━━━━━━━━━━\u001b[0m \u001b[32m250.5/250.5 kB\u001b[0m \u001b[31m20.1 MB/s\u001b[0m eta \u001b[36m0:00:00\u001b[0m\n",
            "\u001b[?25hCollecting python-manilaclient (from python-chi==0.0.1.dev253)\n",
            "  Downloading python_manilaclient-4.5.0-py3-none-any.whl (487 kB)\n",
            "\u001b[2K     \u001b[90m━━━━━━━━━━━━━━━━━━━━━━━━━━━━━━━━━━━━━━\u001b[0m \u001b[32m487.7/487.7 kB\u001b[0m \u001b[31m35.5 MB/s\u001b[0m eta \u001b[36m0:00:00\u001b[0m\n",
            "\u001b[?25hCollecting python-neutronclient (from python-chi==0.0.1.dev253)\n",
            "  Downloading python_neutronclient-11.0.0-py3-none-any.whl (293 kB)\n",
            "\u001b[2K     \u001b[90m━━━━━━━━━━━━━━━━━━━━━━━━━━━━━━━━━━━━━━\u001b[0m \u001b[32m293.6/293.6 kB\u001b[0m \u001b[31m30.2 MB/s\u001b[0m eta \u001b[36m0:00:00\u001b[0m\n",
            "\u001b[?25hCollecting python-novaclient (from python-chi==0.0.1.dev253)\n",
            "  Downloading python_novaclient-18.3.0-py3-none-any.whl (335 kB)\n",
            "\u001b[2K     \u001b[90m━━━━━━━━━━━━━━━━━━━━━━━━━━━━━━━━━━━━━━\u001b[0m \u001b[32m335.9/335.9 kB\u001b[0m \u001b[31m30.5 MB/s\u001b[0m eta \u001b[36m0:00:00\u001b[0m\n",
            "\u001b[?25hCollecting python-zunclient (from python-chi==0.0.1.dev253)\n",
            "  Downloading python_zunclient-4.6.0-py3-none-any.whl (155 kB)\n",
            "\u001b[2K     \u001b[90m━━━━━━━━━━━━━━━━━━━━━━━━━━━━━━━━━━━━━━\u001b[0m \u001b[32m155.1/155.1 kB\u001b[0m \u001b[31m16.9 MB/s\u001b[0m eta \u001b[36m0:00:00\u001b[0m\n",
            "\u001b[?25hCollecting invoke>=2.0 (from fabric->python-chi==0.0.1.dev253)\n",
            "  Downloading invoke-2.2.0-py3-none-any.whl (160 kB)\n",
            "\u001b[2K     \u001b[90m━━━━━━━━━━━━━━━━━━━━━━━━━━━━━━━━━━━━━━\u001b[0m \u001b[32m160.3/160.3 kB\u001b[0m \u001b[31m17.3 MB/s\u001b[0m eta \u001b[36m0:00:00\u001b[0m\n",
            "\u001b[?25hCollecting decorator>=5 (from fabric->python-chi==0.0.1.dev253)\n",
            "  Downloading decorator-5.1.1-py3-none-any.whl (9.1 kB)\n",
            "Collecting bcrypt>=3.2 (from paramiko->python-chi==0.0.1.dev253)\n",
            "  Downloading bcrypt-4.0.1-cp36-abi3-manylinux_2_28_x86_64.whl (593 kB)\n",
            "\u001b[2K     \u001b[90m━━━━━━━━━━━━━━━━━━━━━━━━━━━━━━━━━━━━━━\u001b[0m \u001b[32m593.7/593.7 kB\u001b[0m \u001b[31m44.4 MB/s\u001b[0m eta \u001b[36m0:00:00\u001b[0m\n",
            "\u001b[?25hRequirement already satisfied: cryptography>=3.3 in /usr/lib/python3/dist-packages (from paramiko->python-chi==0.0.1.dev253) (3.4.8)\n",
            "Collecting pynacl>=1.5 (from paramiko->python-chi==0.0.1.dev253)\n",
            "  Downloading PyNaCl-1.5.0-cp36-abi3-manylinux_2_17_x86_64.manylinux2014_x86_64.manylinux_2_24_x86_64.whl (856 kB)\n",
            "\u001b[2K     \u001b[90m━━━━━━━━━━━━━━━━━━━━━━━━━━━━━━━━━━━━━━\u001b[0m \u001b[32m856.7/856.7 kB\u001b[0m \u001b[31m59.5 MB/s\u001b[0m eta \u001b[36m0:00:00\u001b[0m\n",
            "\u001b[?25hCollecting cliff>=2.10 (from gnocchiclient->python-chi==0.0.1.dev253)\n",
            "  Downloading cliff-4.3.0-py3-none-any.whl (80 kB)\n",
            "\u001b[2K     \u001b[90m━━━━━━━━━━━━━━━━━━━━━━━━━━━━━━━━━━━━━━━━\u001b[0m \u001b[32m80.6/80.6 kB\u001b[0m \u001b[31m10.0 MB/s\u001b[0m eta \u001b[36m0:00:00\u001b[0m\n",
            "\u001b[?25hCollecting ujson (from gnocchiclient->python-chi==0.0.1.dev253)\n",
            "  Downloading ujson-5.8.0-cp310-cp310-manylinux_2_17_x86_64.manylinux2014_x86_64.whl (53 kB)\n",
            "\u001b[2K     \u001b[90m━━━━━━━━━━━━━━━━━━━━━━━━━━━━━━━━━━━━━━━━\u001b[0m \u001b[32m53.9/53.9 kB\u001b[0m \u001b[31m6.8 MB/s\u001b[0m eta \u001b[36m0:00:00\u001b[0m\n",
            "\u001b[?25hRequirement already satisfied: six in /usr/local/lib/python3.10/dist-packages (from gnocchiclient->python-chi==0.0.1.dev253) (1.16.0)\n",
            "Collecting futurist (from gnocchiclient->python-chi==0.0.1.dev253)\n",
            "  Downloading futurist-2.4.1-py3-none-any.whl (36 kB)\n",
            "Collecting iso8601 (from gnocchiclient->python-chi==0.0.1.dev253)\n",
            "  Downloading iso8601-2.0.0-py3-none-any.whl (7.5 kB)\n",
            "Requirement already satisfied: python-dateutil in /usr/local/lib/python3.10/dist-packages (from gnocchiclient->python-chi==0.0.1.dev253) (2.8.2)\n",
            "Collecting debtcollector (from gnocchiclient->python-chi==0.0.1.dev253)\n",
            "  Downloading debtcollector-2.5.0-py3-none-any.whl (23 kB)\n",
            "Collecting os-service-types>=1.2.0 (from keystoneauth1->python-chi==0.0.1.dev253)\n",
            "  Downloading os_service_types-1.7.0-py2.py3-none-any.whl (24 kB)\n",
            "Collecting pbr!=2.1.0,>=2.0.0 (from keystoneauth1->python-chi==0.0.1.dev253)\n",
            "  Using cached pbr-5.11.1-py2.py3-none-any.whl (112 kB)\n",
            "Requirement already satisfied: requests>=2.14.2 in /usr/local/lib/python3.10/dist-packages (from keystoneauth1->python-chi==0.0.1.dev253) (2.27.1)\n",
            "Collecting stevedore>=1.20.0 (from keystoneauth1->python-chi==0.0.1.dev253)\n",
            "  Downloading stevedore-5.1.0-py3-none-any.whl (49 kB)\n",
            "\u001b[2K     \u001b[90m━━━━━━━━━━━━━━━━━━━━━━━━━━━━━━━━━━━━━━━━\u001b[0m \u001b[32m49.6/49.6 kB\u001b[0m \u001b[31m5.9 MB/s\u001b[0m eta \u001b[36m0:00:00\u001b[0m\n",
            "\u001b[?25hRequirement already satisfied: PyYAML>=3.13 in /usr/local/lib/python3.10/dist-packages (from openstacksdk->python-chi==0.0.1.dev253) (6.0.1)\n",
            "Requirement already satisfied: appdirs>=1.3.0 in /usr/local/lib/python3.10/dist-packages (from openstacksdk->python-chi==0.0.1.dev253) (1.4.4)\n",
            "Collecting dogpile.cache>=0.6.5 (from openstacksdk->python-chi==0.0.1.dev253)\n",
            "  Downloading dogpile.cache-1.2.2-py3-none-any.whl (52 kB)\n",
            "\u001b[2K     \u001b[90m━━━━━━━━━━━━━━━━━━━━━━━━━━━━━━━━━━━━━━━━\u001b[0m \u001b[32m52.2/52.2 kB\u001b[0m \u001b[31m6.4 MB/s\u001b[0m eta \u001b[36m0:00:00\u001b[0m\n",
            "\u001b[?25hCollecting jmespath>=0.9.0 (from openstacksdk->python-chi==0.0.1.dev253)\n",
            "  Downloading jmespath-1.0.1-py3-none-any.whl (20 kB)\n",
            "Collecting jsonpatch!=1.20,>=1.16 (from openstacksdk->python-chi==0.0.1.dev253)\n",
            "  Downloading jsonpatch-1.33-py2.py3-none-any.whl (12 kB)\n",
            "Collecting netifaces>=0.10.4 (from openstacksdk->python-chi==0.0.1.dev253)\n",
            "  Downloading netifaces-0.11.0.tar.gz (30 kB)\n",
            "  Preparing metadata (setup.py) ... \u001b[?25l\u001b[?25hdone\n",
            "Collecting requestsexceptions>=1.2.0 (from openstacksdk->python-chi==0.0.1.dev253)\n",
            "  Downloading requestsexceptions-1.4.0-py2.py3-none-any.whl (3.8 kB)\n",
            "Requirement already satisfied: PrettyTable>=0.7.1 in /usr/local/lib/python3.10/dist-packages (from python-blazarclient@ git+https://github.com/ChameleonCloud/python-blazarclient.git->python-chi==0.0.1.dev253) (0.7.2)\n",
            "Requirement already satisfied: Babel!=2.4.0,>=2.3.4 in /usr/local/lib/python3.10/dist-packages (from python-blazarclient@ git+https://github.com/ChameleonCloud/python-blazarclient.git->python-chi==0.0.1.dev253) (2.12.1)\n",
            "Collecting oslo.i18n>=3.15.3 (from python-blazarclient@ git+https://github.com/ChameleonCloud/python-blazarclient.git->python-chi==0.0.1.dev253)\n",
            "  Downloading oslo.i18n-6.0.0-py3-none-any.whl (46 kB)\n",
            "\u001b[2K     \u001b[90m━━━━━━━━━━━━━━━━━━━━━━━━━━━━━━━━━━━━━━━━\u001b[0m \u001b[32m46.1/46.1 kB\u001b[0m \u001b[31m5.7 MB/s\u001b[0m eta \u001b[36m0:00:00\u001b[0m\n",
            "\u001b[?25hCollecting oslo.log>=3.36.0 (from python-blazarclient@ git+https://github.com/ChameleonCloud/python-blazarclient.git->python-chi==0.0.1.dev253)\n",
            "  Downloading oslo.log-5.2.0-py3-none-any.whl (71 kB)\n",
            "\u001b[2K     \u001b[90m━━━━━━━━━━━━━━━━━━━━━━━━━━━━━━━━━━━━━━━━\u001b[0m \u001b[32m72.0/72.0 kB\u001b[0m \u001b[31m7.6 MB/s\u001b[0m eta \u001b[36m0:00:00\u001b[0m\n",
            "\u001b[?25hCollecting oslo.utils>=3.33.0 (from python-blazarclient@ git+https://github.com/ChameleonCloud/python-blazarclient.git->python-chi==0.0.1.dev253)\n",
            "  Downloading oslo.utils-6.2.0-py3-none-any.whl (101 kB)\n",
            "\u001b[2K     \u001b[90m━━━━━━━━━━━━━━━━━━━━━━━━━━━━━━━━━━━━━━\u001b[0m \u001b[32m101.1/101.1 kB\u001b[0m \u001b[31m13.2 MB/s\u001b[0m eta \u001b[36m0:00:00\u001b[0m\n",
            "\u001b[?25hCollecting osc-lib>=1.3.0 (from python-blazarclient@ git+https://github.com/ChameleonCloud/python-blazarclient.git->python-chi==0.0.1.dev253)\n",
            "  Downloading osc_lib-2.8.0-py3-none-any.whl (89 kB)\n",
            "\u001b[2K     \u001b[90m━━━━━━━━━━━━━━━━━━━━━━━━━━━━━━━━━━━━━━━━\u001b[0m \u001b[32m89.2/89.2 kB\u001b[0m \u001b[31m10.0 MB/s\u001b[0m eta \u001b[36m0:00:00\u001b[0m\n",
            "\u001b[?25hCollecting pyOpenSSL>=17.1.0 (from python-glanceclient->python-chi==0.0.1.dev253)\n",
            "  Downloading pyOpenSSL-23.2.0-py3-none-any.whl (59 kB)\n",
            "\u001b[2K     \u001b[90m━━━━━━━━━━━━━━━━━━━━━━━━━━━━━━━━━━━━━━━━\u001b[0m \u001b[32m59.0/59.0 kB\u001b[0m \u001b[31m7.7 MB/s\u001b[0m eta \u001b[36m0:00:00\u001b[0m\n",
            "\u001b[?25hCollecting warlock>=1.2.0 (from python-glanceclient->python-chi==0.0.1.dev253)\n",
            "  Downloading warlock-2.0.1-py3-none-any.whl (9.8 kB)\n",
            "Requirement already satisfied: wrapt>=1.7.0 in /usr/local/lib/python3.10/dist-packages (from python-glanceclient->python-chi==0.0.1.dev253) (1.14.1)\n",
            "Requirement already satisfied: jsonschema>=3.2.0 in /usr/local/lib/python3.10/dist-packages (from python-ironicclient->python-chi==0.0.1.dev253) (4.3.3)\n",
            "Collecting oslo.config>=5.2.0 (from python-manilaclient->python-chi==0.0.1.dev253)\n",
            "  Downloading oslo.config-9.1.1-py3-none-any.whl (128 kB)\n",
            "\u001b[2K     \u001b[90m━━━━━━━━━━━━━━━━━━━━━━━━━━━━━━━━━━━━━━\u001b[0m \u001b[32m128.4/128.4 kB\u001b[0m \u001b[31m14.5 MB/s\u001b[0m eta \u001b[36m0:00:00\u001b[0m\n",
            "\u001b[?25hCollecting oslo.serialization!=2.19.1,>=2.18.0 (from python-manilaclient->python-chi==0.0.1.dev253)\n",
            "  Downloading oslo.serialization-5.1.1-py3-none-any.whl (25 kB)\n",
            "Collecting python-keystoneclient>=3.8.0 (from python-manilaclient->python-chi==0.0.1.dev253)\n",
            "  Downloading python_keystoneclient-5.1.0-py3-none-any.whl (398 kB)\n",
            "\u001b[2K     \u001b[90m━━━━━━━━━━━━━━━━━━━━━━━━━━━━━━━━━━━━━━\u001b[0m \u001b[32m398.6/398.6 kB\u001b[0m \u001b[31m40.4 MB/s\u001b[0m eta \u001b[36m0:00:00\u001b[0m\n",
            "\u001b[?25hCollecting simplejson>=3.5.1 (from python-manilaclient->python-chi==0.0.1.dev253)\n",
            "  Downloading simplejson-3.19.1-cp310-cp310-manylinux_2_5_x86_64.manylinux1_x86_64.manylinux_2_17_x86_64.manylinux2014_x86_64.whl (137 kB)\n",
            "\u001b[2K     \u001b[90m━━━━━━━━━━━━━━━━━━━━━━━━━━━━━━━━━━━━━━\u001b[0m \u001b[32m137.9/137.9 kB\u001b[0m \u001b[31m16.5 MB/s\u001b[0m eta \u001b[36m0:00:00\u001b[0m\n",
            "\u001b[?25hCollecting netaddr>=0.7.18 (from python-neutronclient->python-chi==0.0.1.dev253)\n",
            "  Downloading netaddr-0.8.0-py2.py3-none-any.whl (1.9 MB)\n",
            "\u001b[2K     \u001b[90m━━━━━━━━━━━━━━━━━━━━━━━━━━━━━━━━━━━━━━━━\u001b[0m \u001b[32m1.9/1.9 MB\u001b[0m \u001b[31m70.9 MB/s\u001b[0m eta \u001b[36m0:00:00\u001b[0m\n",
            "\u001b[?25hCollecting os-client-config>=1.28.0 (from python-neutronclient->python-chi==0.0.1.dev253)\n",
            "  Downloading os_client_config-2.1.0-py3-none-any.whl (31 kB)\n",
            "Collecting docker>=2.4.2 (from python-zunclient->python-chi==0.0.1.dev253)\n",
            "  Downloading docker-6.1.3-py3-none-any.whl (148 kB)\n",
            "\u001b[2K     \u001b[90m━━━━━━━━━━━━━━━━━━━━━━━━━━━━━━━━━━━━━━\u001b[0m \u001b[32m148.1/148.1 kB\u001b[0m \u001b[31m18.9 MB/s\u001b[0m eta \u001b[36m0:00:00\u001b[0m\n",
            "\u001b[?25hCollecting python-openstackclient>=3.12.0 (from python-zunclient->python-chi==0.0.1.dev253)\n",
            "  Downloading python_openstackclient-6.2.0-py3-none-any.whl (1.1 MB)\n",
            "\u001b[2K     \u001b[90m━━━━━━━━━━━━━━━━━━━━━━━━━━━━━━━━━━━━━━━━\u001b[0m \u001b[32m1.1/1.1 MB\u001b[0m \u001b[31m61.9 MB/s\u001b[0m eta \u001b[36m0:00:00\u001b[0m\n",
            "\u001b[?25hRequirement already satisfied: websocket-client>=0.44.0 in /usr/local/lib/python3.10/dist-packages (from python-zunclient->python-chi==0.0.1.dev253) (1.6.1)\n",
            "Collecting autopage>=0.4.0 (from cliff>=2.10->gnocchiclient->python-chi==0.0.1.dev253)\n",
            "  Downloading autopage-0.5.1-py3-none-any.whl (29 kB)\n",
            "Collecting cmd2>=1.0.0 (from cliff>=2.10->gnocchiclient->python-chi==0.0.1.dev253)\n",
            "  Downloading cmd2-2.4.3-py3-none-any.whl (147 kB)\n",
            "\u001b[2K     \u001b[90m━━━━━━━━━━━━━━━━━━━━━━━━━━━━━━━━━━━━━━\u001b[0m \u001b[32m147.2/147.2 kB\u001b[0m \u001b[31m17.0 MB/s\u001b[0m eta \u001b[36m0:00:00\u001b[0m\n",
            "\u001b[?25hRequirement already satisfied: importlib-metadata>=4.4 in /usr/lib/python3/dist-packages (from cliff>=2.10->gnocchiclient->python-chi==0.0.1.dev253) (4.6.4)\n",
            "Requirement already satisfied: packaging>=14.0 in /usr/local/lib/python3.10/dist-packages (from docker>=2.4.2->python-zunclient->python-chi==0.0.1.dev253) (23.1)\n",
            "Requirement already satisfied: urllib3>=1.26.0 in /usr/local/lib/python3.10/dist-packages (from docker>=2.4.2->python-zunclient->python-chi==0.0.1.dev253) (1.26.16)\n",
            "Requirement already satisfied: typing-extensions>=4.0.1 in /usr/local/lib/python3.10/dist-packages (from dogpile.cache>=0.6.5->openstacksdk->python-chi==0.0.1.dev253) (4.7.1)\n",
            "Collecting jsonpointer>=1.9 (from jsonpatch!=1.20,>=1.16->openstacksdk->python-chi==0.0.1.dev253)\n",
            "  Downloading jsonpointer-2.4-py2.py3-none-any.whl (7.8 kB)\n",
            "Requirement already satisfied: attrs>=17.4.0 in /usr/local/lib/python3.10/dist-packages (from jsonschema>=3.2.0->python-ironicclient->python-chi==0.0.1.dev253) (23.1.0)\n",
            "Requirement already satisfied: pyrsistent!=0.17.0,!=0.17.1,!=0.17.2,>=0.14.0 in /usr/local/lib/python3.10/dist-packages (from jsonschema>=3.2.0->python-ironicclient->python-chi==0.0.1.dev253) (0.19.3)\n",
            "Collecting rfc3986>=1.2.0 (from oslo.config>=5.2.0->python-manilaclient->python-chi==0.0.1.dev253)\n",
            "  Downloading rfc3986-2.0.0-py2.py3-none-any.whl (31 kB)\n",
            "Collecting oslo.context>=2.21.0 (from oslo.log>=3.36.0->python-blazarclient@ git+https://github.com/ChameleonCloud/python-blazarclient.git->python-chi==0.0.1.dev253)\n",
            "  Downloading oslo.context-5.1.1-py3-none-any.whl (20 kB)\n",
            "Collecting pyinotify>=0.9.6 (from oslo.log>=3.36.0->python-blazarclient@ git+https://github.com/ChameleonCloud/python-blazarclient.git->python-chi==0.0.1.dev253)\n",
            "  Downloading pyinotify-0.9.6.tar.gz (60 kB)\n",
            "\u001b[2K     \u001b[90m━━━━━━━━━━━━━━━━━━━━━━━━━━━━━━━━━━━━━━━━\u001b[0m \u001b[32m61.0/61.0 kB\u001b[0m \u001b[31m7.3 MB/s\u001b[0m eta \u001b[36m0:00:00\u001b[0m\n",
            "\u001b[?25h  Preparing metadata (setup.py) ... \u001b[?25l\u001b[?25hdone\n",
            "Requirement already satisfied: msgpack>=0.5.2 in /usr/local/lib/python3.10/dist-packages (from oslo.serialization!=2.19.1,>=2.18.0->python-manilaclient->python-chi==0.0.1.dev253) (1.0.5)\n",
            "Requirement already satisfied: pytz>=2013.6 in /usr/local/lib/python3.10/dist-packages (from oslo.serialization!=2.19.1,>=2.18.0->python-manilaclient->python-chi==0.0.1.dev253) (2022.7.1)\n",
            "Requirement already satisfied: pyparsing>=2.1.0 in /usr/local/lib/python3.10/dist-packages (from oslo.utils>=3.33.0->python-blazarclient@ git+https://github.com/ChameleonCloud/python-blazarclient.git->python-chi==0.0.1.dev253) (3.1.0)\n",
            "Collecting tzdata>=2022.4 (from oslo.utils>=3.33.0->python-blazarclient@ git+https://github.com/ChameleonCloud/python-blazarclient.git->python-chi==0.0.1.dev253)\n",
            "  Downloading tzdata-2023.3-py2.py3-none-any.whl (341 kB)\n",
            "\u001b[2K     \u001b[90m━━━━━━━━━━━━━━━━━━━━━━━━━━━━━━━━━━━━━━\u001b[0m \u001b[32m341.8/341.8 kB\u001b[0m \u001b[31m36.3 MB/s\u001b[0m eta \u001b[36m0:00:00\u001b[0m\n",
            "\u001b[?25hRequirement already satisfied: cffi>=1.4.1 in /usr/local/lib/python3.10/dist-packages (from pynacl>=1.5->paramiko->python-chi==0.0.1.dev253) (1.15.1)\n",
            "Collecting cryptography>=3.3 (from paramiko->python-chi==0.0.1.dev253)\n",
            "  Downloading cryptography-41.0.2-cp37-abi3-manylinux_2_28_x86_64.whl (4.3 MB)\n",
            "\u001b[2K     \u001b[90m━━━━━━━━━━━━━━━━━━━━━━━━━━━━━━━━━━━━━━━━\u001b[0m \u001b[32m4.3/4.3 MB\u001b[0m \u001b[31m77.2 MB/s\u001b[0m eta \u001b[36m0:00:00\u001b[0m\n",
            "\u001b[?25hRequirement already satisfied: certifi>=2017.4.17 in /usr/local/lib/python3.10/dist-packages (from requests>=2.14.2->keystoneauth1->python-chi==0.0.1.dev253) (2023.7.22)\n",
            "Requirement already satisfied: charset-normalizer~=2.0.0 in /usr/local/lib/python3.10/dist-packages (from requests>=2.14.2->keystoneauth1->python-chi==0.0.1.dev253) (2.0.12)\n",
            "Requirement already satisfied: idna<4,>=2.5 in /usr/local/lib/python3.10/dist-packages (from requests>=2.14.2->keystoneauth1->python-chi==0.0.1.dev253) (3.4)\n",
            "Requirement already satisfied: pycparser in /usr/local/lib/python3.10/dist-packages (from cffi>=1.4.1->pynacl>=1.5->paramiko->python-chi==0.0.1.dev253) (2.21)\n",
            "Collecting pyperclip>=1.6 (from cmd2>=1.0.0->cliff>=2.10->gnocchiclient->python-chi==0.0.1.dev253)\n",
            "  Downloading pyperclip-1.8.2.tar.gz (20 kB)\n",
            "  Preparing metadata (setup.py) ... \u001b[?25l\u001b[?25hdone\n",
            "Requirement already satisfied: wcwidth>=0.1.7 in /usr/local/lib/python3.10/dist-packages (from cmd2>=1.0.0->cliff>=2.10->gnocchiclient->python-chi==0.0.1.dev253) (0.2.6)\n",
            "Building wheels for collected packages: python-chi, python-blazarclient, netifaces, pyinotify, pyperclip\n",
            "  Building wheel for python-chi (setup.py) ... \u001b[?25l\u001b[?25hdone\n",
            "  Created wheel for python-chi: filename=python_chi-0.0.1.dev253-py3-none-any.whl size=43736 sha256=36620699c82973cdf9996838dc51ee534f05cf2ff26936eccead196a985d783b\n",
            "  Stored in directory: /tmp/pip-ephem-wheel-cache-h1poz53c/wheels/01/9f/0f/7b7d4ed2700776ace53c41057faf8d50a33c3e98eaad75308f\n",
            "  Building wheel for python-blazarclient (setup.py) ... \u001b[?25l\u001b[?25hdone\n",
            "  Created wheel for python-blazarclient: filename=python_blazarclient-3.3.0.dev45-py3-none-any.whl size=57234 sha256=8534a36f5b7e790625c9f99881de4142fec3a060d894c88ba24863ac3f4b056c\n",
            "  Stored in directory: /tmp/pip-ephem-wheel-cache-h1poz53c/wheels/7d/b6/1b/d900de1b90b29554a36d57b961fe12a4260447782ac51ba56d\n",
            "  Building wheel for netifaces (setup.py) ... \u001b[?25l\u001b[?25hdone\n",
            "  Created wheel for netifaces: filename=netifaces-0.11.0-cp310-cp310-linux_x86_64.whl size=34994 sha256=cb24ee881b125a3fa1e7093bef4f6a1c25ba32c0f1f639f828af387e559203ab\n",
            "  Stored in directory: /root/.cache/pip/wheels/48/65/b3/4c4cc6038b81ff21cc9df69f2b6774f5f52e23d3c275ed15aa\n",
            "  Building wheel for pyinotify (setup.py) ... \u001b[?25l\u001b[?25hdone\n",
            "  Created wheel for pyinotify: filename=pyinotify-0.9.6-py3-none-any.whl size=25340 sha256=ba6e7878d25ccc7f43457ffc18a3d8293db153ecd9871f888b765afc206cc7d4\n",
            "  Stored in directory: /root/.cache/pip/wheels/c8/e6/94/d10115432935b5daf653cc1341686f2b6b033d9341d4d32911\n",
            "  Building wheel for pyperclip (setup.py) ... \u001b[?25l\u001b[?25hdone\n",
            "  Created wheel for pyperclip: filename=pyperclip-1.8.2-py3-none-any.whl size=11123 sha256=c2f816b1f8ef23faea9561cf72bb78d8b1fb3d2d01df33e20ae9490a7905130f\n",
            "  Stored in directory: /root/.cache/pip/wheels/04/24/fe/140a94a7f1036003ede94579e6b4227fe96c840c6f4dcbe307\n",
            "Successfully built python-chi python-blazarclient netifaces pyinotify pyperclip\n",
            "Installing collected packages: requestsexceptions, pyperclip, pyinotify, netifaces, netaddr, ujson, tzdata, simplejson, rfc3986, pbr, loguru, jsonpointer, jmespath, iso8601, invoke, futurist, decorator, debtcollector, cmd2, bcrypt, autopage, stevedore, pynacl, oslo.i18n, oslo.context, os-service-types, jsonpatch, docker, cryptography, warlock, pyOpenSSL, paramiko, oslo.utils, oslo.config, keystoneauth1, dogpile.cache, cliff, python-glanceclient, python-cinderclient, oslo.serialization, openstacksdk, gnocchiclient, fabric, python-novaclient, python-keystoneclient, oslo.log, osc-lib, os-client-config, python-openstackclient, python-neutronclient, python-manilaclient, python-ironicclient, python-blazarclient, python-zunclient, python-chi\n",
            "  Attempting uninstall: decorator\n",
            "    Found existing installation: decorator 4.4.2\n",
            "    Uninstalling decorator-4.4.2:\n",
            "      Successfully uninstalled decorator-4.4.2\n",
            "  Attempting uninstall: cryptography\n",
            "    Found existing installation: cryptography 3.4.8\n",
            "    Uninstalling cryptography-3.4.8:\n",
            "      Successfully uninstalled cryptography-3.4.8\n",
            "Successfully installed autopage-0.5.1 bcrypt-4.0.1 cliff-4.3.0 cmd2-2.4.3 cryptography-41.0.2 debtcollector-2.5.0 decorator-5.1.1 docker-6.1.3 dogpile.cache-1.2.2 fabric-3.1.0 futurist-2.4.1 gnocchiclient-7.0.8 invoke-2.2.0 iso8601-2.0.0 jmespath-1.0.1 jsonpatch-1.33 jsonpointer-2.4 keystoneauth1-5.2.1 loguru-0.7.0 netaddr-0.8.0 netifaces-0.11.0 openstacksdk-1.3.1 os-client-config-2.1.0 os-service-types-1.7.0 osc-lib-2.8.0 oslo.config-9.1.1 oslo.context-5.1.1 oslo.i18n-6.0.0 oslo.log-5.2.0 oslo.serialization-5.1.1 oslo.utils-6.2.0 paramiko-3.3.1 pbr-5.11.1 pyOpenSSL-23.2.0 pyinotify-0.9.6 pynacl-1.5.0 pyperclip-1.8.2 python-blazarclient-3.3.0.dev45 python-chi-0.0.1.dev253 python-cinderclient-9.3.0 python-glanceclient-4.4.0 python-ironicclient-5.3.0 python-keystoneclient-5.1.0 python-manilaclient-4.5.0 python-neutronclient-11.0.0 python-novaclient-18.3.0 python-openstackclient-6.2.0 python-zunclient-4.6.0 requestsexceptions-1.4.0 rfc3986-2.0.0 simplejson-3.19.1 stevedore-5.1.0 tzdata-2023.3 ujson-5.8.0 warlock-2.0.1\n"
          ]
        },
        {
          "output_type": "display_data",
          "data": {
            "application/vnd.colab-display-data+json": {
              "pip_warning": {
                "packages": [
                  "decorator"
                ]
              }
            }
          },
          "metadata": {}
        }
      ]
    },
    {
      "cell_type": "markdown",
      "source": [
        "Import packages"
      ],
      "metadata": {
        "id": "VkDR3RsFpKSv"
      }
    },
    {
      "cell_type": "code",
      "execution_count": 2,
      "metadata": {
        "id": "gWqW34Pc7YJp"
      },
      "outputs": [],
      "source": [
        "import json\n",
        "from loguru import logger\n",
        "import chi.network, chi.container, chi.network\n",
        "from chi.expeca import reserve, list_reservations"
      ]
    },
    {
      "cell_type": "markdown",
      "source": [
        "In the next cell, we reserve the required equipment and resources to form an end to end experiment setup. We reserve EP5G network, one Advantech router and one worker to run the workloads."
      ],
      "metadata": {
        "id": "Rd4EsDjdqRFU"
      }
    },
    {
      "cell_type": "code",
      "source": [
        "# ep5g reservation\n",
        "reserve(\n",
        "    { \"type\":\"network\", \"name\": \"ep5g\", \"net_name\": \"ep5g-vip\", \"segment_id\": \"300\", \"duration\": { \"days\":7, \"hours\":0 } }\n",
        ")\n",
        "\n",
        "# advantech router reservation\n",
        "reserve(\n",
        "    { \"type\":\"network\", \"name\": \"adv-02\", \"net_name\": \"adv-02\", \"segment_id\": \"131\", \"duration\": { \"days\":7, \"hours\":0 } }\n",
        ")\n",
        "\n",
        "# worker reservation\n",
        "worker_lease = reserve(\n",
        "    { \"type\":\"device\", \"name\":\"worker-01\", \"duration\": { \"days\":7, \"hours\":0 } }\n",
        ")\n",
        "\n",
        "worker_reservation_id = worker_lease[\"reservations\"][0][\"id\"]\n",
        "\n",
        "leaseslist = list_reservations(brief=True)\n",
        "print(json.dumps(leaseslist,indent=4))"
      ],
      "metadata": {
        "colab": {
          "base_uri": "https://localhost:8080/",
          "height": 863
        },
        "id": "1pauMnGZ8KSP",
        "outputId": "827c7b46-1acd-4a5b-9a9e-aa8fec1466f3"
      },
      "execution_count": 4,
      "outputs": [
        {
          "output_type": "stream",
          "name": "stderr",
          "text": [
            "\u001b[32m2023-07-31 18:19:39.653\u001b[0m | \u001b[1mINFO    \u001b[0m | \u001b[36mchi.expeca\u001b[0m:\u001b[36mreserve\u001b[0m:\u001b[36m128\u001b[0m - \u001b[1mreserving ep5g\u001b[0m\n",
            "\u001b[32m2023-07-31 18:19:43.732\u001b[0m | \u001b[1mINFO    \u001b[0m | \u001b[36mchi.expeca\u001b[0m:\u001b[36mwait_until_lease_status\u001b[0m:\u001b[36m34\u001b[0m - \u001b[1mwaiting 120 seconds for ep5g-lease with id dcb5e671-07b0-4975-9d2b-e708173e0e81 to become \"ACTIVE\"\u001b[0m\n",
            "\u001b[32m2023-07-31 18:19:48.909\u001b[0m | \u001b[1mINFO    \u001b[0m | \u001b[36mchi.expeca\u001b[0m:\u001b[36mwait_until_lease_status\u001b[0m:\u001b[36m41\u001b[0m - \u001b[1mlease ep5g-lease with id dcb5e671-07b0-4975-9d2b-e708173e0e81 is PENDING.\u001b[0m\n",
            "\u001b[32m2023-07-31 18:19:54.062\u001b[0m | \u001b[1mINFO    \u001b[0m | \u001b[36mchi.expeca\u001b[0m:\u001b[36mwait_until_lease_status\u001b[0m:\u001b[36m41\u001b[0m - \u001b[1mlease ep5g-lease with id dcb5e671-07b0-4975-9d2b-e708173e0e81 is PENDING.\u001b[0m\n",
            "\u001b[32m2023-07-31 18:19:59.221\u001b[0m | \u001b[1mINFO    \u001b[0m | \u001b[36mchi.expeca\u001b[0m:\u001b[36mwait_until_lease_status\u001b[0m:\u001b[36m41\u001b[0m - \u001b[1mlease ep5g-lease with id dcb5e671-07b0-4975-9d2b-e708173e0e81 is PENDING.\u001b[0m\n",
            "\u001b[32m2023-07-31 18:20:04.384\u001b[0m | \u001b[1mINFO    \u001b[0m | \u001b[36mchi.expeca\u001b[0m:\u001b[36mwait_until_lease_status\u001b[0m:\u001b[36m41\u001b[0m - \u001b[1mlease ep5g-lease with id dcb5e671-07b0-4975-9d2b-e708173e0e81 is PENDING.\u001b[0m\n",
            "\u001b[32m2023-07-31 18:20:09.548\u001b[0m | \u001b[1mINFO    \u001b[0m | \u001b[36mchi.expeca\u001b[0m:\u001b[36mwait_until_lease_status\u001b[0m:\u001b[36m41\u001b[0m - \u001b[1mlease ep5g-lease with id dcb5e671-07b0-4975-9d2b-e708173e0e81 is STARTING.\u001b[0m\n",
            "\u001b[32m2023-07-31 18:20:14.706\u001b[0m | \u001b[1mINFO    \u001b[0m | \u001b[36mchi.expeca\u001b[0m:\u001b[36mwait_until_lease_status\u001b[0m:\u001b[36m41\u001b[0m - \u001b[1mlease ep5g-lease with id dcb5e671-07b0-4975-9d2b-e708173e0e81 is STARTING.\u001b[0m\n",
            "\u001b[32m2023-07-31 18:20:19.874\u001b[0m | \u001b[1mINFO    \u001b[0m | \u001b[36mchi.expeca\u001b[0m:\u001b[36mwait_until_lease_status\u001b[0m:\u001b[36m41\u001b[0m - \u001b[1mlease ep5g-lease with id dcb5e671-07b0-4975-9d2b-e708173e0e81 is STARTING.\u001b[0m\n",
            "\u001b[32m2023-07-31 18:20:25.032\u001b[0m | \u001b[1mINFO    \u001b[0m | \u001b[36mchi.expeca\u001b[0m:\u001b[36mwait_until_lease_status\u001b[0m:\u001b[36m41\u001b[0m - \u001b[1mlease ep5g-lease with id dcb5e671-07b0-4975-9d2b-e708173e0e81 is STARTING.\u001b[0m\n",
            "\u001b[32m2023-07-31 18:20:30.198\u001b[0m | \u001b[1mINFO    \u001b[0m | \u001b[36mchi.expeca\u001b[0m:\u001b[36mwait_until_lease_status\u001b[0m:\u001b[36m41\u001b[0m - \u001b[1mlease ep5g-lease with id dcb5e671-07b0-4975-9d2b-e708173e0e81 is ACTIVE.\u001b[0m\n",
            "\u001b[32m2023-07-31 18:20:30.200\u001b[0m | \u001b[32m\u001b[1mSUCCESS \u001b[0m | \u001b[36mchi.expeca\u001b[0m:\u001b[36mtry_to_create_lease\u001b[0m:\u001b[36m170\u001b[0m - \u001b[32m\u001b[1mdone\u001b[0m\n",
            "\u001b[32m2023-07-31 18:20:30.202\u001b[0m | \u001b[1mINFO    \u001b[0m | \u001b[36mchi.expeca\u001b[0m:\u001b[36mreserve\u001b[0m:\u001b[36m128\u001b[0m - \u001b[1mreserving adv-02\u001b[0m\n",
            "\u001b[32m2023-07-31 18:20:32.648\u001b[0m | \u001b[1mINFO    \u001b[0m | \u001b[36mchi.expeca\u001b[0m:\u001b[36mwait_until_lease_status\u001b[0m:\u001b[36m34\u001b[0m - \u001b[1mwaiting 120 seconds for adv-02-lease with id ba570de3-a934-4cc8-af0a-f2c0d6107995 to become \"ACTIVE\"\u001b[0m\n",
            "\u001b[32m2023-07-31 18:20:37.809\u001b[0m | \u001b[1mINFO    \u001b[0m | \u001b[36mchi.expeca\u001b[0m:\u001b[36mwait_until_lease_status\u001b[0m:\u001b[36m41\u001b[0m - \u001b[1mlease adv-02-lease with id ba570de3-a934-4cc8-af0a-f2c0d6107995 is PENDING.\u001b[0m\n",
            "\u001b[32m2023-07-31 18:20:42.974\u001b[0m | \u001b[1mINFO    \u001b[0m | \u001b[36mchi.expeca\u001b[0m:\u001b[36mwait_until_lease_status\u001b[0m:\u001b[36m41\u001b[0m - \u001b[1mlease adv-02-lease with id ba570de3-a934-4cc8-af0a-f2c0d6107995 is PENDING.\u001b[0m\n",
            "\u001b[32m2023-07-31 18:20:48.145\u001b[0m | \u001b[1mINFO    \u001b[0m | \u001b[36mchi.expeca\u001b[0m:\u001b[36mwait_until_lease_status\u001b[0m:\u001b[36m41\u001b[0m - \u001b[1mlease adv-02-lease with id ba570de3-a934-4cc8-af0a-f2c0d6107995 is PENDING.\u001b[0m\n",
            "\u001b[32m2023-07-31 18:20:53.302\u001b[0m | \u001b[1mINFO    \u001b[0m | \u001b[36mchi.expeca\u001b[0m:\u001b[36mwait_until_lease_status\u001b[0m:\u001b[36m41\u001b[0m - \u001b[1mlease adv-02-lease with id ba570de3-a934-4cc8-af0a-f2c0d6107995 is PENDING.\u001b[0m\n",
            "\u001b[32m2023-07-31 18:20:58.461\u001b[0m | \u001b[1mINFO    \u001b[0m | \u001b[36mchi.expeca\u001b[0m:\u001b[36mwait_until_lease_status\u001b[0m:\u001b[36m41\u001b[0m - \u001b[1mlease adv-02-lease with id ba570de3-a934-4cc8-af0a-f2c0d6107995 is PENDING.\u001b[0m\n",
            "\u001b[32m2023-07-31 18:21:03.629\u001b[0m | \u001b[1mINFO    \u001b[0m | \u001b[36mchi.expeca\u001b[0m:\u001b[36mwait_until_lease_status\u001b[0m:\u001b[36m41\u001b[0m - \u001b[1mlease adv-02-lease with id ba570de3-a934-4cc8-af0a-f2c0d6107995 is PENDING.\u001b[0m\n",
            "\u001b[32m2023-07-31 18:21:08.902\u001b[0m | \u001b[1mINFO    \u001b[0m | \u001b[36mchi.expeca\u001b[0m:\u001b[36mwait_until_lease_status\u001b[0m:\u001b[36m41\u001b[0m - \u001b[1mlease adv-02-lease with id ba570de3-a934-4cc8-af0a-f2c0d6107995 is STARTING.\u001b[0m\n",
            "\u001b[32m2023-07-31 18:21:14.069\u001b[0m | \u001b[1mINFO    \u001b[0m | \u001b[36mchi.expeca\u001b[0m:\u001b[36mwait_until_lease_status\u001b[0m:\u001b[36m41\u001b[0m - \u001b[1mlease adv-02-lease with id ba570de3-a934-4cc8-af0a-f2c0d6107995 is STARTING.\u001b[0m\n",
            "\u001b[32m2023-07-31 18:21:19.237\u001b[0m | \u001b[1mINFO    \u001b[0m | \u001b[36mchi.expeca\u001b[0m:\u001b[36mwait_until_lease_status\u001b[0m:\u001b[36m41\u001b[0m - \u001b[1mlease adv-02-lease with id ba570de3-a934-4cc8-af0a-f2c0d6107995 is STARTING.\u001b[0m\n",
            "\u001b[32m2023-07-31 18:21:24.405\u001b[0m | \u001b[1mINFO    \u001b[0m | \u001b[36mchi.expeca\u001b[0m:\u001b[36mwait_until_lease_status\u001b[0m:\u001b[36m41\u001b[0m - \u001b[1mlease adv-02-lease with id ba570de3-a934-4cc8-af0a-f2c0d6107995 is ACTIVE.\u001b[0m\n",
            "\u001b[32m2023-07-31 18:21:24.406\u001b[0m | \u001b[32m\u001b[1mSUCCESS \u001b[0m | \u001b[36mchi.expeca\u001b[0m:\u001b[36mtry_to_create_lease\u001b[0m:\u001b[36m170\u001b[0m - \u001b[32m\u001b[1mdone\u001b[0m\n",
            "\u001b[32m2023-07-31 18:21:24.408\u001b[0m | \u001b[1mINFO    \u001b[0m | \u001b[36mchi.expeca\u001b[0m:\u001b[36mreserve\u001b[0m:\u001b[36m128\u001b[0m - \u001b[1mreserving worker-01\u001b[0m\n",
            "\u001b[32m2023-07-31 18:21:26.761\u001b[0m | \u001b[1mINFO    \u001b[0m | \u001b[36mchi.expeca\u001b[0m:\u001b[36mwait_until_lease_status\u001b[0m:\u001b[36m34\u001b[0m - \u001b[1mwaiting 120 seconds for worker-01-lease with id 4208cad2-cfd8-49bc-96a8-17e7c438febd to become \"ACTIVE\"\u001b[0m\n",
            "\u001b[32m2023-07-31 18:21:31.934\u001b[0m | \u001b[1mINFO    \u001b[0m | \u001b[36mchi.expeca\u001b[0m:\u001b[36mwait_until_lease_status\u001b[0m:\u001b[36m41\u001b[0m - \u001b[1mlease worker-01-lease with id 4208cad2-cfd8-49bc-96a8-17e7c438febd is PENDING.\u001b[0m\n",
            "\u001b[32m2023-07-31 18:21:37.106\u001b[0m | \u001b[1mINFO    \u001b[0m | \u001b[36mchi.expeca\u001b[0m:\u001b[36mwait_until_lease_status\u001b[0m:\u001b[36m41\u001b[0m - \u001b[1mlease worker-01-lease with id 4208cad2-cfd8-49bc-96a8-17e7c438febd is PENDING.\u001b[0m\n",
            "\u001b[32m2023-07-31 18:21:42.259\u001b[0m | \u001b[1mINFO    \u001b[0m | \u001b[36mchi.expeca\u001b[0m:\u001b[36mwait_until_lease_status\u001b[0m:\u001b[36m41\u001b[0m - \u001b[1mlease worker-01-lease with id 4208cad2-cfd8-49bc-96a8-17e7c438febd is PENDING.\u001b[0m\n",
            "\u001b[32m2023-07-31 18:21:47.434\u001b[0m | \u001b[1mINFO    \u001b[0m | \u001b[36mchi.expeca\u001b[0m:\u001b[36mwait_until_lease_status\u001b[0m:\u001b[36m41\u001b[0m - \u001b[1mlease worker-01-lease with id 4208cad2-cfd8-49bc-96a8-17e7c438febd is PENDING.\u001b[0m\n",
            "\u001b[32m2023-07-31 18:21:52.598\u001b[0m | \u001b[1mINFO    \u001b[0m | \u001b[36mchi.expeca\u001b[0m:\u001b[36mwait_until_lease_status\u001b[0m:\u001b[36m41\u001b[0m - \u001b[1mlease worker-01-lease with id 4208cad2-cfd8-49bc-96a8-17e7c438febd is PENDING.\u001b[0m\n",
            "\u001b[32m2023-07-31 18:21:57.772\u001b[0m | \u001b[1mINFO    \u001b[0m | \u001b[36mchi.expeca\u001b[0m:\u001b[36mwait_until_lease_status\u001b[0m:\u001b[36m41\u001b[0m - \u001b[1mlease worker-01-lease with id 4208cad2-cfd8-49bc-96a8-17e7c438febd is PENDING.\u001b[0m\n",
            "\u001b[32m2023-07-31 18:22:02.925\u001b[0m | \u001b[1mINFO    \u001b[0m | \u001b[36mchi.expeca\u001b[0m:\u001b[36mwait_until_lease_status\u001b[0m:\u001b[36m41\u001b[0m - \u001b[1mlease worker-01-lease with id 4208cad2-cfd8-49bc-96a8-17e7c438febd is ACTIVE.\u001b[0m\n",
            "\u001b[32m2023-07-31 18:22:02.927\u001b[0m | \u001b[32m\u001b[1mSUCCESS \u001b[0m | \u001b[36mchi.expeca\u001b[0m:\u001b[36mtry_to_create_lease\u001b[0m:\u001b[36m170\u001b[0m - \u001b[32m\u001b[1mdone\u001b[0m\n"
          ]
        },
        {
          "output_type": "error",
          "ename": "TypeError",
          "evalue": "ignored",
          "traceback": [
            "\u001b[0;31m---------------------------------------------------------------------------\u001b[0m",
            "\u001b[0;31mTypeError\u001b[0m                                 Traceback (most recent call last)",
            "\u001b[0;32m<ipython-input-4-b8495d0a5a9e>\u001b[0m in \u001b[0;36m<cell line: 16>\u001b[0;34m()\u001b[0m\n\u001b[1;32m     14\u001b[0m )\n\u001b[1;32m     15\u001b[0m \u001b[0;34m\u001b[0m\u001b[0m\n\u001b[0;32m---> 16\u001b[0;31m \u001b[0mworker_reservation_id\u001b[0m \u001b[0;34m=\u001b[0m \u001b[0mworker_lease\u001b[0m\u001b[0;34m[\u001b[0m\u001b[0;34m\"reservations\"\u001b[0m\u001b[0;34m]\u001b[0m\u001b[0;34m[\u001b[0m\u001b[0;34m\"0\"\u001b[0m\u001b[0;34m]\u001b[0m\u001b[0;34m[\u001b[0m\u001b[0;34m\"id\"\u001b[0m\u001b[0;34m]\u001b[0m\u001b[0;34m\u001b[0m\u001b[0;34m\u001b[0m\u001b[0m\n\u001b[0m\u001b[1;32m     17\u001b[0m \u001b[0;34m\u001b[0m\u001b[0m\n\u001b[1;32m     18\u001b[0m \u001b[0mleaseslist\u001b[0m \u001b[0;34m=\u001b[0m \u001b[0mlist_reservations\u001b[0m\u001b[0;34m(\u001b[0m\u001b[0mbrief\u001b[0m\u001b[0;34m=\u001b[0m\u001b[0;32mTrue\u001b[0m\u001b[0;34m)\u001b[0m\u001b[0;34m\u001b[0m\u001b[0;34m\u001b[0m\u001b[0m\n",
            "\u001b[0;31mTypeError\u001b[0m: list indices must be integers or slices, not str"
          ]
        }
      ]
    },
    {
      "cell_type": "markdown",
      "source": [
        "In the following section we setup the networking equipment for ep5g (refer to [here](https://kth-expeca.gitbook.io/testbedconfig/enroll/enroll-network-segments/ep5g) for more info).\n",
        "It contains creation of an edge-net, a router, and some interfaces on the router and routes."
      ],
      "metadata": {
        "id": "tNYpBeUgpn15"
      }
    },
    {
      "cell_type": "code",
      "source": [
        "# create edge-net\n",
        "edgenet = chi.network.create_network(\"edge-net\")\n",
        "chi.network.create_subnet(\"edge-net-subnet\",edgenet[\"id\"],\"10.70.70.0/24\",gateway_ip=\"10.70.70.1\",enable_dhcp=False)\n",
        "logger.success(\"edge-net is created.\")\n",
        "\n",
        "# create ep5g-vip-router\n",
        "router = chi.network.create_router(\"ep5g-vip-router\",\"public\")\n",
        "logger.success(\"ep5g-vip-router router is created.\")\n",
        "logger.info(f\"{json.dumps(router,indent=4)}\")\n",
        "\n",
        "# connect ep5g-vip-net to ep5g-vip-router\n",
        "ep5gnet = chi.network.get_network(\"ep5g-vip-net\")\n",
        "portadd = chi.network.add_subnet_to_router(router[\"id\"],ep5gnet[\"subnets\"][0])\n",
        "logger.success(\"An interface on ep5g-vip-net is added to the router\")\n",
        "\n",
        "# create edge-net to ep5g-vip-router\n",
        "edgenet = chi.network.get_network(\"edge-net\")\n",
        "portadd = chi.network.add_subnet_to_router(router[\"id\"],edgenet[\"subnets\"][0])\n",
        "logger.success(\"An interface on edge-net is added to the router\")\n",
        "\n",
        "# add ep5g route to ep5g-vip-router\n",
        "routeadd = chi.network.add_route_to_router(router[\"id\"],\"172.16.0.0/16\",\"10.30.111.10\")\n",
        "logger.success(\"the route added to the router\")"
      ],
      "metadata": {
        "colab": {
          "base_uri": "https://localhost:8080/"
        },
        "id": "QV7oHbSu7g5F",
        "outputId": "9c686943-08e8-4948-847b-407f0c71b703"
      },
      "execution_count": 6,
      "outputs": [
        {
          "output_type": "stream",
          "name": "stderr",
          "text": [
            "\u001b[32m2023-07-31 18:23:21.049\u001b[0m | \u001b[32m\u001b[1mSUCCESS \u001b[0m | \u001b[36m__main__\u001b[0m:\u001b[36m<cell line: 4>\u001b[0m:\u001b[36m4\u001b[0m - \u001b[32m\u001b[1medge-net is created.\u001b[0m\n"
          ]
        }
      ]
    },
    {
      "cell_type": "markdown",
      "source": [
        "Now the network is ready to run the workloads. We start by runming the edge-node perf-meas container."
      ],
      "metadata": {
        "id": "qlEedPyQpdZp"
      }
    },
    {
      "cell_type": "code",
      "source": [
        "edgenet = chi.network.get_network(\"edge-net\")\n",
        "chi.container.create_container(\n",
        "    name = \"edge-node\",\n",
        "    image = \"samiemostafavi/perf-meas\",\n",
        "    reservation_id = worker_reservation_id,\n",
        "    environment = {\"SERVER_DIR\":\"/mnt/volume/\"},\n",
        "    mounts = [\n",
        "        {'source': 'edge-volume', 'destination': '/mnt/volume/'}\n",
        "    ],\n",
        "    nets = [\n",
        "        { \"network\" : edgenet['id'] },\n",
        "    ],\n",
        "    labels = {\n",
        "        \"networks.1.interface\":\"eno12419\",\n",
        "        \"networks.1.ip\":\"10.70.70.3/24\",\n",
        "        \"networks.1.routes\":\"172.16.0.0/16-10.70.70.1\",\n",
        "    },\n",
        ")\n",
        "logger.success(\"created edge-node container.\")"
      ],
      "metadata": {
        "colab": {
          "base_uri": "https://localhost:8080/"
        },
        "id": "KNPWOgj97oDZ",
        "outputId": "c0c26ab1-f4c8-4e41-f782-d8b888dccf87"
      },
      "execution_count": 18,
      "outputs": [
        {
          "output_type": "stream",
          "name": "stderr",
          "text": [
            "\u001b[32m2023-07-31 20:03:48.506\u001b[0m | \u001b[32m\u001b[1mSUCCESS \u001b[0m | \u001b[36m__main__\u001b[0m:\u001b[36m<cell line: 20>\u001b[0m:\u001b[36m20\u001b[0m - \u001b[32m\u001b[1mcreated edge-node container.\u001b[0m\n"
          ]
        }
      ]
    },
    {
      "cell_type": "markdown",
      "source": [
        "Next, we run the end-node perf-meas container."
      ],
      "metadata": {
        "id": "0yXjoiAApZ9m"
      }
    },
    {
      "cell_type": "code",
      "source": [
        "advnet = chi.network.get_network(\"adv-02-net\")\n",
        "chi.container.create_container(\n",
        "    name = \"end-node\",\n",
        "    image = \"samiemostafavi/perf-meas\",\n",
        "    reservation_id = worker_reservation_id,\n",
        "    environment = {\"SERVER_DIR\":\"/tmp/\"},\n",
        "    nets = [\n",
        "        { \"network\" : advnet['id'] },\n",
        "    ],\n",
        "    labels = {\n",
        "        \"networks.1.interface\":\"eno12429\",\n",
        "        \"networks.1.ip\":\"10.42.3.2/24\",\n",
        "        \"networks.1.routes\":\"10.70.70.0/24-10.42.3.1\",\n",
        "    },\n",
        ")\n",
        "logger.success(\"created end-node container.\")"
      ],
      "metadata": {
        "colab": {
          "base_uri": "https://localhost:8080/"
        },
        "id": "SiwwlTuX8xUg",
        "outputId": "9df3e41e-b8f2-4937-c81f-b661b775a432"
      },
      "execution_count": 19,
      "outputs": [
        {
          "output_type": "stream",
          "name": "stderr",
          "text": [
            "\u001b[32m2023-07-31 20:04:17.864\u001b[0m | \u001b[32m\u001b[1mSUCCESS \u001b[0m | \u001b[36m__main__\u001b[0m:\u001b[36m<cell line: 17>\u001b[0m:\u001b[36m17\u001b[0m - \u001b[32m\u001b[1mcreated end-node container.\u001b[0m\n"
          ]
        }
      ]
    },
    {
      "cell_type": "markdown",
      "source": [
        "Run uplink bandwidth test"
      ],
      "metadata": {
        "id": "hg8GIvvApWgh"
      }
    },
    {
      "cell_type": "code",
      "source": [
        "command = \"iperf3 -c 10.70.70.3 -u -b 1G --get-server-output > /proc/1/fd/1 2>&1\"\n",
        "result = chi.container.execute(\n",
        "    container_ref=\"end-node\",\n",
        "    command=\"curl -s -X POST -H \\\"Content-Type: application/json\\\" -d '{\\\"cmd\\\": \\\"\" + command + \"\\\"}' http://localhost:50505/\",\n",
        ")\n",
        "logger.info(f\"{result}\")"
      ],
      "metadata": {
        "colab": {
          "base_uri": "https://localhost:8080/"
        },
        "id": "h1uyVgDuMvbY",
        "outputId": "9a5c779f-7943-4ad1-f808-f3d82236260f"
      },
      "execution_count": 13,
      "outputs": [
        {
          "output_type": "stream",
          "name": "stderr",
          "text": [
            "\u001b[32m2023-07-31 18:29:51.139\u001b[0m | \u001b[1mINFO    \u001b[0m | \u001b[36m__main__\u001b[0m:\u001b[36m<cell line: 7>\u001b[0m:\u001b[36m7\u001b[0m - \u001b[1m{'output': '', 'exit_code': None, 'exec_id': None, 'proxy_url': None}\u001b[0m\n"
          ]
        }
      ]
    },
    {
      "cell_type": "markdown",
      "source": [
        "Run downlink bandwidth test"
      ],
      "metadata": {
        "id": "ywyMFkB2pTOJ"
      }
    },
    {
      "cell_type": "code",
      "source": [
        "command = \"iperf3 -c 172.16.0.88 -u -b 1G --get-server-output > /proc/1/fd/1 2>&1\"\n",
        "result = chi.container.execute(\n",
        "    container_ref=\"edge-node\",\n",
        "    command=\"curl -s -X POST -H \\\"Content-Type: application/json\\\" -d '{\\\"cmd\\\": \\\"\" + command + \"\\\"}' http://localhost:50505/\",\n",
        ")\n",
        "logger.info(f\"{result}\")"
      ],
      "metadata": {
        "colab": {
          "base_uri": "https://localhost:8080/"
        },
        "id": "zGzjdiJakaat",
        "outputId": "0ce22e66-bc62-4d6e-9c88-87c04cb7cd2a"
      },
      "execution_count": 23,
      "outputs": [
        {
          "output_type": "stream",
          "name": "stderr",
          "text": [
            "\u001b[32m2023-07-31 20:11:43.401\u001b[0m | \u001b[1mINFO    \u001b[0m | \u001b[36m__main__\u001b[0m:\u001b[36m<cell line: 8>\u001b[0m:\u001b[36m8\u001b[0m - \u001b[1m{'output': 'Command received and started in the background.\\n', 'exit_code': 0, 'exec_id': None, 'proxy_url': None}\u001b[0m\n"
          ]
        }
      ]
    }
  ]
}