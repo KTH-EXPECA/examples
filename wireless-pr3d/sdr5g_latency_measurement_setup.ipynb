{
  "nbformat": 4,
  "nbformat_minor": 0,
  "metadata": {
    "colab": {
      "provenance": [],
      "authorship_tag": "ABX9TyOAdbSl3Eisj/c2tJB7zglU",
      "include_colab_link": true
    },
    "kernelspec": {
      "name": "python3",
      "display_name": "Python 3"
    },
    "language_info": {
      "name": "python"
    }
  },
  "cells": [
    {
      "cell_type": "markdown",
      "metadata": {
        "id": "view-in-github",
        "colab_type": "text"
      },
      "source": [
        "<a href=\"https://colab.research.google.com/github/KTH-EXPECA/examples/blob/main/wireless-pr3d/sdr5g_latency_measurement_setup.ipynb\" target=\"_parent\"><img src=\"https://colab.research.google.com/assets/colab-badge.svg\" alt=\"Open In Colab\"/></a>"
      ]
    },
    {
      "cell_type": "markdown",
      "source": [
        "Login to Chameleon and download openrc.sh file from [here](https://testbed.expeca.proj.kth.se/project/api_access/openrc/). Upload it here next to this notebook and continue.\n",
        "\n",
        "In the next cell, we setup the authentication method to be able to use Openstack clients."
      ],
      "metadata": {
        "id": "W9YICZf_mJBy"
      }
    },
    {
      "cell_type": "code",
      "source": [
        "import os, re\n",
        "from getpass import getpass\n",
        "\n",
        "with open('/content/sdr-test-project-openrc.sh', 'r') as f:\n",
        "    script_content = f.read()\n",
        "    pattern = r'export\\s+(\\w+)\\s*=\\s*(\"[^\"]+\"|[^\"\\n]+)'\n",
        "    matches = re.findall(pattern, script_content)\n",
        "\n",
        "    for name, value in matches:\n",
        "        os.environ[name] = value.strip('\"')\n",
        "\n",
        "password = getpass('enter your expeca password:')\n",
        "os.environ['OS_PASSWORD'] = password"
      ],
      "metadata": {
        "colab": {
          "base_uri": "https://localhost:8080/"
        },
        "id": "KLT-J26lJ5ae",
        "outputId": "a6c4e08d-0146-4b02-8d06-252238a232cf"
      },
      "execution_count": 1,
      "outputs": [
        {
          "name": "stdout",
          "output_type": "stream",
          "text": [
            "enter your expeca password:··········\n"
          ]
        }
      ]
    },
    {
      "cell_type": "markdown",
      "source": [
        "Install required packages and dependencies. Ignore the warnings."
      ],
      "metadata": {
        "id": "5bXlipy4m1bs"
      }
    },
    {
      "cell_type": "code",
      "source": [
        "!pip uninstall -q -y moviepy\n",
        "!pip install -q jedi\n",
        "!pip install -q git+https://github.com/KTH-EXPECA/python-chi"
      ],
      "metadata": {
        "colab": {
          "base_uri": "https://localhost:8080/"
        },
        "id": "3uZ_rN5iFlhp",
        "outputId": "7145bb01-7b43-46f2-d538-0c60d6884d6a"
      },
      "execution_count": 2,
      "outputs": [
        {
          "output_type": "stream",
          "name": "stdout",
          "text": [
            "\u001b[?25l     \u001b[90m━━━━━━━━━━━━━━━━━━━━━━━━━━━━━━━━━━━━━━━━\u001b[0m \u001b[32m0.0/1.6 MB\u001b[0m \u001b[31m?\u001b[0m eta \u001b[36m-:--:--\u001b[0m\r\u001b[2K     \u001b[91m━━\u001b[0m\u001b[90m╺\u001b[0m\u001b[90m━━━━━━━━━━━━━━━━━━━━━━━━━━━━━━━━━━━━━\u001b[0m \u001b[32m0.1/1.6 MB\u001b[0m \u001b[31m2.4 MB/s\u001b[0m eta \u001b[36m0:00:01\u001b[0m\r\u001b[2K     \u001b[91m━━━━━━━━━\u001b[0m\u001b[90m╺\u001b[0m\u001b[90m━━━━━━━━━━━━━━━━━━━━━━━━━━━━━━\u001b[0m \u001b[32m0.4/1.6 MB\u001b[0m \u001b[31m5.5 MB/s\u001b[0m eta \u001b[36m0:00:01\u001b[0m\r\u001b[2K     \u001b[91m━━━━━━━━━━━━━━━━━\u001b[0m\u001b[91m╸\u001b[0m\u001b[90m━━━━━━━━━━━━━━━━━━━━━━\u001b[0m \u001b[32m0.7/1.6 MB\u001b[0m \u001b[31m6.8 MB/s\u001b[0m eta \u001b[36m0:00:01\u001b[0m\r\u001b[2K     \u001b[91m━━━━━━━━━━━━━━━━━━━━━━━━━━\u001b[0m\u001b[91m╸\u001b[0m\u001b[90m━━━━━━━━━━━━━\u001b[0m \u001b[32m1.1/1.6 MB\u001b[0m \u001b[31m7.7 MB/s\u001b[0m eta \u001b[36m0:00:01\u001b[0m\r\u001b[2K     \u001b[91m━━━━━━━━━━━━━━━━━━━━━━━━━━━━━━━━━━━━━\u001b[0m\u001b[91m╸\u001b[0m\u001b[90m━━\u001b[0m \u001b[32m1.5/1.6 MB\u001b[0m \u001b[31m8.5 MB/s\u001b[0m eta \u001b[36m0:00:01\u001b[0m\r\u001b[2K     \u001b[90m━━━━━━━━━━━━━━━━━━━━━━━━━━━━━━━━━━━━━━━━\u001b[0m \u001b[32m1.6/1.6 MB\u001b[0m \u001b[31m8.1 MB/s\u001b[0m eta \u001b[36m0:00:00\u001b[0m\n",
            "\u001b[?25h  Preparing metadata (setup.py) ... \u001b[?25l\u001b[?25hdone\n",
            "  Preparing metadata (setup.py) ... \u001b[?25l\u001b[?25hdone\n",
            "\u001b[2K     \u001b[90m━━━━━━━━━━━━━━━━━━━━━━━━━━━━━━━━━━━━━━━━\u001b[0m \u001b[32m59.3/59.3 kB\u001b[0m \u001b[31m1.6 MB/s\u001b[0m eta \u001b[36m0:00:00\u001b[0m\n",
            "\u001b[2K     \u001b[90m━━━━━━━━━━━━━━━━━━━━━━━━━━━━━━━━━━━━━━━━\u001b[0m \u001b[32m66.5/66.5 kB\u001b[0m \u001b[31m3.6 MB/s\u001b[0m eta \u001b[36m0:00:00\u001b[0m\n",
            "\u001b[2K     \u001b[90m━━━━━━━━━━━━━━━━━━━━━━━━━━━━━━━━━━━━━━\u001b[0m \u001b[32m322.6/322.6 kB\u001b[0m \u001b[31m11.7 MB/s\u001b[0m eta \u001b[36m0:00:00\u001b[0m\n",
            "\u001b[2K     \u001b[90m━━━━━━━━━━━━━━━━━━━━━━━━━━━━━━━━━━━━━━━━\u001b[0m \u001b[32m1.7/1.7 MB\u001b[0m \u001b[31m38.8 MB/s\u001b[0m eta \u001b[36m0:00:00\u001b[0m\n",
            "\u001b[2K     \u001b[90m━━━━━━━━━━━━━━━━━━━━━━━━━━━━━━━━━━━━━━\u001b[0m \u001b[32m224.8/224.8 kB\u001b[0m \u001b[31m22.1 MB/s\u001b[0m eta \u001b[36m0:00:00\u001b[0m\n",
            "\u001b[2K     \u001b[90m━━━━━━━━━━━━━━━━━━━━━━━━━━━━━━━━━━━━━━━━\u001b[0m \u001b[32m60.0/60.0 kB\u001b[0m \u001b[31m7.3 MB/s\u001b[0m eta \u001b[36m0:00:00\u001b[0m\n",
            "\u001b[2K     \u001b[90m━━━━━━━━━━━━━━━━━━━━━━━━━━━━━━━━━━━━━━\u001b[0m \u001b[32m255.9/255.9 kB\u001b[0m \u001b[31m23.8 MB/s\u001b[0m eta \u001b[36m0:00:00\u001b[0m\n",
            "\u001b[2K     \u001b[90m━━━━━━━━━━━━━━━━━━━━━━━━━━━━━━━━━━━━━━\u001b[0m \u001b[32m205.4/205.4 kB\u001b[0m \u001b[31m20.9 MB/s\u001b[0m eta \u001b[36m0:00:00\u001b[0m\n",
            "\u001b[2K     \u001b[90m━━━━━━━━━━━━━━━━━━━━━━━━━━━━━━━━━━━━━━\u001b[0m \u001b[32m250.5/250.5 kB\u001b[0m \u001b[31m23.1 MB/s\u001b[0m eta \u001b[36m0:00:00\u001b[0m\n",
            "\u001b[2K     \u001b[90m━━━━━━━━━━━━━━━━━━━━━━━━━━━━━━━━━━━━━━\u001b[0m \u001b[32m487.7/487.7 kB\u001b[0m \u001b[31m42.0 MB/s\u001b[0m eta \u001b[36m0:00:00\u001b[0m\n",
            "\u001b[2K     \u001b[90m━━━━━━━━━━━━━━━━━━━━━━━━━━━━━━━━━━━━━━\u001b[0m \u001b[32m293.6/293.6 kB\u001b[0m \u001b[31m25.1 MB/s\u001b[0m eta \u001b[36m0:00:00\u001b[0m\n",
            "\u001b[2K     \u001b[90m━━━━━━━━━━━━━━━━━━━━━━━━━━━━━━━━━━━━━━\u001b[0m \u001b[32m335.9/335.9 kB\u001b[0m \u001b[31m31.2 MB/s\u001b[0m eta \u001b[36m0:00:00\u001b[0m\n",
            "\u001b[2K     \u001b[90m━━━━━━━━━━━━━━━━━━━━━━━━━━━━━━━━━━━━━━\u001b[0m \u001b[32m155.1/155.1 kB\u001b[0m \u001b[31m17.2 MB/s\u001b[0m eta \u001b[36m0:00:00\u001b[0m\n",
            "\u001b[2K     \u001b[90m━━━━━━━━━━━━━━━━━━━━━━━━━━━━━━━━━━━━━━\u001b[0m \u001b[32m160.3/160.3 kB\u001b[0m \u001b[31m17.3 MB/s\u001b[0m eta \u001b[36m0:00:00\u001b[0m\n",
            "\u001b[2K     \u001b[90m━━━━━━━━━━━━━━━━━━━━━━━━━━━━━━━━━━━━━━\u001b[0m \u001b[32m593.7/593.7 kB\u001b[0m \u001b[31m41.1 MB/s\u001b[0m eta \u001b[36m0:00:00\u001b[0m\n",
            "\u001b[2K     \u001b[90m━━━━━━━━━━━━━━━━━━━━━━━━━━━━━━━━━━━━━━\u001b[0m \u001b[32m856.7/856.7 kB\u001b[0m \u001b[31m61.9 MB/s\u001b[0m eta \u001b[36m0:00:00\u001b[0m\n",
            "\u001b[2K     \u001b[90m━━━━━━━━━━━━━━━━━━━━━━━━━━━━━━━━━━━━━━━━\u001b[0m \u001b[32m80.6/80.6 kB\u001b[0m \u001b[31m10.0 MB/s\u001b[0m eta \u001b[36m0:00:00\u001b[0m\n",
            "\u001b[2K     \u001b[90m━━━━━━━━━━━━━━━━━━━━━━━━━━━━━━━━━━━━━━━━\u001b[0m \u001b[32m53.9/53.9 kB\u001b[0m \u001b[31m6.6 MB/s\u001b[0m eta \u001b[36m0:00:00\u001b[0m\n",
            "\u001b[2K     \u001b[90m━━━━━━━━━━━━━━━━━━━━━━━━━━━━━━━━━━━━━━━━\u001b[0m \u001b[32m49.6/49.6 kB\u001b[0m \u001b[31m4.4 MB/s\u001b[0m eta \u001b[36m0:00:00\u001b[0m\n",
            "\u001b[2K     \u001b[90m━━━━━━━━━━━━━━━━━━━━━━━━━━━━━━━━━━━━━━━━\u001b[0m \u001b[32m52.2/52.2 kB\u001b[0m \u001b[31m5.2 MB/s\u001b[0m eta \u001b[36m0:00:00\u001b[0m\n",
            "\u001b[?25h  Preparing metadata (setup.py) ... \u001b[?25l\u001b[?25hdone\n",
            "\u001b[2K     \u001b[90m━━━━━━━━━━━━━━━━━━━━━━━━━━━━━━━━━━━━━━━━\u001b[0m \u001b[32m46.1/46.1 kB\u001b[0m \u001b[31m5.2 MB/s\u001b[0m eta \u001b[36m0:00:00\u001b[0m\n",
            "\u001b[2K     \u001b[90m━━━━━━━━━━━━━━━━━━━━━━━━━━━━━━━━━━━━━━━━\u001b[0m \u001b[32m72.0/72.0 kB\u001b[0m \u001b[31m8.5 MB/s\u001b[0m eta \u001b[36m0:00:00\u001b[0m\n",
            "\u001b[2K     \u001b[90m━━━━━━━━━━━━━━━━━━━━━━━━━━━━━━━━━━━━━━\u001b[0m \u001b[32m101.1/101.1 kB\u001b[0m \u001b[31m12.0 MB/s\u001b[0m eta \u001b[36m0:00:00\u001b[0m\n",
            "\u001b[2K     \u001b[90m━━━━━━━━━━━━━━━━━━━━━━━━━━━━━━━━━━━━━━━━\u001b[0m \u001b[32m89.2/89.2 kB\u001b[0m \u001b[31m10.6 MB/s\u001b[0m eta \u001b[36m0:00:00\u001b[0m\n",
            "\u001b[2K     \u001b[90m━━━━━━━━━━━━━━━━━━━━━━━━━━━━━━━━━━━━━━━━\u001b[0m \u001b[32m59.0/59.0 kB\u001b[0m \u001b[31m7.1 MB/s\u001b[0m eta \u001b[36m0:00:00\u001b[0m\n",
            "\u001b[2K     \u001b[90m━━━━━━━━━━━━━━━━━━━━━━━━━━━━━━━━━━━━━━\u001b[0m \u001b[32m128.4/128.4 kB\u001b[0m \u001b[31m14.8 MB/s\u001b[0m eta \u001b[36m0:00:00\u001b[0m\n",
            "\u001b[2K     \u001b[90m━━━━━━━━━━━━━━━━━━━━━━━━━━━━━━━━━━━━━━\u001b[0m \u001b[32m398.6/398.6 kB\u001b[0m \u001b[31m34.7 MB/s\u001b[0m eta \u001b[36m0:00:00\u001b[0m\n",
            "\u001b[2K     \u001b[90m━━━━━━━━━━━━━━━━━━━━━━━━━━━━━━━━━━━━━━\u001b[0m \u001b[32m137.9/137.9 kB\u001b[0m \u001b[31m14.9 MB/s\u001b[0m eta \u001b[36m0:00:00\u001b[0m\n",
            "\u001b[2K     \u001b[90m━━━━━━━━━━━━━━━━━━━━━━━━━━━━━━━━━━━━━━━━\u001b[0m \u001b[32m1.9/1.9 MB\u001b[0m \u001b[31m80.9 MB/s\u001b[0m eta \u001b[36m0:00:00\u001b[0m\n",
            "\u001b[2K     \u001b[90m━━━━━━━━━━━━━━━━━━━━━━━━━━━━━━━━━━━━━━\u001b[0m \u001b[32m148.1/148.1 kB\u001b[0m \u001b[31m17.3 MB/s\u001b[0m eta \u001b[36m0:00:00\u001b[0m\n",
            "\u001b[2K     \u001b[90m━━━━━━━━━━━━━━━━━━━━━━━━━━━━━━━━━━━━━━━━\u001b[0m \u001b[32m1.1/1.1 MB\u001b[0m \u001b[31m66.2 MB/s\u001b[0m eta \u001b[36m0:00:00\u001b[0m\n",
            "\u001b[2K     \u001b[90m━━━━━━━━━━━━━━━━━━━━━━━━━━━━━━━━━━━━━━\u001b[0m \u001b[32m147.2/147.2 kB\u001b[0m \u001b[31m17.1 MB/s\u001b[0m eta \u001b[36m0:00:00\u001b[0m\n",
            "\u001b[2K     \u001b[90m━━━━━━━━━━━━━━━━━━━━━━━━━━━━━━━━━━━━━━━━\u001b[0m \u001b[32m61.0/61.0 kB\u001b[0m \u001b[31m7.8 MB/s\u001b[0m eta \u001b[36m0:00:00\u001b[0m\n",
            "\u001b[?25h  Preparing metadata (setup.py) ... \u001b[?25l\u001b[?25hdone\n",
            "\u001b[2K     \u001b[90m━━━━━━━━━━━━━━━━━━━━━━━━━━━━━━━━━━━━━━\u001b[0m \u001b[32m341.8/341.8 kB\u001b[0m \u001b[31m32.2 MB/s\u001b[0m eta \u001b[36m0:00:00\u001b[0m\n",
            "\u001b[2K     \u001b[90m━━━━━━━━━━━━━━━━━━━━━━━━━━━━━━━━━━━━━━━━\u001b[0m \u001b[32m4.3/4.3 MB\u001b[0m \u001b[31m96.6 MB/s\u001b[0m eta \u001b[36m0:00:00\u001b[0m\n",
            "\u001b[?25h  Preparing metadata (setup.py) ... \u001b[?25l\u001b[?25hdone\n",
            "  Building wheel for python-chi (setup.py) ... \u001b[?25l\u001b[?25hdone\n",
            "  Building wheel for python-blazarclient (setup.py) ... \u001b[?25l\u001b[?25hdone\n",
            "  Building wheel for netifaces (setup.py) ... \u001b[?25l\u001b[?25hdone\n",
            "  Building wheel for pyinotify (setup.py) ... \u001b[?25l\u001b[?25hdone\n",
            "  Building wheel for pyperclip (setup.py) ... \u001b[?25l\u001b[?25hdone\n"
          ]
        }
      ]
    },
    {
      "cell_type": "markdown",
      "source": [
        "Import packages"
      ],
      "metadata": {
        "id": "VkDR3RsFpKSv"
      }
    },
    {
      "cell_type": "code",
      "execution_count": 3,
      "metadata": {
        "id": "gWqW34Pc7YJp"
      },
      "outputs": [],
      "source": [
        "import json, time\n",
        "from loguru import logger\n",
        "import chi.network, chi.container, chi.network\n",
        "from chi.expeca import reserve, list_reservations, unreserve_byid, get_container_status, wait_until_container_removed, show_reservation_byname, restart_sdr"
      ]
    },
    {
      "cell_type": "markdown",
      "source": [
        "In the next cell, we reserve the required equipment and resources to form an end to end sdr 5g setup. We reserve 2 SDRs and 3 workers."
      ],
      "metadata": {
        "id": "Rd4EsDjdqRFU"
      }
    },
    {
      "cell_type": "code",
      "source": [
        "# reserve sdr-02 SFP\n",
        "sdr02_lease = show_reservation_byname(\"sdr-02-lease\")\n",
        "if not sdr02_lease:\n",
        "    sdr02_lease = reserve(\n",
        "        { \"type\":\"network\", \"name\": \"sdr-02\", \"net_name\": \"sdr-02\", \"segment_id\": \"104\", \"duration\": { \"days\":7, \"hours\":0 } }\n",
        "    )\n",
        "\n",
        "# reserve sdr-03 SFP\n",
        "sdr03_lease = show_reservation_byname(\"sdr-03-lease\")\n",
        "if not sdr03_lease:\n",
        "    sdr03_lease = reserve(\n",
        "        { \"type\":\"network\", \"name\": \"sdr-03\", \"net_name\": \"sdr-03\", \"segment_id\": \"106\", \"duration\": { \"days\":7, \"hours\":0 } }\n",
        "    )\n",
        "\n",
        "# reserve sdr-08 SFP\n",
        "sdr08_lease = show_reservation_byname(\"sdr-08-lease\")\n",
        "if not sdr08_lease:\n",
        "    sdr08_lease = reserve(\n",
        "        { \"type\":\"network\", \"name\": \"sdr-08\", \"net_name\": \"sdr-08\", \"segment_id\": \"116\", \"duration\": { \"days\":7, \"hours\":0 } }\n",
        "    )\n",
        "\n",
        "# reserve worker-01\n",
        "worker01_lease = show_reservation_byname(\"worker-01-lease\")\n",
        "if not worker01_lease:\n",
        "    worker01_lease = reserve(\n",
        "        { \"type\":\"device\", \"name\":\"worker-01\", \"duration\": { \"days\":7, \"hours\":0 } }\n",
        "    )\n",
        "worker01_reservation_id = worker01_lease[\"reservations\"][0][\"id\"]\n",
        "\n",
        "# reserve worker-02\n",
        "worker02_lease = show_reservation_byname(\"worker-02-lease\")\n",
        "if not worker02_lease:\n",
        "    worker02_lease = reserve(\n",
        "        { \"type\":\"device\", \"name\":\"worker-02\", \"duration\": { \"days\":7, \"hours\":0 } }\n",
        "    )\n",
        "worker02_reservation_id = worker02_lease[\"reservations\"][0][\"id\"]\n",
        "\n",
        "# reserve worker-03\n",
        "worker03_lease = show_reservation_byname(\"worker-03-lease\")\n",
        "if not worker03_lease:\n",
        "    worker03_lease = reserve(\n",
        "        { \"type\":\"device\", \"name\":\"worker-03\", \"duration\": { \"days\":7, \"hours\":0 } }\n",
        "    )\n",
        "worker03_reservation_id = worker03_lease[\"reservations\"][0][\"id\"]\n",
        "\n",
        "leaseslist = list_reservations(brief=True)\n",
        "print(json.dumps(leaseslist,indent=4))"
      ],
      "metadata": {
        "colab": {
          "base_uri": "https://localhost:8080/"
        },
        "id": "1pauMnGZ8KSP",
        "outputId": "0d199834-549f-4fcd-bdfb-9f444d7015c8"
      },
      "execution_count": 18,
      "outputs": [
        {
          "output_type": "stream",
          "name": "stderr",
          "text": [
            "\u001b[32m2023-08-06 22:39:11.087\u001b[0m | \u001b[1mINFO    \u001b[0m | \u001b[36mchi.expeca\u001b[0m:\u001b[36mreserve\u001b[0m:\u001b[36m167\u001b[0m - \u001b[1mreserving sdr-02\u001b[0m\n",
            "\u001b[32m2023-08-06 22:39:13.754\u001b[0m | \u001b[1mINFO    \u001b[0m | \u001b[36mchi.expeca\u001b[0m:\u001b[36mwait_until_lease_status\u001b[0m:\u001b[36m62\u001b[0m - \u001b[1mwaiting 120 seconds for sdr-02-lease with id 190074bf-d532-4ca4-8386-392a02f4359b to become \"ACTIVE\"\u001b[0m\n",
            "\u001b[32m2023-08-06 22:39:19.025\u001b[0m | \u001b[1mINFO    \u001b[0m | \u001b[36mchi.expeca\u001b[0m:\u001b[36mwait_until_lease_status\u001b[0m:\u001b[36m69\u001b[0m - \u001b[1mlease sdr-02-lease with id 190074bf-d532-4ca4-8386-392a02f4359b is PENDING.\u001b[0m\n",
            "\u001b[32m2023-08-06 22:39:24.306\u001b[0m | \u001b[1mINFO    \u001b[0m | \u001b[36mchi.expeca\u001b[0m:\u001b[36mwait_until_lease_status\u001b[0m:\u001b[36m69\u001b[0m - \u001b[1mlease sdr-02-lease with id 190074bf-d532-4ca4-8386-392a02f4359b is PENDING.\u001b[0m\n",
            "\u001b[32m2023-08-06 22:39:29.568\u001b[0m | \u001b[1mINFO    \u001b[0m | \u001b[36mchi.expeca\u001b[0m:\u001b[36mwait_until_lease_status\u001b[0m:\u001b[36m69\u001b[0m - \u001b[1mlease sdr-02-lease with id 190074bf-d532-4ca4-8386-392a02f4359b is PENDING.\u001b[0m\n",
            "\u001b[32m2023-08-06 22:39:34.850\u001b[0m | \u001b[1mINFO    \u001b[0m | \u001b[36mchi.expeca\u001b[0m:\u001b[36mwait_until_lease_status\u001b[0m:\u001b[36m69\u001b[0m - \u001b[1mlease sdr-02-lease with id 190074bf-d532-4ca4-8386-392a02f4359b is PENDING.\u001b[0m\n",
            "\u001b[32m2023-08-06 22:39:40.122\u001b[0m | \u001b[1mINFO    \u001b[0m | \u001b[36mchi.expeca\u001b[0m:\u001b[36mwait_until_lease_status\u001b[0m:\u001b[36m69\u001b[0m - \u001b[1mlease sdr-02-lease with id 190074bf-d532-4ca4-8386-392a02f4359b is PENDING.\u001b[0m\n",
            "\u001b[32m2023-08-06 22:39:45.389\u001b[0m | \u001b[1mINFO    \u001b[0m | \u001b[36mchi.expeca\u001b[0m:\u001b[36mwait_until_lease_status\u001b[0m:\u001b[36m69\u001b[0m - \u001b[1mlease sdr-02-lease with id 190074bf-d532-4ca4-8386-392a02f4359b is PENDING.\u001b[0m\n",
            "\u001b[32m2023-08-06 22:39:50.660\u001b[0m | \u001b[1mINFO    \u001b[0m | \u001b[36mchi.expeca\u001b[0m:\u001b[36mwait_until_lease_status\u001b[0m:\u001b[36m69\u001b[0m - \u001b[1mlease sdr-02-lease with id 190074bf-d532-4ca4-8386-392a02f4359b is PENDING.\u001b[0m\n",
            "\u001b[32m2023-08-06 22:39:55.934\u001b[0m | \u001b[1mINFO    \u001b[0m | \u001b[36mchi.expeca\u001b[0m:\u001b[36mwait_until_lease_status\u001b[0m:\u001b[36m69\u001b[0m - \u001b[1mlease sdr-02-lease with id 190074bf-d532-4ca4-8386-392a02f4359b is PENDING.\u001b[0m\n",
            "\u001b[32m2023-08-06 22:40:01.202\u001b[0m | \u001b[1mINFO    \u001b[0m | \u001b[36mchi.expeca\u001b[0m:\u001b[36mwait_until_lease_status\u001b[0m:\u001b[36m69\u001b[0m - \u001b[1mlease sdr-02-lease with id 190074bf-d532-4ca4-8386-392a02f4359b is PENDING.\u001b[0m\n",
            "\u001b[32m2023-08-06 22:40:06.478\u001b[0m | \u001b[1mINFO    \u001b[0m | \u001b[36mchi.expeca\u001b[0m:\u001b[36mwait_until_lease_status\u001b[0m:\u001b[36m69\u001b[0m - \u001b[1mlease sdr-02-lease with id 190074bf-d532-4ca4-8386-392a02f4359b is STARTING.\u001b[0m\n",
            "\u001b[32m2023-08-06 22:40:11.746\u001b[0m | \u001b[1mINFO    \u001b[0m | \u001b[36mchi.expeca\u001b[0m:\u001b[36mwait_until_lease_status\u001b[0m:\u001b[36m69\u001b[0m - \u001b[1mlease sdr-02-lease with id 190074bf-d532-4ca4-8386-392a02f4359b is STARTING.\u001b[0m\n",
            "\u001b[32m2023-08-06 22:40:17.019\u001b[0m | \u001b[1mINFO    \u001b[0m | \u001b[36mchi.expeca\u001b[0m:\u001b[36mwait_until_lease_status\u001b[0m:\u001b[36m69\u001b[0m - \u001b[1mlease sdr-02-lease with id 190074bf-d532-4ca4-8386-392a02f4359b is STARTING.\u001b[0m\n",
            "\u001b[32m2023-08-06 22:40:22.288\u001b[0m | \u001b[1mINFO    \u001b[0m | \u001b[36mchi.expeca\u001b[0m:\u001b[36mwait_until_lease_status\u001b[0m:\u001b[36m69\u001b[0m - \u001b[1mlease sdr-02-lease with id 190074bf-d532-4ca4-8386-392a02f4359b is ACTIVE.\u001b[0m\n",
            "\u001b[32m2023-08-06 22:40:22.290\u001b[0m | \u001b[32m\u001b[1mSUCCESS \u001b[0m | \u001b[36mchi.expeca\u001b[0m:\u001b[36mtry_to_create_lease\u001b[0m:\u001b[36m209\u001b[0m - \u001b[32m\u001b[1mdone\u001b[0m\n",
            "\u001b[32m2023-08-06 22:40:22.553\u001b[0m | \u001b[1mINFO    \u001b[0m | \u001b[36mchi.expeca\u001b[0m:\u001b[36mreserve\u001b[0m:\u001b[36m167\u001b[0m - \u001b[1mreserving sdr-03\u001b[0m\n",
            "\u001b[32m2023-08-06 22:40:25.195\u001b[0m | \u001b[1mINFO    \u001b[0m | \u001b[36mchi.expeca\u001b[0m:\u001b[36mwait_until_lease_status\u001b[0m:\u001b[36m62\u001b[0m - \u001b[1mwaiting 120 seconds for sdr-03-lease with id 4793fee5-4a64-4fd6-9186-7e019d821ce3 to become \"ACTIVE\"\u001b[0m\n",
            "\u001b[32m2023-08-06 22:40:30.466\u001b[0m | \u001b[1mINFO    \u001b[0m | \u001b[36mchi.expeca\u001b[0m:\u001b[36mwait_until_lease_status\u001b[0m:\u001b[36m69\u001b[0m - \u001b[1mlease sdr-03-lease with id 4793fee5-4a64-4fd6-9186-7e019d821ce3 is PENDING.\u001b[0m\n",
            "\u001b[32m2023-08-06 22:40:35.725\u001b[0m | \u001b[1mINFO    \u001b[0m | \u001b[36mchi.expeca\u001b[0m:\u001b[36mwait_until_lease_status\u001b[0m:\u001b[36m69\u001b[0m - \u001b[1mlease sdr-03-lease with id 4793fee5-4a64-4fd6-9186-7e019d821ce3 is PENDING.\u001b[0m\n",
            "\u001b[32m2023-08-06 22:40:41.001\u001b[0m | \u001b[1mINFO    \u001b[0m | \u001b[36mchi.expeca\u001b[0m:\u001b[36mwait_until_lease_status\u001b[0m:\u001b[36m69\u001b[0m - \u001b[1mlease sdr-03-lease with id 4793fee5-4a64-4fd6-9186-7e019d821ce3 is PENDING.\u001b[0m\n",
            "\u001b[32m2023-08-06 22:40:46.276\u001b[0m | \u001b[1mINFO    \u001b[0m | \u001b[36mchi.expeca\u001b[0m:\u001b[36mwait_until_lease_status\u001b[0m:\u001b[36m69\u001b[0m - \u001b[1mlease sdr-03-lease with id 4793fee5-4a64-4fd6-9186-7e019d821ce3 is PENDING.\u001b[0m\n",
            "\u001b[32m2023-08-06 22:40:51.553\u001b[0m | \u001b[1mINFO    \u001b[0m | \u001b[36mchi.expeca\u001b[0m:\u001b[36mwait_until_lease_status\u001b[0m:\u001b[36m69\u001b[0m - \u001b[1mlease sdr-03-lease with id 4793fee5-4a64-4fd6-9186-7e019d821ce3 is PENDING.\u001b[0m\n",
            "\u001b[32m2023-08-06 22:40:56.831\u001b[0m | \u001b[1mINFO    \u001b[0m | \u001b[36mchi.expeca\u001b[0m:\u001b[36mwait_until_lease_status\u001b[0m:\u001b[36m69\u001b[0m - \u001b[1mlease sdr-03-lease with id 4793fee5-4a64-4fd6-9186-7e019d821ce3 is PENDING.\u001b[0m\n",
            "\u001b[32m2023-08-06 22:41:02.111\u001b[0m | \u001b[1mINFO    \u001b[0m | \u001b[36mchi.expeca\u001b[0m:\u001b[36mwait_until_lease_status\u001b[0m:\u001b[36m69\u001b[0m - \u001b[1mlease sdr-03-lease with id 4793fee5-4a64-4fd6-9186-7e019d821ce3 is PENDING.\u001b[0m\n",
            "\u001b[32m2023-08-06 22:41:07.382\u001b[0m | \u001b[1mINFO    \u001b[0m | \u001b[36mchi.expeca\u001b[0m:\u001b[36mwait_until_lease_status\u001b[0m:\u001b[36m69\u001b[0m - \u001b[1mlease sdr-03-lease with id 4793fee5-4a64-4fd6-9186-7e019d821ce3 is PENDING.\u001b[0m\n",
            "\u001b[32m2023-08-06 22:41:12.650\u001b[0m | \u001b[1mINFO    \u001b[0m | \u001b[36mchi.expeca\u001b[0m:\u001b[36mwait_until_lease_status\u001b[0m:\u001b[36m69\u001b[0m - \u001b[1mlease sdr-03-lease with id 4793fee5-4a64-4fd6-9186-7e019d821ce3 is STARTING.\u001b[0m\n",
            "\u001b[32m2023-08-06 22:41:17.923\u001b[0m | \u001b[1mINFO    \u001b[0m | \u001b[36mchi.expeca\u001b[0m:\u001b[36mwait_until_lease_status\u001b[0m:\u001b[36m69\u001b[0m - \u001b[1mlease sdr-03-lease with id 4793fee5-4a64-4fd6-9186-7e019d821ce3 is STARTING.\u001b[0m\n",
            "\u001b[32m2023-08-06 22:41:23.209\u001b[0m | \u001b[1mINFO    \u001b[0m | \u001b[36mchi.expeca\u001b[0m:\u001b[36mwait_until_lease_status\u001b[0m:\u001b[36m69\u001b[0m - \u001b[1mlease sdr-03-lease with id 4793fee5-4a64-4fd6-9186-7e019d821ce3 is ACTIVE.\u001b[0m\n",
            "\u001b[32m2023-08-06 22:41:23.211\u001b[0m | \u001b[32m\u001b[1mSUCCESS \u001b[0m | \u001b[36mchi.expeca\u001b[0m:\u001b[36mtry_to_create_lease\u001b[0m:\u001b[36m209\u001b[0m - \u001b[32m\u001b[1mdone\u001b[0m\n",
            "\u001b[32m2023-08-06 22:41:23.482\u001b[0m | \u001b[1mINFO    \u001b[0m | \u001b[36mchi.expeca\u001b[0m:\u001b[36mreserve\u001b[0m:\u001b[36m167\u001b[0m - \u001b[1mreserving sdr-08\u001b[0m\n",
            "\u001b[32m2023-08-06 22:41:25.955\u001b[0m | \u001b[1mINFO    \u001b[0m | \u001b[36mchi.expeca\u001b[0m:\u001b[36mwait_until_lease_status\u001b[0m:\u001b[36m62\u001b[0m - \u001b[1mwaiting 120 seconds for sdr-08-lease with id 9a2920b1-8b4a-4cd6-9af2-ed71548b98b1 to become \"ACTIVE\"\u001b[0m\n",
            "\u001b[32m2023-08-06 22:41:31.232\u001b[0m | \u001b[1mINFO    \u001b[0m | \u001b[36mchi.expeca\u001b[0m:\u001b[36mwait_until_lease_status\u001b[0m:\u001b[36m69\u001b[0m - \u001b[1mlease sdr-08-lease with id 9a2920b1-8b4a-4cd6-9af2-ed71548b98b1 is PENDING.\u001b[0m\n",
            "\u001b[32m2023-08-06 22:41:36.523\u001b[0m | \u001b[1mINFO    \u001b[0m | \u001b[36mchi.expeca\u001b[0m:\u001b[36mwait_until_lease_status\u001b[0m:\u001b[36m69\u001b[0m - \u001b[1mlease sdr-08-lease with id 9a2920b1-8b4a-4cd6-9af2-ed71548b98b1 is PENDING.\u001b[0m\n",
            "\u001b[32m2023-08-06 22:41:41.796\u001b[0m | \u001b[1mINFO    \u001b[0m | \u001b[36mchi.expeca\u001b[0m:\u001b[36mwait_until_lease_status\u001b[0m:\u001b[36m69\u001b[0m - \u001b[1mlease sdr-08-lease with id 9a2920b1-8b4a-4cd6-9af2-ed71548b98b1 is PENDING.\u001b[0m\n",
            "\u001b[32m2023-08-06 22:41:47.078\u001b[0m | \u001b[1mINFO    \u001b[0m | \u001b[36mchi.expeca\u001b[0m:\u001b[36mwait_until_lease_status\u001b[0m:\u001b[36m69\u001b[0m - \u001b[1mlease sdr-08-lease with id 9a2920b1-8b4a-4cd6-9af2-ed71548b98b1 is PENDING.\u001b[0m\n",
            "\u001b[32m2023-08-06 22:41:52.355\u001b[0m | \u001b[1mINFO    \u001b[0m | \u001b[36mchi.expeca\u001b[0m:\u001b[36mwait_until_lease_status\u001b[0m:\u001b[36m69\u001b[0m - \u001b[1mlease sdr-08-lease with id 9a2920b1-8b4a-4cd6-9af2-ed71548b98b1 is PENDING.\u001b[0m\n",
            "\u001b[32m2023-08-06 22:41:57.639\u001b[0m | \u001b[1mINFO    \u001b[0m | \u001b[36mchi.expeca\u001b[0m:\u001b[36mwait_until_lease_status\u001b[0m:\u001b[36m69\u001b[0m - \u001b[1mlease sdr-08-lease with id 9a2920b1-8b4a-4cd6-9af2-ed71548b98b1 is PENDING.\u001b[0m\n",
            "\u001b[32m2023-08-06 22:42:02.900\u001b[0m | \u001b[1mINFO    \u001b[0m | \u001b[36mchi.expeca\u001b[0m:\u001b[36mwait_until_lease_status\u001b[0m:\u001b[36m69\u001b[0m - \u001b[1mlease sdr-08-lease with id 9a2920b1-8b4a-4cd6-9af2-ed71548b98b1 is STARTING.\u001b[0m\n",
            "\u001b[32m2023-08-06 22:42:08.184\u001b[0m | \u001b[1mINFO    \u001b[0m | \u001b[36mchi.expeca\u001b[0m:\u001b[36mwait_until_lease_status\u001b[0m:\u001b[36m69\u001b[0m - \u001b[1mlease sdr-08-lease with id 9a2920b1-8b4a-4cd6-9af2-ed71548b98b1 is STARTING.\u001b[0m\n",
            "\u001b[32m2023-08-06 22:42:13.458\u001b[0m | \u001b[1mINFO    \u001b[0m | \u001b[36mchi.expeca\u001b[0m:\u001b[36mwait_until_lease_status\u001b[0m:\u001b[36m69\u001b[0m - \u001b[1mlease sdr-08-lease with id 9a2920b1-8b4a-4cd6-9af2-ed71548b98b1 is STARTING.\u001b[0m\n",
            "\u001b[32m2023-08-06 22:42:18.730\u001b[0m | \u001b[1mINFO    \u001b[0m | \u001b[36mchi.expeca\u001b[0m:\u001b[36mwait_until_lease_status\u001b[0m:\u001b[36m69\u001b[0m - \u001b[1mlease sdr-08-lease with id 9a2920b1-8b4a-4cd6-9af2-ed71548b98b1 is ACTIVE.\u001b[0m\n",
            "\u001b[32m2023-08-06 22:42:18.732\u001b[0m | \u001b[32m\u001b[1mSUCCESS \u001b[0m | \u001b[36mchi.expeca\u001b[0m:\u001b[36mtry_to_create_lease\u001b[0m:\u001b[36m209\u001b[0m - \u001b[32m\u001b[1mdone\u001b[0m\n",
            "\u001b[32m2023-08-06 22:42:19.015\u001b[0m | \u001b[1mINFO    \u001b[0m | \u001b[36mchi.expeca\u001b[0m:\u001b[36mreserve\u001b[0m:\u001b[36m167\u001b[0m - \u001b[1mreserving worker-01\u001b[0m\n",
            "\u001b[32m2023-08-06 22:42:21.530\u001b[0m | \u001b[1mINFO    \u001b[0m | \u001b[36mchi.expeca\u001b[0m:\u001b[36mwait_until_lease_status\u001b[0m:\u001b[36m62\u001b[0m - \u001b[1mwaiting 120 seconds for worker-01-lease with id 8857b02b-e752-4d04-8876-2014006eab67 to become \"ACTIVE\"\u001b[0m\n",
            "\u001b[32m2023-08-06 22:42:26.790\u001b[0m | \u001b[1mINFO    \u001b[0m | \u001b[36mchi.expeca\u001b[0m:\u001b[36mwait_until_lease_status\u001b[0m:\u001b[36m69\u001b[0m - \u001b[1mlease worker-01-lease with id 8857b02b-e752-4d04-8876-2014006eab67 is PENDING.\u001b[0m\n",
            "\u001b[32m2023-08-06 22:42:32.067\u001b[0m | \u001b[1mINFO    \u001b[0m | \u001b[36mchi.expeca\u001b[0m:\u001b[36mwait_until_lease_status\u001b[0m:\u001b[36m69\u001b[0m - \u001b[1mlease worker-01-lease with id 8857b02b-e752-4d04-8876-2014006eab67 is PENDING.\u001b[0m\n",
            "\u001b[32m2023-08-06 22:42:37.335\u001b[0m | \u001b[1mINFO    \u001b[0m | \u001b[36mchi.expeca\u001b[0m:\u001b[36mwait_until_lease_status\u001b[0m:\u001b[36m69\u001b[0m - \u001b[1mlease worker-01-lease with id 8857b02b-e752-4d04-8876-2014006eab67 is PENDING.\u001b[0m\n",
            "\u001b[32m2023-08-06 22:42:42.617\u001b[0m | \u001b[1mINFO    \u001b[0m | \u001b[36mchi.expeca\u001b[0m:\u001b[36mwait_until_lease_status\u001b[0m:\u001b[36m69\u001b[0m - \u001b[1mlease worker-01-lease with id 8857b02b-e752-4d04-8876-2014006eab67 is PENDING.\u001b[0m\n",
            "\u001b[32m2023-08-06 22:42:47.873\u001b[0m | \u001b[1mINFO    \u001b[0m | \u001b[36mchi.expeca\u001b[0m:\u001b[36mwait_until_lease_status\u001b[0m:\u001b[36m69\u001b[0m - \u001b[1mlease worker-01-lease with id 8857b02b-e752-4d04-8876-2014006eab67 is PENDING.\u001b[0m\n",
            "\u001b[32m2023-08-06 22:42:53.151\u001b[0m | \u001b[1mINFO    \u001b[0m | \u001b[36mchi.expeca\u001b[0m:\u001b[36mwait_until_lease_status\u001b[0m:\u001b[36m69\u001b[0m - \u001b[1mlease worker-01-lease with id 8857b02b-e752-4d04-8876-2014006eab67 is PENDING.\u001b[0m\n",
            "\u001b[32m2023-08-06 22:42:58.433\u001b[0m | \u001b[1mINFO    \u001b[0m | \u001b[36mchi.expeca\u001b[0m:\u001b[36mwait_until_lease_status\u001b[0m:\u001b[36m69\u001b[0m - \u001b[1mlease worker-01-lease with id 8857b02b-e752-4d04-8876-2014006eab67 is PENDING.\u001b[0m\n",
            "\u001b[32m2023-08-06 22:43:03.736\u001b[0m | \u001b[1mINFO    \u001b[0m | \u001b[36mchi.expeca\u001b[0m:\u001b[36mwait_until_lease_status\u001b[0m:\u001b[36m69\u001b[0m - \u001b[1mlease worker-01-lease with id 8857b02b-e752-4d04-8876-2014006eab67 is PENDING.\u001b[0m\n",
            "\u001b[32m2023-08-06 22:43:09.005\u001b[0m | \u001b[1mINFO    \u001b[0m | \u001b[36mchi.expeca\u001b[0m:\u001b[36mwait_until_lease_status\u001b[0m:\u001b[36m69\u001b[0m - \u001b[1mlease worker-01-lease with id 8857b02b-e752-4d04-8876-2014006eab67 is ACTIVE.\u001b[0m\n",
            "\u001b[32m2023-08-06 22:43:09.008\u001b[0m | \u001b[32m\u001b[1mSUCCESS \u001b[0m | \u001b[36mchi.expeca\u001b[0m:\u001b[36mtry_to_create_lease\u001b[0m:\u001b[36m209\u001b[0m - \u001b[32m\u001b[1mdone\u001b[0m\n",
            "\u001b[32m2023-08-06 22:43:09.283\u001b[0m | \u001b[1mINFO    \u001b[0m | \u001b[36mchi.expeca\u001b[0m:\u001b[36mreserve\u001b[0m:\u001b[36m167\u001b[0m - \u001b[1mreserving worker-02\u001b[0m\n",
            "\u001b[32m2023-08-06 22:43:11.826\u001b[0m | \u001b[1mINFO    \u001b[0m | \u001b[36mchi.expeca\u001b[0m:\u001b[36mwait_until_lease_status\u001b[0m:\u001b[36m62\u001b[0m - \u001b[1mwaiting 120 seconds for worker-02-lease with id bd2e0bed-2b3e-46b8-b272-5250ca988fd0 to become \"ACTIVE\"\u001b[0m\n",
            "\u001b[32m2023-08-06 22:43:17.115\u001b[0m | \u001b[1mINFO    \u001b[0m | \u001b[36mchi.expeca\u001b[0m:\u001b[36mwait_until_lease_status\u001b[0m:\u001b[36m69\u001b[0m - \u001b[1mlease worker-02-lease with id bd2e0bed-2b3e-46b8-b272-5250ca988fd0 is PENDING.\u001b[0m\n",
            "\u001b[32m2023-08-06 22:43:22.385\u001b[0m | \u001b[1mINFO    \u001b[0m | \u001b[36mchi.expeca\u001b[0m:\u001b[36mwait_until_lease_status\u001b[0m:\u001b[36m69\u001b[0m - \u001b[1mlease worker-02-lease with id bd2e0bed-2b3e-46b8-b272-5250ca988fd0 is PENDING.\u001b[0m\n",
            "\u001b[32m2023-08-06 22:43:27.664\u001b[0m | \u001b[1mINFO    \u001b[0m | \u001b[36mchi.expeca\u001b[0m:\u001b[36mwait_until_lease_status\u001b[0m:\u001b[36m69\u001b[0m - \u001b[1mlease worker-02-lease with id bd2e0bed-2b3e-46b8-b272-5250ca988fd0 is PENDING.\u001b[0m\n",
            "\u001b[32m2023-08-06 22:43:32.937\u001b[0m | \u001b[1mINFO    \u001b[0m | \u001b[36mchi.expeca\u001b[0m:\u001b[36mwait_until_lease_status\u001b[0m:\u001b[36m69\u001b[0m - \u001b[1mlease worker-02-lease with id bd2e0bed-2b3e-46b8-b272-5250ca988fd0 is PENDING.\u001b[0m\n",
            "\u001b[32m2023-08-06 22:43:38.212\u001b[0m | \u001b[1mINFO    \u001b[0m | \u001b[36mchi.expeca\u001b[0m:\u001b[36mwait_until_lease_status\u001b[0m:\u001b[36m69\u001b[0m - \u001b[1mlease worker-02-lease with id bd2e0bed-2b3e-46b8-b272-5250ca988fd0 is PENDING.\u001b[0m\n",
            "\u001b[32m2023-08-06 22:43:43.486\u001b[0m | \u001b[1mINFO    \u001b[0m | \u001b[36mchi.expeca\u001b[0m:\u001b[36mwait_until_lease_status\u001b[0m:\u001b[36m69\u001b[0m - \u001b[1mlease worker-02-lease with id bd2e0bed-2b3e-46b8-b272-5250ca988fd0 is PENDING.\u001b[0m\n",
            "\u001b[32m2023-08-06 22:43:48.763\u001b[0m | \u001b[1mINFO    \u001b[0m | \u001b[36mchi.expeca\u001b[0m:\u001b[36mwait_until_lease_status\u001b[0m:\u001b[36m69\u001b[0m - \u001b[1mlease worker-02-lease with id bd2e0bed-2b3e-46b8-b272-5250ca988fd0 is PENDING.\u001b[0m\n",
            "\u001b[32m2023-08-06 22:43:54.050\u001b[0m | \u001b[1mINFO    \u001b[0m | \u001b[36mchi.expeca\u001b[0m:\u001b[36mwait_until_lease_status\u001b[0m:\u001b[36m69\u001b[0m - \u001b[1mlease worker-02-lease with id bd2e0bed-2b3e-46b8-b272-5250ca988fd0 is PENDING.\u001b[0m\n",
            "\u001b[32m2023-08-06 22:43:59.339\u001b[0m | \u001b[1mINFO    \u001b[0m | \u001b[36mchi.expeca\u001b[0m:\u001b[36mwait_until_lease_status\u001b[0m:\u001b[36m69\u001b[0m - \u001b[1mlease worker-02-lease with id bd2e0bed-2b3e-46b8-b272-5250ca988fd0 is PENDING.\u001b[0m\n",
            "\u001b[32m2023-08-06 22:44:04.624\u001b[0m | \u001b[1mINFO    \u001b[0m | \u001b[36mchi.expeca\u001b[0m:\u001b[36mwait_until_lease_status\u001b[0m:\u001b[36m69\u001b[0m - \u001b[1mlease worker-02-lease with id bd2e0bed-2b3e-46b8-b272-5250ca988fd0 is PENDING.\u001b[0m\n",
            "\u001b[32m2023-08-06 22:44:09.908\u001b[0m | \u001b[1mINFO    \u001b[0m | \u001b[36mchi.expeca\u001b[0m:\u001b[36mwait_until_lease_status\u001b[0m:\u001b[36m69\u001b[0m - \u001b[1mlease worker-02-lease with id bd2e0bed-2b3e-46b8-b272-5250ca988fd0 is ACTIVE.\u001b[0m\n",
            "\u001b[32m2023-08-06 22:44:09.910\u001b[0m | \u001b[32m\u001b[1mSUCCESS \u001b[0m | \u001b[36mchi.expeca\u001b[0m:\u001b[36mtry_to_create_lease\u001b[0m:\u001b[36m209\u001b[0m - \u001b[32m\u001b[1mdone\u001b[0m\n",
            "\u001b[32m2023-08-06 22:44:10.187\u001b[0m | \u001b[1mINFO    \u001b[0m | \u001b[36mchi.expeca\u001b[0m:\u001b[36mreserve\u001b[0m:\u001b[36m167\u001b[0m - \u001b[1mreserving worker-03\u001b[0m\n",
            "\u001b[32m2023-08-06 22:44:12.647\u001b[0m | \u001b[1mINFO    \u001b[0m | \u001b[36mchi.expeca\u001b[0m:\u001b[36mwait_until_lease_status\u001b[0m:\u001b[36m62\u001b[0m - \u001b[1mwaiting 120 seconds for worker-03-lease with id 9dce53fb-e391-4d30-a933-68c52c864c3b to become \"ACTIVE\"\u001b[0m\n",
            "\u001b[32m2023-08-06 22:44:18.021\u001b[0m | \u001b[1mINFO    \u001b[0m | \u001b[36mchi.expeca\u001b[0m:\u001b[36mwait_until_lease_status\u001b[0m:\u001b[36m69\u001b[0m - \u001b[1mlease worker-03-lease with id 9dce53fb-e391-4d30-a933-68c52c864c3b is PENDING.\u001b[0m\n",
            "\u001b[32m2023-08-06 22:44:23.313\u001b[0m | \u001b[1mINFO    \u001b[0m | \u001b[36mchi.expeca\u001b[0m:\u001b[36mwait_until_lease_status\u001b[0m:\u001b[36m69\u001b[0m - \u001b[1mlease worker-03-lease with id 9dce53fb-e391-4d30-a933-68c52c864c3b is PENDING.\u001b[0m\n",
            "\u001b[32m2023-08-06 22:44:28.598\u001b[0m | \u001b[1mINFO    \u001b[0m | \u001b[36mchi.expeca\u001b[0m:\u001b[36mwait_until_lease_status\u001b[0m:\u001b[36m69\u001b[0m - \u001b[1mlease worker-03-lease with id 9dce53fb-e391-4d30-a933-68c52c864c3b is PENDING.\u001b[0m\n",
            "\u001b[32m2023-08-06 22:44:33.864\u001b[0m | \u001b[1mINFO    \u001b[0m | \u001b[36mchi.expeca\u001b[0m:\u001b[36mwait_until_lease_status\u001b[0m:\u001b[36m69\u001b[0m - \u001b[1mlease worker-03-lease with id 9dce53fb-e391-4d30-a933-68c52c864c3b is PENDING.\u001b[0m\n",
            "\u001b[32m2023-08-06 22:44:39.139\u001b[0m | \u001b[1mINFO    \u001b[0m | \u001b[36mchi.expeca\u001b[0m:\u001b[36mwait_until_lease_status\u001b[0m:\u001b[36m69\u001b[0m - \u001b[1mlease worker-03-lease with id 9dce53fb-e391-4d30-a933-68c52c864c3b is PENDING.\u001b[0m\n",
            "\u001b[32m2023-08-06 22:44:44.415\u001b[0m | \u001b[1mINFO    \u001b[0m | \u001b[36mchi.expeca\u001b[0m:\u001b[36mwait_until_lease_status\u001b[0m:\u001b[36m69\u001b[0m - \u001b[1mlease worker-03-lease with id 9dce53fb-e391-4d30-a933-68c52c864c3b is PENDING.\u001b[0m\n",
            "\u001b[32m2023-08-06 22:44:49.676\u001b[0m | \u001b[1mINFO    \u001b[0m | \u001b[36mchi.expeca\u001b[0m:\u001b[36mwait_until_lease_status\u001b[0m:\u001b[36m69\u001b[0m - \u001b[1mlease worker-03-lease with id 9dce53fb-e391-4d30-a933-68c52c864c3b is PENDING.\u001b[0m\n",
            "\u001b[32m2023-08-06 22:44:54.968\u001b[0m | \u001b[1mINFO    \u001b[0m | \u001b[36mchi.expeca\u001b[0m:\u001b[36mwait_until_lease_status\u001b[0m:\u001b[36m69\u001b[0m - \u001b[1mlease worker-03-lease with id 9dce53fb-e391-4d30-a933-68c52c864c3b is PENDING.\u001b[0m\n",
            "\u001b[32m2023-08-06 22:45:00.257\u001b[0m | \u001b[1mINFO    \u001b[0m | \u001b[36mchi.expeca\u001b[0m:\u001b[36mwait_until_lease_status\u001b[0m:\u001b[36m69\u001b[0m - \u001b[1mlease worker-03-lease with id 9dce53fb-e391-4d30-a933-68c52c864c3b is PENDING.\u001b[0m\n",
            "\u001b[32m2023-08-06 22:45:05.543\u001b[0m | \u001b[1mINFO    \u001b[0m | \u001b[36mchi.expeca\u001b[0m:\u001b[36mwait_until_lease_status\u001b[0m:\u001b[36m69\u001b[0m - \u001b[1mlease worker-03-lease with id 9dce53fb-e391-4d30-a933-68c52c864c3b is PENDING.\u001b[0m\n",
            "\u001b[32m2023-08-06 22:45:10.829\u001b[0m | \u001b[1mINFO    \u001b[0m | \u001b[36mchi.expeca\u001b[0m:\u001b[36mwait_until_lease_status\u001b[0m:\u001b[36m69\u001b[0m - \u001b[1mlease worker-03-lease with id 9dce53fb-e391-4d30-a933-68c52c864c3b is ACTIVE.\u001b[0m\n",
            "\u001b[32m2023-08-06 22:45:10.831\u001b[0m | \u001b[32m\u001b[1mSUCCESS \u001b[0m | \u001b[36mchi.expeca\u001b[0m:\u001b[36mtry_to_create_lease\u001b[0m:\u001b[36m209\u001b[0m - \u001b[32m\u001b[1mdone\u001b[0m\n"
          ]
        },
        {
          "output_type": "stream",
          "name": "stdout",
          "text": [
            "[\n",
            "    {\n",
            "        \"name\": \"sdr-03-lease\",\n",
            "        \"id\": \"4793fee5-4a64-4fd6-9186-7e019d821ce3\",\n",
            "        \"reservation_id\": \"df5ac2d2-bb8f-4cf0-a40d-086ec8fe3984\",\n",
            "        \"status\": \"ACTIVE\",\n",
            "        \"end_date\": \"2023-08-13T22:40:00.000000\"\n",
            "    },\n",
            "    {\n",
            "        \"name\": \"sdr-08-lease\",\n",
            "        \"id\": \"9a2920b1-8b4a-4cd6-9af2-ed71548b98b1\",\n",
            "        \"reservation_id\": \"c20fe26a-8b65-45a9-bd1b-8d3118ace176\",\n",
            "        \"status\": \"ACTIVE\",\n",
            "        \"end_date\": \"2023-08-13T22:41:00.000000\"\n",
            "    },\n",
            "    {\n",
            "        \"name\": \"sdr-02-lease\",\n",
            "        \"id\": \"190074bf-d532-4ca4-8386-392a02f4359b\",\n",
            "        \"reservation_id\": \"841b7132-9c03-4eaf-9fba-c45a134a59cc\",\n",
            "        \"status\": \"ACTIVE\",\n",
            "        \"end_date\": \"2023-08-13T22:39:00.000000\"\n",
            "    },\n",
            "    {\n",
            "        \"name\": \"worker-01-lease\",\n",
            "        \"id\": \"8857b02b-e752-4d04-8876-2014006eab67\",\n",
            "        \"reservation_id\": \"3c57a14b-1ee8-4441-9fc0-ad24751a581d\",\n",
            "        \"status\": \"ACTIVE\",\n",
            "        \"end_date\": \"2023-08-13T22:42:00.000000\"\n",
            "    },\n",
            "    {\n",
            "        \"name\": \"worker-03-lease\",\n",
            "        \"id\": \"9dce53fb-e391-4d30-a933-68c52c864c3b\",\n",
            "        \"reservation_id\": \"47b47922-a13e-48ac-94e1-d2d6659c2b1e\",\n",
            "        \"status\": \"ACTIVE\",\n",
            "        \"end_date\": \"2023-08-13T22:44:00.000000\"\n",
            "    },\n",
            "    {\n",
            "        \"name\": \"worker-02-lease\",\n",
            "        \"id\": \"bd2e0bed-2b3e-46b8-b272-5250ca988fd0\",\n",
            "        \"reservation_id\": \"0104715e-ec37-493e-a5c7-32042b7e92f4\",\n",
            "        \"status\": \"ACTIVE\",\n",
            "        \"end_date\": \"2023-08-13T22:43:00.000000\"\n",
            "    }\n",
            "]\n"
          ]
        }
      ]
    },
    {
      "cell_type": "markdown",
      "source": [
        "In the following section we setup the 5g core (refer to [here](https://github.com/KTH-EXPECA/oai5g-docker/blob/main/docs/5g-sa-chi-tutorial.md) for more info).\n",
        "It creates:\n",
        "\n",
        "1.   5G core network with subnet \"192.168.70.128/26\"\n",
        "2.   MySQL, UDR, UDM, AUSF, AMF, SMF, and SPGWU services on worker-01, on interface ens1f1."
      ],
      "metadata": {
        "id": "tNYpBeUgpn15"
      }
    },
    {
      "cell_type": "code",
      "source": [
        "# create or get 5g core's network\n",
        "corenet = None\n",
        "try:\n",
        "    corenet = chi.network.get_network(\"5gcn-net\")\n",
        "except Exception as ex:\n",
        "    logger.info(f\"could not find 5gcn-net, creating it...\")\n",
        "\n",
        "if not corenet:\n",
        "    corenet = chi.network.create_network(\"5gcn-net\")\n",
        "    chi.network.create_subnet(\"5gcn-net-subnet\",corenet[\"id\"],\"192.168.70.128/26\",enable_dhcp=False)\n",
        "    logger.success(\"5gcn-net is created.\")\n",
        "\n",
        "# run MySQL\n",
        "status = get_container_status(\"5gcn-1-mysql\")\n",
        "if not status:\n",
        "    chi.container.create_container(\n",
        "        name = \"5gcn-1-mysql\",\n",
        "        image = \"samiemostafavi/expeca-mysql\",\n",
        "        reservation_id = worker01_reservation_id,\n",
        "        nets = [{ \"network\" : corenet['id'] }],\n",
        "        labels = {\"networks.1.interface\":\"ens1f1\",\"networks.1.ip\":\"192.168.70.131/26\"},\n",
        "    )\n",
        "    chi.container.wait_for_active(\"5gcn-1-mysql\")\n",
        "logger.success(\"5gcn-1-mysql is up.\")\n",
        "\n",
        "# run UDR\n",
        "status = get_container_status(\"5gcn-2-udr\")\n",
        "if not status:\n",
        "    chi.container.create_container(\n",
        "        name = \"5gcn-2-udr\",\n",
        "        image = \"samiemostafavi/expeca-udr\",\n",
        "        reservation_id = worker01_reservation_id,\n",
        "        environment = {\"UDR_INTERFACE_NAME_FOR_NUDR\":\"net1\",\"USE_FQDN_DNS\":\"no\",\"REGISTER_NRF\":\"no\"},\n",
        "        nets = [{ \"network\" : corenet['id'] }],\n",
        "        labels = {\"networks.1.interface\":\"ens1f1\",\"networks.1.ip\":\"192.168.70.136/26\"},\n",
        "    )\n",
        "    chi.container.wait_for_active(\"5gcn-2-udr\")\n",
        "logger.success(\"5gcn-2-udr is up.\")\n",
        "\n",
        "# run UDM\n",
        "status = get_container_status(\"5gcn-3-udm\")\n",
        "if not status:\n",
        "    chi.container.create_container(\n",
        "        name = \"5gcn-3-udm\",\n",
        "        image = \"samiemostafavi/expeca-udm\",\n",
        "        reservation_id = worker01_reservation_id,\n",
        "        environment = {\"SBI_IF_NAME\":\"net1\",\"USE_FQDN_DNS\":\"no\",\"REGISTER_NRF\":\"no\"},\n",
        "        nets = [{ \"network\" : corenet['id'] }],\n",
        "        labels = {\"networks.1.interface\":\"ens1f1\",\"networks.1.ip\":\"192.168.70.137/26\"},\n",
        "    )\n",
        "    chi.container.wait_for_active(\"5gcn-3-udm\")\n",
        "logger.success(\"5gcn-3-udm is up.\")\n",
        "\n",
        "# run AUSF\n",
        "status = get_container_status(\"5gcn-4-ausf\")\n",
        "if not status:\n",
        "    chi.container.create_container(\n",
        "        name = \"5gcn-4-ausf\",\n",
        "        image = \"samiemostafavi/expeca-ausf\",\n",
        "        reservation_id = worker01_reservation_id,\n",
        "        environment = {\"SBI_IF_NAME\":\"net1\",\"USE_FQDN_DNS\":\"no\",\"REGISTER_NRF\":\"no\"},\n",
        "        nets = [{ \"network\" : corenet['id'] }],\n",
        "        labels = {\"networks.1.interface\":\"ens1f1\",\"networks.1.ip\":\"192.168.70.138/26\"},\n",
        "    )\n",
        "    chi.container.wait_for_active(\"5gcn-4-ausf\")\n",
        "logger.success(\"5gcn-4-ausf is up.\")\n",
        "\n",
        "# run AMF\n",
        "status = get_container_status(\"5gcn-5-amf\")\n",
        "if not status:\n",
        "    chi.container.create_container(\n",
        "        name = \"5gcn-5-amf\",\n",
        "        image = \"samiemostafavi/expeca-amf\",\n",
        "        reservation_id = worker01_reservation_id,\n",
        "        environment = {\"AMF_INTERFACE_NAME_FOR_NGAP\":\"net1\",\"AMF_INTERFACE_NAME_FOR_N11\":\"net1\",\"USE_FQDN_DNS\":\"no\",\"NF_REGISTRATION\":\"no\",\"SMF_SELECTION\":\"no\"},\n",
        "        nets = [{ \"network\" : corenet['id'] }],\n",
        "        labels = {\"networks.1.interface\":\"ens1f1\",\"networks.1.ip\":\"192.168.70.132/26\"},\n",
        "    )\n",
        "    chi.container.wait_for_active(\"5gcn-5-amf\")\n",
        "logger.success(\"5gcn-5-amf is up.\")\n",
        "\n",
        "# run SMF\n",
        "status = get_container_status(\"5gcn-6-smf\")\n",
        "if not status:\n",
        "    chi.container.create_container(\n",
        "        name = \"5gcn-6-smf\",\n",
        "        image = \"samiemostafavi/expeca-smf\",\n",
        "        reservation_id = worker01_reservation_id,\n",
        "        environment = {\"USE_FQDN_DNS\":\"no\",\"SMF_INTERFACE_NAME_FOR_N4\":\"net1\",\"SMF_INTERFACE_NAME_FOR_SBI\":\"net1\",\"REGISTER_NRF\":\"no\",\"DISCOVER_UPF\":\"no\"},\n",
        "        nets = [{ \"network\" : corenet['id'] }],\n",
        "        labels = {\"networks.1.interface\":\"ens1f1\",\"networks.1.ip\":\"192.168.70.133/26\"},\n",
        "    )\n",
        "    chi.container.wait_for_active(\"5gcn-6-smf\")\n",
        "logger.success(\"5gcn-6-smf is up.\")\n",
        "\n",
        "\n",
        "# run SPGWU\n",
        "status = get_container_status(\"5gcn-7-spgwu\")\n",
        "if not status:\n",
        "    chi.container.create_container(\n",
        "        name = \"5gcn-7-spgwu\",\n",
        "        image = \"samiemostafavi/expeca-spgwu\",\n",
        "        reservation_id = worker01_reservation_id,\n",
        "        environment = {\"SGW_INTERFACE_NAME_FOR_S1U_S12_S4_UP\":\"net1\",\"SGW_INTERFACE_NAME_FOR_SX\":\"net1\",\"PGW_INTERFACE_NAME_FOR_SGI\":\"net1\",\"USE_FQDN_NRF\":\"no\",\"REGISTER_NRF\":\"no\"},\n",
        "        nets = [{ \"network\" : corenet['id'] }],\n",
        "        labels = {\n",
        "            \"networks.1.interface\":\"ens1f1\",\n",
        "            \"networks.1.ip\":\"192.168.70.134/26\",\n",
        "            \"capabilities.privileged\":\"true\",\n",
        "            \"capabilities.add.1\":\"NET_ADMIN\",\n",
        "            \"capabilities.add.2\":\"SYS_ADMIN\",\n",
        "            \"capabilities.drop.1\":\"ALL\"\n",
        "        },\n",
        "    )\n",
        "    chi.container.wait_for_active(\"5gcn-7-spgwu\")\n",
        "logger.success(\"5gcn-7-spgwu is up.\")"
      ],
      "metadata": {
        "colab": {
          "base_uri": "https://localhost:8080/"
        },
        "id": "QV7oHbSu7g5F",
        "outputId": "6df38d37-345c-4be3-8be6-5b87b3ab8bb8"
      },
      "execution_count": 21,
      "outputs": [
        {
          "output_type": "stream",
          "name": "stderr",
          "text": [
            "\u001b[32m2023-08-06 22:52:30.167\u001b[0m | \u001b[32m\u001b[1mSUCCESS \u001b[0m | \u001b[36m__main__\u001b[0m:\u001b[36m<cell line: 24>\u001b[0m:\u001b[36m24\u001b[0m - \u001b[32m\u001b[1m5gcn-1-mysql is up.\u001b[0m\n",
            "\u001b[32m2023-08-06 22:52:30.497\u001b[0m | \u001b[32m\u001b[1mSUCCESS \u001b[0m | \u001b[36m__main__\u001b[0m:\u001b[36m<cell line: 38>\u001b[0m:\u001b[36m38\u001b[0m - \u001b[32m\u001b[1m5gcn-2-udr is up.\u001b[0m\n",
            "\u001b[32m2023-08-06 22:52:30.796\u001b[0m | \u001b[32m\u001b[1mSUCCESS \u001b[0m | \u001b[36m__main__\u001b[0m:\u001b[36m<cell line: 52>\u001b[0m:\u001b[36m52\u001b[0m - \u001b[32m\u001b[1m5gcn-3-udm is up.\u001b[0m\n",
            "\u001b[32m2023-08-06 22:52:31.090\u001b[0m | \u001b[32m\u001b[1mSUCCESS \u001b[0m | \u001b[36m__main__\u001b[0m:\u001b[36m<cell line: 66>\u001b[0m:\u001b[36m66\u001b[0m - \u001b[32m\u001b[1m5gcn-4-ausf is up.\u001b[0m\n",
            "\u001b[32m2023-08-06 22:52:31.389\u001b[0m | \u001b[32m\u001b[1mSUCCESS \u001b[0m | \u001b[36m__main__\u001b[0m:\u001b[36m<cell line: 80>\u001b[0m:\u001b[36m80\u001b[0m - \u001b[32m\u001b[1m5gcn-5-amf is up.\u001b[0m\n",
            "\u001b[32m2023-08-06 22:52:45.768\u001b[0m | \u001b[32m\u001b[1mSUCCESS \u001b[0m | \u001b[36m__main__\u001b[0m:\u001b[36m<cell line: 94>\u001b[0m:\u001b[36m94\u001b[0m - \u001b[32m\u001b[1m5gcn-6-smf is up.\u001b[0m\n",
            "\u001b[32m2023-08-06 22:52:59.956\u001b[0m | \u001b[32m\u001b[1mSUCCESS \u001b[0m | \u001b[36m__main__\u001b[0m:\u001b[36m<cell line: 116>\u001b[0m:\u001b[36m116\u001b[0m - \u001b[32m\u001b[1m5gcn-7-spgwu is up.\u001b[0m\n"
          ]
        }
      ]
    },
    {
      "cell_type": "markdown",
      "source": [
        "Successful connection configs:\n",
        "\n",
        "*   SDR-02 (GNB)  <--->  SDR-08 (UE)\n",
        "  *   GNB: \"ATT_TX\":\"0\"\n",
        "  *   GNB: \"ATT_RX\":\"0\"\n",
        "  *   GNB: \"MAX_RXGAIN\":\"114\"\n",
        "  *   UE: e320_ue_rx_gain: 70\n",
        "  *   UE: e320_ue_tx_gain: 80\n",
        "\n",
        "\n",
        "In the following cell we run gnodeb on worker-02 using sdr-02."
      ],
      "metadata": {
        "id": "qlEedPyQpdZp"
      }
    },
    {
      "cell_type": "code",
      "source": [
        "# restart SDRs to get clean\n",
        "\n",
        "# reset SDR-02 using worker-02\n",
        "sdrname = \"sdr-02\"\n",
        "sdrnet = chi.network.get_network(sdrname+\"-net\")\n",
        "sdrip = \"10.30.1.4\"\n",
        "restart_sdr(sdrname,sdrnet['id'],worker02_reservation_id,\"eno12409np1\")\n",
        "\n",
        "# wait 10 seconds\n",
        "time.sleep(10)\n",
        "\n",
        "# reset SDR-08 using worker-02\n",
        "sdrname = \"sdr-08\"\n",
        "sdrnet = chi.network.get_network(sdrname+\"-net\")\n",
        "sdrip = \"10.30.1.16\"\n",
        "restart_sdr(sdrname,sdrnet['id'],worker02_reservation_id,\"eno12409np1\")\n"
      ],
      "metadata": {
        "id": "KrijEz7oNkfv"
      },
      "execution_count": null,
      "outputs": []
    },
    {
      "cell_type": "code",
      "source": [
        "# find sdr network\n",
        "sdrname = \"sdr-02\"\n",
        "sdrnet = chi.network.get_network(sdrname+\"-net\")\n",
        "sdrip = \"10.30.1.4\"\n",
        "\n",
        "# run 5g-gnodeb-1 on worker-02\n",
        "# NOTE: do not set the ip to 10.30.1.100\n",
        "chi.container.create_container(\n",
        "    name = f\"5g-gnodeb-01\",\n",
        "    image = \"samiemostafavi/expeca-oai-gnb\",\n",
        "    reservation_id = worker02_reservation_id,\n",
        "    environment = {\n",
        "        \"GNB_ID\":\"e00\",\"GNB_NAME\":\"gNB-OAI\",\"MCC\":\"001\",\"MNC\":\"01\",\"MNC_LENGTH\":\"2\",\"TAC\":\"1\",\"NSSAI_SST\":\"1\",\"NSSAI_SD\":\"1\",\n",
        "        \"AMF_IP_ADDRESS\":\"192.168.70.132\",\"GNB_NGA_IF_NAME\":\"net1\",\"GNB_NGA_IP_ADDRESS\":\"192.168.70.139\",\"GNB_NGU_IF_NAME\":\"net1\",\"GNB_NGU_IP_ADDRESS\":\"192.168.70.139\",\n",
        "        \"USE_SA_TDD_MONO_E320\":\"yes\",\n",
        "        \"ATT_TX\":\"0\",\n",
        "        \"ATT_RX\":\"0\",\n",
        "        \"MAX_RXGAIN\":\"114\",\n",
        "        \"SDR_ADDRS\":f\"addr={sdrip}\",\n",
        "        \"THREAD_PARALLEL_CONFIG\":\"PARALLEL_SINGLE_THREAD\",\n",
        "        \"USE_ADDITIONAL_OPTIONS\":\"--sa --usrp-tx-thread-config 1 -E --gNBs.[0].min_rxtxtime 6 --RUs.[0].max_pdschReferenceSignalPower -5\"\n",
        "    },\n",
        "    nets = [\n",
        "        { \"network\" : corenet['id']  },\n",
        "        { \"network\" : sdrnet['id'] },\n",
        "    ],\n",
        "    #entrypoint = [\"sleep\", \"infinity\"],\n",
        "    labels = {\n",
        "        \"networks.1.interface\":\"ens1f1\",\n",
        "        \"networks.1.ip\":\"192.168.70.139/26\",\n",
        "        \"networks.2.interface\":\"eno12409np1\",\n",
        "        \"networks.2.ip\":f\"10.30.1.200/24\",\n",
        "        \"capabilities.privileged\":\"true\",\n",
        "        \"resources.limits.memory\":\"32000Mi\",\n",
        "        \"resources.limits.cpu\":\"15\",\n",
        "        \"resources.requests.memory\":\"32000Mi\",\n",
        "        \"resources.requests.cpu\":\"15\"\n",
        "    },\n",
        ")\n",
        "chi.container.wait_for_active(f\"5g-gnodeb-01\")\n",
        "logger.success(f\"created 5g-gnodeb-01 container.\")"
      ],
      "metadata": {
        "colab": {
          "base_uri": "https://localhost:8080/"
        },
        "id": "KNPWOgj97oDZ",
        "outputId": "4e947b28-5010-4ae4-c220-5b1d6762b5de"
      },
      "execution_count": 28,
      "outputs": [
        {
          "output_type": "stream",
          "name": "stderr",
          "text": [
            "\u001b[32m2023-08-06 23:26:53.559\u001b[0m | \u001b[32m\u001b[1mSUCCESS \u001b[0m | \u001b[36m__main__\u001b[0m:\u001b[36m<cell line: 44>\u001b[0m:\u001b[36m44\u001b[0m - \u001b[32m\u001b[1mcreated 5g-gnodeb-01 container.\u001b[0m\n"
          ]
        }
      ]
    },
    {
      "cell_type": "markdown",
      "source": [
        "Run nrUE on worker-03 using sdr-08."
      ],
      "metadata": {
        "id": "0yXjoiAApZ9m"
      }
    },
    {
      "cell_type": "code",
      "source": [
        "# find sdr network\n",
        "sdrname = \"sdr-08\"\n",
        "sdrnet = chi.network.get_network(sdrname+\"-net\")\n",
        "sdrip = \"10.30.1.16\"\n",
        "\n",
        "# NOTE: do not set the ip to 10.30.1.100\n",
        "e320_ue_rx_gain = 70 # max 71?\n",
        "e320_ue_tx_gain = 80 # max 89.75\n",
        "chi.container.create_container(\n",
        "    name = f\"5g-nrue-01\",\n",
        "    image = \"samiemostafavi/expeca-oai-nr-ue\",\n",
        "    reservation_id = worker03_reservation_id,\n",
        "    environment = {\n",
        "      \"FULL_IMSI\":\"001010000000001\",\n",
        "      \"FULL_KEY\":\"fec86ba6eb707ed08905757b1bb44b8f\",\n",
        "      \"OPC\":\"C42449363BBAD02B66D16BC975D77CC1\",\n",
        "      \"DNN\":\"oai\",\n",
        "      \"NSSAI_SST\":\"1\",\n",
        "      \"USE_ADDITIONAL_OPTIONS\": \"-r 106 --numerology 1 --band 78 -C 3619200000 --nokrnmod --sa -E --uicc0.imsi 001010000000001\"\\\n",
        "                                f\"--uicc0.nssai_sd 1 --usrp-args addr={sdrip} --ue-fo-compensation --ue-rxgain {e320_ue_rx_gain+44} --ue-txgain {89.75-e320_ue_tx_gain} --ue-max-power 0\"\n",
        "    },\n",
        "    nets = [\n",
        "        { \"network\" : sdrnet['id'] },\n",
        "    ],\n",
        "    labels = {\n",
        "        \"networks.1.interface\":\"eno12409np1\",\n",
        "        \"networks.1.ip\":f\"10.30.1.200/24\",\n",
        "        \"capabilities.privileged\":\"true\",\n",
        "        \"resources.limits.memory\":\"32000Mi\",\n",
        "        \"resources.limits.cpu\":\"15\",\n",
        "        \"resources.requests.memory\":\"32000Mi\",\n",
        "        \"resources.requests.cpu\":\"15\",\n",
        "    },\n",
        ")\n",
        "chi.container.wait_for_active(f\"5g-nrue-01\")\n",
        "logger.success(f\"created 5g-nrue-01 container.\")"
      ],
      "metadata": {
        "colab": {
          "base_uri": "https://localhost:8080/"
        },
        "id": "SiwwlTuX8xUg",
        "outputId": "45093794-b358-4842-f0bb-16ee18aa1fc9"
      },
      "execution_count": 30,
      "outputs": [
        {
          "output_type": "stream",
          "name": "stderr",
          "text": [
            "\u001b[32m2023-08-06 23:30:25.590\u001b[0m | \u001b[32m\u001b[1mSUCCESS \u001b[0m | \u001b[36m__main__\u001b[0m:\u001b[36m<cell line: 42>\u001b[0m:\u001b[36m42\u001b[0m - \u001b[32m\u001b[1mcreated 5g-nrue-01 container.\u001b[0m\n"
          ]
        }
      ]
    },
    {
      "cell_type": "markdown",
      "source": [
        "CAUTION: In this cell we tear down all the configurations and release the reserved resources. The project will be clean afterwards."
      ],
      "metadata": {
        "id": "fRL16_YHsjC5"
      }
    },
    {
      "cell_type": "code",
      "source": [
        "# Remove everything and clean up\n",
        "\n",
        "status = get_container_status(\"5g-nrue-01\")\n",
        "if status:\n",
        "    chi.container.destroy_container(\"5g-nrue-01\")\n",
        "    wait_until_container_removed(\"5g-nrue-01\")\n",
        "\n",
        "status = get_container_status(\"5g-gnodeb-01\")\n",
        "if status:\n",
        "    chi.container.destroy_container(\"5g-gnodeb-01\")\n",
        "    wait_until_container_removed(\"5g-gnodeb-01\")\n",
        "\n",
        "status = get_container_status(\"5gcn-7-spgwu\")\n",
        "if status:\n",
        "    chi.container.destroy_container(\"5gcn-7-spgwu\")\n",
        "    wait_until_container_removed(\"5gcn-7-spgwu\")\n",
        "\n",
        "status = get_container_status(\"5gcn-6-smf\")\n",
        "if status:\n",
        "    chi.container.destroy_container(\"5gcn-6-smf\")\n",
        "    wait_until_container_removed(\"5gcn-6-smf\")\n",
        "\n",
        "status = get_container_status(\"5gcn-5-amf\")\n",
        "if status:\n",
        "    chi.container.destroy_container(\"5gcn-5-amf\")\n",
        "    wait_until_container_removed(\"5gcn-5-amf\")\n",
        "\n",
        "status = get_container_status(\"5gcn-4-ausf\")\n",
        "if status:\n",
        "    chi.container.destroy_container(\"5gcn-4-ausf\")\n",
        "    wait_until_container_removed(\"5gcn-4-ausf\")\n",
        "\n",
        "status = get_container_status(\"5gcn-3-udm\")\n",
        "if status:\n",
        "    chi.container.destroy_container(\"5gcn-3-udm\")\n",
        "    wait_until_container_removed(\"5gcn-3-udm\")\n",
        "\n",
        "status = get_container_status(\"5gcn-2-udr\")\n",
        "if status:\n",
        "    chi.container.destroy_container(\"5gcn-2-udr\")\n",
        "    wait_until_container_removed(\"5gcn-2-udr\")\n",
        "\n",
        "status = get_container_status(\"5gcn-1-mysql\")\n",
        "if status:\n",
        "    chi.container.destroy_container(\"5gcn-1-mysql\")\n",
        "    wait_until_container_removed(\"5gcn-1-mysql\")\n",
        "\n",
        "logger.info(f\"stopped and removed all containers\")\n",
        "\n",
        "corenet = None\n",
        "try:\n",
        "    corenet = chi.network.get_network(\"5gcn-net\")\n",
        "except Exception as ex:\n",
        "    logger.info(f\"could not find 5gcn-net.\")\n",
        "\n",
        "if corenet:\n",
        "    chi.network.delete_network(corenet[\"id\"])\n",
        "    logger.success(f\"deleted the 5gcn-net\")\n",
        "\n",
        "# remove the leases\n",
        "unreserve_byid(sdr02_lease[\"id\"])\n",
        "unreserve_byid(sdr03_lease[\"id\"])\n",
        "unreserve_byid(sdr08_lease[\"id\"])\n",
        "unreserve_byid(worker01_lease[\"id\"])\n",
        "unreserve_byid(worker02_lease[\"id\"])\n",
        "unreserve_byid(worker03_lease[\"id\"])"
      ],
      "metadata": {
        "colab": {
          "base_uri": "https://localhost:8080/"
        },
        "id": "Bbme5W7isiQa",
        "outputId": "167813a5-457f-490b-891b-3f3251685d5e"
      },
      "execution_count": 32,
      "outputs": [
        {
          "output_type": "stream",
          "name": "stderr",
          "text": [
            "\u001b[32m2023-08-06 23:47:01.968\u001b[0m | \u001b[1mINFO    \u001b[0m | \u001b[36m__main__\u001b[0m:\u001b[36m<cell line: 46>\u001b[0m:\u001b[36m46\u001b[0m - \u001b[1mstopped and removed all containers\u001b[0m\n",
            "\u001b[32m2023-08-06 23:47:09.064\u001b[0m | \u001b[32m\u001b[1mSUCCESS \u001b[0m | \u001b[36m__main__\u001b[0m:\u001b[36m<cell line: 54>\u001b[0m:\u001b[36m56\u001b[0m - \u001b[32m\u001b[1mdeleted the 5gcn-net\u001b[0m\n",
            "\u001b[32m2023-08-06 23:47:09.912\u001b[0m | \u001b[1mINFO    \u001b[0m | \u001b[36mchi.expeca\u001b[0m:\u001b[36mremove_lease\u001b[0m:\u001b[36m84\u001b[0m - \u001b[1mRemoving sdr-02-lease reservation with id 190074bf-d532-4ca4-8386-392a02f4359b.\u001b[0m\n",
            "\u001b[32m2023-08-06 23:47:24.593\u001b[0m | \u001b[1mINFO    \u001b[0m | \u001b[36mchi.expeca\u001b[0m:\u001b[36mwait_until_lease_status\u001b[0m:\u001b[36m62\u001b[0m - \u001b[1mwaiting 120 seconds for sdr-02-lease with id 190074bf-d532-4ca4-8386-392a02f4359b to become \"None\"\u001b[0m\n",
            "\u001b[32m2023-08-06 23:47:29.869\u001b[0m | \u001b[1mINFO    \u001b[0m | \u001b[36mchi.expeca\u001b[0m:\u001b[36mwait_until_lease_status\u001b[0m:\u001b[36m69\u001b[0m - \u001b[1mlease sdr-02-lease with id 190074bf-d532-4ca4-8386-392a02f4359b is None.\u001b[0m\n",
            "\u001b[32m2023-08-06 23:47:29.871\u001b[0m | \u001b[32m\u001b[1mSUCCESS \u001b[0m | \u001b[36mchi.expeca\u001b[0m:\u001b[36mtry_to_remove\u001b[0m:\u001b[36m95\u001b[0m - \u001b[32m\u001b[1mdone\u001b[0m\n",
            "\u001b[32m2023-08-06 23:47:30.267\u001b[0m | \u001b[1mINFO    \u001b[0m | \u001b[36mchi.expeca\u001b[0m:\u001b[36mremove_lease\u001b[0m:\u001b[36m84\u001b[0m - \u001b[1mRemoving sdr-03-lease reservation with id 4793fee5-4a64-4fd6-9186-7e019d821ce3.\u001b[0m\n",
            "\u001b[32m2023-08-06 23:47:44.323\u001b[0m | \u001b[1mINFO    \u001b[0m | \u001b[36mchi.expeca\u001b[0m:\u001b[36mwait_until_lease_status\u001b[0m:\u001b[36m62\u001b[0m - \u001b[1mwaiting 120 seconds for sdr-03-lease with id 4793fee5-4a64-4fd6-9186-7e019d821ce3 to become \"None\"\u001b[0m\n",
            "\u001b[32m2023-08-06 23:47:49.598\u001b[0m | \u001b[1mINFO    \u001b[0m | \u001b[36mchi.expeca\u001b[0m:\u001b[36mwait_until_lease_status\u001b[0m:\u001b[36m69\u001b[0m - \u001b[1mlease sdr-03-lease with id 4793fee5-4a64-4fd6-9186-7e019d821ce3 is None.\u001b[0m\n",
            "\u001b[32m2023-08-06 23:47:49.601\u001b[0m | \u001b[32m\u001b[1mSUCCESS \u001b[0m | \u001b[36mchi.expeca\u001b[0m:\u001b[36mtry_to_remove\u001b[0m:\u001b[36m95\u001b[0m - \u001b[32m\u001b[1mdone\u001b[0m\n",
            "\u001b[32m2023-08-06 23:47:49.886\u001b[0m | \u001b[1mINFO    \u001b[0m | \u001b[36mchi.expeca\u001b[0m:\u001b[36mremove_lease\u001b[0m:\u001b[36m84\u001b[0m - \u001b[1mRemoving sdr-08-lease reservation with id 9a2920b1-8b4a-4cd6-9af2-ed71548b98b1.\u001b[0m\n",
            "\u001b[32m2023-08-06 23:48:03.951\u001b[0m | \u001b[1mINFO    \u001b[0m | \u001b[36mchi.expeca\u001b[0m:\u001b[36mwait_until_lease_status\u001b[0m:\u001b[36m62\u001b[0m - \u001b[1mwaiting 120 seconds for sdr-08-lease with id 9a2920b1-8b4a-4cd6-9af2-ed71548b98b1 to become \"None\"\u001b[0m\n",
            "\u001b[32m2023-08-06 23:48:09.227\u001b[0m | \u001b[1mINFO    \u001b[0m | \u001b[36mchi.expeca\u001b[0m:\u001b[36mwait_until_lease_status\u001b[0m:\u001b[36m69\u001b[0m - \u001b[1mlease sdr-08-lease with id 9a2920b1-8b4a-4cd6-9af2-ed71548b98b1 is None.\u001b[0m\n",
            "\u001b[32m2023-08-06 23:48:09.229\u001b[0m | \u001b[32m\u001b[1mSUCCESS \u001b[0m | \u001b[36mchi.expeca\u001b[0m:\u001b[36mtry_to_remove\u001b[0m:\u001b[36m95\u001b[0m - \u001b[32m\u001b[1mdone\u001b[0m\n",
            "\u001b[32m2023-08-06 23:48:09.504\u001b[0m | \u001b[1mINFO    \u001b[0m | \u001b[36mchi.expeca\u001b[0m:\u001b[36mremove_lease\u001b[0m:\u001b[36m84\u001b[0m - \u001b[1mRemoving worker-01-lease reservation with id 8857b02b-e752-4d04-8876-2014006eab67.\u001b[0m\n",
            "\u001b[32m2023-08-06 23:48:11.171\u001b[0m | \u001b[1mINFO    \u001b[0m | \u001b[36mchi.expeca\u001b[0m:\u001b[36mwait_until_lease_status\u001b[0m:\u001b[36m62\u001b[0m - \u001b[1mwaiting 120 seconds for worker-01-lease with id 8857b02b-e752-4d04-8876-2014006eab67 to become \"None\"\u001b[0m\n",
            "\u001b[32m2023-08-06 23:48:16.451\u001b[0m | \u001b[1mINFO    \u001b[0m | \u001b[36mchi.expeca\u001b[0m:\u001b[36mwait_until_lease_status\u001b[0m:\u001b[36m69\u001b[0m - \u001b[1mlease worker-01-lease with id 8857b02b-e752-4d04-8876-2014006eab67 is None.\u001b[0m\n",
            "\u001b[32m2023-08-06 23:48:16.453\u001b[0m | \u001b[32m\u001b[1mSUCCESS \u001b[0m | \u001b[36mchi.expeca\u001b[0m:\u001b[36mtry_to_remove\u001b[0m:\u001b[36m95\u001b[0m - \u001b[32m\u001b[1mdone\u001b[0m\n",
            "\u001b[32m2023-08-06 23:48:16.721\u001b[0m | \u001b[1mINFO    \u001b[0m | \u001b[36mchi.expeca\u001b[0m:\u001b[36mremove_lease\u001b[0m:\u001b[36m84\u001b[0m - \u001b[1mRemoving worker-02-lease reservation with id bd2e0bed-2b3e-46b8-b272-5250ca988fd0.\u001b[0m\n",
            "\u001b[32m2023-08-06 23:48:18.171\u001b[0m | \u001b[1mINFO    \u001b[0m | \u001b[36mchi.expeca\u001b[0m:\u001b[36mwait_until_lease_status\u001b[0m:\u001b[36m62\u001b[0m - \u001b[1mwaiting 120 seconds for worker-02-lease with id bd2e0bed-2b3e-46b8-b272-5250ca988fd0 to become \"None\"\u001b[0m\n",
            "\u001b[32m2023-08-06 23:48:23.438\u001b[0m | \u001b[1mINFO    \u001b[0m | \u001b[36mchi.expeca\u001b[0m:\u001b[36mwait_until_lease_status\u001b[0m:\u001b[36m69\u001b[0m - \u001b[1mlease worker-02-lease with id bd2e0bed-2b3e-46b8-b272-5250ca988fd0 is None.\u001b[0m\n",
            "\u001b[32m2023-08-06 23:48:23.439\u001b[0m | \u001b[32m\u001b[1mSUCCESS \u001b[0m | \u001b[36mchi.expeca\u001b[0m:\u001b[36mtry_to_remove\u001b[0m:\u001b[36m95\u001b[0m - \u001b[32m\u001b[1mdone\u001b[0m\n",
            "\u001b[32m2023-08-06 23:48:23.688\u001b[0m | \u001b[1mINFO    \u001b[0m | \u001b[36mchi.expeca\u001b[0m:\u001b[36mremove_lease\u001b[0m:\u001b[36m84\u001b[0m - \u001b[1mRemoving worker-03-lease reservation with id 9dce53fb-e391-4d30-a933-68c52c864c3b.\u001b[0m\n",
            "\u001b[32m2023-08-06 23:48:25.059\u001b[0m | \u001b[1mINFO    \u001b[0m | \u001b[36mchi.expeca\u001b[0m:\u001b[36mwait_until_lease_status\u001b[0m:\u001b[36m62\u001b[0m - \u001b[1mwaiting 120 seconds for worker-03-lease with id 9dce53fb-e391-4d30-a933-68c52c864c3b to become \"None\"\u001b[0m\n",
            "\u001b[32m2023-08-06 23:48:30.335\u001b[0m | \u001b[1mINFO    \u001b[0m | \u001b[36mchi.expeca\u001b[0m:\u001b[36mwait_until_lease_status\u001b[0m:\u001b[36m69\u001b[0m - \u001b[1mlease worker-03-lease with id 9dce53fb-e391-4d30-a933-68c52c864c3b is None.\u001b[0m\n",
            "\u001b[32m2023-08-06 23:48:30.337\u001b[0m | \u001b[32m\u001b[1mSUCCESS \u001b[0m | \u001b[36mchi.expeca\u001b[0m:\u001b[36mtry_to_remove\u001b[0m:\u001b[36m95\u001b[0m - \u001b[32m\u001b[1mdone\u001b[0m\n"
          ]
        }
      ]
    }
  ]
}