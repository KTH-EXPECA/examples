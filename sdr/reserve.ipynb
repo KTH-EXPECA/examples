{
  "nbformat": 4,
  "nbformat_minor": 0,
  "metadata": {
    "colab": {
      "provenance": [],
      "collapsed_sections": [
        "W9YICZf_mJBy",
        "Rd4EsDjdqRFU",
        "qGLRVmiXHmf4",
        "9y4TchLY9jVx",
        "3CCjzjCT-oIl",
        "p2joHHj_EZtq"
      ],
      "authorship_tag": "ABX9TyOeEeFwgzpiwyNYpw5NS3ai",
      "include_colab_link": true
    },
    "kernelspec": {
      "name": "python3",
      "display_name": "Python 3"
    },
    "language_info": {
      "name": "python"
    }
  },
  "cells": [
    {
      "cell_type": "markdown",
      "metadata": {
        "id": "view-in-github",
        "colab_type": "text"
      },
      "source": [
        "<a href=\"https://colab.research.google.com/github/KTH-EXPECA/examples/blob/main/tecosa_demo_1.ipynb\" target=\"_parent\"><img src=\"https://colab.research.google.com/assets/colab-badge.svg\" alt=\"Open In Colab\"/></a>"
      ]
    },
    {
      "cell_type": "markdown",
      "source": [
        "# Authentication and Dependencies\n",
        "\n",
        "Login to Chameleon and download openrc.sh file from [here](https://testbed.expeca.proj.kth.se/project/api_access/openrc/). Upload it here next to this notebook and continue.\n",
        "\n",
        "In the next cell, we setup the authentication method to be able to use Openstack clients."
      ],
      "metadata": {
        "id": "W9YICZf_mJBy"
      }
    },
    {
      "cell_type": "code",
      "source": [
        "import os, re\n",
        "from getpass import getpass\n",
        "\n",
        "with open('/content/demo_project-openrc.sh', 'r') as f:\n",
        "    script_content = f.read()\n",
        "    pattern = r'export\\s+(\\w+)\\s*=\\s*(\"[^\"]+\"|[^\"\\n]+)'\n",
        "    matches = re.findall(pattern, script_content)\n",
        "\n",
        "    for name, value in matches:\n",
        "        os.environ[name] = value.strip('\"')\n",
        "\n",
        "password = getpass('enter your expeca password:')\n",
        "os.environ['OS_PASSWORD'] = password"
      ],
      "metadata": {
        "colab": {
          "base_uri": "https://localhost:8080/"
        },
        "id": "KLT-J26lJ5ae",
        "outputId": "6f782877-8953-437b-c0df-fdf71f4c50f0"
      },
      "execution_count": 3,
      "outputs": [
        {
          "name": "stdout",
          "output_type": "stream",
          "text": [
            "enter your expeca password:··········\n"
          ]
        }
      ]
    },
    {
      "cell_type": "markdown",
      "source": [
        "Install required packages and dependencies. Ignore the warnings."
      ],
      "metadata": {
        "id": "5bXlipy4m1bs"
      }
    },
    {
      "cell_type": "code",
      "source": [
        "!pip uninstall -q -y moviepy\n",
        "!pip install -q jedi\n",
        "!pip install -q git+https://github.com/KTH-EXPECA/python-chi"
      ],
      "metadata": {
        "colab": {
          "base_uri": "https://localhost:8080/"
        },
        "id": "3uZ_rN5iFlhp",
        "outputId": "39451229-df16-462e-916c-13c922946851"
      },
      "execution_count": 4,
      "outputs": [
        {
          "output_type": "stream",
          "name": "stdout",
          "text": [
            "\u001b[?25l     \u001b[90m━━━━━━━━━━━━━━━━━━━━━━━━━━━━━━━━━━━━━━━━\u001b[0m \u001b[32m0.0/1.6 MB\u001b[0m \u001b[31m?\u001b[0m eta \u001b[36m-:--:--\u001b[0m\r\u001b[2K     \u001b[91m━━━\u001b[0m\u001b[90m╺\u001b[0m\u001b[90m━━━━━━━━━━━━━━━━━━━━━━━━━━━━━━━━━━━━\u001b[0m \u001b[32m0.1/1.6 MB\u001b[0m \u001b[31m3.8 MB/s\u001b[0m eta \u001b[36m0:00:01\u001b[0m\r\u001b[2K     \u001b[91m━━━━━━━━━━━━━━\u001b[0m\u001b[91m╸\u001b[0m\u001b[90m━━━━━━━━━━━━━━━━━━━━━━━━━\u001b[0m \u001b[32m0.6/1.6 MB\u001b[0m \u001b[31m8.6 MB/s\u001b[0m eta \u001b[36m0:00:01\u001b[0m\r\u001b[2K     \u001b[91m━━━━━━━━━━━━━━━━━━━━━━━━━━━━\u001b[0m\u001b[90m╺\u001b[0m\u001b[90m━━━━━━━━━━━\u001b[0m \u001b[32m1.1/1.6 MB\u001b[0m \u001b[31m10.8 MB/s\u001b[0m eta \u001b[36m0:00:01\u001b[0m\r\u001b[2K     \u001b[91m━━━━━━━━━━━━━━━━━━━━━━━━━━━━━━━━━━━━━━━\u001b[0m\u001b[91m╸\u001b[0m \u001b[32m1.6/1.6 MB\u001b[0m \u001b[31m12.5 MB/s\u001b[0m eta \u001b[36m0:00:01\u001b[0m\r\u001b[2K     \u001b[90m━━━━━━━━━━━━━━━━━━━━━━━━━━━━━━━━━━━━━━━━\u001b[0m \u001b[32m1.6/1.6 MB\u001b[0m \u001b[31m11.2 MB/s\u001b[0m eta \u001b[36m0:00:00\u001b[0m\n",
            "\u001b[?25h  Preparing metadata (setup.py) ... \u001b[?25l\u001b[?25hdone\n",
            "  Preparing metadata (setup.py) ... \u001b[?25l\u001b[?25hdone\n",
            "\u001b[2K     \u001b[90m━━━━━━━━━━━━━━━━━━━━━━━━━━━━━━━━━━━━━━━━\u001b[0m \u001b[32m59.4/59.4 kB\u001b[0m \u001b[31m4.6 MB/s\u001b[0m eta \u001b[36m0:00:00\u001b[0m\n",
            "\u001b[2K     \u001b[90m━━━━━━━━━━━━━━━━━━━━━━━━━━━━━━━━━━━━━━━━\u001b[0m \u001b[32m66.5/66.5 kB\u001b[0m \u001b[31m2.8 MB/s\u001b[0m eta \u001b[36m0:00:00\u001b[0m\n",
            "\u001b[2K     \u001b[90m━━━━━━━━━━━━━━━━━━━━━━━━━━━━━━━━━━━━━━\u001b[0m \u001b[32m323.1/323.1 kB\u001b[0m \u001b[31m15.3 MB/s\u001b[0m eta \u001b[36m0:00:00\u001b[0m\n",
            "\u001b[2K     \u001b[90m━━━━━━━━━━━━━━━━━━━━━━━━━━━━━━━━━━━━━━━━\u001b[0m \u001b[32m1.7/1.7 MB\u001b[0m \u001b[31m63.1 MB/s\u001b[0m eta \u001b[36m0:00:00\u001b[0m\n",
            "\u001b[2K     \u001b[90m━━━━━━━━━━━━━━━━━━━━━━━━━━━━━━━━━━━━━━\u001b[0m \u001b[32m224.8/224.8 kB\u001b[0m \u001b[31m23.6 MB/s\u001b[0m eta \u001b[36m0:00:00\u001b[0m\n",
            "\u001b[2K     \u001b[90m━━━━━━━━━━━━━━━━━━━━━━━━━━━━━━━━━━━━━━━━\u001b[0m \u001b[32m60.0/60.0 kB\u001b[0m \u001b[31m7.3 MB/s\u001b[0m eta \u001b[36m0:00:00\u001b[0m\n",
            "\u001b[2K     \u001b[90m━━━━━━━━━━━━━━━━━━━━━━━━━━━━━━━━━━━━━━\u001b[0m \u001b[32m255.9/255.9 kB\u001b[0m \u001b[31m23.4 MB/s\u001b[0m eta \u001b[36m0:00:00\u001b[0m\n",
            "\u001b[2K     \u001b[90m━━━━━━━━━━━━━━━━━━━━━━━━━━━━━━━━━━━━━━\u001b[0m \u001b[32m205.4/205.4 kB\u001b[0m \u001b[31m25.2 MB/s\u001b[0m eta \u001b[36m0:00:00\u001b[0m\n",
            "\u001b[2K     \u001b[90m━━━━━━━━━━━━━━━━━━━━━━━━━━━━━━━━━━━━━━\u001b[0m \u001b[32m250.5/250.5 kB\u001b[0m \u001b[31m25.8 MB/s\u001b[0m eta \u001b[36m0:00:00\u001b[0m\n",
            "\u001b[2K     \u001b[90m━━━━━━━━━━━━━━━━━━━━━━━━━━━━━━━━━━━━━━\u001b[0m \u001b[32m487.8/487.8 kB\u001b[0m \u001b[31m32.1 MB/s\u001b[0m eta \u001b[36m0:00:00\u001b[0m\n",
            "\u001b[2K     \u001b[90m━━━━━━━━━━━━━━━━━━━━━━━━━━━━━━━━━━━━━━\u001b[0m \u001b[32m293.6/293.6 kB\u001b[0m \u001b[31m31.5 MB/s\u001b[0m eta \u001b[36m0:00:00\u001b[0m\n",
            "\u001b[2K     \u001b[90m━━━━━━━━━━━━━━━━━━━━━━━━━━━━━━━━━━━━━━\u001b[0m \u001b[32m335.9/335.9 kB\u001b[0m \u001b[31m33.7 MB/s\u001b[0m eta \u001b[36m0:00:00\u001b[0m\n",
            "\u001b[2K     \u001b[90m━━━━━━━━━━━━━━━━━━━━━━━━━━━━━━━━━━━━━━\u001b[0m \u001b[32m155.1/155.1 kB\u001b[0m \u001b[31m18.0 MB/s\u001b[0m eta \u001b[36m0:00:00\u001b[0m\n",
            "\u001b[2K     \u001b[90m━━━━━━━━━━━━━━━━━━━━━━━━━━━━━━━━━━━━━━\u001b[0m \u001b[32m160.3/160.3 kB\u001b[0m \u001b[31m18.2 MB/s\u001b[0m eta \u001b[36m0:00:00\u001b[0m\n",
            "\u001b[2K     \u001b[90m━━━━━━━━━━━━━━━━━━━━━━━━━━━━━━━━━━━━━━\u001b[0m \u001b[32m593.7/593.7 kB\u001b[0m \u001b[31m48.3 MB/s\u001b[0m eta \u001b[36m0:00:00\u001b[0m\n",
            "\u001b[2K     \u001b[90m━━━━━━━━━━━━━━━━━━━━━━━━━━━━━━━━━━━━━━\u001b[0m \u001b[32m856.7/856.7 kB\u001b[0m \u001b[31m59.7 MB/s\u001b[0m eta \u001b[36m0:00:00\u001b[0m\n",
            "\u001b[2K     \u001b[90m━━━━━━━━━━━━━━━━━━━━━━━━━━━━━━━━━━━━━━━━\u001b[0m \u001b[32m80.6/80.6 kB\u001b[0m \u001b[31m7.0 MB/s\u001b[0m eta \u001b[36m0:00:00\u001b[0m\n",
            "\u001b[2K     \u001b[90m━━━━━━━━━━━━━━━━━━━━━━━━━━━━━━━━━━━━━━━━\u001b[0m \u001b[32m53.9/53.9 kB\u001b[0m \u001b[31m5.0 MB/s\u001b[0m eta \u001b[36m0:00:00\u001b[0m\n",
            "\u001b[2K     \u001b[90m━━━━━━━━━━━━━━━━━━━━━━━━━━━━━━━━━━━━━━━━\u001b[0m \u001b[32m49.6/49.6 kB\u001b[0m \u001b[31m5.6 MB/s\u001b[0m eta \u001b[36m0:00:00\u001b[0m\n",
            "\u001b[2K     \u001b[90m━━━━━━━━━━━━━━━━━━━━━━━━━━━━━━━━━━━━━━━━\u001b[0m \u001b[32m52.2/52.2 kB\u001b[0m \u001b[31m5.3 MB/s\u001b[0m eta \u001b[36m0:00:00\u001b[0m\n",
            "\u001b[?25h  Preparing metadata (setup.py) ... \u001b[?25l\u001b[?25hdone\n",
            "\u001b[2K     \u001b[90m━━━━━━━━━━━━━━━━━━━━━━━━━━━━━━━━━━━━━━━━\u001b[0m \u001b[32m46.8/46.8 kB\u001b[0m \u001b[31m2.9 MB/s\u001b[0m eta \u001b[36m0:00:00\u001b[0m\n",
            "\u001b[2K     \u001b[90m━━━━━━━━━━━━━━━━━━━━━━━━━━━━━━━━━━━━━━━━\u001b[0m \u001b[32m76.3/76.3 kB\u001b[0m \u001b[31m9.6 MB/s\u001b[0m eta \u001b[36m0:00:00\u001b[0m\n",
            "\u001b[2K     \u001b[90m━━━━━━━━━━━━━━━━━━━━━━━━━━━━━━━━━━━━━━\u001b[0m \u001b[32m101.1/101.1 kB\u001b[0m \u001b[31m12.9 MB/s\u001b[0m eta \u001b[36m0:00:00\u001b[0m\n",
            "\u001b[2K     \u001b[90m━━━━━━━━━━━━━━━━━━━━━━━━━━━━━━━━━━━━━━━━\u001b[0m \u001b[32m89.2/89.2 kB\u001b[0m \u001b[31m10.7 MB/s\u001b[0m eta \u001b[36m0:00:00\u001b[0m\n",
            "\u001b[2K     \u001b[90m━━━━━━━━━━━━━━━━━━━━━━━━━━━━━━━━━━━━━━\u001b[0m \u001b[32m128.6/128.6 kB\u001b[0m \u001b[31m14.3 MB/s\u001b[0m eta \u001b[36m0:00:00\u001b[0m\n",
            "\u001b[2K     \u001b[90m━━━━━━━━━━━━━━━━━━━━━━━━━━━━━━━━━━━━━━\u001b[0m \u001b[32m398.6/398.6 kB\u001b[0m \u001b[31m40.3 MB/s\u001b[0m eta \u001b[36m0:00:00\u001b[0m\n",
            "\u001b[2K     \u001b[90m━━━━━━━━━━━━━━━━━━━━━━━━━━━━━━━━━━━━━━\u001b[0m \u001b[32m137.9/137.9 kB\u001b[0m \u001b[31m13.9 MB/s\u001b[0m eta \u001b[36m0:00:00\u001b[0m\n",
            "\u001b[2K     \u001b[90m━━━━━━━━━━━━━━━━━━━━━━━━━━━━━━━━━━━━━━━━\u001b[0m \u001b[32m1.9/1.9 MB\u001b[0m \u001b[31m81.8 MB/s\u001b[0m eta \u001b[36m0:00:00\u001b[0m\n",
            "\u001b[2K     \u001b[90m━━━━━━━━━━━━━━━━━━━━━━━━━━━━━━━━━━━━━━\u001b[0m \u001b[32m148.1/148.1 kB\u001b[0m \u001b[31m18.0 MB/s\u001b[0m eta \u001b[36m0:00:00\u001b[0m\n",
            "\u001b[2K     \u001b[90m━━━━━━━━━━━━━━━━━━━━━━━━━━━━━━━━━━━━━━━━\u001b[0m \u001b[32m1.1/1.1 MB\u001b[0m \u001b[31m63.2 MB/s\u001b[0m eta \u001b[36m0:00:00\u001b[0m\n",
            "\u001b[2K     \u001b[90m━━━━━━━━━━━━━━━━━━━━━━━━━━━━━━━━━━━━━━\u001b[0m \u001b[32m147.2/147.2 kB\u001b[0m \u001b[31m16.3 MB/s\u001b[0m eta \u001b[36m0:00:00\u001b[0m\n",
            "\u001b[2K     \u001b[90m━━━━━━━━━━━━━━━━━━━━━━━━━━━━━━━━━━━━━━━━\u001b[0m \u001b[32m61.0/61.0 kB\u001b[0m \u001b[31m5.9 MB/s\u001b[0m eta \u001b[36m0:00:00\u001b[0m\n",
            "\u001b[?25h  Preparing metadata (setup.py) ... \u001b[?25l\u001b[?25hdone\n",
            "\u001b[2K     \u001b[90m━━━━━━━━━━━━━━━━━━━━━━━━━━━━━━━━━━━━━━\u001b[0m \u001b[32m341.8/341.8 kB\u001b[0m \u001b[31m31.1 MB/s\u001b[0m eta \u001b[36m0:00:00\u001b[0m\n",
            "\u001b[?25h  Preparing metadata (setup.py) ... \u001b[?25l\u001b[?25hdone\n",
            "  Building wheel for python-chi (setup.py) ... \u001b[?25l\u001b[?25hdone\n",
            "  Building wheel for python-blazarclient (setup.py) ... \u001b[?25l\u001b[?25hdone\n",
            "  Building wheel for netifaces (setup.py) ... \u001b[?25l\u001b[?25hdone\n",
            "  Building wheel for pyinotify (setup.py) ... \u001b[?25l\u001b[?25hdone\n",
            "  Building wheel for pyperclip (setup.py) ... \u001b[?25l\u001b[?25hdone\n"
          ]
        }
      ]
    },
    {
      "cell_type": "markdown",
      "source": [
        "Import packages"
      ],
      "metadata": {
        "id": "VkDR3RsFpKSv"
      }
    },
    {
      "cell_type": "code",
      "execution_count": 5,
      "metadata": {
        "id": "gWqW34Pc7YJp"
      },
      "outputs": [],
      "source": [
        "import json, time\n",
        "from loguru import logger\n",
        "import chi.network, chi.container, chi.network\n",
        "from chi.expeca import reserve, list_reservations, unreserve_byid, get_container_status, wait_until_container_removed, show_reservation_byname, restart_sdr, make_sdr_ni, make_sdr_mango, sdr_tools"
      ]
    },
    {
      "cell_type": "markdown",
      "source": [
        "# Reserve resources\n",
        "\n",
        "In the next cell, we reserve the required equipment and resources to form an end to end sdr wifi setup. We reserve 2 SDRs and 1 workers."
      ],
      "metadata": {
        "id": "Rd4EsDjdqRFU"
      }
    },
    {
      "cell_type": "code",
      "source": [
        "# reserve sdr-09 RJ45\n",
        "sdr09_lease = show_reservation_byname(\"sdr-09-lease\")\n",
        "if not sdr09_lease:\n",
        "    sdr09_lease = reserve(\n",
        "        { \"type\":\"network\", \"name\": \"sdr-09\", \"net_name\": \"sdr-09\", \"segment_id\": \"117\", \"duration\": { \"days\":7, \"hours\":0 } }\n",
        "    )\n",
        "\n",
        "# reserve sdr-04 RJ45\n",
        "sdr04_lease = show_reservation_byname(\"sdr-04-lease\")\n",
        "if not sdr04_lease:\n",
        "    sdr04_lease = reserve(\n",
        "        { \"type\":\"network\", \"name\": \"sdr-04\", \"net_name\": \"sdr-04\", \"segment_id\": \"107\", \"duration\": { \"days\":7, \"hours\":0 } }\n",
        "    )\n",
        "\n",
        "# reserve worker-04\n",
        "worker10_lease = show_reservation_byname(\"worker-10-lease\")\n",
        "if not worker10_lease:\n",
        "    worker10_lease = reserve(\n",
        "        { \"type\":\"device\", \"name\":\"worker-10\", \"duration\": { \"days\":7, \"hours\":0 } }\n",
        "    )\n",
        "worker10_reservation_id = worker10_lease[\"reservations\"][0][\"id\"]\n",
        "\n",
        "\n",
        "leaseslist = list_reservations(brief=True)\n",
        "print(json.dumps(leaseslist,indent=4))"
      ],
      "metadata": {
        "colab": {
          "base_uri": "https://localhost:8080/"
        },
        "id": "1pauMnGZ8KSP",
        "outputId": "421c92bf-5236-4621-ce2a-c1de3809cd9e"
      },
      "execution_count": 6,
      "outputs": [
        {
          "output_type": "stream",
          "name": "stdout",
          "text": [
            "[\n",
            "    {\n",
            "        \"name\": \"sdr-09-lease\",\n",
            "        \"id\": \"0c9e0e6e-d013-425f-a390-8e0ba8f97b4e\",\n",
            "        \"reservation_id\": \"83497084-1f33-4d3c-b19b-ccb24d17207d\",\n",
            "        \"status\": \"ACTIVE\",\n",
            "        \"end_date\": \"2023-09-08T07:43:00.000000\"\n",
            "    },\n",
            "    {\n",
            "        \"name\": \"sdr-04-lease\",\n",
            "        \"id\": \"a1b54b97-a4f0-4b7f-be68-e98dae815019\",\n",
            "        \"reservation_id\": \"82cc3ae6-9262-48bb-91e8-0c3b02024566\",\n",
            "        \"status\": \"ACTIVE\",\n",
            "        \"end_date\": \"2023-09-08T07:12:00.000000\"\n",
            "    },\n",
            "    {\n",
            "        \"name\": \"worker-10-lease\",\n",
            "        \"id\": \"a504e12a-8564-4b02-9c4c-fb19b46e6d7f\",\n",
            "        \"reservation_id\": \"8504bcba-6b19-4344-a1ba-9c5a3f550831\",\n",
            "        \"status\": \"ACTIVE\",\n",
            "        \"end_date\": \"2023-09-07T16:25:00.000000\"\n",
            "    }\n",
            "]\n"
          ]
        }
      ]
    },
    {
      "cell_type": "markdown",
      "source": [
        "# Configure the SDRs"
      ],
      "metadata": {
        "id": "tNYpBeUgpn15"
      }
    },
    {
      "cell_type": "markdown",
      "source": [
        "## Change the sdrs' firmwares to Mango"
      ],
      "metadata": {
        "id": "qGLRVmiXHmf4"
      }
    },
    {
      "cell_type": "code",
      "source": [
        "# change sdr-04 design to mango using worker-10\n",
        "sdrname = \"sdr-04\"\n",
        "sdrnet = chi.network.get_network(sdrname+\"-net\")\n",
        "make_sdr_mango(sdrname,sdrnet['id'],worker10_reservation_id,\"ens1\")\n",
        "\n",
        "# wait 10 seconds\n",
        "time.sleep(10)\n",
        "\n",
        "# change sdr-09 design to mango using worker-10\n",
        "sdrname = \"sdr-09\"\n",
        "sdrnet = chi.network.get_network(sdrname+\"-net\")\n",
        "make_sdr_mango(sdrname,sdrnet['id'],worker10_reservation_id,\"ens1\")"
      ],
      "metadata": {
        "colab": {
          "base_uri": "https://localhost:8080/"
        },
        "id": "QV7oHbSu7g5F",
        "outputId": "37a59c5c-4694-4e45-9590-ad207985b59f"
      },
      "execution_count": 5,
      "outputs": [
        {
          "output_type": "stream",
          "name": "stderr",
          "text": [
            "\u001b[32m2023-09-01 08:04:04.639\u001b[0m | \u001b[32m\u001b[1mSUCCESS \u001b[0m | \u001b[36mchi.expeca\u001b[0m:\u001b[36mmake_sdr_mango\u001b[0m:\u001b[36m299\u001b[0m - \u001b[32m\u001b[1mcreated make-sdr-mango container.\u001b[0m\n",
            "\u001b[32m2023-09-01 08:04:04.641\u001b[0m | \u001b[1mINFO    \u001b[0m | \u001b[36mchi.expeca\u001b[0m:\u001b[36mmake_sdr_mango\u001b[0m:\u001b[36m301\u001b[0m - \u001b[1mwaiting 2 minutes for the sdr-09 to change design.\u001b[0m\n",
            "\u001b[32m2023-09-01 08:05:06.410\u001b[0m | \u001b[32m\u001b[1mSUCCESS \u001b[0m | \u001b[36mchi.expeca\u001b[0m:\u001b[36mmake_sdr_mango\u001b[0m:\u001b[36m315\u001b[0m - \u001b[32m\u001b[1mSERVICE=change_design env variable is set\n",
            "running change_design...\n",
            "You have chosen sdr-09 and design mango\n",
            "sdr-09 is reachable: {'mango': {'ip': '10.30.1.17', 'port': '22', 'tenant-port': 'te1/0/26', 'up': False}, 'ni': {'ip': '10.30.1.18', 'port': '22', 'tenant-port': 'te4/0/13', 'up': True}}\n",
            "SSHing to 10.30.1.18, username:root, password: \n",
            "running command on 10.30.1.18: \n",
            "cp /uboot/mango_bootbin/BOOT.bin /uboot/ ; /sbin/reboot > /dev/null 2>&1 &\n",
            "command stdout: \n",
            "\n",
            "command sdterr: \n",
            "\n",
            "Waiting 200 seconds for the new desgin to load\n",
            "10 seconds to the next poll...\n",
            "10 seconds to the next poll...\n",
            "10 seconds to the next poll...\n",
            "10 seconds to the next poll...\n",
            "10 seconds to the next poll...\n",
            "sdr-09 design has been changed to mango\n",
            "\u001b[0m\n",
            "\u001b[32m2023-09-01 08:05:06.772\u001b[0m | \u001b[1mINFO    \u001b[0m | \u001b[36mchi.expeca\u001b[0m:\u001b[36mwait_until_container_removed\u001b[0m:\u001b[36m30\u001b[0m - \u001b[1mwaiting 30 seconds for make-sdr-mango container to be removed\u001b[0m\n",
            "\u001b[32m2023-09-01 08:05:11.927\u001b[0m | \u001b[1mINFO    \u001b[0m | \u001b[36mchi.expeca\u001b[0m:\u001b[36mwait_until_container_removed\u001b[0m:\u001b[36m37\u001b[0m - \u001b[1mcontainer make-sdr-mango is in Deleting state.\u001b[0m\n",
            "\u001b[32m2023-09-01 08:05:17.105\u001b[0m | \u001b[1mINFO    \u001b[0m | \u001b[36mchi.expeca\u001b[0m:\u001b[36mwait_until_container_removed\u001b[0m:\u001b[36m37\u001b[0m - \u001b[1mcontainer make-sdr-mango is in None state.\u001b[0m\n"
          ]
        }
      ]
    },
    {
      "cell_type": "markdown",
      "source": [
        "## Reboot the SDRs"
      ],
      "metadata": {
        "id": "qlEedPyQpdZp"
      }
    },
    {
      "cell_type": "code",
      "source": [
        "# reset SDR-04 using worker-10\n",
        "sdrname = \"sdr-04\"\n",
        "sdrnet = chi.network.get_network(sdrname+\"-net\")\n",
        "restart_sdr(sdrname,sdrnet['id'],worker10_reservation_id,\"ens1\")\n",
        "\n",
        "# wait 10 seconds\n",
        "time.sleep(10)\n",
        "\n",
        "# reset SDR-09 using worker-10\n",
        "sdrname = \"sdr-09\"\n",
        "sdrnet = chi.network.get_network(sdrname+\"-net\")\n",
        "restart_sdr(sdrname,sdrnet['id'],worker10_reservation_id,\"ens1\")"
      ],
      "metadata": {
        "id": "KrijEz7oNkfv",
        "colab": {
          "base_uri": "https://localhost:8080/"
        },
        "outputId": "a012436b-1be0-495a-e1a9-28419f2c3cb7"
      },
      "execution_count": 20,
      "outputs": [
        {
          "output_type": "stream",
          "name": "stderr",
          "text": [
            "\u001b[32m2023-09-01 10:10:24.442\u001b[0m | \u001b[32m\u001b[1mSUCCESS \u001b[0m | \u001b[36mchi.expeca\u001b[0m:\u001b[36mrestart_sdr\u001b[0m:\u001b[36m255\u001b[0m - \u001b[32m\u001b[1mcreated reboot-sdr container.\u001b[0m\n",
            "\u001b[32m2023-09-01 10:10:24.445\u001b[0m | \u001b[1mINFO    \u001b[0m | \u001b[36mchi.expeca\u001b[0m:\u001b[36mrestart_sdr\u001b[0m:\u001b[36m257\u001b[0m - \u001b[1mwaiting 2 minutes for the sdr-09 to reboot.\u001b[0m\n",
            "\u001b[32m2023-09-01 10:11:15.129\u001b[0m | \u001b[32m\u001b[1mSUCCESS \u001b[0m | \u001b[36mchi.expeca\u001b[0m:\u001b[36mrestart_sdr\u001b[0m:\u001b[36m267\u001b[0m - \u001b[32m\u001b[1mSERVICE=reboot env variable is set\n",
            "running reboot...\n",
            "You have chosen sdr-09\n",
            "sdr-09 is reachable: {'mango': {'ip': '10.30.1.17', 'port': '22', 'tenant-port': 'te1/0/26', 'up': True}, 'ni': {'ip': '10.30.1.18', 'port': '22', 'tenant-port': 'te4/0/13'}}\n",
            "SSHing to 10.30.1.17, username:root, password: root\n",
            "running command on 10.30.1.17: \n",
            "/sbin/reboot > /dev/null 2>&1 &\n",
            "Waiting 200 seconds for the sdr to load\n",
            "10 seconds to the next poll...\n",
            "10 seconds to the next poll...\n",
            "10 seconds to the next poll...\n",
            "10 seconds to the next poll...\n",
            "sdr-09 mango is up again.\n",
            "\u001b[0m\n",
            "\u001b[32m2023-09-01 10:11:15.612\u001b[0m | \u001b[1mINFO    \u001b[0m | \u001b[36mchi.expeca\u001b[0m:\u001b[36mwait_until_container_removed\u001b[0m:\u001b[36m30\u001b[0m - \u001b[1mwaiting 30 seconds for reboot-sdr container to be removed\u001b[0m\n",
            "\u001b[32m2023-09-01 10:11:20.836\u001b[0m | \u001b[1mINFO    \u001b[0m | \u001b[36mchi.expeca\u001b[0m:\u001b[36mwait_until_container_removed\u001b[0m:\u001b[36m37\u001b[0m - \u001b[1mcontainer reboot-sdr is in Deleting state.\u001b[0m\n",
            "\u001b[32m2023-09-01 10:11:26.064\u001b[0m | \u001b[1mINFO    \u001b[0m | \u001b[36mchi.expeca\u001b[0m:\u001b[36mwait_until_container_removed\u001b[0m:\u001b[36m37\u001b[0m - \u001b[1mcontainer reboot-sdr is in None state.\u001b[0m\n"
          ]
        }
      ]
    },
    {
      "cell_type": "markdown",
      "source": [
        "## Run a WiFi access point on SDR-04"
      ],
      "metadata": {
        "id": "0yXjoiAApZ9m"
      }
    },
    {
      "cell_type": "code",
      "source": [
        "# make SDR-04 wifi access point using worker-10\n",
        "sdrname = \"sdr-04\"\n",
        "sdrnet = chi.network.get_network(sdrname+\"-net\")\n",
        "sdr_tools(\n",
        "    sdr_name = sdrname,\n",
        "    sdr_net_id = sdrnet['id'],\n",
        "    environment = {\n",
        "        \"SERVICE\":\"start_mango\",\n",
        "        \"DESIGN\":'mango',\n",
        "        \"SDR\":sdrname,\n",
        "        \"SIDE\":'ap',\n",
        "        \"CONFIG\":\"{\\\"mac_addr\\\":\\\"40:d8:55:04:20:19\\\"}\",\n",
        "        \"JSON_PATH\":\"sdrs.json\"\n",
        "    },\n",
        "    waiting_iter = 4,\n",
        "    waiting_sec = 10,\n",
        "    key_str = \"mango is running ap with ip\",\n",
        "    verbose = False,\n",
        "    worker_reservation_id = worker10_reservation_id,\n",
        "    worker_net_interface = \"ens1\"\n",
        ")"
      ],
      "metadata": {
        "colab": {
          "base_uri": "https://localhost:8080/"
        },
        "id": "SiwwlTuX8xUg",
        "outputId": "b8a81848-0934-4a96-eb59-e8ce363597e2"
      },
      "execution_count": 22,
      "outputs": [
        {
          "output_type": "stream",
          "name": "stderr",
          "text": [
            "\u001b[32m2023-09-01 10:13:05.741\u001b[0m | \u001b[32m\u001b[1mSUCCESS \u001b[0m | \u001b[36mchi.expeca\u001b[0m:\u001b[36msdr_tools\u001b[0m:\u001b[36m389\u001b[0m - \u001b[32m\u001b[1mcreated sdr-04-tools container.\u001b[0m\n",
            "\u001b[32m2023-09-01 10:13:05.744\u001b[0m | \u001b[1mINFO    \u001b[0m | \u001b[36mchi.expeca\u001b[0m:\u001b[36msdr_tools\u001b[0m:\u001b[36m391\u001b[0m - \u001b[1mwaiting 4 times each 10 seconds for the sdr-04-tools to apply.\u001b[0m\n",
            "\u001b[32m2023-09-01 10:13:37.995\u001b[0m | \u001b[32m\u001b[1mSUCCESS \u001b[0m | \u001b[36mchi.expeca\u001b[0m:\u001b[36msdr_tools\u001b[0m:\u001b[36m403\u001b[0m - \u001b[32m\u001b[1msdr-04-tools was successful.\u001b[0m\n",
            "\u001b[32m2023-09-01 10:13:38.501\u001b[0m | \u001b[1mINFO    \u001b[0m | \u001b[36mchi.expeca\u001b[0m:\u001b[36mwait_until_container_removed\u001b[0m:\u001b[36m30\u001b[0m - \u001b[1mwaiting 30 seconds for sdr-04-tools container to be removed\u001b[0m\n",
            "\u001b[32m2023-09-01 10:13:43.733\u001b[0m | \u001b[1mINFO    \u001b[0m | \u001b[36mchi.expeca\u001b[0m:\u001b[36mwait_until_container_removed\u001b[0m:\u001b[36m37\u001b[0m - \u001b[1mcontainer sdr-04-tools is in Deleting state.\u001b[0m\n",
            "\u001b[32m2023-09-01 10:13:48.956\u001b[0m | \u001b[1mINFO    \u001b[0m | \u001b[36mchi.expeca\u001b[0m:\u001b[36mwait_until_container_removed\u001b[0m:\u001b[36m37\u001b[0m - \u001b[1mcontainer sdr-04-tools is in None state.\u001b[0m\n"
          ]
        }
      ]
    },
    {
      "cell_type": "markdown",
      "source": [
        "## Run a WiFi station on SDR-09"
      ],
      "metadata": {
        "id": "9y4TchLY9jVx"
      }
    },
    {
      "cell_type": "code",
      "source": [
        "# make SDR-09 wifi access point using worker-10\n",
        "sdrname = \"sdr-09\"\n",
        "sdrnet = chi.network.get_network(sdrname+\"-net\")\n",
        "sdr_tools(\n",
        "    sdr_name = sdrname,\n",
        "    sdr_net_id = sdrnet['id'],\n",
        "    environment = {\n",
        "        \"SERVICE\":\"start_mango\",\n",
        "        \"DESIGN\":'mango',\n",
        "        \"SDR\":sdrname,\n",
        "        \"SIDE\":'sta',\n",
        "        \"CONFIG\":\"{\\\"mac_addr\\\":\\\"40:d8:55:04:20:12\\\"}\",\n",
        "        \"JSON_PATH\":\"sdrs.json\"\n",
        "    },\n",
        "    waiting_iter = 4,\n",
        "    waiting_sec = 10,\n",
        "    key_str = \"mango is running sta with ip\",\n",
        "    verbose = False,\n",
        "    worker_reservation_id = worker10_reservation_id,\n",
        "    worker_net_interface = \"ens1\"\n",
        ")"
      ],
      "metadata": {
        "colab": {
          "base_uri": "https://localhost:8080/"
        },
        "id": "t97YC8Fc9i-L",
        "outputId": "8ba4abfa-9f44-4ca0-e90a-d90c9a7f4892"
      },
      "execution_count": 23,
      "outputs": [
        {
          "output_type": "stream",
          "name": "stderr",
          "text": [
            "\u001b[32m2023-09-01 10:14:26.744\u001b[0m | \u001b[32m\u001b[1mSUCCESS \u001b[0m | \u001b[36mchi.expeca\u001b[0m:\u001b[36msdr_tools\u001b[0m:\u001b[36m389\u001b[0m - \u001b[32m\u001b[1mcreated sdr-09-tools container.\u001b[0m\n",
            "\u001b[32m2023-09-01 10:14:26.746\u001b[0m | \u001b[1mINFO    \u001b[0m | \u001b[36mchi.expeca\u001b[0m:\u001b[36msdr_tools\u001b[0m:\u001b[36m391\u001b[0m - \u001b[1mwaiting 4 times each 10 seconds for the sdr-09-tools to apply.\u001b[0m\n",
            "\u001b[32m2023-09-01 10:14:59.266\u001b[0m | \u001b[32m\u001b[1mSUCCESS \u001b[0m | \u001b[36mchi.expeca\u001b[0m:\u001b[36msdr_tools\u001b[0m:\u001b[36m403\u001b[0m - \u001b[32m\u001b[1msdr-09-tools was successful.\u001b[0m\n",
            "\u001b[32m2023-09-01 10:14:59.740\u001b[0m | \u001b[1mINFO    \u001b[0m | \u001b[36mchi.expeca\u001b[0m:\u001b[36mwait_until_container_removed\u001b[0m:\u001b[36m30\u001b[0m - \u001b[1mwaiting 30 seconds for sdr-09-tools container to be removed\u001b[0m\n",
            "\u001b[32m2023-09-01 10:15:04.981\u001b[0m | \u001b[1mINFO    \u001b[0m | \u001b[36mchi.expeca\u001b[0m:\u001b[36mwait_until_container_removed\u001b[0m:\u001b[36m37\u001b[0m - \u001b[1mcontainer sdr-09-tools is in Deleting state.\u001b[0m\n",
            "\u001b[32m2023-09-01 10:15:10.202\u001b[0m | \u001b[1mINFO    \u001b[0m | \u001b[36mchi.expeca\u001b[0m:\u001b[36mwait_until_container_removed\u001b[0m:\u001b[36m37\u001b[0m - \u001b[1mcontainer sdr-09-tools is in None state.\u001b[0m\n"
          ]
        }
      ]
    },
    {
      "cell_type": "markdown",
      "source": [
        "CAUTION: In this cell we tear down all the configurations and release the reserved resources. The project will be clean afterwards."
      ],
      "metadata": {
        "id": "fRL16_YHsjC5"
      }
    },
    {
      "cell_type": "markdown",
      "source": [
        "## Check connection bandwidth and status\n",
        "\n",
        "check connection bandwidth using iperf3 from the STA SDR"
      ],
      "metadata": {
        "id": "3CCjzjCT-oIl"
      }
    },
    {
      "cell_type": "code",
      "source": [
        "# check connection bandwidth from the STA SDR\n",
        "sdrname = \"sdr-09\"\n",
        "sdrnet = chi.network.get_network(sdrname+\"-net\")\n",
        "sdr_tools(\n",
        "    sdr_name = sdrname,\n",
        "    sdr_net_id = sdrnet['id'],\n",
        "    environment = {\n",
        "        \"SERVICE\":\"check_mango\",\n",
        "        \"SDR\":sdrname,\n",
        "        \"SIDE\":'sta',\n",
        "        \"JSON_PATH\":\"sdrs.json\",\n",
        "        \"SPEED_CHECK\":\"192.168.11.1\"\n",
        "    },\n",
        "    waiting_iter = 1,\n",
        "    waiting_sec = 60,\n",
        "    key_str = \"\",\n",
        "    verbose = True,\n",
        "    worker_reservation_id = worker10_reservation_id,\n",
        "    worker_net_interface = \"ens1\"\n",
        ")"
      ],
      "metadata": {
        "colab": {
          "base_uri": "https://localhost:8080/"
        },
        "id": "gdY44cYJ-onE",
        "outputId": "690849de-5a7b-4f8d-a072-a7dab8ce436b"
      },
      "execution_count": 9,
      "outputs": [
        {
          "output_type": "stream",
          "name": "stderr",
          "text": [
            "\u001b[32m2023-09-01 09:16:44.856\u001b[0m | \u001b[32m\u001b[1mSUCCESS \u001b[0m | \u001b[36mchi.expeca\u001b[0m:\u001b[36msdr_tools\u001b[0m:\u001b[36m389\u001b[0m - \u001b[32m\u001b[1mcreated sdr-09-tools container.\u001b[0m\n",
            "\u001b[32m2023-09-01 09:16:44.857\u001b[0m | \u001b[1mINFO    \u001b[0m | \u001b[36mchi.expeca\u001b[0m:\u001b[36msdr_tools\u001b[0m:\u001b[36m391\u001b[0m - \u001b[1mwaiting 1 times each 60 seconds for the sdr-09-tools to apply.\u001b[0m\n",
            "\u001b[32m2023-09-01 09:17:45.703\u001b[0m | \u001b[1mINFO    \u001b[0m | \u001b[36mchi.expeca\u001b[0m:\u001b[36msdr_tools\u001b[0m:\u001b[36m412\u001b[0m - \u001b[1mSERVICE=check_mango env variable is set\n",
            "running check_mango...\n",
            "You have chosen sdr-09 as a sta and speed check: True\n",
            "SSHing to 10.30.1.17, username:root, password: root\n",
            "running command on 10.30.1.17: \n",
            "/usr/sbin/ethtool wlan0 2>&1 | grep -q \"Cannot get device settings: No such device\" && echo \"no\" || echo \"yes\"\n",
            "command stdout: \n",
            "yes\n",
            "SSHing to 10.30.1.17, username:root, password: root\n",
            "running command on 10.30.1.17: \n",
            "/usr/sbin/iw dev wlan0 info\n",
            "command stdout: \n",
            "Interface wlan0\n",
            "\tifindex 5\n",
            "\twdev 0x2\n",
            "\taddr 40:d8:55:04:20:12\n",
            "\tssid MANGO-AP\n",
            "\ttype managed\n",
            "\twiphy 0\n",
            "\tchannel 1 (2412 MHz), width: 20 MHz, center1: 2412 MHz\n",
            "\ttxpower 20.00 dBm\n",
            "SSHing to 10.30.1.17, username:root, password: root\n",
            "running command on 10.30.1.17: \n",
            "/usr/sbin/ethtool wlan0 2>&1 | grep -q \"Link detected: yes\" && echo \"yes\" || echo \"no\"\n",
            "command stdout: \n",
            "yes\n",
            "SSHing to 10.30.1.17, username:root, password: root\n",
            "running command on 10.30.1.17: \n",
            "/sbin/ifconfig wlan0 | grep 'inet addr:' | cut -d: -f2| cut -d' ' -f1\n",
            "command stdout: \n",
            "192.168.11.3\n",
            "SSHing to 10.30.1.17, username:root, password: root\n",
            "running command on 10.30.1.17: \n",
            "/usr/sbin/iw dev wlan0 link\n",
            "command stdout: \n",
            "Connected to 40:d8:55:04:20:19 (on wlan0)\n",
            "\tSSID: MANGO-AP\n",
            "\tfreq: 2412\n",
            "\tRX: 1001140 bytes (12455 packets)\n",
            "\tTX: 157046 bytes (252 packets)\n",
            "\tsignal: -81 dBm\n",
            "\ttx bitrate: 1.0 MBit/s\n",
            "\n",
            "\tbss flags:\tshort-slot-time\n",
            "\tdtim period:\t2\n",
            "\tbeacon int:\t100\n",
            "SSHing to 10.30.1.17, username:root, password: root\n",
            "running command on 10.30.1.17: \n",
            "/usr/bin/iperf3 -c 192.168.11.1 -u -b 1G -J\n",
            "command stdout: \n",
            "{\n",
            "\t\"start\":\t{\n",
            "\t\t\"connected\":\t[{\n",
            "\t\t\t\t\"socket\":\t5,\n",
            "\t\t\t\t\"local_host\":\t\"192.168.11.3\",\n",
            "\t\t\t\t\"local_port\":\t40880,\n",
            "Traceback (most recent call last):\n",
            "  File \"/service/check_mango/check_mango.py\", line 294, in <module>\n",
            "\t\t\t\t\"remote_host\":\t\"192.168.11.1\",\n",
            "\t\t\t\t\"remote_port\":\t5201\n",
            "\t\t\t}],\n",
            "\t\t\"version\":\t\"iperf 3.6\",\n",
            "\t\t\"system_info\":\t\"Linux mango_wlan_linux_E320 4.19.0-xilinx-v2019.1 #1 SMP PREEMPT Mon Apr 3 17:34:16 UTC 2023 armv7l\",\n",
            "\t\t\"timestamp\":\t{\n",
            "\t\t\t\"time\":\t\"Mon, 03 Apr 2023 18:49:47 GMT\",\n",
            "\t\t\t\"timesecs\":\t1680547787\n",
            "\t\t},\n",
            "\t\t\"connecting_to\":\t{\n",
            "\t\t\t\"host\":\t\"192.168.11.1\",\n",
            "\t\t\t\"port\":\t5201\n",
            "\t\t},\n",
            "\t\t\"cookie\":\t\"2oxyntalda6wn4hj5zybw5vvkh6bqhmeeprm\",\n",
            "\t\t\"sock_bufsize\":\t0,\n",
            "\t\t\"sndbuf_actual\":\t163840,\n",
            "\t\t\"rcvbuf_actual\":\t163840,\n",
            "\t\t\"test_start\":\t{\n",
            "\t\t\t\"protocol\":\t\"UDP\",\n",
            "\t\t\t\"num_streams\":\t1,\n",
            "\t\t\t\"blksize\":\t1448,\n",
            "\t\t\t\"omit\":\t0,\n",
            "\t\t\t\"duration\":\t10,\n",
            "    sdr_status['mango'][\"uplink_bps\"] = speed_dict[\"end\"][\"sum\"][\"bits_per_second\"]\n",
            "\t\t\t\"bytes\":\t0,\n",
            "\t\t\t\"blocks\":\t0,\n",
            "\t\t\t\"reverse\":\t0,\n",
            "\t\t\t\"tos\":\t0\n",
            "KeyError: 'sum'\n",
            "\t\t}\n",
            "\t},\n",
            "\t\"intervals\":\t[{\n",
            "\t\t\t\"streams\":\t[{\n",
            "\t\t\t\t\t\"socket\":\t5,\n",
            "\t\t\t\t\t\"start\":\t0,\n",
            "\t\t\t\t\t\"end\":\t1.0001220703125,\n",
            "\t\t\t\t\t\"seconds\":\t1.0001220703125,\n",
            "\t\t\t\t\t\"bytes\":\t60816,\n",
            "\t\t\t\t\t\"bits_per_second\":\t486468.61662394728,\n",
            "\t\t\t\t\t\"packets\":\t42,\n",
            "\t\t\t\t\t\"omitted\":\tfalse\n",
            "\t\t\t\t}],\n",
            "\t\t\t\"sum\":\t{\n",
            "\t\t\t\t\"start\":\t0,\n",
            "\t\t\t\t\"end\":\t1.0001220703125,\n",
            "\t\t\t\t\"seconds\":\t1.0001220703125,\n",
            "\t\t\t\t\"bytes\":\t60816,\n",
            "\t\t\t\t\"bits_per_second\":\t486468.61662394728,\n",
            "\t\t\t\t\"packets\":\t42,\n",
            "\t\t\t\t\"omitted\":\tfalse\n",
            "\t\t\t}\n",
            "\t\t}, {\n",
            "\t\t\t\"streams\":\t[{\n",
            "\t\t\t\t\t\"socket\":\t5,\n",
            "\t\t\t\t\t\"start\":\t1.0001220703125,\n",
            "\t\t\t\t\t\"end\":\t2.0001211166381836,\n",
            "\t\t\t\t\t\"seconds\":\t0.99999904632568359,\n",
            "\t\t\t\t\t\"bytes\":\t5792,\n",
            "\t\t\t\t\t\"bits_per_second\":\t46336.044189495267,\n",
            "\t\t\t\t\t\"packets\":\t4,\n",
            "\t\t\t\t\t\"omitted\":\tfalse\n",
            "\t\t\t\t}],\n",
            "\t\t\t\"sum\":\t{\n",
            "\t\t\t\t\"start\":\t1.0001220703125,\n",
            "\t\t\t\t\"end\":\t2.0001211166381836,\n",
            "\t\t\t\t\"seconds\":\t0.99999904632568359,\n",
            "\t\t\t\t\"bytes\":\t5792,\n",
            "\t\t\t\t\"bits_per_second\":\t46336.044189495267,\n",
            "\t\t\t\t\"packets\":\t4,\n",
            "\t\t\t\t\"omitted\":\tfalse\n",
            "\t\t\t}\n",
            "\t\t}, {\n",
            "\t\t\t\"streams\":\t[{\n",
            "\t\t\t\t\t\"socket\":\t5,\n",
            "\t\t\t\t\t\"start\":\t2.0001211166381836,\n",
            "\t\t\t\t\t\"end\":\t3.0001220703125,\n",
            "\t\t\t\t\t\"seconds\":\t1.0000009536743164,\n",
            "\t\t\t\t\t\"bytes\":\t5792,\n",
            "\t\t\t\t\t\"bits_per_second\":\t46335.955810589017,\n",
            "\t\t\t\t\t\"packets\":\t4,\n",
            "\t\t\t\t\t\"omitted\":\tfalse\n",
            "\t\t\t\t}],\n",
            "\t\t\t\"sum\":\t{\n",
            "\t\t\t\t\"start\":\t2.0001211166381836,\n",
            "\t\t\t\t\"end\":\t3.0001220703125,\n",
            "\t\t\t\t\"seconds\":\t1.0000009536743164,\n",
            "\t\t\t\t\"bytes\":\t5792,\n",
            "\t\t\t\t\"bits_per_second\":\t46335.955810589017,\n",
            "\t\t\t\t\"packets\":\t4,\n",
            "\t\t\t\t\"omitted\":\tfalse\n",
            "\t\t\t}\n",
            "\t\t}, {\n",
            "\t\t\t\"streams\":\t[{\n",
            "\t\t\t\t\t\"socket\":\t5,\n",
            "\t\t\t\t\t\"start\":\t3.0001220703125,\n",
            "\t\t\t\t\t\"end\":\t4.0001189708709717,\n",
            "\t\t\t\t\t\"seconds\":\t0.99999690055847168,\n",
            "\t\t\t\t\t\"bytes\":\t7240,\n",
            "\t\t\t\t\t\"bits_per_second\":\t57920.179520209735,\n",
            "\t\t\t\t\t\"packets\":\t5,\n",
            "\t\t\t\t\t\"omitted\":\tfalse\n",
            "\t\t\t\t}],\n",
            "\t\t\t\"sum\":\t{\n",
            "\t\t\t\t\"start\":\t3.0001220703125,\n",
            "\t\t\t\t\"end\":\t4.0001189708709717,\n",
            "\t\t\t\t\"seconds\":\t0.99999690055847168,\n",
            "\t\t\t\t\"bytes\":\t7240,\n",
            "\t\t\t\t\"bits_per_second\":\t57920.179520209735,\n",
            "\t\t\t\t\"packets\":\t5,\n",
            "\t\t\t\t\"omitted\":\tfalse\n",
            "\t\t\t}\n",
            "\t\t}, {\n",
            "\t\t\t\"streams\":\t[{\n",
            "\t\t\t\t\t\"socket\":\t5,\n",
            "\t\t\t\t\t\"start\":\t4.0001189708709717,\n",
            "\t\t\t\t\t\"end\":\t5.0001170635223389,\n",
            "\t\t\t\t\t\"seconds\":\t0.99999809265136719,\n",
            "\t\t\t\t\t\"bytes\":\t5792,\n",
            "\t\t\t\t\t\"bits_per_second\":\t46336.088379074819,\n",
            "\t\t\t\t\t\"packets\":\t4,\n",
            "\t\t\t\t\t\"omitted\":\tfalse\n",
            "\t\t\t\t}],\n",
            "\t\t\t\"sum\":\t{\n",
            "\t\t\t\t\"start\":\t4.0001189708709717,\n",
            "\t\t\t\t\"end\":\t5.0001170635223389,\n",
            "\t\t\t\t\"seconds\":\t0.99999809265136719,\n",
            "\t\t\t\t\"bytes\":\t5792,\n",
            "\t\t\t\t\"bits_per_second\":\t46336.088379074819,\n",
            "\t\t\t\t\"packets\":\t4,\n",
            "\t\t\t\t\"omitted\":\tfalse\n",
            "\t\t\t}\n",
            "\t\t}, {\n",
            "\t\t\t\"streams\":\t[{\n",
            "\t\t\t\t\t\"socket\":\t5,\n",
            "\t\t\t\t\t\"start\":\t5.0001170635223389,\n",
            "\t\t\t\t\t\"end\":\t6.0001211166381836,\n",
            "\t\t\t\t\t\"seconds\":\t1.0000040531158447,\n",
            "\t\t\t\t\t\"bytes\":\t5792,\n",
            "\t\t\t\t\t\"bits_per_second\":\t46335.812195585415,\n",
            "\t\t\t\t\t\"packets\":\t4,\n",
            "\t\t\t\t\t\"omitted\":\tfalse\n",
            "\t\t\t\t}],\n",
            "\t\t\t\"sum\":\t{\n",
            "\t\t\t\t\"start\":\t5.0001170635223389,\n",
            "\t\t\t\t\"end\":\t6.0001211166381836,\n",
            "\t\t\t\t\"seconds\":\t1.0000040531158447,\n",
            "\t\t\t\t\"bytes\":\t5792,\n",
            "\t\t\t\t\"bits_per_second\":\t46335.812195585415,\n",
            "\t\t\t\t\"packets\":\t4,\n",
            "\t\t\t\t\"omitted\":\tfalse\n",
            "\t\t\t}\n",
            "\t\t}, {\n",
            "\t\t\t\"streams\":\t[{\n",
            "\t\t\t\t\t\"socket\":\t5,\n",
            "\t\t\t\t\t\"start\":\t6.0001211166381836,\n",
            "\t\t\t\t\t\"end\":\t7.0001189708709717,\n",
            "\t\t\t\t\t\"seconds\":\t0.99999785423278809,\n",
            "\t\t\t\t\t\"bytes\":\t5792,\n",
            "\t\t\t\t\t\"bits_per_second\":\t46336.099426482877,\n",
            "\t\t\t\t\t\"packets\":\t4,\n",
            "\t\t\t\t\t\"omitted\":\tfalse\n",
            "\t\t\t\t}],\n",
            "\t\t\t\"sum\":\t{\n",
            "\t\t\t\t\"start\":\t6.0001211166381836,\n",
            "\t\t\t\t\"end\":\t7.0001189708709717,\n",
            "\t\t\t\t\"seconds\":\t0.99999785423278809,\n",
            "\t\t\t\t\"bytes\":\t5792,\n",
            "\t\t\t\t\"bits_per_second\":\t46336.099426482877,\n",
            "\t\t\t\t\"packets\":\t4,\n",
            "\t\t\t\t\"omitted\":\tfalse\n",
            "\t\t\t}\n",
            "\t\t}, {\n",
            "\t\t\t\"streams\":\t[{\n",
            "\t\t\t\t\t\"socket\":\t5,\n",
            "\t\t\t\t\t\"start\":\t7.0001189708709717,\n",
            "\t\t\t\t\t\"end\":\t8.0001220703125,\n",
            "\t\t\t\t\t\"seconds\":\t1.0000030994415283,\n",
            "\t\t\t\t\t\"bytes\":\t5792,\n",
            "\t\t\t\t\t\"bits_per_second\":\t46335.856384722472,\n",
            "\t\t\t\t\t\"packets\":\t4,\n",
            "\t\t\t\t\t\"omitted\":\tfalse\n",
            "\t\t\t\t}],\n",
            "\t\t\t\"sum\":\t{\n",
            "\t\t\t\t\"start\":\t7.0001189708709717,\n",
            "\t\t\t\t\"end\":\t8.0001220703125,\n",
            "\t\t\t\t\"seconds\":\t1.0000030994415283,\n",
            "\t\t\t\t\"bytes\":\t5792,\n",
            "\t\t\t\t\"bits_per_second\":\t46335.856384722472,\n",
            "\t\t\t\t\"packets\":\t4,\n",
            "\t\t\t\t\"omitted\":\tfalse\n",
            "\t\t\t}\n",
            "\t\t}, {\n",
            "\t\t\t\"streams\":\t[{\n",
            "\t\t\t\t\t\"socket\":\t5,\n",
            "\t\t\t\t\t\"start\":\t8.0001220703125,\n",
            "\t\t\t\t\t\"end\":\t9.0001220703125,\n",
            "\t\t\t\t\t\"seconds\":\t1,\n",
            "\t\t\t\t\t\"bytes\":\t5792,\n",
            "\t\t\t\t\t\"bits_per_second\":\t46336,\n",
            "\t\t\t\t\t\"packets\":\t4,\n",
            "\t\t\t\t\t\"omitted\":\tfalse\n",
            "\t\t\t\t}],\n",
            "\t\t\t\"sum\":\t{\n",
            "\t\t\t\t\"start\":\t8.0001220703125,\n",
            "\t\t\t\t\"end\":\t9.0001220703125,\n",
            "\t\t\t\t\"seconds\":\t1,\n",
            "\t\t\t\t\"bytes\":\t5792,\n",
            "\t\t\t\t\"bits_per_second\":\t46336,\n",
            "\t\t\t\t\"packets\":\t4,\n",
            "\t\t\t\t\"omitted\":\tfalse\n",
            "\t\t\t}\n",
            "\t\t}],\n",
            "\t\"end\":\t{\n",
            "\t},\n",
            "\t\"error\":\t\"error - control socket has closed unexpectedly\"\n",
            "}\n",
            "\u001b[0m\n",
            "\u001b[32m2023-09-01 09:17:46.201\u001b[0m | \u001b[1mINFO    \u001b[0m | \u001b[36mchi.expeca\u001b[0m:\u001b[36mwait_until_container_removed\u001b[0m:\u001b[36m30\u001b[0m - \u001b[1mwaiting 30 seconds for sdr-09-tools container to be removed\u001b[0m\n",
            "\u001b[32m2023-09-01 09:17:51.448\u001b[0m | \u001b[1mINFO    \u001b[0m | \u001b[36mchi.expeca\u001b[0m:\u001b[36mwait_until_container_removed\u001b[0m:\u001b[36m37\u001b[0m - \u001b[1mcontainer sdr-09-tools is in Deleting state.\u001b[0m\n",
            "\u001b[32m2023-09-01 09:17:56.670\u001b[0m | \u001b[1mINFO    \u001b[0m | \u001b[36mchi.expeca\u001b[0m:\u001b[36mwait_until_container_removed\u001b[0m:\u001b[36m37\u001b[0m - \u001b[1mcontainer sdr-09-tools is in None state.\u001b[0m\n"
          ]
        }
      ]
    },
    {
      "cell_type": "markdown",
      "source": [
        "## Configure Routing on SDRs"
      ],
      "metadata": {
        "id": "nKW6Nc2mEJdB"
      }
    },
    {
      "cell_type": "code",
      "source": [
        "# configure routing on SDR-04 wifi access point using worker-10\n",
        "sdrname = \"sdr-04\"\n",
        "sdrnet = chi.network.get_network(sdrname+\"-net\")\n",
        "sdr_tools(\n",
        "    sdr_name = sdrname,\n",
        "    sdr_net_id = sdrnet['id'],\n",
        "    environment = {\n",
        "        \"SERVICE\":\"config_mango_routes\",\n",
        "        \"SDR\":sdrname,\n",
        "        \"SIDE\":\"ap\",\n",
        "        \"JSON_PATH\":\"sdrs.json\",\n",
        "        \"PROTOCOL\":\"udp\",\n",
        "        \"SERVER_IP\":\"10.30.1.251\",\n",
        "        \"SERVER_PORT\":\"2112\",\n",
        "        \"AP_SERVER_PORT\":\"50500\",\n",
        "        \"AP_STA_PORT\":\"50000\",\n",
        "        \"STA_MAC_ADDR\":\"40:d8:55:04:20:19\",\n",
        "        \"STA_IP\":\"192.168.11.3\",\n",
        "        \"STA_AP_PORT\":\"50500\"\n",
        "    },\n",
        "    waiting_iter = 1,\n",
        "    waiting_sec = 10,\n",
        "    key_str = \"\",\n",
        "    verbose = False,\n",
        "    worker_reservation_id = worker10_reservation_id,\n",
        "    worker_net_interface = \"ens1\"\n",
        ")"
      ],
      "metadata": {
        "colab": {
          "base_uri": "https://localhost:8080/"
        },
        "id": "k5kKtyIgEXHD",
        "outputId": "3a929bb7-255a-4ab3-9e64-b99dd2667c33"
      },
      "execution_count": 24,
      "outputs": [
        {
          "output_type": "stream",
          "name": "stderr",
          "text": [
            "\u001b[32m2023-09-01 10:15:50.510\u001b[0m | \u001b[32m\u001b[1mSUCCESS \u001b[0m | \u001b[36mchi.expeca\u001b[0m:\u001b[36msdr_tools\u001b[0m:\u001b[36m389\u001b[0m - \u001b[32m\u001b[1mcreated sdr-04-tools container.\u001b[0m\n",
            "\u001b[32m2023-09-01 10:15:50.512\u001b[0m | \u001b[1mINFO    \u001b[0m | \u001b[36mchi.expeca\u001b[0m:\u001b[36msdr_tools\u001b[0m:\u001b[36m391\u001b[0m - \u001b[1mwaiting 1 times each 10 seconds for the sdr-04-tools to apply.\u001b[0m\n",
            "\u001b[32m2023-09-01 10:16:02.052\u001b[0m | \u001b[1mINFO    \u001b[0m | \u001b[36mchi.expeca\u001b[0m:\u001b[36mwait_until_container_removed\u001b[0m:\u001b[36m30\u001b[0m - \u001b[1mwaiting 30 seconds for sdr-04-tools container to be removed\u001b[0m\n",
            "\u001b[32m2023-09-01 10:16:07.279\u001b[0m | \u001b[1mINFO    \u001b[0m | \u001b[36mchi.expeca\u001b[0m:\u001b[36mwait_until_container_removed\u001b[0m:\u001b[36m37\u001b[0m - \u001b[1mcontainer sdr-04-tools is in Deleting state.\u001b[0m\n",
            "\u001b[32m2023-09-01 10:16:12.503\u001b[0m | \u001b[1mINFO    \u001b[0m | \u001b[36mchi.expeca\u001b[0m:\u001b[36mwait_until_container_removed\u001b[0m:\u001b[36m37\u001b[0m - \u001b[1mcontainer sdr-04-tools is in None state.\u001b[0m\n"
          ]
        }
      ]
    },
    {
      "cell_type": "code",
      "source": [
        "# configure routing on SDR-09 wifi station using worker-10\n",
        "sdrname = \"sdr-09\"\n",
        "sdrnet = chi.network.get_network(sdrname+\"-net\")\n",
        "sdr_tools(\n",
        "    sdr_name = sdrname,\n",
        "    sdr_net_id = sdrnet['id'],\n",
        "    environment = {\n",
        "        \"SERVICE\":\"config_mango_routes\",\n",
        "        \"SDR\":sdrname,\n",
        "        \"SIDE\":\"sta\",\n",
        "        \"JSON_PATH\":\"sdrs.json\",\n",
        "        \"PROTOCOL\":\"udp\",\n",
        "        \"CLIENT_IP\":\"10.30.1.252\",\n",
        "        \"CLIENT_PORT\":\"50000\",\n",
        "        \"STA_CLIENT_PORT\":\"50000\",\n",
        "        \"STA_AP_PORT\":\"50500\",\n",
        "        \"AP_IP\":\"192.168.11.1\",\n",
        "        \"AP_STA_PORT\":\"50000\"\n",
        "    },\n",
        "    waiting_iter = 1,\n",
        "    waiting_sec = 10,\n",
        "    key_str = \"\",\n",
        "    verbose = False,\n",
        "    worker_reservation_id = worker10_reservation_id,\n",
        "    worker_net_interface = \"ens1\"\n",
        ")"
      ],
      "metadata": {
        "colab": {
          "base_uri": "https://localhost:8080/"
        },
        "id": "yQdvq7keGtvu",
        "outputId": "d2085669-0c93-46e7-9c52-93a20794a79e"
      },
      "execution_count": 26,
      "outputs": [
        {
          "output_type": "stream",
          "name": "stderr",
          "text": [
            "\u001b[32m2023-09-01 10:19:26.139\u001b[0m | \u001b[32m\u001b[1mSUCCESS \u001b[0m | \u001b[36mchi.expeca\u001b[0m:\u001b[36msdr_tools\u001b[0m:\u001b[36m389\u001b[0m - \u001b[32m\u001b[1mcreated sdr-09-tools container.\u001b[0m\n",
            "\u001b[32m2023-09-01 10:19:26.140\u001b[0m | \u001b[1mINFO    \u001b[0m | \u001b[36mchi.expeca\u001b[0m:\u001b[36msdr_tools\u001b[0m:\u001b[36m391\u001b[0m - \u001b[1mwaiting 1 times each 10 seconds for the sdr-09-tools to apply.\u001b[0m\n",
            "\u001b[32m2023-09-01 10:19:37.375\u001b[0m | \u001b[1mINFO    \u001b[0m | \u001b[36mchi.expeca\u001b[0m:\u001b[36mwait_until_container_removed\u001b[0m:\u001b[36m30\u001b[0m - \u001b[1mwaiting 30 seconds for sdr-09-tools container to be removed\u001b[0m\n",
            "\u001b[32m2023-09-01 10:19:42.609\u001b[0m | \u001b[1mINFO    \u001b[0m | \u001b[36mchi.expeca\u001b[0m:\u001b[36mwait_until_container_removed\u001b[0m:\u001b[36m37\u001b[0m - \u001b[1mcontainer sdr-09-tools is in Deleting state.\u001b[0m\n",
            "\u001b[32m2023-09-01 10:19:47.835\u001b[0m | \u001b[1mINFO    \u001b[0m | \u001b[36mchi.expeca\u001b[0m:\u001b[36mwait_until_container_removed\u001b[0m:\u001b[36m37\u001b[0m - \u001b[1mcontainer sdr-09-tools is in None state.\u001b[0m\n"
          ]
        }
      ]
    },
    {
      "cell_type": "markdown",
      "source": [
        "# Configure the workload"
      ],
      "metadata": {
        "id": "K2agIuROHsbQ"
      }
    },
    {
      "cell_type": "markdown",
      "source": [
        "## Server"
      ],
      "metadata": {
        "id": "QZOmC-9wHv26"
      }
    },
    {
      "cell_type": "code",
      "source": [
        "sdrname = \"sdr-04\"\n",
        "sdrnet = chi.network.get_network(sdrname+\"-net\")\n",
        "chi.container.create_container(\n",
        "    name = \"edge-server\",\n",
        "    image = \"samiemostafavi/perf-meas\",\n",
        "    reservation_id = worker10_reservation_id,\n",
        "    environment = {},\n",
        "    nets = [\n",
        "        { \"network\" : sdrnet['id'] },\n",
        "    ],\n",
        "    labels = {\n",
        "        \"networks.1.interface\":\"eno12409\",\n",
        "        \"networks.1.ip\":\"10.30.1.251/24\"\n",
        "    },\n",
        ")\n",
        "chi.container.wait_for_active(\"edge-server\")\n",
        "logger.success(\"created edge-server container.\")"
      ],
      "metadata": {
        "colab": {
          "base_uri": "https://localhost:8080/"
        },
        "id": "z5WTAZ5XHx5D",
        "outputId": "ca267be4-6173-4246-a8d7-79f276975590"
      },
      "execution_count": 27,
      "outputs": [
        {
          "output_type": "stream",
          "name": "stderr",
          "text": [
            "\u001b[32m2023-09-01 10:20:25.160\u001b[0m | \u001b[32m\u001b[1mSUCCESS \u001b[0m | \u001b[36m__main__\u001b[0m:\u001b[36m<cell line: 17>\u001b[0m:\u001b[36m17\u001b[0m - \u001b[32m\u001b[1mcreated edge-server container.\u001b[0m\n"
          ]
        }
      ]
    },
    {
      "cell_type": "markdown",
      "source": [
        "## Client\n"
      ],
      "metadata": {
        "id": "IqGcIGDCJqZk"
      }
    },
    {
      "cell_type": "code",
      "source": [
        "sdrname = \"sdr-09\"\n",
        "sdrnet = chi.network.get_network(sdrname+\"-net\")\n",
        "chi.container.create_container(\n",
        "    name = \"end-node\",\n",
        "    image = \"samiemostafavi/perf-meas\",\n",
        "    reservation_id = worker10_reservation_id,\n",
        "    environment = {},\n",
        "    nets = [\n",
        "        { \"network\" : sdrnet['id'] },\n",
        "    ],\n",
        "    labels = {\n",
        "        \"networks.1.interface\":\"eno12419\",\n",
        "        \"networks.1.ip\":\"10.30.1.252/24\"\n",
        "    },\n",
        ")\n",
        "chi.container.wait_for_active(\"end-node\")\n",
        "logger.success(\"created end-node container.\")"
      ],
      "metadata": {
        "colab": {
          "base_uri": "https://localhost:8080/"
        },
        "id": "38F4j43YJt3y",
        "outputId": "bd73dc46-0a16-44c6-fa6e-861e79b86e1a"
      },
      "execution_count": 28,
      "outputs": [
        {
          "output_type": "stream",
          "name": "stderr",
          "text": [
            "\u001b[32m2023-09-01 10:20:58.792\u001b[0m | \u001b[32m\u001b[1mSUCCESS \u001b[0m | \u001b[36m__main__\u001b[0m:\u001b[36m<cell line: 17>\u001b[0m:\u001b[36m17\u001b[0m - \u001b[32m\u001b[1mcreated end-node container.\u001b[0m\n"
          ]
        }
      ]
    },
    {
      "cell_type": "markdown",
      "source": [
        "# Run measurement command\n",
        "\n",
        "\n",
        "\n",
        "```\n",
        "irtt client -i 50ms -d 30s -l 172 --fill=rand 10.30.1.17:50000 --local=0.0.0.0:50000\n",
        "```\n",
        "\n"
      ],
      "metadata": {
        "id": "xCPlh4i3nacg"
      }
    },
    {
      "cell_type": "markdown",
      "source": [
        "# Tear Down"
      ],
      "metadata": {
        "id": "p2joHHj_EZtq"
      }
    },
    {
      "cell_type": "code",
      "source": [
        "# Remove everything and clean up\n",
        "\n",
        "status = get_container_status(\"5g-nrue-01\")\n",
        "if status:\n",
        "    chi.container.destroy_container(\"5g-nrue-01\")\n",
        "    wait_until_container_removed(\"5g-nrue-01\")\n",
        "\n",
        "status = get_container_status(\"5g-gnodeb-01\")\n",
        "if status:\n",
        "    chi.container.destroy_container(\"5g-gnodeb-01\")\n",
        "    wait_until_container_removed(\"5g-gnodeb-01\")\n",
        "\n",
        "status = get_container_status(\"5gcn-7-spgwu\")\n",
        "if status:\n",
        "    chi.container.destroy_container(\"5gcn-7-spgwu\")\n",
        "    wait_until_container_removed(\"5gcn-7-spgwu\")\n",
        "\n",
        "status = get_container_status(\"5gcn-6-smf\")\n",
        "if status:\n",
        "    chi.container.destroy_container(\"5gcn-6-smf\")\n",
        "    wait_until_container_removed(\"5gcn-6-smf\")\n",
        "\n",
        "status = get_container_status(\"5gcn-5-amf\")\n",
        "if status:\n",
        "    chi.container.destroy_container(\"5gcn-5-amf\")\n",
        "    wait_until_container_removed(\"5gcn-5-amf\")\n",
        "\n",
        "status = get_container_status(\"5gcn-4-ausf\")\n",
        "if status:\n",
        "    chi.container.destroy_container(\"5gcn-4-ausf\")\n",
        "    wait_until_container_removed(\"5gcn-4-ausf\")\n",
        "\n",
        "status = get_container_status(\"5gcn-3-udm\")\n",
        "if status:\n",
        "    chi.container.destroy_container(\"5gcn-3-udm\")\n",
        "    wait_until_container_removed(\"5gcn-3-udm\")\n",
        "\n",
        "status = get_container_status(\"5gcn-2-udr\")\n",
        "if status:\n",
        "    chi.container.destroy_container(\"5gcn-2-udr\")\n",
        "    wait_until_container_removed(\"5gcn-2-udr\")\n",
        "\n",
        "status = get_container_status(\"5gcn-1-mysql\")\n",
        "if status:\n",
        "    chi.container.destroy_container(\"5gcn-1-mysql\")\n",
        "    wait_until_container_removed(\"5gcn-1-mysql\")\n",
        "\n",
        "logger.info(f\"stopped and removed all containers\")\n",
        "\n",
        "corenet = None\n",
        "try:\n",
        "    corenet = chi.network.get_network(\"5gcn-net\")\n",
        "except Exception as ex:\n",
        "    logger.info(f\"could not find 5gcn-net.\")\n",
        "\n",
        "if corenet:\n",
        "    chi.network.delete_network(corenet[\"id\"])\n",
        "    logger.success(f\"deleted the 5gcn-net\")\n",
        "\n",
        "# remove the leases\n",
        "unreserve_byid(sdr02_lease[\"id\"])\n",
        "unreserve_byid(sdr03_lease[\"id\"])\n",
        "unreserve_byid(sdr08_lease[\"id\"])\n",
        "unreserve_byid(worker01_lease[\"id\"])\n",
        "unreserve_byid(worker02_lease[\"id\"])\n",
        "unreserve_byid(worker03_lease[\"id\"])"
      ],
      "metadata": {
        "colab": {
          "base_uri": "https://localhost:8080/"
        },
        "id": "Bbme5W7isiQa",
        "outputId": "167813a5-457f-490b-891b-3f3251685d5e"
      },
      "execution_count": null,
      "outputs": [
        {
          "output_type": "stream",
          "name": "stderr",
          "text": [
            "\u001b[32m2023-08-06 23:47:01.968\u001b[0m | \u001b[1mINFO    \u001b[0m | \u001b[36m__main__\u001b[0m:\u001b[36m<cell line: 46>\u001b[0m:\u001b[36m46\u001b[0m - \u001b[1mstopped and removed all containers\u001b[0m\n",
            "\u001b[32m2023-08-06 23:47:09.064\u001b[0m | \u001b[32m\u001b[1mSUCCESS \u001b[0m | \u001b[36m__main__\u001b[0m:\u001b[36m<cell line: 54>\u001b[0m:\u001b[36m56\u001b[0m - \u001b[32m\u001b[1mdeleted the 5gcn-net\u001b[0m\n",
            "\u001b[32m2023-08-06 23:47:09.912\u001b[0m | \u001b[1mINFO    \u001b[0m | \u001b[36mchi.expeca\u001b[0m:\u001b[36mremove_lease\u001b[0m:\u001b[36m84\u001b[0m - \u001b[1mRemoving sdr-02-lease reservation with id 190074bf-d532-4ca4-8386-392a02f4359b.\u001b[0m\n",
            "\u001b[32m2023-08-06 23:47:24.593\u001b[0m | \u001b[1mINFO    \u001b[0m | \u001b[36mchi.expeca\u001b[0m:\u001b[36mwait_until_lease_status\u001b[0m:\u001b[36m62\u001b[0m - \u001b[1mwaiting 120 seconds for sdr-02-lease with id 190074bf-d532-4ca4-8386-392a02f4359b to become \"None\"\u001b[0m\n",
            "\u001b[32m2023-08-06 23:47:29.869\u001b[0m | \u001b[1mINFO    \u001b[0m | \u001b[36mchi.expeca\u001b[0m:\u001b[36mwait_until_lease_status\u001b[0m:\u001b[36m69\u001b[0m - \u001b[1mlease sdr-02-lease with id 190074bf-d532-4ca4-8386-392a02f4359b is None.\u001b[0m\n",
            "\u001b[32m2023-08-06 23:47:29.871\u001b[0m | \u001b[32m\u001b[1mSUCCESS \u001b[0m | \u001b[36mchi.expeca\u001b[0m:\u001b[36mtry_to_remove\u001b[0m:\u001b[36m95\u001b[0m - \u001b[32m\u001b[1mdone\u001b[0m\n",
            "\u001b[32m2023-08-06 23:47:30.267\u001b[0m | \u001b[1mINFO    \u001b[0m | \u001b[36mchi.expeca\u001b[0m:\u001b[36mremove_lease\u001b[0m:\u001b[36m84\u001b[0m - \u001b[1mRemoving sdr-03-lease reservation with id 4793fee5-4a64-4fd6-9186-7e019d821ce3.\u001b[0m\n",
            "\u001b[32m2023-08-06 23:47:44.323\u001b[0m | \u001b[1mINFO    \u001b[0m | \u001b[36mchi.expeca\u001b[0m:\u001b[36mwait_until_lease_status\u001b[0m:\u001b[36m62\u001b[0m - \u001b[1mwaiting 120 seconds for sdr-03-lease with id 4793fee5-4a64-4fd6-9186-7e019d821ce3 to become \"None\"\u001b[0m\n",
            "\u001b[32m2023-08-06 23:47:49.598\u001b[0m | \u001b[1mINFO    \u001b[0m | \u001b[36mchi.expeca\u001b[0m:\u001b[36mwait_until_lease_status\u001b[0m:\u001b[36m69\u001b[0m - \u001b[1mlease sdr-03-lease with id 4793fee5-4a64-4fd6-9186-7e019d821ce3 is None.\u001b[0m\n",
            "\u001b[32m2023-08-06 23:47:49.601\u001b[0m | \u001b[32m\u001b[1mSUCCESS \u001b[0m | \u001b[36mchi.expeca\u001b[0m:\u001b[36mtry_to_remove\u001b[0m:\u001b[36m95\u001b[0m - \u001b[32m\u001b[1mdone\u001b[0m\n",
            "\u001b[32m2023-08-06 23:47:49.886\u001b[0m | \u001b[1mINFO    \u001b[0m | \u001b[36mchi.expeca\u001b[0m:\u001b[36mremove_lease\u001b[0m:\u001b[36m84\u001b[0m - \u001b[1mRemoving sdr-08-lease reservation with id 9a2920b1-8b4a-4cd6-9af2-ed71548b98b1.\u001b[0m\n",
            "\u001b[32m2023-08-06 23:48:03.951\u001b[0m | \u001b[1mINFO    \u001b[0m | \u001b[36mchi.expeca\u001b[0m:\u001b[36mwait_until_lease_status\u001b[0m:\u001b[36m62\u001b[0m - \u001b[1mwaiting 120 seconds for sdr-08-lease with id 9a2920b1-8b4a-4cd6-9af2-ed71548b98b1 to become \"None\"\u001b[0m\n",
            "\u001b[32m2023-08-06 23:48:09.227\u001b[0m | \u001b[1mINFO    \u001b[0m | \u001b[36mchi.expeca\u001b[0m:\u001b[36mwait_until_lease_status\u001b[0m:\u001b[36m69\u001b[0m - \u001b[1mlease sdr-08-lease with id 9a2920b1-8b4a-4cd6-9af2-ed71548b98b1 is None.\u001b[0m\n",
            "\u001b[32m2023-08-06 23:48:09.229\u001b[0m | \u001b[32m\u001b[1mSUCCESS \u001b[0m | \u001b[36mchi.expeca\u001b[0m:\u001b[36mtry_to_remove\u001b[0m:\u001b[36m95\u001b[0m - \u001b[32m\u001b[1mdone\u001b[0m\n",
            "\u001b[32m2023-08-06 23:48:09.504\u001b[0m | \u001b[1mINFO    \u001b[0m | \u001b[36mchi.expeca\u001b[0m:\u001b[36mremove_lease\u001b[0m:\u001b[36m84\u001b[0m - \u001b[1mRemoving worker-01-lease reservation with id 8857b02b-e752-4d04-8876-2014006eab67.\u001b[0m\n",
            "\u001b[32m2023-08-06 23:48:11.171\u001b[0m | \u001b[1mINFO    \u001b[0m | \u001b[36mchi.expeca\u001b[0m:\u001b[36mwait_until_lease_status\u001b[0m:\u001b[36m62\u001b[0m - \u001b[1mwaiting 120 seconds for worker-01-lease with id 8857b02b-e752-4d04-8876-2014006eab67 to become \"None\"\u001b[0m\n",
            "\u001b[32m2023-08-06 23:48:16.451\u001b[0m | \u001b[1mINFO    \u001b[0m | \u001b[36mchi.expeca\u001b[0m:\u001b[36mwait_until_lease_status\u001b[0m:\u001b[36m69\u001b[0m - \u001b[1mlease worker-01-lease with id 8857b02b-e752-4d04-8876-2014006eab67 is None.\u001b[0m\n",
            "\u001b[32m2023-08-06 23:48:16.453\u001b[0m | \u001b[32m\u001b[1mSUCCESS \u001b[0m | \u001b[36mchi.expeca\u001b[0m:\u001b[36mtry_to_remove\u001b[0m:\u001b[36m95\u001b[0m - \u001b[32m\u001b[1mdone\u001b[0m\n",
            "\u001b[32m2023-08-06 23:48:16.721\u001b[0m | \u001b[1mINFO    \u001b[0m | \u001b[36mchi.expeca\u001b[0m:\u001b[36mremove_lease\u001b[0m:\u001b[36m84\u001b[0m - \u001b[1mRemoving worker-02-lease reservation with id bd2e0bed-2b3e-46b8-b272-5250ca988fd0.\u001b[0m\n",
            "\u001b[32m2023-08-06 23:48:18.171\u001b[0m | \u001b[1mINFO    \u001b[0m | \u001b[36mchi.expeca\u001b[0m:\u001b[36mwait_until_lease_status\u001b[0m:\u001b[36m62\u001b[0m - \u001b[1mwaiting 120 seconds for worker-02-lease with id bd2e0bed-2b3e-46b8-b272-5250ca988fd0 to become \"None\"\u001b[0m\n",
            "\u001b[32m2023-08-06 23:48:23.438\u001b[0m | \u001b[1mINFO    \u001b[0m | \u001b[36mchi.expeca\u001b[0m:\u001b[36mwait_until_lease_status\u001b[0m:\u001b[36m69\u001b[0m - \u001b[1mlease worker-02-lease with id bd2e0bed-2b3e-46b8-b272-5250ca988fd0 is None.\u001b[0m\n",
            "\u001b[32m2023-08-06 23:48:23.439\u001b[0m | \u001b[32m\u001b[1mSUCCESS \u001b[0m | \u001b[36mchi.expeca\u001b[0m:\u001b[36mtry_to_remove\u001b[0m:\u001b[36m95\u001b[0m - \u001b[32m\u001b[1mdone\u001b[0m\n",
            "\u001b[32m2023-08-06 23:48:23.688\u001b[0m | \u001b[1mINFO    \u001b[0m | \u001b[36mchi.expeca\u001b[0m:\u001b[36mremove_lease\u001b[0m:\u001b[36m84\u001b[0m - \u001b[1mRemoving worker-03-lease reservation with id 9dce53fb-e391-4d30-a933-68c52c864c3b.\u001b[0m\n",
            "\u001b[32m2023-08-06 23:48:25.059\u001b[0m | \u001b[1mINFO    \u001b[0m | \u001b[36mchi.expeca\u001b[0m:\u001b[36mwait_until_lease_status\u001b[0m:\u001b[36m62\u001b[0m - \u001b[1mwaiting 120 seconds for worker-03-lease with id 9dce53fb-e391-4d30-a933-68c52c864c3b to become \"None\"\u001b[0m\n",
            "\u001b[32m2023-08-06 23:48:30.335\u001b[0m | \u001b[1mINFO    \u001b[0m | \u001b[36mchi.expeca\u001b[0m:\u001b[36mwait_until_lease_status\u001b[0m:\u001b[36m69\u001b[0m - \u001b[1mlease worker-03-lease with id 9dce53fb-e391-4d30-a933-68c52c864c3b is None.\u001b[0m\n",
            "\u001b[32m2023-08-06 23:48:30.337\u001b[0m | \u001b[32m\u001b[1mSUCCESS \u001b[0m | \u001b[36mchi.expeca\u001b[0m:\u001b[36mtry_to_remove\u001b[0m:\u001b[36m95\u001b[0m - \u001b[32m\u001b[1mdone\u001b[0m\n"
          ]
        }
      ]
    }
  ]
}
