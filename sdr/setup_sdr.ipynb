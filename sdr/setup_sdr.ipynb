{
  "cells": [
    {
      "cell_type": "markdown",
      "metadata": {
        "colab_type": "text",
        "id": "view-in-github"
      },
      "source": [
        "<a href=\"https://colab.research.google.com/github/KTH-EXPECA/examples/blob/main/sdr/setup_sdr.ipynb\" target=\"_parent\"><img src=\"https://colab.research.google.com/assets/colab-badge.svg\" alt=\"Open In Colab\"/></a>"
      ]
    },
    {
      "cell_type": "markdown",
      "metadata": {
        "id": "W9YICZf_mJBy"
      },
      "source": [
        "# Authentication and Dependencies\n",
        "\n",
        "Login to Chameleon and download openrc.sh file from [here](https://testbed.expeca.proj.kth.se/project/api_access/openrc/). Upload it here next to this notebook and continue.\n",
        "\n",
        "In the next cell, we setup the authentication method to be able to use Openstack clients."
      ]
    },
    {
      "cell_type": "code",
      "execution_count": null,
      "metadata": {
        "colab": {
          "base_uri": "https://localhost:8080/"
        },
        "id": "KLT-J26lJ5ae",
        "outputId": "6f782877-8953-437b-c0df-fdf71f4c50f0"
      },
      "outputs": [
        {
          "name": "stdout",
          "output_type": "stream",
          "text": [
            "enter your expeca password:··········\n"
          ]
        }
      ],
      "source": [
        "import os, re\n",
        "from getpass import getpass\n",
        "\n",
        "with open('/content/demo_project-openrc.sh', 'r') as f:\n",
        "    script_content = f.read()\n",
        "    pattern = r'export\\s+(\\w+)\\s*=\\s*(\"[^\"]+\"|[^\"\\n]+)'\n",
        "    matches = re.findall(pattern, script_content)\n",
        "\n",
        "    for name, value in matches:\n",
        "        os.environ[name] = value.strip('\"')\n",
        "\n",
        "password = getpass('enter your expeca password:')\n",
        "os.environ['OS_PASSWORD'] = password"
      ]
    },
    {
      "cell_type": "markdown",
      "metadata": {
        "id": "5bXlipy4m1bs"
      },
      "source": [
        "Install required packages and dependencies. Ignore the warnings."
      ]
    },
    {
      "cell_type": "code",
      "execution_count": null,
      "metadata": {
        "colab": {
          "base_uri": "https://localhost:8080/"
        },
        "id": "3uZ_rN5iFlhp",
        "outputId": "39451229-df16-462e-916c-13c922946851"
      },
      "outputs": [
        {
          "name": "stdout",
          "output_type": "stream",
          "text": [
            "\u001b[?25l     \u001b[90m━━━━━━━━━━━━━━━━━━━━━━━━━━━━━━━━━━━━━━━━\u001b[0m \u001b[32m0.0/1.6 MB\u001b[0m \u001b[31m?\u001b[0m eta \u001b[36m-:--:--\u001b[0m\r\u001b[2K     \u001b[91m━━━\u001b[0m\u001b[90m╺\u001b[0m\u001b[90m━━━━━━━━━━━━━━━━━━━━━━━━━━━━━━━━━━━━\u001b[0m \u001b[32m0.1/1.6 MB\u001b[0m \u001b[31m3.8 MB/s\u001b[0m eta \u001b[36m0:00:01\u001b[0m\r\u001b[2K     \u001b[91m━━━━━━━━━━━━━━\u001b[0m\u001b[91m╸\u001b[0m\u001b[90m━━━━━━━━━━━━━━━━━━━━━━━━━\u001b[0m \u001b[32m0.6/1.6 MB\u001b[0m \u001b[31m8.6 MB/s\u001b[0m eta \u001b[36m0:00:01\u001b[0m\r\u001b[2K     \u001b[91m━━━━━━━━━━━━━━━━━━━━━━━━━━━━\u001b[0m\u001b[90m╺\u001b[0m\u001b[90m━━━━━━━━━━━\u001b[0m \u001b[32m1.1/1.6 MB\u001b[0m \u001b[31m10.8 MB/s\u001b[0m eta \u001b[36m0:00:01\u001b[0m\r\u001b[2K     \u001b[91m━━━━━━━━━━━━━━━━━━━━━━━━━━━━━━━━━━━━━━━\u001b[0m\u001b[91m╸\u001b[0m \u001b[32m1.6/1.6 MB\u001b[0m \u001b[31m12.5 MB/s\u001b[0m eta \u001b[36m0:00:01\u001b[0m\r\u001b[2K     \u001b[90m━━━━━━━━━━━━━━━━━━━━━━━━━━━━━━━━━━━━━━━━\u001b[0m \u001b[32m1.6/1.6 MB\u001b[0m \u001b[31m11.2 MB/s\u001b[0m eta \u001b[36m0:00:00\u001b[0m\n",
            "\u001b[?25h  Preparing metadata (setup.py) ... \u001b[?25l\u001b[?25hdone\n",
            "  Preparing metadata (setup.py) ... \u001b[?25l\u001b[?25hdone\n",
            "\u001b[2K     \u001b[90m━━━━━━━━━━━━━━━━━━━━━━━━━━━━━━━━━━━━━━━━\u001b[0m \u001b[32m59.4/59.4 kB\u001b[0m \u001b[31m4.6 MB/s\u001b[0m eta \u001b[36m0:00:00\u001b[0m\n",
            "\u001b[2K     \u001b[90m━━━━━━━━━━━━━━━━━━━━━━━━━━━━━━━━━━━━━━━━\u001b[0m \u001b[32m66.5/66.5 kB\u001b[0m \u001b[31m2.8 MB/s\u001b[0m eta \u001b[36m0:00:00\u001b[0m\n",
            "\u001b[2K     \u001b[90m━━━━━━━━━━━━━━━━━━━━━━━━━━━━━━━━━━━━━━\u001b[0m \u001b[32m323.1/323.1 kB\u001b[0m \u001b[31m15.3 MB/s\u001b[0m eta \u001b[36m0:00:00\u001b[0m\n",
            "\u001b[2K     \u001b[90m━━━━━━━━━━━━━━━━━━━━━━━━━━━━━━━━━━━━━━━━\u001b[0m \u001b[32m1.7/1.7 MB\u001b[0m \u001b[31m63.1 MB/s\u001b[0m eta \u001b[36m0:00:00\u001b[0m\n",
            "\u001b[2K     \u001b[90m━━━━━━━━━━━━━━━━━━━━━━━━━━━━━━━━━━━━━━\u001b[0m \u001b[32m224.8/224.8 kB\u001b[0m \u001b[31m23.6 MB/s\u001b[0m eta \u001b[36m0:00:00\u001b[0m\n",
            "\u001b[2K     \u001b[90m━━━━━━━━━━━━━━━━━━━━━━━━━━━━━━━━━━━━━━━━\u001b[0m \u001b[32m60.0/60.0 kB\u001b[0m \u001b[31m7.3 MB/s\u001b[0m eta \u001b[36m0:00:00\u001b[0m\n",
            "\u001b[2K     \u001b[90m━━━━━━━━━━━━━━━━━━━━━━━━━━━━━━━━━━━━━━\u001b[0m \u001b[32m255.9/255.9 kB\u001b[0m \u001b[31m23.4 MB/s\u001b[0m eta \u001b[36m0:00:00\u001b[0m\n",
            "\u001b[2K     \u001b[90m━━━━━━━━━━━━━━━━━━━━━━━━━━━━━━━━━━━━━━\u001b[0m \u001b[32m205.4/205.4 kB\u001b[0m \u001b[31m25.2 MB/s\u001b[0m eta \u001b[36m0:00:00\u001b[0m\n",
            "\u001b[2K     \u001b[90m━━━━━━━━━━━━━━━━━━━━━━━━━━━━━━━━━━━━━━\u001b[0m \u001b[32m250.5/250.5 kB\u001b[0m \u001b[31m25.8 MB/s\u001b[0m eta \u001b[36m0:00:00\u001b[0m\n",
            "\u001b[2K     \u001b[90m━━━━━━━━━━━━━━━━━━━━━━━━━━━━━━━━━━━━━━\u001b[0m \u001b[32m487.8/487.8 kB\u001b[0m \u001b[31m32.1 MB/s\u001b[0m eta \u001b[36m0:00:00\u001b[0m\n",
            "\u001b[2K     \u001b[90m━━━━━━━━━━━━━━━━━━━━━━━━━━━━━━━━━━━━━━\u001b[0m \u001b[32m293.6/293.6 kB\u001b[0m \u001b[31m31.5 MB/s\u001b[0m eta \u001b[36m0:00:00\u001b[0m\n",
            "\u001b[2K     \u001b[90m━━━━━━━━━━━━━━━━━━━━━━━━━━━━━━━━━━━━━━\u001b[0m \u001b[32m335.9/335.9 kB\u001b[0m \u001b[31m33.7 MB/s\u001b[0m eta \u001b[36m0:00:00\u001b[0m\n",
            "\u001b[2K     \u001b[90m━━━━━━━━━━━━━━━━━━━━━━━━━━━━━━━━━━━━━━\u001b[0m \u001b[32m155.1/155.1 kB\u001b[0m \u001b[31m18.0 MB/s\u001b[0m eta \u001b[36m0:00:00\u001b[0m\n",
            "\u001b[2K     \u001b[90m━━━━━━━━━━━━━━━━━━━━━━━━━━━━━━━━━━━━━━\u001b[0m \u001b[32m160.3/160.3 kB\u001b[0m \u001b[31m18.2 MB/s\u001b[0m eta \u001b[36m0:00:00\u001b[0m\n",
            "\u001b[2K     \u001b[90m━━━━━━━━━━━━━━━━━━━━━━━━━━━━━━━━━━━━━━\u001b[0m \u001b[32m593.7/593.7 kB\u001b[0m \u001b[31m48.3 MB/s\u001b[0m eta \u001b[36m0:00:00\u001b[0m\n",
            "\u001b[2K     \u001b[90m━━━━━━━━━━━━━━━━━━━━━━━━━━━━━━━━━━━━━━\u001b[0m \u001b[32m856.7/856.7 kB\u001b[0m \u001b[31m59.7 MB/s\u001b[0m eta \u001b[36m0:00:00\u001b[0m\n",
            "\u001b[2K     \u001b[90m━━━━━━━━━━━━━━━━━━━━━━━━━━━━━━━━━━━━━━━━\u001b[0m \u001b[32m80.6/80.6 kB\u001b[0m \u001b[31m7.0 MB/s\u001b[0m eta \u001b[36m0:00:00\u001b[0m\n",
            "\u001b[2K     \u001b[90m━━━━━━━━━━━━━━━━━━━━━━━━━━━━━━━━━━━━━━━━\u001b[0m \u001b[32m53.9/53.9 kB\u001b[0m \u001b[31m5.0 MB/s\u001b[0m eta \u001b[36m0:00:00\u001b[0m\n",
            "\u001b[2K     \u001b[90m━━━━━━━━━━━━━━━━━━━━━━━━━━━━━━━━━━━━━━━━\u001b[0m \u001b[32m49.6/49.6 kB\u001b[0m \u001b[31m5.6 MB/s\u001b[0m eta \u001b[36m0:00:00\u001b[0m\n",
            "\u001b[2K     \u001b[90m━━━━━━━━━━━━━━━━━━━━━━━━━━━━━━━━━━━━━━━━\u001b[0m \u001b[32m52.2/52.2 kB\u001b[0m \u001b[31m5.3 MB/s\u001b[0m eta \u001b[36m0:00:00\u001b[0m\n",
            "\u001b[?25h  Preparing metadata (setup.py) ... \u001b[?25l\u001b[?25hdone\n",
            "\u001b[2K     \u001b[90m━━━━━━━━━━━━━━━━━━━━━━━━━━━━━━━━━━━━━━━━\u001b[0m \u001b[32m46.8/46.8 kB\u001b[0m \u001b[31m2.9 MB/s\u001b[0m eta \u001b[36m0:00:00\u001b[0m\n",
            "\u001b[2K     \u001b[90m━━━━━━━━━━━━━━━━━━━━━━━━━━━━━━━━━━━━━━━━\u001b[0m \u001b[32m76.3/76.3 kB\u001b[0m \u001b[31m9.6 MB/s\u001b[0m eta \u001b[36m0:00:00\u001b[0m\n",
            "\u001b[2K     \u001b[90m━━━━━━━━━━━━━━━━━━━━━━━━━━━━━━━━━━━━━━\u001b[0m \u001b[32m101.1/101.1 kB\u001b[0m \u001b[31m12.9 MB/s\u001b[0m eta \u001b[36m0:00:00\u001b[0m\n",
            "\u001b[2K     \u001b[90m━━━━━━━━━━━━━━━━━━━━━━━━━━━━━━━━━━━━━━━━\u001b[0m \u001b[32m89.2/89.2 kB\u001b[0m \u001b[31m10.7 MB/s\u001b[0m eta \u001b[36m0:00:00\u001b[0m\n",
            "\u001b[2K     \u001b[90m━━━━━━━━━━━━━━━━━━━━━━━━━━━━━━━━━━━━━━\u001b[0m \u001b[32m128.6/128.6 kB\u001b[0m \u001b[31m14.3 MB/s\u001b[0m eta \u001b[36m0:00:00\u001b[0m\n",
            "\u001b[2K     \u001b[90m━━━━━━━━━━━━━━━━━━━━━━━━━━━━━━━━━━━━━━\u001b[0m \u001b[32m398.6/398.6 kB\u001b[0m \u001b[31m40.3 MB/s\u001b[0m eta \u001b[36m0:00:00\u001b[0m\n",
            "\u001b[2K     \u001b[90m━━━━━━━━━━━━━━━━━━━━━━━━━━━━━━━━━━━━━━\u001b[0m \u001b[32m137.9/137.9 kB\u001b[0m \u001b[31m13.9 MB/s\u001b[0m eta \u001b[36m0:00:00\u001b[0m\n",
            "\u001b[2K     \u001b[90m━━━━━━━━━━━━━━━━━━━━━━━━━━━━━━━━━━━━━━━━\u001b[0m \u001b[32m1.9/1.9 MB\u001b[0m \u001b[31m81.8 MB/s\u001b[0m eta \u001b[36m0:00:00\u001b[0m\n",
            "\u001b[2K     \u001b[90m━━━━━━━━━━━━━━━━━━━━━━━━━━━━━━━━━━━━━━\u001b[0m \u001b[32m148.1/148.1 kB\u001b[0m \u001b[31m18.0 MB/s\u001b[0m eta \u001b[36m0:00:00\u001b[0m\n",
            "\u001b[2K     \u001b[90m━━━━━━━━━━━━━━━━━━━━━━━━━━━━━━━━━━━━━━━━\u001b[0m \u001b[32m1.1/1.1 MB\u001b[0m \u001b[31m63.2 MB/s\u001b[0m eta \u001b[36m0:00:00\u001b[0m\n",
            "\u001b[2K     \u001b[90m━━━━━━━━━━━━━━━━━━━━━━━━━━━━━━━━━━━━━━\u001b[0m \u001b[32m147.2/147.2 kB\u001b[0m \u001b[31m16.3 MB/s\u001b[0m eta \u001b[36m0:00:00\u001b[0m\n",
            "\u001b[2K     \u001b[90m━━━━━━━━━━━━━━━━━━━━━━━━━━━━━━━━━━━━━━━━\u001b[0m \u001b[32m61.0/61.0 kB\u001b[0m \u001b[31m5.9 MB/s\u001b[0m eta \u001b[36m0:00:00\u001b[0m\n",
            "\u001b[?25h  Preparing metadata (setup.py) ... \u001b[?25l\u001b[?25hdone\n",
            "\u001b[2K     \u001b[90m━━━━━━━━━━━━━━━━━━━━━━━━━━━━━━━━━━━━━━\u001b[0m \u001b[32m341.8/341.8 kB\u001b[0m \u001b[31m31.1 MB/s\u001b[0m eta \u001b[36m0:00:00\u001b[0m\n",
            "\u001b[?25h  Preparing metadata (setup.py) ... \u001b[?25l\u001b[?25hdone\n",
            "  Building wheel for python-chi (setup.py) ... \u001b[?25l\u001b[?25hdone\n",
            "  Building wheel for python-blazarclient (setup.py) ... \u001b[?25l\u001b[?25hdone\n",
            "  Building wheel for netifaces (setup.py) ... \u001b[?25l\u001b[?25hdone\n",
            "  Building wheel for pyinotify (setup.py) ... \u001b[?25l\u001b[?25hdone\n",
            "  Building wheel for pyperclip (setup.py) ... \u001b[?25l\u001b[?25hdone\n"
          ]
        }
      ],
      "source": [
        "!pip uninstall -q -y moviepy\n",
        "!pip install -q jedi\n",
        "!pip install -q git+https://github.com/KTH-EXPECA/python-chi"
      ]
    },
    {
      "cell_type": "markdown",
      "metadata": {
        "id": "VkDR3RsFpKSv"
      },
      "source": [
        "Import packages"
      ]
    },
    {
      "cell_type": "code",
      "execution_count": null,
      "metadata": {
        "id": "gWqW34Pc7YJp"
      },
      "outputs": [],
      "source": [
        "import json, time\n",
        "from loguru import logger\n",
        "import chi.network, chi.container, chi.network\n",
        "from chi.expeca import reserve, list_reservations, unreserve_byid, get_container_status, wait_until_container_removed, show_reservation_byname, restart_sdr, make_sdr_ni, make_sdr_mango, sdr_tools"
      ]
    },
    {
      "cell_type": "markdown",
      "metadata": {
        "id": "Rd4EsDjdqRFU"
      },
      "source": [
        "# Reserve resources\n",
        "\n",
        "In the next cell, we reserve the required equipment and resources to form an end to end sdr wifi setup. We reserve 2 SDRs and 1 workers."
      ]
    },
    {
      "cell_type": "code",
      "execution_count": null,
      "metadata": {
        "colab": {
          "base_uri": "https://localhost:8080/"
        },
        "id": "1pauMnGZ8KSP",
        "outputId": "421c92bf-5236-4621-ce2a-c1de3809cd9e"
      },
      "outputs": [
        {
          "name": "stdout",
          "output_type": "stream",
          "text": [
            "[\n",
            "    {\n",
            "        \"name\": \"sdr-09-lease\",\n",
            "        \"id\": \"0c9e0e6e-d013-425f-a390-8e0ba8f97b4e\",\n",
            "        \"reservation_id\": \"83497084-1f33-4d3c-b19b-ccb24d17207d\",\n",
            "        \"status\": \"ACTIVE\",\n",
            "        \"end_date\": \"2023-09-08T07:43:00.000000\"\n",
            "    },\n",
            "    {\n",
            "        \"name\": \"sdr-04-lease\",\n",
            "        \"id\": \"a1b54b97-a4f0-4b7f-be68-e98dae815019\",\n",
            "        \"reservation_id\": \"82cc3ae6-9262-48bb-91e8-0c3b02024566\",\n",
            "        \"status\": \"ACTIVE\",\n",
            "        \"end_date\": \"2023-09-08T07:12:00.000000\"\n",
            "    },\n",
            "    {\n",
            "        \"name\": \"worker-10-lease\",\n",
            "        \"id\": \"a504e12a-8564-4b02-9c4c-fb19b46e6d7f\",\n",
            "        \"reservation_id\": \"8504bcba-6b19-4344-a1ba-9c5a3f550831\",\n",
            "        \"status\": \"ACTIVE\",\n",
            "        \"end_date\": \"2023-09-07T16:25:00.000000\"\n",
            "    }\n",
            "]\n"
          ]
        }
      ],
      "source": [
        "# reserve sdr-07 RJ45\n",
        "sdr07_rj45_lease = show_reservation_byname(\"sdr-07-rj45-lease\")\n",
        "if not sdr07_rj45_lease:\n",
        "    sdr07_rj45_lease = reserve(\n",
        "        { \"type\":\"network\", \"name\": \"sdr-07-rj45\", \"net_name\": \"sdr-07-rj45\", \"segment_id\": \"113\", \"duration\": { \"days\":7, \"hours\":0 } }\n",
        "    )\n",
        "\n",
        "# reserve sdr-07 SFP\n",
        "sdr07_sfp_lease = show_reservation_byname(\"sdr-07-sfp-lease\")\n",
        "if not sdr07_sfp_lease:\n",
        "    sdr07_sfp_lease = reserve(\n",
        "        { \"type\":\"network\", \"name\": \"sdr-07-sfp\", \"net_name\": \"sdr-07-sfp\", \"segment_id\": \"114\", \"duration\": { \"days\":7, \"hours\":0 } }\n",
        "    )\n",
        "\n",
        "# reserve worker-02\n",
        "worker02_lease = show_reservation_byname(\"worker-02-lease\")\n",
        "if not worker02_lease:\n",
        "    worker02_lease = reserve(\n",
        "        { \"type\":\"device\", \"name\":\"worker-02\", \"duration\": { \"days\":7, \"hours\":0 } }\n",
        "    )\n",
        "worker02_reservation_id = worker02_lease[\"reservations\"][0][\"id\"]\n",
        "\n",
        "\n",
        "leaseslist = list_reservations(brief=True)\n",
        "print(json.dumps(leaseslist,indent=4))"
      ]
    },
    {
      "cell_type": "markdown",
      "metadata": {
        "id": "tNYpBeUgpn15"
      },
      "source": [
        "# Configure the SDRs"
      ]
    },
    {
      "cell_type": "markdown",
      "metadata": {
        "id": "qGLRVmiXHmf4"
      },
      "source": [
        "## Change the sdrs' firmwares to Mango"
      ]
    },
    {
      "cell_type": "code",
      "execution_count": null,
      "metadata": {
        "colab": {
          "base_uri": "https://localhost:8080/"
        },
        "id": "QV7oHbSu7g5F",
        "outputId": "37a59c5c-4694-4e45-9590-ad207985b59f"
      },
      "outputs": [
        {
          "name": "stderr",
          "output_type": "stream",
          "text": [
            "\u001b[32m2023-09-01 08:04:04.639\u001b[0m | \u001b[32m\u001b[1mSUCCESS \u001b[0m | \u001b[36mchi.expeca\u001b[0m:\u001b[36mmake_sdr_mango\u001b[0m:\u001b[36m299\u001b[0m - \u001b[32m\u001b[1mcreated make-sdr-mango container.\u001b[0m\n",
            "\u001b[32m2023-09-01 08:04:04.641\u001b[0m | \u001b[1mINFO    \u001b[0m | \u001b[36mchi.expeca\u001b[0m:\u001b[36mmake_sdr_mango\u001b[0m:\u001b[36m301\u001b[0m - \u001b[1mwaiting 2 minutes for the sdr-09 to change design.\u001b[0m\n",
            "\u001b[32m2023-09-01 08:05:06.410\u001b[0m | \u001b[32m\u001b[1mSUCCESS \u001b[0m | \u001b[36mchi.expeca\u001b[0m:\u001b[36mmake_sdr_mango\u001b[0m:\u001b[36m315\u001b[0m - \u001b[32m\u001b[1mSERVICE=change_design env variable is set\n",
            "running change_design...\n",
            "You have chosen sdr-09 and design mango\n",
            "sdr-09 is reachable: {'mango': {'ip': '10.30.1.17', 'port': '22', 'tenant-port': 'te1/0/26', 'up': False}, 'ni': {'ip': '10.30.1.18', 'port': '22', 'tenant-port': 'te4/0/13', 'up': True}}\n",
            "SSHing to 10.30.1.18, username:root, password: \n",
            "running command on 10.30.1.18: \n",
            "cp /uboot/mango_bootbin/BOOT.bin /uboot/ ; /sbin/reboot > /dev/null 2>&1 &\n",
            "command stdout: \n",
            "\n",
            "command sdterr: \n",
            "\n",
            "Waiting 200 seconds for the new desgin to load\n",
            "10 seconds to the next poll...\n",
            "10 seconds to the next poll...\n",
            "10 seconds to the next poll...\n",
            "10 seconds to the next poll...\n",
            "10 seconds to the next poll...\n",
            "sdr-09 design has been changed to mango\n",
            "\u001b[0m\n",
            "\u001b[32m2023-09-01 08:05:06.772\u001b[0m | \u001b[1mINFO    \u001b[0m | \u001b[36mchi.expeca\u001b[0m:\u001b[36mwait_until_container_removed\u001b[0m:\u001b[36m30\u001b[0m - \u001b[1mwaiting 30 seconds for make-sdr-mango container to be removed\u001b[0m\n",
            "\u001b[32m2023-09-01 08:05:11.927\u001b[0m | \u001b[1mINFO    \u001b[0m | \u001b[36mchi.expeca\u001b[0m:\u001b[36mwait_until_container_removed\u001b[0m:\u001b[36m37\u001b[0m - \u001b[1mcontainer make-sdr-mango is in Deleting state.\u001b[0m\n",
            "\u001b[32m2023-09-01 08:05:17.105\u001b[0m | \u001b[1mINFO    \u001b[0m | \u001b[36mchi.expeca\u001b[0m:\u001b[36mwait_until_container_removed\u001b[0m:\u001b[36m37\u001b[0m - \u001b[1mcontainer make-sdr-mango is in None state.\u001b[0m\n"
          ]
        }
      ],
      "source": [
        "# change sdr-04 design to ni using worker-02\n",
        "sdrname = \"sdr-07\"\n",
        "sdrnet = chi.network.get_network(sdrname+\"-rj45-net\")\n",
        "make_sdr_ni(sdrname,sdrnet['id'],worker02_reservation_id,\"ens1f1\")\n",
        "\n",
        "# wait 10 seconds\n",
        "#time.sleep(10)\n",
        "\n",
        "# change sdr-09 design to mango using worker-02\n",
        "#sdrname = \"sdr-07\"\n",
        "#sdrnet = chi.network.get_network(sdrname+\"-rj45-net\")\n",
        "#make_sdr_mango(sdrname,sdrnet['id'],worker02_reservation_id,\"ens1f1\")"
      ]
    },
    {
      "cell_type": "markdown",
      "metadata": {
        "id": "qlEedPyQpdZp"
      },
      "source": [
        "## Reboot the SDRs"
      ]
    },
    {
      "cell_type": "code",
      "execution_count": null,
      "metadata": {
        "colab": {
          "base_uri": "https://localhost:8080/"
        },
        "id": "KrijEz7oNkfv",
        "outputId": "a012436b-1be0-495a-e1a9-28419f2c3cb7"
      },
      "outputs": [
        {
          "name": "stderr",
          "output_type": "stream",
          "text": [
            "\u001b[32m2023-09-01 10:10:24.442\u001b[0m | \u001b[32m\u001b[1mSUCCESS \u001b[0m | \u001b[36mchi.expeca\u001b[0m:\u001b[36mrestart_sdr\u001b[0m:\u001b[36m255\u001b[0m - \u001b[32m\u001b[1mcreated reboot-sdr container.\u001b[0m\n",
            "\u001b[32m2023-09-01 10:10:24.445\u001b[0m | \u001b[1mINFO    \u001b[0m | \u001b[36mchi.expeca\u001b[0m:\u001b[36mrestart_sdr\u001b[0m:\u001b[36m257\u001b[0m - \u001b[1mwaiting 2 minutes for the sdr-09 to reboot.\u001b[0m\n",
            "\u001b[32m2023-09-01 10:11:15.129\u001b[0m | \u001b[32m\u001b[1mSUCCESS \u001b[0m | \u001b[36mchi.expeca\u001b[0m:\u001b[36mrestart_sdr\u001b[0m:\u001b[36m267\u001b[0m - \u001b[32m\u001b[1mSERVICE=reboot env variable is set\n",
            "running reboot...\n",
            "You have chosen sdr-09\n",
            "sdr-09 is reachable: {'mango': {'ip': '10.30.1.17', 'port': '22', 'tenant-port': 'te1/0/26', 'up': True}, 'ni': {'ip': '10.30.1.18', 'port': '22', 'tenant-port': 'te4/0/13'}}\n",
            "SSHing to 10.30.1.17, username:root, password: root\n",
            "running command on 10.30.1.17: \n",
            "/sbin/reboot > /dev/null 2>&1 &\n",
            "Waiting 200 seconds for the sdr to load\n",
            "10 seconds to the next poll...\n",
            "10 seconds to the next poll...\n",
            "10 seconds to the next poll...\n",
            "10 seconds to the next poll...\n",
            "sdr-09 mango is up again.\n",
            "\u001b[0m\n",
            "\u001b[32m2023-09-01 10:11:15.612\u001b[0m | \u001b[1mINFO    \u001b[0m | \u001b[36mchi.expeca\u001b[0m:\u001b[36mwait_until_container_removed\u001b[0m:\u001b[36m30\u001b[0m - \u001b[1mwaiting 30 seconds for reboot-sdr container to be removed\u001b[0m\n",
            "\u001b[32m2023-09-01 10:11:20.836\u001b[0m | \u001b[1mINFO    \u001b[0m | \u001b[36mchi.expeca\u001b[0m:\u001b[36mwait_until_container_removed\u001b[0m:\u001b[36m37\u001b[0m - \u001b[1mcontainer reboot-sdr is in Deleting state.\u001b[0m\n",
            "\u001b[32m2023-09-01 10:11:26.064\u001b[0m | \u001b[1mINFO    \u001b[0m | \u001b[36mchi.expeca\u001b[0m:\u001b[36mwait_until_container_removed\u001b[0m:\u001b[36m37\u001b[0m - \u001b[1mcontainer reboot-sdr is in None state.\u001b[0m\n"
          ]
        }
      ],
      "source": [
        "# reset SDR-07 using worker-02\n",
        "sdrname = \"sdr-07\"\n",
        "sdrnet = chi.network.get_network(sdrname+\"-rj45-net\")\n",
        "restart_sdr(sdrname,sdrnet['id'],worker02_reservation_id,\"ens1f1\")\n"
      ]
    }
  ],
  "metadata": {
    "colab": {
      "authorship_tag": "ABX9TyN91UJIuJ+B6+BJQLti446C",
      "collapsed_sections": [
        "W9YICZf_mJBy",
        "Rd4EsDjdqRFU",
        "qGLRVmiXHmf4",
        "9y4TchLY9jVx",
        "3CCjzjCT-oIl",
        "p2joHHj_EZtq"
      ],
      "include_colab_link": true,
      "provenance": []
    },
    "kernelspec": {
      "display_name": "Python 3",
      "name": "python3"
    },
    "language_info": {
      "name": "python"
    }
  },
  "nbformat": 4,
  "nbformat_minor": 0
}
