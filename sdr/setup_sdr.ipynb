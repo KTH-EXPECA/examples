{
  "cells": [
    {
      "cell_type": "markdown",
      "metadata": {
        "id": "view-in-github",
        "colab_type": "text"
      },
      "source": [
        "<a href=\"https://colab.research.google.com/github/KTH-EXPECA/examples/blob/main/sdr/setup_sdr.ipynb\" target=\"_parent\"><img src=\"https://colab.research.google.com/assets/colab-badge.svg\" alt=\"Open In Colab\"/></a>"
      ]
    },
    {
      "cell_type": "markdown",
      "metadata": {
        "id": "W9YICZf_mJBy"
      },
      "source": [
        "# Authentication and Dependencies\n",
        "\n",
        "Login to Chameleon and download openrc.sh file from [here](https://testbed.expeca.proj.kth.se/project/api_access/openrc/). Upload it here next to this notebook and continue.\n",
        "\n",
        "In the next cell, we setup the authentication method to be able to use Openstack clients."
      ]
    },
    {
      "cell_type": "code",
      "execution_count": 1,
      "metadata": {
        "colab": {
          "base_uri": "https://localhost:8080/"
        },
        "id": "KLT-J26lJ5ae",
        "outputId": "bf27f2c6-f557-4498-9342-d9b238c02a2b"
      },
      "outputs": [
        {
          "name": "stdout",
          "output_type": "stream",
          "text": [
            "enter your expeca password:··········\n"
          ]
        }
      ],
      "source": [
        "import os, re\n",
        "from getpass import getpass\n",
        "\n",
        "with open('/content/demo_project-openrc.sh', 'r') as f:\n",
        "    script_content = f.read()\n",
        "    pattern = r'export\\s+(\\w+)\\s*=\\s*(\"[^\"]+\"|[^\"\\n]+)'\n",
        "    matches = re.findall(pattern, script_content)\n",
        "\n",
        "    for name, value in matches:\n",
        "        os.environ[name] = value.strip('\"')\n",
        "\n",
        "password = getpass('enter your expeca password:')\n",
        "os.environ['OS_PASSWORD'] = password"
      ]
    },
    {
      "cell_type": "markdown",
      "metadata": {
        "id": "5bXlipy4m1bs"
      },
      "source": [
        "Install required packages and dependencies. Ignore the warnings."
      ]
    },
    {
      "cell_type": "code",
      "execution_count": 2,
      "metadata": {
        "colab": {
          "base_uri": "https://localhost:8080/"
        },
        "id": "3uZ_rN5iFlhp",
        "outputId": "a2c135a1-12f2-439a-9e6c-81c97e8788db"
      },
      "outputs": [
        {
          "output_type": "stream",
          "name": "stdout",
          "text": [
            "\u001b[2K     \u001b[90m━━━━━━━━━━━━━━━━━━━━━━━━━━━━━━━━━━━━━━━━\u001b[0m \u001b[32m1.6/1.6 MB\u001b[0m \u001b[31m7.5 MB/s\u001b[0m eta \u001b[36m0:00:00\u001b[0m\n",
            "\u001b[?25h  Preparing metadata (setup.py) ... \u001b[?25l\u001b[?25hdone\n",
            "  Preparing metadata (setup.py) ... \u001b[?25l\u001b[?25hdone\n",
            "\u001b[2K     \u001b[90m━━━━━━━━━━━━━━━━━━━━━━━━━━━━━━━━━━━━━━━━\u001b[0m \u001b[32m59.4/59.4 kB\u001b[0m \u001b[31m853.2 kB/s\u001b[0m eta \u001b[36m0:00:00\u001b[0m\n",
            "\u001b[2K     \u001b[90m━━━━━━━━━━━━━━━━━━━━━━━━━━━━━━━━━━━━━━━━\u001b[0m \u001b[32m66.5/66.5 kB\u001b[0m \u001b[31m2.8 MB/s\u001b[0m eta \u001b[36m0:00:00\u001b[0m\n",
            "\u001b[2K     \u001b[90m━━━━━━━━━━━━━━━━━━━━━━━━━━━━━━━━━━━━━━━━\u001b[0m \u001b[32m324.3/324.3 kB\u001b[0m \u001b[31m5.0 MB/s\u001b[0m eta \u001b[36m0:00:00\u001b[0m\n",
            "\u001b[2K     \u001b[90m━━━━━━━━━━━━━━━━━━━━━━━━━━━━━━━━━━━━━━━━\u001b[0m \u001b[32m1.7/1.7 MB\u001b[0m \u001b[31m16.5 MB/s\u001b[0m eta \u001b[36m0:00:00\u001b[0m\n",
            "\u001b[2K     \u001b[90m━━━━━━━━━━━━━━━━━━━━━━━━━━━━━━━━━━━━━━━━\u001b[0m \u001b[32m225.9/225.9 kB\u001b[0m \u001b[31m19.3 MB/s\u001b[0m eta \u001b[36m0:00:00\u001b[0m\n",
            "\u001b[2K     \u001b[90m━━━━━━━━━━━━━━━━━━━━━━━━━━━━━━━━━━━━━━━━\u001b[0m \u001b[32m62.5/62.5 kB\u001b[0m \u001b[31m6.2 MB/s\u001b[0m eta \u001b[36m0:00:00\u001b[0m\n",
            "\u001b[2K     \u001b[90m━━━━━━━━━━━━━━━━━━━━━━━━━━━━━━━━━━━━━━━━\u001b[0m \u001b[32m256.1/256.1 kB\u001b[0m \u001b[31m22.9 MB/s\u001b[0m eta \u001b[36m0:00:00\u001b[0m\n",
            "\u001b[2K     \u001b[90m━━━━━━━━━━━━━━━━━━━━━━━━━━━━━━━━━━━━━━━━\u001b[0m \u001b[32m205.7/205.7 kB\u001b[0m \u001b[31m15.5 MB/s\u001b[0m eta \u001b[36m0:00:00\u001b[0m\n",
            "\u001b[2K     \u001b[90m━━━━━━━━━━━━━━━━━━━━━━━━━━━━━━━━━━━━━━━━\u001b[0m \u001b[32m253.7/253.7 kB\u001b[0m \u001b[31m12.1 MB/s\u001b[0m eta \u001b[36m0:00:00\u001b[0m\n",
            "\u001b[2K     \u001b[90m━━━━━━━━━━━━━━━━━━━━━━━━━━━━━━━━━━━━━━━━\u001b[0m \u001b[32m515.5/515.5 kB\u001b[0m \u001b[31m33.8 MB/s\u001b[0m eta \u001b[36m0:00:00\u001b[0m\n",
            "\u001b[2K     \u001b[90m━━━━━━━━━━━━━━━━━━━━━━━━━━━━━━━━━━━━━━━━\u001b[0m \u001b[32m295.5/295.5 kB\u001b[0m \u001b[31m28.7 MB/s\u001b[0m eta \u001b[36m0:00:00\u001b[0m\n",
            "\u001b[2K     \u001b[90m━━━━━━━━━━━━━━━━━━━━━━━━━━━━━━━━━━━━━━━━\u001b[0m \u001b[32m336.0/336.0 kB\u001b[0m \u001b[31m26.6 MB/s\u001b[0m eta \u001b[36m0:00:00\u001b[0m\n",
            "\u001b[2K     \u001b[90m━━━━━━━━━━━━━━━━━━━━━━━━━━━━━━━━━━━━━━━━\u001b[0m \u001b[32m155.1/155.1 kB\u001b[0m \u001b[31m15.3 MB/s\u001b[0m eta \u001b[36m0:00:00\u001b[0m\n",
            "\u001b[2K     \u001b[90m━━━━━━━━━━━━━━━━━━━━━━━━━━━━━━━━━━━━━━━━\u001b[0m \u001b[32m160.3/160.3 kB\u001b[0m \u001b[31m15.8 MB/s\u001b[0m eta \u001b[36m0:00:00\u001b[0m\n",
            "\u001b[2K     \u001b[90m━━━━━━━━━━━━━━━━━━━━━━━━━━━━━━━━━━━━━━━━\u001b[0m \u001b[32m283.7/283.7 kB\u001b[0m \u001b[31m22.1 MB/s\u001b[0m eta \u001b[36m0:00:00\u001b[0m\n",
            "\u001b[2K     \u001b[90m━━━━━━━━━━━━━━━━━━━━━━━━━━━━━━━━━━━━━━━━\u001b[0m \u001b[32m856.7/856.7 kB\u001b[0m \u001b[31m33.2 MB/s\u001b[0m eta \u001b[36m0:00:00\u001b[0m\n",
            "\u001b[2K     \u001b[90m━━━━━━━━━━━━━━━━━━━━━━━━━━━━━━━━━━━━━━━━\u001b[0m \u001b[32m81.2/81.2 kB\u001b[0m \u001b[31m8.0 MB/s\u001b[0m eta \u001b[36m0:00:00\u001b[0m\n",
            "\u001b[2K     \u001b[90m━━━━━━━━━━━━━━━━━━━━━━━━━━━━━━━━━━━━━━━━\u001b[0m \u001b[32m53.6/53.6 kB\u001b[0m \u001b[31m6.0 MB/s\u001b[0m eta \u001b[36m0:00:00\u001b[0m\n",
            "\u001b[2K     \u001b[90m━━━━━━━━━━━━━━━━━━━━━━━━━━━━━━━━━━━━━━━━\u001b[0m \u001b[32m49.7/49.7 kB\u001b[0m \u001b[31m5.2 MB/s\u001b[0m eta \u001b[36m0:00:00\u001b[0m\n",
            "\u001b[2K     \u001b[90m━━━━━━━━━━━━━━━━━━━━━━━━━━━━━━━━━━━━━━━━\u001b[0m \u001b[32m58.7/58.7 kB\u001b[0m \u001b[31m5.4 MB/s\u001b[0m eta \u001b[36m0:00:00\u001b[0m\n",
            "\u001b[?25h  Preparing metadata (setup.py) ... \u001b[?25l\u001b[?25hdone\n",
            "\u001b[2K     \u001b[90m━━━━━━━━━━━━━━━━━━━━━━━━━━━━━━━━━━━━━━━━\u001b[0m \u001b[32m46.9/46.9 kB\u001b[0m \u001b[31m4.6 MB/s\u001b[0m eta \u001b[36m0:00:00\u001b[0m\n",
            "\u001b[2K     \u001b[90m━━━━━━━━━━━━━━━━━━━━━━━━━━━━━━━━━━━━━━━━\u001b[0m \u001b[32m73.8/73.8 kB\u001b[0m \u001b[31m7.2 MB/s\u001b[0m eta \u001b[36m0:00:00\u001b[0m\n",
            "\u001b[2K     \u001b[90m━━━━━━━━━━━━━━━━━━━━━━━━━━━━━━━━━━━━━━━━\u001b[0m \u001b[32m101.4/101.4 kB\u001b[0m \u001b[31m10.7 MB/s\u001b[0m eta \u001b[36m0:00:00\u001b[0m\n",
            "\u001b[2K     \u001b[90m━━━━━━━━━━━━━━━━━━━━━━━━━━━━━━━━━━━━━━━━\u001b[0m \u001b[32m89.6/89.6 kB\u001b[0m \u001b[31m9.5 MB/s\u001b[0m eta \u001b[36m0:00:00\u001b[0m\n",
            "\u001b[2K     \u001b[90m━━━━━━━━━━━━━━━━━━━━━━━━━━━━━━━━━━━━━━━━\u001b[0m \u001b[32m128.7/128.7 kB\u001b[0m \u001b[31m14.4 MB/s\u001b[0m eta \u001b[36m0:00:00\u001b[0m\n",
            "\u001b[2K     \u001b[90m━━━━━━━━━━━━━━━━━━━━━━━━━━━━━━━━━━━━━━━━\u001b[0m \u001b[32m397.2/397.2 kB\u001b[0m \u001b[31m33.4 MB/s\u001b[0m eta \u001b[36m0:00:00\u001b[0m\n",
            "\u001b[2K     \u001b[90m━━━━━━━━━━━━━━━━━━━━━━━━━━━━━━━━━━━━━━━━\u001b[0m \u001b[32m137.9/137.9 kB\u001b[0m \u001b[31m11.3 MB/s\u001b[0m eta \u001b[36m0:00:00\u001b[0m\n",
            "\u001b[2K     \u001b[90m━━━━━━━━━━━━━━━━━━━━━━━━━━━━━━━━━━━━━━━━\u001b[0m \u001b[32m2.3/2.3 MB\u001b[0m \u001b[31m40.6 MB/s\u001b[0m eta \u001b[36m0:00:00\u001b[0m\n",
            "\u001b[2K     \u001b[90m━━━━━━━━━━━━━━━━━━━━━━━━━━━━━━━━━━━━━━━━\u001b[0m \u001b[32m147.8/147.8 kB\u001b[0m \u001b[31m16.1 MB/s\u001b[0m eta \u001b[36m0:00:00\u001b[0m\n",
            "\u001b[2K     \u001b[90m━━━━━━━━━━━━━━━━━━━━━━━━━━━━━━━━━━━━━━━━\u001b[0m \u001b[32m1.1/1.1 MB\u001b[0m \u001b[31m55.1 MB/s\u001b[0m eta \u001b[36m0:00:00\u001b[0m\n",
            "\u001b[2K     \u001b[90m━━━━━━━━━━━━━━━━━━━━━━━━━━━━━━━━━━━━━━━━\u001b[0m \u001b[32m147.2/147.2 kB\u001b[0m \u001b[31m16.0 MB/s\u001b[0m eta \u001b[36m0:00:00\u001b[0m\n",
            "\u001b[?25h  Building wheel for python-chi (setup.py) ... \u001b[?25l\u001b[?25hdone\n",
            "  Building wheel for python-blazarclient (setup.py) ... \u001b[?25l\u001b[?25hdone\n",
            "  Building wheel for netifaces (setup.py) ... \u001b[?25l\u001b[?25hdone\n"
          ]
        }
      ],
      "source": [
        "!pip uninstall -q -y moviepy\n",
        "!pip install -q jedi\n",
        "!pip install -q git+https://github.com/KTH-EXPECA/python-chi"
      ]
    },
    {
      "cell_type": "markdown",
      "metadata": {
        "id": "VkDR3RsFpKSv"
      },
      "source": [
        "Import packages"
      ]
    },
    {
      "cell_type": "code",
      "execution_count": 4,
      "metadata": {
        "id": "gWqW34Pc7YJp"
      },
      "outputs": [],
      "source": [
        "import json, time\n",
        "from loguru import logger\n",
        "import chi.network, chi.container, chi.network\n",
        "from chi.expeca import reserve, list_reservations, unreserve_byid, get_container_status, wait_until_container_removed, show_reservation_byname, restart_sdr, make_sdr_ni, make_sdr_mango, sdr_tools"
      ]
    },
    {
      "cell_type": "markdown",
      "metadata": {
        "id": "Rd4EsDjdqRFU"
      },
      "source": [
        "# Reserve resources\n",
        "\n",
        "In the next cell, we reserve 1 SDR and 1 worker."
      ]
    },
    {
      "cell_type": "code",
      "execution_count": 7,
      "metadata": {
        "colab": {
          "base_uri": "https://localhost:8080/"
        },
        "id": "1pauMnGZ8KSP",
        "outputId": "0e83faad-8958-48fa-e159-9c718763ef78"
      },
      "outputs": [
        {
          "output_type": "stream",
          "name": "stderr",
          "text": [
            "\u001b[32m2024-07-09 09:03:18.931\u001b[0m | \u001b[1mINFO    \u001b[0m | \u001b[36mchi.expeca\u001b[0m:\u001b[36mreserve\u001b[0m:\u001b[36m167\u001b[0m - \u001b[1mreserving sdr-06-rj45\u001b[0m\n",
            "\u001b[32m2024-07-09 09:03:21.172\u001b[0m | \u001b[1mINFO    \u001b[0m | \u001b[36mchi.expeca\u001b[0m:\u001b[36mwait_until_lease_status\u001b[0m:\u001b[36m62\u001b[0m - \u001b[1mwaiting 120 seconds for sdr-06-rj45-lease with id 51e89533-b158-4aba-bc30-3c76eda0d5c7 to become \"ACTIVE\"\u001b[0m\n",
            "\u001b[32m2024-07-09 09:03:26.332\u001b[0m | \u001b[1mINFO    \u001b[0m | \u001b[36mchi.expeca\u001b[0m:\u001b[36mwait_until_lease_status\u001b[0m:\u001b[36m69\u001b[0m - \u001b[1mlease sdr-06-rj45-lease with id 51e89533-b158-4aba-bc30-3c76eda0d5c7 is PENDING.\u001b[0m\n",
            "\u001b[32m2024-07-09 09:03:31.498\u001b[0m | \u001b[1mINFO    \u001b[0m | \u001b[36mchi.expeca\u001b[0m:\u001b[36mwait_until_lease_status\u001b[0m:\u001b[36m69\u001b[0m - \u001b[1mlease sdr-06-rj45-lease with id 51e89533-b158-4aba-bc30-3c76eda0d5c7 is PENDING.\u001b[0m\n",
            "\u001b[32m2024-07-09 09:03:36.681\u001b[0m | \u001b[1mINFO    \u001b[0m | \u001b[36mchi.expeca\u001b[0m:\u001b[36mwait_until_lease_status\u001b[0m:\u001b[36m69\u001b[0m - \u001b[1mlease sdr-06-rj45-lease with id 51e89533-b158-4aba-bc30-3c76eda0d5c7 is PENDING.\u001b[0m\n",
            "\u001b[32m2024-07-09 09:03:41.854\u001b[0m | \u001b[1mINFO    \u001b[0m | \u001b[36mchi.expeca\u001b[0m:\u001b[36mwait_until_lease_status\u001b[0m:\u001b[36m69\u001b[0m - \u001b[1mlease sdr-06-rj45-lease with id 51e89533-b158-4aba-bc30-3c76eda0d5c7 is PENDING.\u001b[0m\n",
            "\u001b[32m2024-07-09 09:03:47.018\u001b[0m | \u001b[1mINFO    \u001b[0m | \u001b[36mchi.expeca\u001b[0m:\u001b[36mwait_until_lease_status\u001b[0m:\u001b[36m69\u001b[0m - \u001b[1mlease sdr-06-rj45-lease with id 51e89533-b158-4aba-bc30-3c76eda0d5c7 is PENDING.\u001b[0m\n",
            "\u001b[32m2024-07-09 09:03:52.189\u001b[0m | \u001b[1mINFO    \u001b[0m | \u001b[36mchi.expeca\u001b[0m:\u001b[36mwait_until_lease_status\u001b[0m:\u001b[36m69\u001b[0m - \u001b[1mlease sdr-06-rj45-lease with id 51e89533-b158-4aba-bc30-3c76eda0d5c7 is PENDING.\u001b[0m\n",
            "\u001b[32m2024-07-09 09:03:57.351\u001b[0m | \u001b[1mINFO    \u001b[0m | \u001b[36mchi.expeca\u001b[0m:\u001b[36mwait_until_lease_status\u001b[0m:\u001b[36m69\u001b[0m - \u001b[1mlease sdr-06-rj45-lease with id 51e89533-b158-4aba-bc30-3c76eda0d5c7 is PENDING.\u001b[0m\n",
            "\u001b[32m2024-07-09 09:04:02.601\u001b[0m | \u001b[1mINFO    \u001b[0m | \u001b[36mchi.expeca\u001b[0m:\u001b[36mwait_until_lease_status\u001b[0m:\u001b[36m69\u001b[0m - \u001b[1mlease sdr-06-rj45-lease with id 51e89533-b158-4aba-bc30-3c76eda0d5c7 is PENDING.\u001b[0m\n",
            "\u001b[32m2024-07-09 09:04:07.768\u001b[0m | \u001b[1mINFO    \u001b[0m | \u001b[36mchi.expeca\u001b[0m:\u001b[36mwait_until_lease_status\u001b[0m:\u001b[36m69\u001b[0m - \u001b[1mlease sdr-06-rj45-lease with id 51e89533-b158-4aba-bc30-3c76eda0d5c7 is STARTING.\u001b[0m\n",
            "\u001b[32m2024-07-09 09:04:12.939\u001b[0m | \u001b[1mINFO    \u001b[0m | \u001b[36mchi.expeca\u001b[0m:\u001b[36mwait_until_lease_status\u001b[0m:\u001b[36m69\u001b[0m - \u001b[1mlease sdr-06-rj45-lease with id 51e89533-b158-4aba-bc30-3c76eda0d5c7 is STARTING.\u001b[0m\n",
            "\u001b[32m2024-07-09 09:04:18.104\u001b[0m | \u001b[1mINFO    \u001b[0m | \u001b[36mchi.expeca\u001b[0m:\u001b[36mwait_until_lease_status\u001b[0m:\u001b[36m69\u001b[0m - \u001b[1mlease sdr-06-rj45-lease with id 51e89533-b158-4aba-bc30-3c76eda0d5c7 is STARTING.\u001b[0m\n",
            "\u001b[32m2024-07-09 09:04:23.284\u001b[0m | \u001b[1mINFO    \u001b[0m | \u001b[36mchi.expeca\u001b[0m:\u001b[36mwait_until_lease_status\u001b[0m:\u001b[36m69\u001b[0m - \u001b[1mlease sdr-06-rj45-lease with id 51e89533-b158-4aba-bc30-3c76eda0d5c7 is ACTIVE.\u001b[0m\n",
            "\u001b[32m2024-07-09 09:04:23.286\u001b[0m | \u001b[32m\u001b[1mSUCCESS \u001b[0m | \u001b[36mchi.expeca\u001b[0m:\u001b[36mtry_to_create_lease\u001b[0m:\u001b[36m209\u001b[0m - \u001b[32m\u001b[1mdone\u001b[0m\n",
            "\u001b[32m2024-07-09 09:04:23.448\u001b[0m | \u001b[1mINFO    \u001b[0m | \u001b[36mchi.expeca\u001b[0m:\u001b[36mreserve\u001b[0m:\u001b[36m167\u001b[0m - \u001b[1mreserving sdr-06-sfp\u001b[0m\n",
            "\u001b[32m2024-07-09 09:04:26.064\u001b[0m | \u001b[1mINFO    \u001b[0m | \u001b[36mchi.expeca\u001b[0m:\u001b[36mwait_until_lease_status\u001b[0m:\u001b[36m62\u001b[0m - \u001b[1mwaiting 120 seconds for sdr-06-sfp-lease with id 1f35ea8a-8794-46ed-a963-f924df722969 to become \"ACTIVE\"\u001b[0m\n",
            "\u001b[32m2024-07-09 09:04:31.232\u001b[0m | \u001b[1mINFO    \u001b[0m | \u001b[36mchi.expeca\u001b[0m:\u001b[36mwait_until_lease_status\u001b[0m:\u001b[36m69\u001b[0m - \u001b[1mlease sdr-06-sfp-lease with id 1f35ea8a-8794-46ed-a963-f924df722969 is PENDING.\u001b[0m\n",
            "\u001b[32m2024-07-09 09:04:36.402\u001b[0m | \u001b[1mINFO    \u001b[0m | \u001b[36mchi.expeca\u001b[0m:\u001b[36mwait_until_lease_status\u001b[0m:\u001b[36m69\u001b[0m - \u001b[1mlease sdr-06-sfp-lease with id 1f35ea8a-8794-46ed-a963-f924df722969 is PENDING.\u001b[0m\n",
            "\u001b[32m2024-07-09 09:04:41.573\u001b[0m | \u001b[1mINFO    \u001b[0m | \u001b[36mchi.expeca\u001b[0m:\u001b[36mwait_until_lease_status\u001b[0m:\u001b[36m69\u001b[0m - \u001b[1mlease sdr-06-sfp-lease with id 1f35ea8a-8794-46ed-a963-f924df722969 is PENDING.\u001b[0m\n",
            "\u001b[32m2024-07-09 09:04:46.755\u001b[0m | \u001b[1mINFO    \u001b[0m | \u001b[36mchi.expeca\u001b[0m:\u001b[36mwait_until_lease_status\u001b[0m:\u001b[36m69\u001b[0m - \u001b[1mlease sdr-06-sfp-lease with id 1f35ea8a-8794-46ed-a963-f924df722969 is PENDING.\u001b[0m\n",
            "\u001b[32m2024-07-09 09:04:51.926\u001b[0m | \u001b[1mINFO    \u001b[0m | \u001b[36mchi.expeca\u001b[0m:\u001b[36mwait_until_lease_status\u001b[0m:\u001b[36m69\u001b[0m - \u001b[1mlease sdr-06-sfp-lease with id 1f35ea8a-8794-46ed-a963-f924df722969 is PENDING.\u001b[0m\n",
            "\u001b[32m2024-07-09 09:04:57.102\u001b[0m | \u001b[1mINFO    \u001b[0m | \u001b[36mchi.expeca\u001b[0m:\u001b[36mwait_until_lease_status\u001b[0m:\u001b[36m69\u001b[0m - \u001b[1mlease sdr-06-sfp-lease with id 1f35ea8a-8794-46ed-a963-f924df722969 is PENDING.\u001b[0m\n",
            "\u001b[32m2024-07-09 09:05:02.271\u001b[0m | \u001b[1mINFO    \u001b[0m | \u001b[36mchi.expeca\u001b[0m:\u001b[36mwait_until_lease_status\u001b[0m:\u001b[36m69\u001b[0m - \u001b[1mlease sdr-06-sfp-lease with id 1f35ea8a-8794-46ed-a963-f924df722969 is PENDING.\u001b[0m\n",
            "\u001b[32m2024-07-09 09:05:07.445\u001b[0m | \u001b[1mINFO    \u001b[0m | \u001b[36mchi.expeca\u001b[0m:\u001b[36mwait_until_lease_status\u001b[0m:\u001b[36m69\u001b[0m - \u001b[1mlease sdr-06-sfp-lease with id 1f35ea8a-8794-46ed-a963-f924df722969 is PENDING.\u001b[0m\n",
            "\u001b[32m2024-07-09 09:05:12.603\u001b[0m | \u001b[1mINFO    \u001b[0m | \u001b[36mchi.expeca\u001b[0m:\u001b[36mwait_until_lease_status\u001b[0m:\u001b[36m69\u001b[0m - \u001b[1mlease sdr-06-sfp-lease with id 1f35ea8a-8794-46ed-a963-f924df722969 is STARTING.\u001b[0m\n",
            "\u001b[32m2024-07-09 09:05:17.784\u001b[0m | \u001b[1mINFO    \u001b[0m | \u001b[36mchi.expeca\u001b[0m:\u001b[36mwait_until_lease_status\u001b[0m:\u001b[36m69\u001b[0m - \u001b[1mlease sdr-06-sfp-lease with id 1f35ea8a-8794-46ed-a963-f924df722969 is STARTING.\u001b[0m\n",
            "\u001b[32m2024-07-09 09:05:22.940\u001b[0m | \u001b[1mINFO    \u001b[0m | \u001b[36mchi.expeca\u001b[0m:\u001b[36mwait_until_lease_status\u001b[0m:\u001b[36m69\u001b[0m - \u001b[1mlease sdr-06-sfp-lease with id 1f35ea8a-8794-46ed-a963-f924df722969 is ERROR.\u001b[0m\n",
            "\u001b[32m2024-07-09 09:05:22.942\u001b[0m | \u001b[33m\u001b[1mWARNING \u001b[0m | \u001b[36mchi.expeca\u001b[0m:\u001b[36mtry_to_create_lease\u001b[0m:\u001b[36m214\u001b[0m - \u001b[33m\u001b[1msdr-06-sfp reservation failed. msg: unknown\u001b[0m\n",
            "\u001b[32m2024-07-09 09:05:22.945\u001b[0m | \u001b[1mINFO    \u001b[0m | \u001b[36mchi.expeca\u001b[0m:\u001b[36mremove_lease\u001b[0m:\u001b[36m84\u001b[0m - \u001b[1mRemoving sdr-06-sfp-lease reservation with id 1f35ea8a-8794-46ed-a963-f924df722969.\u001b[0m\n",
            "\u001b[32m2024-07-09 09:05:24.148\u001b[0m | \u001b[1mINFO    \u001b[0m | \u001b[36mchi.expeca\u001b[0m:\u001b[36mwait_until_lease_status\u001b[0m:\u001b[36m62\u001b[0m - \u001b[1mwaiting 120 seconds for sdr-06-sfp-lease with id 1f35ea8a-8794-46ed-a963-f924df722969 to become \"None\"\u001b[0m\n",
            "\u001b[32m2024-07-09 09:05:29.323\u001b[0m | \u001b[1mINFO    \u001b[0m | \u001b[36mchi.expeca\u001b[0m:\u001b[36mwait_until_lease_status\u001b[0m:\u001b[36m69\u001b[0m - \u001b[1mlease sdr-06-sfp-lease with id 1f35ea8a-8794-46ed-a963-f924df722969 is None.\u001b[0m\n",
            "\u001b[32m2024-07-09 09:05:29.325\u001b[0m | \u001b[32m\u001b[1mSUCCESS \u001b[0m | \u001b[36mchi.expeca\u001b[0m:\u001b[36mtry_to_remove\u001b[0m:\u001b[36m95\u001b[0m - \u001b[32m\u001b[1mdone\u001b[0m\n",
            "\u001b[32m2024-07-09 09:05:29.329\u001b[0m | \u001b[1mINFO    \u001b[0m | \u001b[36mchi.expeca\u001b[0m:\u001b[36mreserve\u001b[0m:\u001b[36m228\u001b[0m - \u001b[1mretrying to reserve sdr-06-sfp. 2 retry(s) left.\u001b[0m\n",
            "\u001b[32m2024-07-09 09:05:29.331\u001b[0m | \u001b[1mINFO    \u001b[0m | \u001b[36mchi.expeca\u001b[0m:\u001b[36mreserve\u001b[0m:\u001b[36m229\u001b[0m - \u001b[1mwaiting 5 seconds for sdr-06-sfp to retry reserving it.\u001b[0m\n",
            "\u001b[32m2024-07-09 09:05:36.993\u001b[0m | \u001b[1mINFO    \u001b[0m | \u001b[36mchi.expeca\u001b[0m:\u001b[36mwait_until_lease_status\u001b[0m:\u001b[36m62\u001b[0m - \u001b[1mwaiting 120 seconds for sdr-06-sfp-lease with id 512ddf38-7dca-4311-bcbd-c395013d5fcd to become \"ACTIVE\"\u001b[0m\n",
            "\u001b[32m2024-07-09 09:05:42.167\u001b[0m | \u001b[1mINFO    \u001b[0m | \u001b[36mchi.expeca\u001b[0m:\u001b[36mwait_until_lease_status\u001b[0m:\u001b[36m69\u001b[0m - \u001b[1mlease sdr-06-sfp-lease with id 512ddf38-7dca-4311-bcbd-c395013d5fcd is STARTING.\u001b[0m\n",
            "\u001b[32m2024-07-09 09:05:47.330\u001b[0m | \u001b[1mINFO    \u001b[0m | \u001b[36mchi.expeca\u001b[0m:\u001b[36mwait_until_lease_status\u001b[0m:\u001b[36m69\u001b[0m - \u001b[1mlease sdr-06-sfp-lease with id 512ddf38-7dca-4311-bcbd-c395013d5fcd is STARTING.\u001b[0m\n",
            "\u001b[32m2024-07-09 09:05:52.517\u001b[0m | \u001b[1mINFO    \u001b[0m | \u001b[36mchi.expeca\u001b[0m:\u001b[36mwait_until_lease_status\u001b[0m:\u001b[36m69\u001b[0m - \u001b[1mlease sdr-06-sfp-lease with id 512ddf38-7dca-4311-bcbd-c395013d5fcd is STARTING.\u001b[0m\n",
            "\u001b[32m2024-07-09 09:05:57.676\u001b[0m | \u001b[1mINFO    \u001b[0m | \u001b[36mchi.expeca\u001b[0m:\u001b[36mwait_until_lease_status\u001b[0m:\u001b[36m69\u001b[0m - \u001b[1mlease sdr-06-sfp-lease with id 512ddf38-7dca-4311-bcbd-c395013d5fcd is ACTIVE.\u001b[0m\n",
            "\u001b[32m2024-07-09 09:05:57.678\u001b[0m | \u001b[32m\u001b[1mSUCCESS \u001b[0m | \u001b[36mchi.expeca\u001b[0m:\u001b[36mtry_to_create_lease\u001b[0m:\u001b[36m209\u001b[0m - \u001b[32m\u001b[1mdone\u001b[0m\n",
            "\u001b[32m2024-07-09 09:05:57.849\u001b[0m | \u001b[1mINFO    \u001b[0m | \u001b[36mchi.expeca\u001b[0m:\u001b[36mreserve\u001b[0m:\u001b[36m167\u001b[0m - \u001b[1mreserving worker-10\u001b[0m\n",
            "\u001b[32m2024-07-09 09:06:00.238\u001b[0m | \u001b[1mINFO    \u001b[0m | \u001b[36mchi.expeca\u001b[0m:\u001b[36mwait_until_lease_status\u001b[0m:\u001b[36m62\u001b[0m - \u001b[1mwaiting 120 seconds for worker-10-lease with id fb9506e5-65a8-4ebc-aa58-1bf019dc2023 to become \"ACTIVE\"\u001b[0m\n",
            "\u001b[32m2024-07-09 09:06:05.411\u001b[0m | \u001b[1mINFO    \u001b[0m | \u001b[36mchi.expeca\u001b[0m:\u001b[36mwait_until_lease_status\u001b[0m:\u001b[36m69\u001b[0m - \u001b[1mlease worker-10-lease with id fb9506e5-65a8-4ebc-aa58-1bf019dc2023 is ACTIVE.\u001b[0m\n",
            "\u001b[32m2024-07-09 09:06:05.413\u001b[0m | \u001b[32m\u001b[1mSUCCESS \u001b[0m | \u001b[36mchi.expeca\u001b[0m:\u001b[36mtry_to_create_lease\u001b[0m:\u001b[36m209\u001b[0m - \u001b[32m\u001b[1mdone\u001b[0m\n"
          ]
        },
        {
          "output_type": "stream",
          "name": "stdout",
          "text": [
            "[\n",
            "    {\n",
            "        \"name\": \"sdr-06-sfp-lease\",\n",
            "        \"id\": \"512ddf38-7dca-4311-bcbd-c395013d5fcd\",\n",
            "        \"reservation_id\": \"110bc052-e83c-482f-8644-e9557af16bf8\",\n",
            "        \"status\": \"ACTIVE\",\n",
            "        \"end_date\": \"2024-07-16T09:04:00.000000\"\n",
            "    },\n",
            "    {\n",
            "        \"name\": \"sdr-06-rj45-lease\",\n",
            "        \"id\": \"51e89533-b158-4aba-bc30-3c76eda0d5c7\",\n",
            "        \"reservation_id\": \"de542e7e-4f6e-40b9-bba4-4da0181df55a\",\n",
            "        \"status\": \"ACTIVE\",\n",
            "        \"end_date\": \"2024-07-16T09:03:00.000000\"\n",
            "    },\n",
            "    {\n",
            "        \"name\": \"worker-10-lease\",\n",
            "        \"id\": \"fb9506e5-65a8-4ebc-aa58-1bf019dc2023\",\n",
            "        \"reservation_id\": \"bb317d27-71c2-4af0-90b7-abafb64f39d3\",\n",
            "        \"status\": \"ACTIVE\",\n",
            "        \"end_date\": \"2024-07-16T09:05:00.000000\"\n",
            "    }\n",
            "]\n"
          ]
        }
      ],
      "source": [
        "sdr_name = \"sdr-06\"\n",
        "rj45_seg_id = \"111\"\n",
        "sfp_seg_id = \"112\"\n",
        "\n",
        "# reserve RJ45 port\n",
        "rj45_lease = show_reservation_byname(sdr_name + \"-rj45-lease\")\n",
        "if not rj45_lease:\n",
        "    rj45_lease = reserve(\n",
        "        { \"type\":\"network\", \"name\": sdr_name+\"-rj45\", \"net_name\": sdr_name+\"-rj45\", \"segment_id\": rj45_seg_id, \"duration\": { \"days\":7, \"hours\":0 } }\n",
        "    )\n",
        "\n",
        "# reserve SFP port\n",
        "sfp_lease = show_reservation_byname(sdr_name + \"-sfp-lease\")\n",
        "if not sfp_lease:\n",
        "    sfp_lease = reserve(\n",
        "        { \"type\":\"network\", \"name\": sdr_name+\"-sfp\", \"net_name\": sdr_name+\"-sfp\", \"segment_id\": sfp_seg_id, \"duration\": { \"days\":7, \"hours\":0 } }\n",
        "    )\n",
        "\n",
        "worker_name = 'worker-10'\n",
        "# reserve worker\n",
        "worker_lease = show_reservation_byname(worker_name+\"-lease\")\n",
        "if not worker_lease:\n",
        "    worker_lease = reserve(\n",
        "        { \"type\":\"device\", \"name\":worker_name, \"duration\": { \"days\":7, \"hours\":0 } }\n",
        "    )\n",
        "worker_reservation_id = worker_lease[\"reservations\"][0][\"id\"]\n",
        "\n",
        "\n",
        "leaseslist = list_reservations(brief=True)\n",
        "print(json.dumps(leaseslist,indent=4))"
      ]
    },
    {
      "cell_type": "markdown",
      "metadata": {
        "id": "tNYpBeUgpn15"
      },
      "source": [
        "# Configure the SDRs"
      ]
    },
    {
      "cell_type": "markdown",
      "metadata": {
        "id": "qGLRVmiXHmf4"
      },
      "source": [
        "## Change the sdrs' firmwares to Mango or NI"
      ]
    },
    {
      "cell_type": "code",
      "execution_count": null,
      "metadata": {
        "colab": {
          "base_uri": "https://localhost:8080/"
        },
        "id": "QV7oHbSu7g5F",
        "outputId": "37a59c5c-4694-4e45-9590-ad207985b59f"
      },
      "outputs": [
        {
          "name": "stderr",
          "output_type": "stream",
          "text": [
            "\u001b[32m2023-09-01 08:04:04.639\u001b[0m | \u001b[32m\u001b[1mSUCCESS \u001b[0m | \u001b[36mchi.expeca\u001b[0m:\u001b[36mmake_sdr_mango\u001b[0m:\u001b[36m299\u001b[0m - \u001b[32m\u001b[1mcreated make-sdr-mango container.\u001b[0m\n",
            "\u001b[32m2023-09-01 08:04:04.641\u001b[0m | \u001b[1mINFO    \u001b[0m | \u001b[36mchi.expeca\u001b[0m:\u001b[36mmake_sdr_mango\u001b[0m:\u001b[36m301\u001b[0m - \u001b[1mwaiting 2 minutes for the sdr-09 to change design.\u001b[0m\n",
            "\u001b[32m2023-09-01 08:05:06.410\u001b[0m | \u001b[32m\u001b[1mSUCCESS \u001b[0m | \u001b[36mchi.expeca\u001b[0m:\u001b[36mmake_sdr_mango\u001b[0m:\u001b[36m315\u001b[0m - \u001b[32m\u001b[1mSERVICE=change_design env variable is set\n",
            "running change_design...\n",
            "You have chosen sdr-09 and design mango\n",
            "sdr-09 is reachable: {'mango': {'ip': '10.30.1.17', 'port': '22', 'tenant-port': 'te1/0/26', 'up': False}, 'ni': {'ip': '10.30.1.18', 'port': '22', 'tenant-port': 'te4/0/13', 'up': True}}\n",
            "SSHing to 10.30.1.18, username:root, password: \n",
            "running command on 10.30.1.18: \n",
            "cp /uboot/mango_bootbin/BOOT.bin /uboot/ ; /sbin/reboot > /dev/null 2>&1 &\n",
            "command stdout: \n",
            "\n",
            "command sdterr: \n",
            "\n",
            "Waiting 200 seconds for the new desgin to load\n",
            "10 seconds to the next poll...\n",
            "10 seconds to the next poll...\n",
            "10 seconds to the next poll...\n",
            "10 seconds to the next poll...\n",
            "10 seconds to the next poll...\n",
            "sdr-09 design has been changed to mango\n",
            "\u001b[0m\n",
            "\u001b[32m2023-09-01 08:05:06.772\u001b[0m | \u001b[1mINFO    \u001b[0m | \u001b[36mchi.expeca\u001b[0m:\u001b[36mwait_until_container_removed\u001b[0m:\u001b[36m30\u001b[0m - \u001b[1mwaiting 30 seconds for make-sdr-mango container to be removed\u001b[0m\n",
            "\u001b[32m2023-09-01 08:05:11.927\u001b[0m | \u001b[1mINFO    \u001b[0m | \u001b[36mchi.expeca\u001b[0m:\u001b[36mwait_until_container_removed\u001b[0m:\u001b[36m37\u001b[0m - \u001b[1mcontainer make-sdr-mango is in Deleting state.\u001b[0m\n",
            "\u001b[32m2023-09-01 08:05:17.105\u001b[0m | \u001b[1mINFO    \u001b[0m | \u001b[36mchi.expeca\u001b[0m:\u001b[36mwait_until_container_removed\u001b[0m:\u001b[36m37\u001b[0m - \u001b[1mcontainer make-sdr-mango is in None state.\u001b[0m\n"
          ]
        }
      ],
      "source": [
        "# change sdr design to ni using the reserved worker\n",
        "sdrnet = chi.network.get_network(sdr_name+\"-rj45-net\")\n",
        "make_sdr_ni(sdr_name,sdrnet['id'],worker_reservation_id,\"ens1\")\n",
        "\n",
        "# wait 10 seconds\n",
        "#time.sleep(10)\n",
        "\n",
        "# change sdr design to mango using the reserved worker\n",
        "#sdrnet = chi.network.get_network(sdr_name+\"-rj45-net\")\n",
        "#make_sdr_mango(sdr_name,sdrnet['id'],worker_reservation_id,\"ens1\")"
      ]
    },
    {
      "cell_type": "markdown",
      "metadata": {
        "id": "qlEedPyQpdZp"
      },
      "source": [
        "## Reboot the SDRs"
      ]
    },
    {
      "cell_type": "code",
      "execution_count": null,
      "metadata": {
        "colab": {
          "base_uri": "https://localhost:8080/"
        },
        "id": "KrijEz7oNkfv",
        "outputId": "a012436b-1be0-495a-e1a9-28419f2c3cb7"
      },
      "outputs": [
        {
          "name": "stderr",
          "output_type": "stream",
          "text": [
            "\u001b[32m2023-09-01 10:10:24.442\u001b[0m | \u001b[32m\u001b[1mSUCCESS \u001b[0m | \u001b[36mchi.expeca\u001b[0m:\u001b[36mrestart_sdr\u001b[0m:\u001b[36m255\u001b[0m - \u001b[32m\u001b[1mcreated reboot-sdr container.\u001b[0m\n",
            "\u001b[32m2023-09-01 10:10:24.445\u001b[0m | \u001b[1mINFO    \u001b[0m | \u001b[36mchi.expeca\u001b[0m:\u001b[36mrestart_sdr\u001b[0m:\u001b[36m257\u001b[0m - \u001b[1mwaiting 2 minutes for the sdr-09 to reboot.\u001b[0m\n",
            "\u001b[32m2023-09-01 10:11:15.129\u001b[0m | \u001b[32m\u001b[1mSUCCESS \u001b[0m | \u001b[36mchi.expeca\u001b[0m:\u001b[36mrestart_sdr\u001b[0m:\u001b[36m267\u001b[0m - \u001b[32m\u001b[1mSERVICE=reboot env variable is set\n",
            "running reboot...\n",
            "You have chosen sdr-09\n",
            "sdr-09 is reachable: {'mango': {'ip': '10.30.1.17', 'port': '22', 'tenant-port': 'te1/0/26', 'up': True}, 'ni': {'ip': '10.30.1.18', 'port': '22', 'tenant-port': 'te4/0/13'}}\n",
            "SSHing to 10.30.1.17, username:root, password: root\n",
            "running command on 10.30.1.17: \n",
            "/sbin/reboot > /dev/null 2>&1 &\n",
            "Waiting 200 seconds for the sdr to load\n",
            "10 seconds to the next poll...\n",
            "10 seconds to the next poll...\n",
            "10 seconds to the next poll...\n",
            "10 seconds to the next poll...\n",
            "sdr-09 mango is up again.\n",
            "\u001b[0m\n",
            "\u001b[32m2023-09-01 10:11:15.612\u001b[0m | \u001b[1mINFO    \u001b[0m | \u001b[36mchi.expeca\u001b[0m:\u001b[36mwait_until_container_removed\u001b[0m:\u001b[36m30\u001b[0m - \u001b[1mwaiting 30 seconds for reboot-sdr container to be removed\u001b[0m\n",
            "\u001b[32m2023-09-01 10:11:20.836\u001b[0m | \u001b[1mINFO    \u001b[0m | \u001b[36mchi.expeca\u001b[0m:\u001b[36mwait_until_container_removed\u001b[0m:\u001b[36m37\u001b[0m - \u001b[1mcontainer reboot-sdr is in Deleting state.\u001b[0m\n",
            "\u001b[32m2023-09-01 10:11:26.064\u001b[0m | \u001b[1mINFO    \u001b[0m | \u001b[36mchi.expeca\u001b[0m:\u001b[36mwait_until_container_removed\u001b[0m:\u001b[36m37\u001b[0m - \u001b[1mcontainer reboot-sdr is in None state.\u001b[0m\n"
          ]
        }
      ],
      "source": [
        "# reset sdr using the reserved worker\n",
        "sdrnet = chi.network.get_network(sdr_name+\"-rj45-net\")\n",
        "restart_sdr(sdr_name,sdrnet['id'],worker_reservation_id,\"ens1\")\n"
      ]
    }
  ],
  "metadata": {
    "colab": {
      "collapsed_sections": [
        "W9YICZf_mJBy",
        "Rd4EsDjdqRFU",
        "qGLRVmiXHmf4",
        "9y4TchLY9jVx",
        "3CCjzjCT-oIl",
        "p2joHHj_EZtq"
      ],
      "provenance": [],
      "include_colab_link": true
    },
    "kernelspec": {
      "display_name": "Python 3",
      "name": "python3"
    },
    "language_info": {
      "name": "python"
    }
  },
  "nbformat": 4,
  "nbformat_minor": 0
}