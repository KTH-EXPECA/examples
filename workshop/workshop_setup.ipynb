{
 "cells": [
  {
   "cell_type": "markdown",
   "metadata": {
    "colab_type": "text",
    "id": "view-in-github"
   },
   "source": [
    "<a href=\"https://colab.research.google.com/github/KTH-EXPECA/examples/blob/main/workshop_setup.ipynb\" target=\"_parent\"><img src=\"https://colab.research.google.com/assets/colab-badge.svg\" alt=\"Open In Colab\"/></a>"
   ]
  },
  {
   "cell_type": "markdown",
   "metadata": {
    "id": "W9YICZf_mJBy"
   },
   "source": [
    "# Authentication and Dependencies\n",
    "\n",
    "Login to Chameleon and download openrc.sh file from [here](https://testbed.expeca.proj.kth.se/project/api_access/openrc/). Upload it here next to this notebook and continue.\n",
    "\n",
    "In the next cell, we setup the authentication method to be able to use Openstack clients."
   ]
  },
  {
   "cell_type": "code",
   "execution_count": null,
   "metadata": {
    "colab": {
     "base_uri": "https://localhost:8080/"
    },
    "id": "KLT-J26lJ5ae",
    "outputId": "4ad354c2-71a0-4b61-d78b-1023e0812d72"
   },
   "outputs": [
    {
     "name": "stdout",
     "output_type": "stream",
     "text": [
      "enter your expeca password:··········\n"
     ]
    }
   ],
   "source": [
    "import os, re\n",
    "from getpass import getpass\n",
    "\n",
    "with open('/content/workshop01-openrc.sh', 'r') as f:\n",
    "    script_content = f.read()\n",
    "    pattern = r'export\\s+(\\w+)\\s*=\\s*(\"[^\"]+\"|[^\"\\n]+)'\n",
    "    matches = re.findall(pattern, script_content)\n",
    "\n",
    "    for name, value in matches:\n",
    "        os.environ[name] = value.strip('\"')\n",
    "\n",
    "password = getpass('enter your expeca password:')\n",
    "os.environ['OS_PASSWORD'] = password"
   ]
  },
  {
   "cell_type": "markdown",
   "metadata": {
    "id": "5bXlipy4m1bs"
   },
   "source": [
    "Install required packages and dependencies. Ignore the warnings."
   ]
  },
  {
   "cell_type": "code",
   "execution_count": null,
   "metadata": {
    "colab": {
     "base_uri": "https://localhost:8080/"
    },
    "id": "3uZ_rN5iFlhp",
    "outputId": "f493cc5e-0e2a-4b65-e3ac-65bec5c5dd3a"
   },
   "outputs": [
    {
     "name": "stdout",
     "output_type": "stream",
     "text": [
      "\u001b[?25l   \u001b[90m━━━━━━━━━━━━━━━━━━━━━━━━━━━━━━━━━━━━━━━━\u001b[0m \u001b[32m0.0/1.6 MB\u001b[0m \u001b[31m?\u001b[0m eta \u001b[36m-:--:--\u001b[0m\r\u001b[2K   \u001b[91m━━━━━━━━\u001b[0m\u001b[91m╸\u001b[0m\u001b[90m━━━━━━━━━━━━━━━━━━━━━━━━━━━━━━━\u001b[0m \u001b[32m0.3/1.6 MB\u001b[0m \u001b[31m9.9 MB/s\u001b[0m eta \u001b[36m0:00:01\u001b[0m\r\u001b[2K   \u001b[91m━━━━━━━━━━━━━━━━━━━━━━━━━━━━━━━━━━━━━━━\u001b[0m\u001b[91m╸\u001b[0m \u001b[32m1.6/1.6 MB\u001b[0m \u001b[31m25.8 MB/s\u001b[0m eta \u001b[36m0:00:01\u001b[0m\r\u001b[2K   \u001b[90m━━━━━━━━━━━━━━━━━━━━━━━━━━━━━━━━━━━━━━━━\u001b[0m \u001b[32m1.6/1.6 MB\u001b[0m \u001b[31m19.0 MB/s\u001b[0m eta \u001b[36m0:00:00\u001b[0m\n",
      "\u001b[?25h  Preparing metadata (setup.py) ... \u001b[?25l\u001b[?25hdone\n",
      "  Preparing metadata (setup.py) ... \u001b[?25l\u001b[?25hdone\n",
      "  Preparing metadata (setup.py) ... \u001b[?25l\u001b[?25hdone\n",
      "\u001b[2K   \u001b[90m━━━━━━━━━━━━━━━━━━━━━━━━━━━━━━━━━━━━━━━━\u001b[0m \u001b[32m59.4/59.4 kB\u001b[0m \u001b[31m3.8 MB/s\u001b[0m eta \u001b[36m0:00:00\u001b[0m\n",
      "\u001b[2K   \u001b[90m━━━━━━━━━━━━━━━━━━━━━━━━━━━━━━━━━━━━━━━━\u001b[0m \u001b[32m227.1/227.1 kB\u001b[0m \u001b[31m8.6 MB/s\u001b[0m eta \u001b[36m0:00:00\u001b[0m\n",
      "\u001b[2K   \u001b[90m━━━━━━━━━━━━━━━━━━━━━━━━━━━━━━━━━━━━━━━━\u001b[0m \u001b[32m66.6/66.6 kB\u001b[0m \u001b[31m4.7 MB/s\u001b[0m eta \u001b[36m0:00:00\u001b[0m\n",
      "\u001b[2K   \u001b[90m━━━━━━━━━━━━━━━━━━━━━━━━━━━━━━━━━━━━━━━━\u001b[0m \u001b[32m341.6/341.6 kB\u001b[0m \u001b[31m13.4 MB/s\u001b[0m eta \u001b[36m0:00:00\u001b[0m\n",
      "\u001b[2K   \u001b[90m━━━━━━━━━━━━━━━━━━━━━━━━━━━━━━━━━━━━━━━━\u001b[0m \u001b[32m61.6/61.6 kB\u001b[0m \u001b[31m4.3 MB/s\u001b[0m eta \u001b[36m0:00:00\u001b[0m\n",
      "\u001b[2K   \u001b[90m━━━━━━━━━━━━━━━━━━━━━━━━━━━━━━━━━━━━━━━━\u001b[0m \u001b[32m1.7/1.7 MB\u001b[0m \u001b[31m44.9 MB/s\u001b[0m eta \u001b[36m0:00:00\u001b[0m\n",
      "\u001b[2K   \u001b[90m━━━━━━━━━━━━━━━━━━━━━━━━━━━━━━━━━━━━━━━━\u001b[0m \u001b[32m256.2/256.2 kB\u001b[0m \u001b[31m13.7 MB/s\u001b[0m eta \u001b[36m0:00:00\u001b[0m\n",
      "\u001b[2K   \u001b[90m━━━━━━━━━━━━━━━━━━━━━━━━━━━━━━━━━━━━━━━━\u001b[0m \u001b[32m207.0/207.0 kB\u001b[0m \u001b[31m13.0 MB/s\u001b[0m eta \u001b[36m0:00:00\u001b[0m\n",
      "\u001b[2K   \u001b[90m━━━━━━━━━━━━━━━━━━━━━━━━━━━━━━━━━━━━━━━━\u001b[0m \u001b[32m236.5/236.5 kB\u001b[0m \u001b[31m14.3 MB/s\u001b[0m eta \u001b[36m0:00:00\u001b[0m\n",
      "\u001b[2K   \u001b[90m━━━━━━━━━━━━━━━━━━━━━━━━━━━━━━━━━━━━━━━━\u001b[0m \u001b[32m517.5/517.5 kB\u001b[0m \u001b[31m28.8 MB/s\u001b[0m eta \u001b[36m0:00:00\u001b[0m\n",
      "\u001b[2K   \u001b[90m━━━━━━━━━━━━━━━━━━━━━━━━━━━━━━━━━━━━━━━━\u001b[0m \u001b[32m295.5/295.5 kB\u001b[0m \u001b[31m16.1 MB/s\u001b[0m eta \u001b[36m0:00:00\u001b[0m\n",
      "\u001b[2K   \u001b[90m━━━━━━━━━━━━━━━━━━━━━━━━━━━━━━━━━━━━━━━━\u001b[0m \u001b[32m336.3/336.3 kB\u001b[0m \u001b[31m21.2 MB/s\u001b[0m eta \u001b[36m0:00:00\u001b[0m\n",
      "\u001b[2K   \u001b[90m━━━━━━━━━━━━━━━━━━━━━━━━━━━━━━━━━━━━━━━━\u001b[0m \u001b[32m155.0/155.0 kB\u001b[0m \u001b[31m11.9 MB/s\u001b[0m eta \u001b[36m0:00:00\u001b[0m\n",
      "\u001b[2K   \u001b[90m━━━━━━━━━━━━━━━━━━━━━━━━━━━━━━━━━━━━━━━━\u001b[0m \u001b[32m278.6/278.6 kB\u001b[0m \u001b[31m18.2 MB/s\u001b[0m eta \u001b[36m0:00:00\u001b[0m\n",
      "\u001b[2K   \u001b[90m━━━━━━━━━━━━━━━━━━━━━━━━━━━━━━━━━━━━━━━━\u001b[0m \u001b[32m80.9/80.9 kB\u001b[0m \u001b[31m4.2 MB/s\u001b[0m eta \u001b[36m0:00:00\u001b[0m\n",
      "\u001b[2K   \u001b[90m━━━━━━━━━━━━━━━━━━━━━━━━━━━━━━━━━━━━━━━━\u001b[0m \u001b[32m147.8/147.8 kB\u001b[0m \u001b[31m9.4 MB/s\u001b[0m eta \u001b[36m0:00:00\u001b[0m\n",
      "\u001b[2K   \u001b[90m━━━━━━━━━━━━━━━━━━━━━━━━━━━━━━━━━━━━━━━━\u001b[0m \u001b[32m58.7/58.7 kB\u001b[0m \u001b[31m3.6 MB/s\u001b[0m eta \u001b[36m0:00:00\u001b[0m\n",
      "\u001b[2K   \u001b[90m━━━━━━━━━━━━━━━━━━━━━━━━━━━━━━━━━━━━━━━━\u001b[0m \u001b[32m160.3/160.3 kB\u001b[0m \u001b[31m10.4 MB/s\u001b[0m eta \u001b[36m0:00:00\u001b[0m\n",
      "\u001b[2K   \u001b[90m━━━━━━━━━━━━━━━━━━━━━━━━━━━━━━━━━━━━━━━━\u001b[0m \u001b[32m2.3/2.3 MB\u001b[0m \u001b[31m61.7 MB/s\u001b[0m eta \u001b[36m0:00:00\u001b[0m\n",
      "\u001b[2K   \u001b[90m━━━━━━━━━━━━━━━━━━━━━━━━━━━━━━━━━━━━━━━━\u001b[0m \u001b[32m89.3/89.3 kB\u001b[0m \u001b[31m5.3 MB/s\u001b[0m eta \u001b[36m0:00:00\u001b[0m\n",
      "\u001b[2K   \u001b[90m━━━━━━━━━━━━━━━━━━━━━━━━━━━━━━━━━━━━━━━━\u001b[0m \u001b[32m131.8/131.8 kB\u001b[0m \u001b[31m9.2 MB/s\u001b[0m eta \u001b[36m0:00:00\u001b[0m\n",
      "\u001b[2K   \u001b[90m━━━━━━━━━━━━━━━━━━━━━━━━━━━━━━━━━━━━━━━━\u001b[0m \u001b[32m46.8/46.8 kB\u001b[0m \u001b[31m3.1 MB/s\u001b[0m eta \u001b[36m0:00:00\u001b[0m\n",
      "\u001b[2K   \u001b[90m━━━━━━━━━━━━━━━━━━━━━━━━━━━━━━━━━━━━━━━━\u001b[0m \u001b[32m73.9/73.9 kB\u001b[0m \u001b[31m4.9 MB/s\u001b[0m eta \u001b[36m0:00:00\u001b[0m\n",
      "\u001b[2K   \u001b[90m━━━━━━━━━━━━━━━━━━━━━━━━━━━━━━━━━━━━━━━━\u001b[0m \u001b[32m132.9/132.9 kB\u001b[0m \u001b[31m8.7 MB/s\u001b[0m eta \u001b[36m0:00:00\u001b[0m\n",
      "\u001b[2K   \u001b[90m━━━━━━━━━━━━━━━━━━━━━━━━━━━━━━━━━━━━━━━━\u001b[0m \u001b[32m856.7/856.7 kB\u001b[0m \u001b[31m26.1 MB/s\u001b[0m eta \u001b[36m0:00:00\u001b[0m\n",
      "\u001b[2K   \u001b[90m━━━━━━━━━━━━━━━━━━━━━━━━━━━━━━━━━━━━━━━━\u001b[0m \u001b[32m397.2/397.2 kB\u001b[0m \u001b[31m24.5 MB/s\u001b[0m eta \u001b[36m0:00:00\u001b[0m\n",
      "\u001b[2K   \u001b[90m━━━━━━━━━━━━━━━━━━━━━━━━━━━━━━━━━━━━━━━━\u001b[0m \u001b[32m1.1/1.1 MB\u001b[0m \u001b[31m46.3 MB/s\u001b[0m eta \u001b[36m0:00:00\u001b[0m\n",
      "\u001b[2K   \u001b[90m━━━━━━━━━━━━━━━━━━━━━━━━━━━━━━━━━━━━━━━━\u001b[0m \u001b[32m49.5/49.5 kB\u001b[0m \u001b[31m3.3 MB/s\u001b[0m eta \u001b[36m0:00:00\u001b[0m\n",
      "\u001b[2K   \u001b[90m━━━━━━━━━━━━━━━━━━━━━━━━━━━━━━━━━━━━━━━━\u001b[0m \u001b[32m53.6/53.6 kB\u001b[0m \u001b[31m3.0 MB/s\u001b[0m eta \u001b[36m0:00:00\u001b[0m\n",
      "\u001b[2K   \u001b[90m━━━━━━━━━━━━━━━━━━━━━━━━━━━━━━━━━━━━━━━━\u001b[0m \u001b[32m152.0/152.0 kB\u001b[0m \u001b[31m10.0 MB/s\u001b[0m eta \u001b[36m0:00:00\u001b[0m\n",
      "\u001b[?25h  Building wheel for python-chi (setup.py) ... \u001b[?25l\u001b[?25hdone\n",
      "  Building wheel for python-blazarclient (setup.py) ... \u001b[?25l\u001b[?25hdone\n",
      "  Building wheel for netifaces (setup.py) ... \u001b[?25l\u001b[?25hdone\n"
     ]
    }
   ],
   "source": [
    "!pip uninstall -q -y moviepy\n",
    "!pip install -q jedi\n",
    "!pip install -q git+https://github.com/KTH-EXPECA/python-chi"
   ]
  },
  {
   "cell_type": "markdown",
   "metadata": {
    "id": "VkDR3RsFpKSv"
   },
   "source": [
    "Import packages"
   ]
  },
  {
   "cell_type": "code",
   "execution_count": null,
   "metadata": {
    "id": "gWqW34Pc7YJp"
   },
   "outputs": [],
   "source": [
    "import json, time\n",
    "from loguru import logger\n",
    "import chi.network, chi.container, chi.network\n",
    "from chi.expeca import reserve, list_reservations, unreserve_byid, get_container_status, wait_until_container_removed, show_reservation_byname, restart_sdr, make_sdr_ni, make_sdr_mango, sdr_tools, get_available_publicips, get_segment_ids, get_radio_interfaces, get_worker_interfaces"
   ]
  },
  {
   "cell_type": "markdown",
   "metadata": {
    "id": "Rd4EsDjdqRFU"
   },
   "source": [
    "# Reserve resources\n",
    "\n",
    "In the next cell, we reserve 1 SDR and 1 worker."
   ]
  },
  {
   "cell_type": "code",
   "execution_count": null,
   "metadata": {
    "colab": {
     "base_uri": "https://localhost:8080/"
    },
    "id": "2F6_71uUkay6",
    "outputId": "18892713-f28a-45c8-8131-abff54363c1a"
   },
   "outputs": [
    {
     "name": "stderr",
     "output_type": "stream",
     "text": [
      "\u001b[32m2024-12-16 09:41:32.255\u001b[0m | \u001b[1mINFO    \u001b[0m | \u001b[36m__main__\u001b[0m:\u001b[36m<cell line: 4>\u001b[0m:\u001b[36m4\u001b[0m - \u001b[1m{\n",
      "    \"sdr_02_mango\": {\n",
      "        \"backpressure\": \"Disabled\",\n",
      "        \"duplex\": \"Full\",\n",
      "        \"flowctrl\": \"Off\",\n",
      "        \"linkstate\": \"Up\",\n",
      "        \"mdixmode\": \"On\",\n",
      "        \"neg\": \"Enabled\",\n",
      "        \"port\": \"te1/0/29\",\n",
      "        \"segment_id\": 103,\n",
      "        \"speed\": \"1000\",\n",
      "        \"stitches\": {},\n",
      "        \"type\": \"10G-Copper\"\n",
      "    },\n",
      "    \"sdr_02_ni\": {\n",
      "        \"backpressure\": \"Disabled\",\n",
      "        \"duplex\": \"Full\",\n",
      "        \"flowctrl\": \"Off\",\n",
      "        \"linkstate\": \"Up\",\n",
      "        \"mdixmode\": \"Off\",\n",
      "        \"neg\": \"Disabled\",\n",
      "        \"port\": \"te2/0/14\",\n",
      "        \"segment_id\": 104,\n",
      "        \"speed\": \"10000\",\n",
      "        \"stitches\": {},\n",
      "        \"type\": \"10G-Fiber\"\n",
      "    }\n",
      "}\u001b[0m\n",
      "\u001b[32m2024-12-16 09:41:32.257\u001b[0m | \u001b[32m\u001b[1mSUCCESS \u001b[0m | \u001b[36m__main__\u001b[0m:\u001b[36m<cell line: 5>\u001b[0m:\u001b[36m9\u001b[0m - \u001b[32m\u001b[1mport sdr_02_mango on sdr-02 is up.\u001b[0m\n",
      "\u001b[32m2024-12-16 09:41:32.258\u001b[0m | \u001b[32m\u001b[1mSUCCESS \u001b[0m | \u001b[36m__main__\u001b[0m:\u001b[36m<cell line: 5>\u001b[0m:\u001b[36m9\u001b[0m - \u001b[32m\u001b[1mport sdr_02_ni on sdr-02 is up.\u001b[0m\n"
     ]
    }
   ],
   "source": [
    "# Check the SDR's health and the status of its ports, both ports are supposed to be up, otherwise contact support\n",
    "sdr_name = \"sdr-02\"\n",
    "sdr_status = get_radio_interfaces(sdr_name)\n",
    "logger.info(f\"{json.dumps(sdr_status, indent=4)}\")\n",
    "for port in sdr_status.keys():\n",
    "  if sdr_status[port]['linkstate'] == 'Down':\n",
    "    logger.warning(f\"port {port} on {sdr_name} is down.\")\n",
    "  if sdr_status[port]['linkstate'] == 'Up':\n",
    "    logger.success(f\"port {port} on {sdr_name} is up.\")"
   ]
  },
  {
   "cell_type": "code",
   "execution_count": null,
   "metadata": {
    "colab": {
     "base_uri": "https://localhost:8080/"
    },
    "id": "1pauMnGZ8KSP",
    "outputId": "42dc727f-1261-4c8b-f78d-d0f5bd0f4532"
   },
   "outputs": [
    {
     "name": "stderr",
     "output_type": "stream",
     "text": [
      "\u001b[32m2024-12-16 09:43:21.331\u001b[0m | \u001b[1mINFO    \u001b[0m | \u001b[36mchi.expeca\u001b[0m:\u001b[36mreserve\u001b[0m:\u001b[36m243\u001b[0m - \u001b[1mreserving sdr-02-rj45\u001b[0m\n",
      "\u001b[32m2024-12-16 09:43:23.661\u001b[0m | \u001b[1mINFO    \u001b[0m | \u001b[36mchi.expeca\u001b[0m:\u001b[36mwait_until_lease_status\u001b[0m:\u001b[36m138\u001b[0m - \u001b[1mwaiting 120 seconds for sdr-02-rj45-lease with id d10eb695-35cd-4816-b89e-cc70116d29b6 to become \"ACTIVE\"\u001b[0m\n",
      "\u001b[32m2024-12-16 09:43:28.811\u001b[0m | \u001b[1mINFO    \u001b[0m | \u001b[36mchi.expeca\u001b[0m:\u001b[36mwait_until_lease_status\u001b[0m:\u001b[36m145\u001b[0m - \u001b[1mlease sdr-02-rj45-lease with id d10eb695-35cd-4816-b89e-cc70116d29b6 is PENDING.\u001b[0m\n",
      "\u001b[32m2024-12-16 09:43:33.980\u001b[0m | \u001b[1mINFO    \u001b[0m | \u001b[36mchi.expeca\u001b[0m:\u001b[36mwait_until_lease_status\u001b[0m:\u001b[36m145\u001b[0m - \u001b[1mlease sdr-02-rj45-lease with id d10eb695-35cd-4816-b89e-cc70116d29b6 is PENDING.\u001b[0m\n",
      "\u001b[32m2024-12-16 09:43:39.149\u001b[0m | \u001b[1mINFO    \u001b[0m | \u001b[36mchi.expeca\u001b[0m:\u001b[36mwait_until_lease_status\u001b[0m:\u001b[36m145\u001b[0m - \u001b[1mlease sdr-02-rj45-lease with id d10eb695-35cd-4816-b89e-cc70116d29b6 is PENDING.\u001b[0m\n",
      "\u001b[32m2024-12-16 09:43:44.320\u001b[0m | \u001b[1mINFO    \u001b[0m | \u001b[36mchi.expeca\u001b[0m:\u001b[36mwait_until_lease_status\u001b[0m:\u001b[36m145\u001b[0m - \u001b[1mlease sdr-02-rj45-lease with id d10eb695-35cd-4816-b89e-cc70116d29b6 is PENDING.\u001b[0m\n",
      "\u001b[32m2024-12-16 09:43:49.487\u001b[0m | \u001b[1mINFO    \u001b[0m | \u001b[36mchi.expeca\u001b[0m:\u001b[36mwait_until_lease_status\u001b[0m:\u001b[36m145\u001b[0m - \u001b[1mlease sdr-02-rj45-lease with id d10eb695-35cd-4816-b89e-cc70116d29b6 is PENDING.\u001b[0m\n",
      "\u001b[32m2024-12-16 09:43:54.659\u001b[0m | \u001b[1mINFO    \u001b[0m | \u001b[36mchi.expeca\u001b[0m:\u001b[36mwait_until_lease_status\u001b[0m:\u001b[36m145\u001b[0m - \u001b[1mlease sdr-02-rj45-lease with id d10eb695-35cd-4816-b89e-cc70116d29b6 is PENDING.\u001b[0m\n",
      "\u001b[32m2024-12-16 09:43:59.823\u001b[0m | \u001b[1mINFO    \u001b[0m | \u001b[36mchi.expeca\u001b[0m:\u001b[36mwait_until_lease_status\u001b[0m:\u001b[36m145\u001b[0m - \u001b[1mlease sdr-02-rj45-lease with id d10eb695-35cd-4816-b89e-cc70116d29b6 is PENDING.\u001b[0m\n",
      "\u001b[32m2024-12-16 09:44:04.993\u001b[0m | \u001b[1mINFO    \u001b[0m | \u001b[36mchi.expeca\u001b[0m:\u001b[36mwait_until_lease_status\u001b[0m:\u001b[36m145\u001b[0m - \u001b[1mlease sdr-02-rj45-lease with id d10eb695-35cd-4816-b89e-cc70116d29b6 is STARTING.\u001b[0m\n",
      "\u001b[32m2024-12-16 09:44:10.161\u001b[0m | \u001b[1mINFO    \u001b[0m | \u001b[36mchi.expeca\u001b[0m:\u001b[36mwait_until_lease_status\u001b[0m:\u001b[36m145\u001b[0m - \u001b[1mlease sdr-02-rj45-lease with id d10eb695-35cd-4816-b89e-cc70116d29b6 is STARTING.\u001b[0m\n",
      "\u001b[32m2024-12-16 09:44:15.339\u001b[0m | \u001b[1mINFO    \u001b[0m | \u001b[36mchi.expeca\u001b[0m:\u001b[36mwait_until_lease_status\u001b[0m:\u001b[36m145\u001b[0m - \u001b[1mlease sdr-02-rj45-lease with id d10eb695-35cd-4816-b89e-cc70116d29b6 is ACTIVE.\u001b[0m\n",
      "\u001b[32m2024-12-16 09:44:15.340\u001b[0m | \u001b[32m\u001b[1mSUCCESS \u001b[0m | \u001b[36mchi.expeca\u001b[0m:\u001b[36mtry_to_create_lease\u001b[0m:\u001b[36m285\u001b[0m - \u001b[32m\u001b[1mdone\u001b[0m\n",
      "\u001b[32m2024-12-16 09:44:15.512\u001b[0m | \u001b[1mINFO    \u001b[0m | \u001b[36mchi.expeca\u001b[0m:\u001b[36mreserve\u001b[0m:\u001b[36m243\u001b[0m - \u001b[1mreserving sdr-02-sfp\u001b[0m\n",
      "\u001b[32m2024-12-16 09:44:18.067\u001b[0m | \u001b[1mINFO    \u001b[0m | \u001b[36mchi.expeca\u001b[0m:\u001b[36mwait_until_lease_status\u001b[0m:\u001b[36m138\u001b[0m - \u001b[1mwaiting 120 seconds for sdr-02-sfp-lease with id 391cf0c0-a5e3-4ad5-8cf0-54f7029ffd8d to become \"ACTIVE\"\u001b[0m\n",
      "\u001b[32m2024-12-16 09:44:23.239\u001b[0m | \u001b[1mINFO    \u001b[0m | \u001b[36mchi.expeca\u001b[0m:\u001b[36mwait_until_lease_status\u001b[0m:\u001b[36m145\u001b[0m - \u001b[1mlease sdr-02-sfp-lease with id 391cf0c0-a5e3-4ad5-8cf0-54f7029ffd8d is PENDING.\u001b[0m\n",
      "\u001b[32m2024-12-16 09:44:28.406\u001b[0m | \u001b[1mINFO    \u001b[0m | \u001b[36mchi.expeca\u001b[0m:\u001b[36mwait_until_lease_status\u001b[0m:\u001b[36m145\u001b[0m - \u001b[1mlease sdr-02-sfp-lease with id 391cf0c0-a5e3-4ad5-8cf0-54f7029ffd8d is PENDING.\u001b[0m\n",
      "\u001b[32m2024-12-16 09:44:33.587\u001b[0m | \u001b[1mINFO    \u001b[0m | \u001b[36mchi.expeca\u001b[0m:\u001b[36mwait_until_lease_status\u001b[0m:\u001b[36m145\u001b[0m - \u001b[1mlease sdr-02-sfp-lease with id 391cf0c0-a5e3-4ad5-8cf0-54f7029ffd8d is PENDING.\u001b[0m\n",
      "\u001b[32m2024-12-16 09:44:38.766\u001b[0m | \u001b[1mINFO    \u001b[0m | \u001b[36mchi.expeca\u001b[0m:\u001b[36mwait_until_lease_status\u001b[0m:\u001b[36m145\u001b[0m - \u001b[1mlease sdr-02-sfp-lease with id 391cf0c0-a5e3-4ad5-8cf0-54f7029ffd8d is PENDING.\u001b[0m\n",
      "\u001b[32m2024-12-16 09:44:43.922\u001b[0m | \u001b[1mINFO    \u001b[0m | \u001b[36mchi.expeca\u001b[0m:\u001b[36mwait_until_lease_status\u001b[0m:\u001b[36m145\u001b[0m - \u001b[1mlease sdr-02-sfp-lease with id 391cf0c0-a5e3-4ad5-8cf0-54f7029ffd8d is PENDING.\u001b[0m\n",
      "\u001b[32m2024-12-16 09:44:49.079\u001b[0m | \u001b[1mINFO    \u001b[0m | \u001b[36mchi.expeca\u001b[0m:\u001b[36mwait_until_lease_status\u001b[0m:\u001b[36m145\u001b[0m - \u001b[1mlease sdr-02-sfp-lease with id 391cf0c0-a5e3-4ad5-8cf0-54f7029ffd8d is PENDING.\u001b[0m\n",
      "\u001b[32m2024-12-16 09:44:54.248\u001b[0m | \u001b[1mINFO    \u001b[0m | \u001b[36mchi.expeca\u001b[0m:\u001b[36mwait_until_lease_status\u001b[0m:\u001b[36m145\u001b[0m - \u001b[1mlease sdr-02-sfp-lease with id 391cf0c0-a5e3-4ad5-8cf0-54f7029ffd8d is PENDING.\u001b[0m\n",
      "\u001b[32m2024-12-16 09:44:59.427\u001b[0m | \u001b[1mINFO    \u001b[0m | \u001b[36mchi.expeca\u001b[0m:\u001b[36mwait_until_lease_status\u001b[0m:\u001b[36m145\u001b[0m - \u001b[1mlease sdr-02-sfp-lease with id 391cf0c0-a5e3-4ad5-8cf0-54f7029ffd8d is PENDING.\u001b[0m\n",
      "\u001b[32m2024-12-16 09:45:04.606\u001b[0m | \u001b[1mINFO    \u001b[0m | \u001b[36mchi.expeca\u001b[0m:\u001b[36mwait_until_lease_status\u001b[0m:\u001b[36m145\u001b[0m - \u001b[1mlease sdr-02-sfp-lease with id 391cf0c0-a5e3-4ad5-8cf0-54f7029ffd8d is PENDING.\u001b[0m\n",
      "\u001b[32m2024-12-16 09:45:09.788\u001b[0m | \u001b[1mINFO    \u001b[0m | \u001b[36mchi.expeca\u001b[0m:\u001b[36mwait_until_lease_status\u001b[0m:\u001b[36m145\u001b[0m - \u001b[1mlease sdr-02-sfp-lease with id 391cf0c0-a5e3-4ad5-8cf0-54f7029ffd8d is STARTING.\u001b[0m\n",
      "\u001b[32m2024-12-16 09:45:14.959\u001b[0m | \u001b[1mINFO    \u001b[0m | \u001b[36mchi.expeca\u001b[0m:\u001b[36mwait_until_lease_status\u001b[0m:\u001b[36m145\u001b[0m - \u001b[1mlease sdr-02-sfp-lease with id 391cf0c0-a5e3-4ad5-8cf0-54f7029ffd8d is STARTING.\u001b[0m\n",
      "\u001b[32m2024-12-16 09:45:20.124\u001b[0m | \u001b[1mINFO    \u001b[0m | \u001b[36mchi.expeca\u001b[0m:\u001b[36mwait_until_lease_status\u001b[0m:\u001b[36m145\u001b[0m - \u001b[1mlease sdr-02-sfp-lease with id 391cf0c0-a5e3-4ad5-8cf0-54f7029ffd8d is ACTIVE.\u001b[0m\n",
      "\u001b[32m2024-12-16 09:45:20.125\u001b[0m | \u001b[32m\u001b[1mSUCCESS \u001b[0m | \u001b[36mchi.expeca\u001b[0m:\u001b[36mtry_to_create_lease\u001b[0m:\u001b[36m285\u001b[0m - \u001b[32m\u001b[1mdone\u001b[0m\n",
      "\u001b[32m2024-12-16 09:45:20.280\u001b[0m | \u001b[1mINFO    \u001b[0m | \u001b[36mchi.expeca\u001b[0m:\u001b[36mreserve\u001b[0m:\u001b[36m243\u001b[0m - \u001b[1mreserving worker-02\u001b[0m\n",
      "\u001b[32m2024-12-16 09:45:22.538\u001b[0m | \u001b[1mINFO    \u001b[0m | \u001b[36mchi.expeca\u001b[0m:\u001b[36mwait_until_lease_status\u001b[0m:\u001b[36m138\u001b[0m - \u001b[1mwaiting 120 seconds for worker-02-lease with id a8b7e69b-29ee-4503-a7af-7dd140b6875d to become \"ACTIVE\"\u001b[0m\n",
      "\u001b[32m2024-12-16 09:45:27.703\u001b[0m | \u001b[1mINFO    \u001b[0m | \u001b[36mchi.expeca\u001b[0m:\u001b[36mwait_until_lease_status\u001b[0m:\u001b[36m145\u001b[0m - \u001b[1mlease worker-02-lease with id a8b7e69b-29ee-4503-a7af-7dd140b6875d is PENDING.\u001b[0m\n",
      "\u001b[32m2024-12-16 09:45:32.859\u001b[0m | \u001b[1mINFO    \u001b[0m | \u001b[36mchi.expeca\u001b[0m:\u001b[36mwait_until_lease_status\u001b[0m:\u001b[36m145\u001b[0m - \u001b[1mlease worker-02-lease with id a8b7e69b-29ee-4503-a7af-7dd140b6875d is PENDING.\u001b[0m\n",
      "\u001b[32m2024-12-16 09:45:38.031\u001b[0m | \u001b[1mINFO    \u001b[0m | \u001b[36mchi.expeca\u001b[0m:\u001b[36mwait_until_lease_status\u001b[0m:\u001b[36m145\u001b[0m - \u001b[1mlease worker-02-lease with id a8b7e69b-29ee-4503-a7af-7dd140b6875d is PENDING.\u001b[0m\n",
      "\u001b[32m2024-12-16 09:45:43.237\u001b[0m | \u001b[1mINFO    \u001b[0m | \u001b[36mchi.expeca\u001b[0m:\u001b[36mwait_until_lease_status\u001b[0m:\u001b[36m145\u001b[0m - \u001b[1mlease worker-02-lease with id a8b7e69b-29ee-4503-a7af-7dd140b6875d is PENDING.\u001b[0m\n",
      "\u001b[32m2024-12-16 09:45:48.395\u001b[0m | \u001b[1mINFO    \u001b[0m | \u001b[36mchi.expeca\u001b[0m:\u001b[36mwait_until_lease_status\u001b[0m:\u001b[36m145\u001b[0m - \u001b[1mlease worker-02-lease with id a8b7e69b-29ee-4503-a7af-7dd140b6875d is PENDING.\u001b[0m\n",
      "\u001b[32m2024-12-16 09:45:53.578\u001b[0m | \u001b[1mINFO    \u001b[0m | \u001b[36mchi.expeca\u001b[0m:\u001b[36mwait_until_lease_status\u001b[0m:\u001b[36m145\u001b[0m - \u001b[1mlease worker-02-lease with id a8b7e69b-29ee-4503-a7af-7dd140b6875d is PENDING.\u001b[0m\n",
      "\u001b[32m2024-12-16 09:45:58.755\u001b[0m | \u001b[1mINFO    \u001b[0m | \u001b[36mchi.expeca\u001b[0m:\u001b[36mwait_until_lease_status\u001b[0m:\u001b[36m145\u001b[0m - \u001b[1mlease worker-02-lease with id a8b7e69b-29ee-4503-a7af-7dd140b6875d is PENDING.\u001b[0m\n",
      "\u001b[32m2024-12-16 09:46:03.928\u001b[0m | \u001b[1mINFO    \u001b[0m | \u001b[36mchi.expeca\u001b[0m:\u001b[36mwait_until_lease_status\u001b[0m:\u001b[36m145\u001b[0m - \u001b[1mlease worker-02-lease with id a8b7e69b-29ee-4503-a7af-7dd140b6875d is PENDING.\u001b[0m\n",
      "\u001b[32m2024-12-16 09:46:09.090\u001b[0m | \u001b[1mINFO    \u001b[0m | \u001b[36mchi.expeca\u001b[0m:\u001b[36mwait_until_lease_status\u001b[0m:\u001b[36m145\u001b[0m - \u001b[1mlease worker-02-lease with id a8b7e69b-29ee-4503-a7af-7dd140b6875d is ACTIVE.\u001b[0m\n",
      "\u001b[32m2024-12-16 09:46:09.093\u001b[0m | \u001b[32m\u001b[1mSUCCESS \u001b[0m | \u001b[36mchi.expeca\u001b[0m:\u001b[36mtry_to_create_lease\u001b[0m:\u001b[36m285\u001b[0m - \u001b[32m\u001b[1mdone\u001b[0m\n"
     ]
    },
    {
     "name": "stdout",
     "output_type": "stream",
     "text": [
      "[\n",
      "    {\n",
      "        \"name\": \"sdr-02-sfp-lease\",\n",
      "        \"id\": \"391cf0c0-a5e3-4ad5-8cf0-54f7029ffd8d\",\n",
      "        \"reservation_id\": \"8e3f72cf-55c6-471a-9b3a-ee36cf6cb0a9\",\n",
      "        \"status\": \"ACTIVE\",\n",
      "        \"end_date\": \"2024-12-23T09:44:00.000000\"\n",
      "    },\n",
      "    {\n",
      "        \"name\": \"worker-02-lease\",\n",
      "        \"id\": \"a8b7e69b-29ee-4503-a7af-7dd140b6875d\",\n",
      "        \"reservation_id\": \"ecd0f887-c6a0-4a14-aa07-5608043544eb\",\n",
      "        \"status\": \"ACTIVE\",\n",
      "        \"end_date\": \"2024-12-23T09:45:00.000000\"\n",
      "    },\n",
      "    {\n",
      "        \"name\": \"sdr-02-rj45-lease\",\n",
      "        \"id\": \"d10eb695-35cd-4816-b89e-cc70116d29b6\",\n",
      "        \"reservation_id\": \"245cd3a7-a214-4038-a960-56c9a89a7dc8\",\n",
      "        \"status\": \"ACTIVE\",\n",
      "        \"end_date\": \"2024-12-23T09:43:00.000000\"\n",
      "    }\n",
      "]\n"
     ]
    }
   ],
   "source": [
    "# Reserve the SDR\n",
    "segment_ids = get_segment_ids(sdr_name)\n",
    "\n",
    "# reserve RJ45 port\n",
    "rj45_lease = show_reservation_byname(sdr_name + \"-rj45-lease\")\n",
    "if not rj45_lease:\n",
    "    rj45_lease = reserve(\n",
    "        { \"type\":\"network\", \"name\": sdr_name+\"-rj45\", \"net_name\": sdr_name+\"-rj45\", \"segment_id\": segment_ids['rj45'], \"duration\": { \"days\":7, \"hours\":0 } }\n",
    "    )\n",
    "\n",
    "# reserve SFP port\n",
    "sfp_lease = show_reservation_byname(sdr_name + \"-sfp-lease\")\n",
    "if not sfp_lease:\n",
    "    sfp_lease = reserve(\n",
    "        { \"type\":\"network\", \"name\": sdr_name+\"-sfp\", \"net_name\": sdr_name+\"-sfp\", \"segment_id\": segment_ids['sfp'], \"duration\": { \"days\":7, \"hours\":0 } }\n",
    "    )\n",
    "\n",
    "worker_name = 'worker-02'\n",
    "# reserve worker\n",
    "worker_lease = show_reservation_byname(worker_name+\"-lease\")\n",
    "if not worker_lease:\n",
    "    worker_lease = reserve(\n",
    "        { \"type\":\"device\", \"name\":worker_name, \"duration\": { \"days\":7, \"hours\":0 } }\n",
    "    )\n",
    "worker_reservation_id = worker_lease[\"reservations\"][0][\"id\"]\n",
    "\n",
    "# advantech router reservation\n",
    "adv_name = \"adv-02\"\n",
    "segment_ids = get_segment_ids(adv_name)\n",
    "adv_lease = show_reservation_byname(adv_name + \"-lease\")\n",
    "if not adv_lease:\n",
    "    adv_lease = reserve(\n",
    "        { \"type\":\"network\", \"name\": adv_name, \"net_name\": adv_name, \"segment_id\": segment_ids['rj45'], \"duration\": { \"days\":7, \"hours\":0 } }\n",
    "    )\n",
    "\n",
    "leaseslist = list_reservations(brief=True)\n",
    "print(json.dumps(leaseslist,indent=4))"
   ]
  },
  {
   "cell_type": "markdown",
   "metadata": {
    "id": "Md8kUWS3Ymhb"
   },
   "source": [
    "# Run A Public Container to Test the SDR"
   ]
  },
  {
   "cell_type": "markdown",
   "metadata": {
    "id": "il_hsBTLlOTF"
   },
   "source": [
    "Run a public container to test the SDR via its SFP port"
   ]
  },
  {
   "cell_type": "code",
   "execution_count": null,
   "metadata": {
    "id": "2uz7kZoNjnxz"
   },
   "outputs": [],
   "source": [
    "# check available 1Gbps interfaces of the worker\n",
    "interfaces = list(get_worker_interfaces(worker_name).values())[0]\n",
    "available_ifs = []\n",
    "for interface in interfaces.keys():\n",
    "  if len(interfaces[interface]['connections']) == 0:\n",
    "    if interfaces[interface]['speed'] == '1000':\n",
    "      available_ifs.append(interface)\n",
    "logger.info(f\"Available 1Gbps interfaces on {worker_name}: {available_ifs}\")\n",
    "if len(available_ifs) < 1:\n",
    "  logger.info(f\"{json.dumps(interfaces, indent=4)}\")\n",
    "  raise Exception(f\"Did not find enough 1Gbps interfaces on {worker_name}\")\n",
    "\n",
    "# run the container\n",
    "advnet = chi.network.get_network(adv_name+\"-net\")\n",
    "container_name = adv_name+\"-end-node\"\n",
    "chi.container.create_container(\n",
    "    name = container_name,\n",
    "    image = \"samiemostafavi/perf-meas\",\n",
    "    reservation_id = worker_reservation_id,\n",
    "    environment = {\"SERVER_DIR\":\"/tmp/\"},\n",
    "    nets = [\n",
    "        { \"network\" : advnet['id'] },\n",
    "    ],\n",
    "    labels = {\n",
    "        \"networks.1.interface\":available_ifs[0],\n",
    "        \"networks.1.ip\":\"10.42.3.2/24\",\n",
    "        \"networks.1.routes\":\"10.70.70.0/24-10.42.3.1\",\n",
    "    },\n",
    ")\n",
    "chi.container.wait_for_active(container_name)\n",
    "logger.success(f\"created {container_name} container.\")"
   ]
  },
  {
   "cell_type": "code",
   "execution_count": null,
   "metadata": {
    "colab": {
     "base_uri": "https://localhost:8080/"
    },
    "id": "c9ZnK9DdhnEj",
    "outputId": "fb51ec31-8d1a-4435-9d90-8a1969189e2f"
   },
   "outputs": [
    {
     "name": "stderr",
     "output_type": "stream",
     "text": [
      "\u001b[32m2024-12-16 10:03:18.206\u001b[0m | \u001b[1mINFO    \u001b[0m | \u001b[36m__main__\u001b[0m:\u001b[36m<cell line: 6>\u001b[0m:\u001b[36m6\u001b[0m - \u001b[1mAvailable public ips: ['130.237.11.116', '130.237.11.117', '130.237.11.122', '130.237.11.123', '130.237.11.125'].\u001b[0m\n",
      "\u001b[32m2024-12-16 10:03:18.208\u001b[0m | \u001b[1mINFO    \u001b[0m | \u001b[36m__main__\u001b[0m:\u001b[36m<cell line: 7>\u001b[0m:\u001b[36m7\u001b[0m - \u001b[1mWe choose 130.237.11.116 for this container.\u001b[0m\n",
      "\u001b[32m2024-12-16 10:03:31.871\u001b[0m | \u001b[1mINFO    \u001b[0m | \u001b[36m__main__\u001b[0m:\u001b[36m<cell line: 15>\u001b[0m:\u001b[36m15\u001b[0m - \u001b[1mAvailable interfaces on worker-02: ['eno12409np1', 'ens5f0', 'ens5f1', 'ens6f0', 'ens6f1']\u001b[0m\n",
      "\u001b[32m2024-12-16 10:03:31.873\u001b[0m | \u001b[32m\u001b[1mSUCCESS \u001b[0m | \u001b[36m__main__\u001b[0m:\u001b[36m<cell line: 26>\u001b[0m:\u001b[36m30\u001b[0m - \u001b[32m\u001b[1mwe choose eno12409np1 for the SDR and ens5f0 for the public access\u001b[0m\n",
      "\u001b[32m2024-12-16 10:04:08.502\u001b[0m | \u001b[32m\u001b[1mSUCCESS \u001b[0m | \u001b[36m__main__\u001b[0m:\u001b[36m<cell line: 60>\u001b[0m:\u001b[36m60\u001b[0m - \u001b[32m\u001b[1mcreated my-public-sdr-host container, reachable at 130.237.11.116.\u001b[0m\n"
     ]
    }
   ],
   "source": [
    "# check public IPs and select one\n",
    "available_pub_ips = get_available_publicips()\n",
    "if len(available_pub_ips) == 0:\n",
    "  raise Exception(\"There is no available public IPs to reserve.\")\n",
    "pub_ip = available_pub_ips[0]\n",
    "logger.info(f\"Available public ips: {available_pub_ips}.\")\n",
    "logger.info(f\"We choose {pub_ip} for this container.\")\n",
    "\n",
    "# check available interfaces on the worker\n",
    "interfaces = list(get_worker_interfaces(worker_name).values())[0]\n",
    "available_ifs = []\n",
    "for interface in interfaces.keys():\n",
    "  if len(interfaces[interface]['connections']) == 0:\n",
    "    available_ifs.append(interface)\n",
    "logger.info(f\"Available interfaces on {worker_name}: {available_ifs}\")\n",
    "# we need one 10Gbps interface for the SDR,\n",
    "# and one port with any speed for the public interface\n",
    "port_10g = None\n",
    "port_any = None\n",
    "for interface in available_ifs:\n",
    "  if (port_10g is None) and (interfaces[interface]['speed'] == '10000'):\n",
    "    port_10g = interface\n",
    "    continue\n",
    "  if port_any is None:\n",
    "    port_any = interface\n",
    "if (port_10g is None) or (port_any is None):\n",
    "  logger.info(f\"{json.dumps(interfaces, indent=4)}\")\n",
    "  raise Exception(f\"Did not find proper interfaces on {worker_name}\")\n",
    "else:\n",
    "  logger.success(f\"we choose {port_10g} for the SDR and {port_any} for the public access\")\n",
    "\n",
    "# run the container\n",
    "sdrsfpnet = chi.network.get_network(sdr_name+\"-sfp-net\")\n",
    "publicnet = chi.network.get_network(\"serverpublic\")\n",
    "container_name = \"my-public-sdr-host\"\n",
    "chi.container.create_container(\n",
    "    name = container_name,\n",
    "    image = \"samiemostafavi/sshd-dind-sdr\",\n",
    "    reservation_id = worker_reservation_id,\n",
    "    environment = {\n",
    "        \"DNS_IP\":\"8.8.8.8\",\n",
    "        \"GATEWAY_IP\":\"130.237.11.97\",\n",
    "        \"PASS\":\"expeca\"\n",
    "    },\n",
    "    mounts = [],\n",
    "    nets = [\n",
    "        { \"network\" : publicnet['id'] },\n",
    "        { \"network\" : sdrsfpnet['id'] },\n",
    "    ],\n",
    "    labels = {\n",
    "        \"networks.1.interface\":port_any,\n",
    "        \"networks.1.ip\":pub_ip+\"/27\",\n",
    "        \"networks.1.gateway\":\"130.237.11.97\",\n",
    "        \"capabilities.privileged\":\"true\",\n",
    "        \"networks.2.interface\":port_10g,\n",
    "        \"networks.2.ip\":\"10.30.10.120/24\",\n",
    "    },\n",
    ")\n",
    "chi.container.wait_for_active(container_name)\n",
    "logger.success(f\"created {container_name} container, reachable at {pub_ip}.\")\n"
   ]
  }
 ],
 "metadata": {
  "colab": {
   "collapsed_sections": [
    "W9YICZf_mJBy",
    "Rd4EsDjdqRFU",
    "qGLRVmiXHmf4",
    "9y4TchLY9jVx",
    "3CCjzjCT-oIl",
    "p2joHHj_EZtq"
   ],
   "include_colab_link": true,
   "provenance": []
  },
  "kernelspec": {
   "display_name": "Python 3",
   "name": "python3"
  },
  "language_info": {
   "name": "python"
  }
 },
 "nbformat": 4,
 "nbformat_minor": 0
}
