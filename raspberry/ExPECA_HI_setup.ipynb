{
  "cells": [
    {
      "cell_type": "markdown",
      "metadata": {
        "id": "ck0zSxtBfXDf"
      },
      "source": [
        "## ExPECA Testbed HI Setup\n",
        "\n",
        "---\n",
        "\n",
        "**Overview**\n",
        "\n",
        "Read README.md first to understand the purpose of this notebook and the setup.  \n",
        "This notebook will go through the steps for creating the HI setup needed for the ExPECA testbed.\n",
        "\n",
        "**The notebook will create a setup with the following components**\n",
        "\n",
        "- Edge Device: Start a containerized application that runs the edge device in the ExPECA testbed.\n",
        "- Edge Server: Start a containerized application that runs the edge server in the ExPECA testbed.\n",
        "- Connection: SSH connection to the Edge Device and Edge Server.\n",
        "- Start the external controller for the experiment.\n",
        "\n",
        "**Steps to follow:**\n",
        "\n",
        "1. Setup authentication for the ExPECA testbed.\n",
        "2. Install required packages.\n",
        "3. Import the required libraries.\n",
        "4. Reserve the ExPECA testbed equipment for Edge Server\n",
        "5. Load and run the Edge Server container.\n",
        "6. Reserve the ExPECA testbed equipment for Edge Device\n",
        "7. Load and run the Edge Device container.\n",
        "    - With Edge Server public IP environment variable set.\n",
        "8. Start the external controller for the experiment.\n"
      ]
    },
    {
      "cell_type": "markdown",
      "metadata": {
        "id": "W9YICZf_mJBy"
      },
      "source": [
        "### 1. Setup Authentication for the ExPECA Testbed\n",
        "\n",
        "---\n",
        "\n",
        "1. Login to Chameleon and download openrc.sh file from [here](https://testbed.expeca.proj.kth.se/project/api_access/openrc/).\n",
        "2. Upload it here next to this notebook and continue.\n",
        "\n",
        "In the next cell, we setup the authentication method to be able to use Openstack clients."
      ]
    },
    {
      "cell_type": "code",
      "execution_count": null,
      "metadata": {
        "colab": {
          "base_uri": "https://localhost:8080/"
        },
        "id": "KLT-J26lJ5ae",
        "outputId": "2ba12438-6420-4151-beac-245879abbb98"
      },
      "outputs": [],
      "source": [
        "import os, re\n",
        "from getpass import getpass\n",
        "\n",
        "# Replace with your OpenStack credentials file path\n",
        "with open('henrik-project-openrc.sh', 'r') as f:\n",
        "    script_content = f.read()\n",
        "    pattern = r'export\\s+(\\w+)\\s*=\\s*(\"[^\"]+\"|[^\"\\n]+)'\n",
        "    matches = re.findall(pattern, script_content)\n",
        "\n",
        "    for name, value in matches:\n",
        "        os.environ[name] = value.strip('\"')\n",
        "\n",
        "password = getpass('enter your expeca password:')\n",
        "os.environ['OS_PASSWORD'] = password"
      ]
    },
    {
      "cell_type": "markdown",
      "metadata": {
        "id": "5bXlipy4m1bs"
      },
      "source": [
        "### 2. Install Required Packages\n",
        "\n",
        "---\n",
        "\n",
        "Install required packages. Ignore the warnings."
      ]
    },
    {
      "cell_type": "code",
      "execution_count": null,
      "metadata": {
        "colab": {
          "base_uri": "https://localhost:8080/"
        },
        "id": "3uZ_rN5iFlhp",
        "outputId": "371b157a-a3b9-45a5-c0b7-09b31c30005d"
      },
      "outputs": [],
      "source": [
        "!pip uninstall -q -y moviepy\n",
        "!pip install -q --upgrade pip setuptools wheel\n",
        "!pip install -q jedi loguru\n",
        "!pip install -q --no-deps git+https://github.com/ChameleonCloud/python-blazarclient.git@chameleoncloud/2023.1\n",
        "!pip install -q fabric paramiko gnocchiclient \\\n",
        "    python-cinderclient python-glanceclient python-ironicclient \\\n",
        "    python-manilaclient python-neutronclient python-novaclient python-zunclient\n",
        "!pip install -q --no-deps git+https://github.com/KTH-EXPECA/python-chi.git"
      ]
    },
    {
      "cell_type": "markdown",
      "metadata": {
        "id": "VkDR3RsFpKSv"
      },
      "source": [
        "### 3. Import the Required Libraries\n",
        "\n",
        "---\n",
        "\n",
        "Import the required libraries. Ignore the warnings."
      ]
    },
    {
      "cell_type": "code",
      "execution_count": 6,
      "metadata": {
        "id": "gWqW34Pc7YJp"
      },
      "outputs": [],
      "source": [
        "import json\n",
        "from loguru import logger\n",
        "import chi.network, chi.container, chi.network\n",
        "from chi.expeca import reserve, list_reservations, unreserve_byid, get_container_status, wait_until_container_removed, get_available_publicips, get_segment_ids, get_worker_interfaces"
      ]
    },
    {
      "cell_type": "markdown",
      "metadata": {
        "id": "Rd4EsDjdqRFU"
      },
      "source": [
        "### 4. Reserve Worker for Edge Server\n",
        "\n",
        "---\n",
        "\n",
        "Next we reserve the ExPECA testbed equipment for the Edge Server."
      ]
    },
    {
      "cell_type": "code",
      "execution_count": null,
      "metadata": {
        "colab": {
          "base_uri": "https://localhost:8080/"
        },
        "id": "1pauMnGZ8KSP",
        "outputId": "e44ae42a-b14d-4fea-916a-3a76a09b6b81"
      },
      "outputs": [],
      "source": [
        "# Worker reservation for Edge Server\n",
        "worker_name = \"worker-09\"\n",
        "\n",
        "found = False\n",
        "leaseslist = list_reservations(brief=True)\n",
        "for lease_dict in leaseslist:\n",
        "  if lease_dict[\"name\"] == worker_name+\"-lease\":\n",
        "    worker_reservation_id = lease_dict[\"reservation_id\"]\n",
        "    found = True\n",
        "\n",
        "if not found:\n",
        "  worker_lease = reserve(\n",
        "    { \"type\":\"device\", \"name\":worker_name, \"duration\": { \"days\":7, \"hours\":0 } }\n",
        "  )\n",
        "  worker_reservation_id = worker_lease[\"reservations\"][0][\"id\"]\n",
        "\n",
        "print(json.dumps(leaseslist,indent=4))"
      ]
    },
    {
      "cell_type": "markdown",
      "metadata": {
        "id": "qlEedPyQpdZp"
      },
      "source": [
        "### 5. Load and Run the Edge Server Container\n",
        "\n",
        "---\n",
        "\n",
        "1. Reserve Public IP for the Edge Server.\n",
        "2. Upload the Edge Server container image to the ExPECA testbed from Docker Hub.\n",
        "3. Run the container."
      ]
    },
    {
      "cell_type": "code",
      "execution_count": null,
      "metadata": {
        "colab": {
          "base_uri": "https://localhost:8080/",
          "height": 283
        },
        "id": "KNPWOgj97oDZ",
        "outputId": "ee4884c6-219b-45f0-b5c3-eabd8200c95d"
      },
      "outputs": [],
      "source": [
        "# check public IPs and select one\n",
        "available_pub_ips = get_available_publicips()\n",
        "pub_ip = available_pub_ips[0]\n",
        "logger.info(f\"Available public ips: {available_pub_ips}.\")\n",
        "logger.info(f\"We choose {pub_ip} for this container.\")\n",
        "pub_ip = available_pub_ips[0]\n",
        "\n",
        "# check available interfaces of the worker\n",
        "interfaces = list(get_worker_interfaces(worker_name).values())[0]\n",
        "available_ifs = []\n",
        "for interface in interfaces.keys():\n",
        "  if len(interfaces[interface]['connections']) == 0:\n",
        "    available_ifs.append(interface)\n",
        "logger.info(f\"Available interfaces on {worker_name}: {available_ifs}\")\n",
        "\n",
        "# run the container\n",
        "publicnet = chi.network.get_network(\"serverpublic\")\n",
        "container_name = \"hi-edge-server\"\n",
        "chi.container.create_container(\n",
        "    name = container_name,\n",
        "    image = \"h3nkk44/hi-framework-edge-server:latest_amd64\",\n",
        "    reservation_id = worker_reservation_id,\n",
        "    environment = {\n",
        "        \"DNS_IP\":\"8.8.8.8\",\n",
        "        \"GATEWAY_IP\":\"130.237.11.97\",\n",
        "        \"PASS\":\"expeca\"\n",
        "    },\n",
        "    mounts = [],\n",
        "    nets = [\n",
        "        { \"network\" : publicnet['id'] },\n",
        "    ],\n",
        "    labels = {\n",
        "        \"networks.1.interface\":available_ifs[0],\n",
        "        \"networks.1.ip\":pub_ip+\"/27\",\n",
        "        \"networks.1.gateway\":\"130.237.11.97\",\n",
        "        \"capabilities.privileged\":\"true\",\n",
        "    },\n",
        ")\n",
        "chi.container.wait_for_active(container_name)\n",
        "logger.success(f\"created {container_name} container, reachable at {pub_ip}.\")\n",
        "\n",
        "edge_server_pub_ip = pub_ip\n",
        "logger.success(f\"Edge Server public IP: {edge_server_pub_ip}\")"
      ]
    },
    {
      "cell_type": "markdown",
      "metadata": {
        "id": "X-aReRptfXDj"
      },
      "source": [
        "### 6. Reserve Worker for Edge Device\n",
        "\n",
        "---\n",
        "\n",
        "Next we reserve the ExPECA testbed equipment for the Edge Server."
      ]
    },
    {
      "cell_type": "code",
      "execution_count": null,
      "metadata": {
        "colab": {
          "base_uri": "https://localhost:8080/"
        },
        "id": "7qYlB0qifXDj",
        "outputId": "e6364041-b828-46b9-c797-c82f20f3a6c7"
      },
      "outputs": [],
      "source": [
        "# Worker reservation for Edge Device\n",
        "worker_name = \"worker-21\"\n",
        "\n",
        "found = False\n",
        "leaseslist = list_reservations(brief=True)\n",
        "for lease_dict in leaseslist:\n",
        "  if lease_dict[\"name\"] == worker_name+\"-lease\":\n",
        "    worker_reservation_id = lease_dict[\"reservation_id\"]\n",
        "    found = True\n",
        "\n",
        "if not found:\n",
        "  worker_lease = reserve(\n",
        "    { \"type\":\"device\", \"name\":worker_name, \"duration\": { \"days\":7, \"hours\":0 } }\n",
        "  )\n",
        "  worker_reservation_id = worker_lease[\"reservations\"][0][\"id\"]\n",
        "\n",
        "print(json.dumps(leaseslist,indent=4))"
      ]
    },
    {
      "cell_type": "markdown",
      "metadata": {
        "id": "SlupnlyYfXDj"
      },
      "source": [
        "### 7. Load and Run the Edge Device Container\n",
        "\n",
        "---\n",
        "\n",
        "1. Reserve Public IP for the Edge Device.\n",
        "2. Upload the Edge Server container image to the ExPECA testbed from Docker Hub.\n",
        "3. Run the container.\n",
        "    - With Edge Server public IP environment variable set."
      ]
    },
    {
      "cell_type": "code",
      "execution_count": null,
      "metadata": {
        "id": "55TG483afXDk"
      },
      "outputs": [],
      "source": [
        "# check public IPs and select one\n",
        "available_pub_ips = get_available_publicips()\n",
        "pub_ip = available_pub_ips[0]\n",
        "logger.info(f\"Available public ips: {available_pub_ips}.\")\n",
        "logger.info(f\"We choose {pub_ip} for this container.\")\n",
        "pub_ip = available_pub_ips[0]\n",
        "\n",
        "# check available interfaces of the worker\n",
        "interfaces = list(get_worker_interfaces(worker_name).values())[0]\n",
        "available_ifs = []\n",
        "for interface in interfaces.keys():\n",
        "  if len(interfaces[interface]['connections']) == 0:\n",
        "    available_ifs.append(interface)\n",
        "logger.info(f\"Available interfaces on {worker_name}: {available_ifs}\")\n",
        "\n",
        "# run the container\n",
        "publicnet = chi.network.get_network(\"serverpublic\")\n",
        "container_name = \"hi-edge-device\"\n",
        "chi.container.create_container(\n",
        "    name = container_name,\n",
        "    image = \"h3nkk44/hi-framework-edge-device:latest_arm64\",\n",
        "    reservation_id = worker_reservation_id,\n",
        "    environment = {\n",
        "        \"DNS_IP\":\"8.8.8.8\",\n",
        "        \"GATEWAY_IP\":\"130.237.11.97\",\n",
        "        \"PASS\":\"expeca\",\n",
        "        \"EDGE_SERVER_IP\": edge_server_pub_ip\n",
        "    },\n",
        "    mounts = [],\n",
        "    nets = [\n",
        "        { \"network\" : publicnet['id'] },\n",
        "    ],\n",
        "    labels = {\n",
        "        \"networks.1.interface\":available_ifs[0],\n",
        "        \"networks.1.ip\":pub_ip+\"/27\",\n",
        "        \"networks.1.gateway\":\"130.237.11.97\",\n",
        "        \"capabilities.privileged\":\"true\",\n",
        "    },\n",
        ")\n",
        "chi.container.wait_for_active(container_name)\n",
        "logger.success(f\"created {container_name} container, reachable at {pub_ip}.\")"
      ]
    },
    {
      "cell_type": "markdown",
      "metadata": {
        "id": "k9reIonLfXDk"
      },
      "source": [
        "#### 8. Start the External Controller for the Experiment\n",
        "\n",
        "Now we can start the external controller for the experiment.\n",
        "The controllers purpose is:\n",
        "- Send experiment configuration to the Edge Device and Edge Server.\n",
        "- Generate samples and send them to the Edge Device.\n",
        "- Collect the results and logs from the Edge Device and Edge Server.\n",
        "\n",
        "---\n",
        "\n",
        "#### Connecting to the Edge Device and Edge Server using SSH\n",
        "\n",
        "*NOTE: You can already use the public IP address of the Edge Device and Edge Server to connect to them.\n",
        "You don't need to use SSH to run the External Controllers.*\n",
        "\n",
        "- Using the Chameleon interface it is easy to monitor and control the containers.\n",
        "\n",
        "Now you can ssh into the containers with the following command:\n",
        "```\n",
        "ssh root@[public_ip_address]\n",
        "```\n",
        "From anywhere. Also, you can run a remote command here.  \n",
        "The result will be printed on the logs page in Chameleon.\n",
        "\n",
        "---\n"
      ]
    }
  ],
  "metadata": {
    "colab": {
      "provenance": []
    },
    "kernelspec": {
      "display_name": "Python 3",
      "name": "python3"
    },
    "language_info": {
      "name": "python"
    }
  },
  "nbformat": 4,
  "nbformat_minor": 0
}
